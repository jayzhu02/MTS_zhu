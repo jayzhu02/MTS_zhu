{
 "cells": [
  {
   "cell_type": "markdown",
   "metadata": {},
   "source": [
    "# 这里开始处理日文"
   ]
  },
  {
   "cell_type": "markdown",
   "metadata": {},
   "source": [
    "## pykakasi自带分词和转换"
   ]
  },
  {
   "cell_type": "code",
   "execution_count": 5,
   "metadata": {},
   "outputs": [],
   "source": [
    "from pykakasi import kakasi, wakati"
   ]
  },
  {
   "cell_type": "code",
   "execution_count": 4,
   "metadata": {},
   "outputs": [],
   "source": [
    "kakasi_ins = kakasi()\n",
    "kakasi_ins.setMode(\"H\",\"a\") # Hiragana to ascii, default: no conversion\n",
    "kakasi_ins.setMode(\"K\",\"a\") # Katakana to ascii, default: no conversion\n",
    "kakasi_ins.setMode(\"J\",\"a\") # Japanese to ascii, default: no conversion\n",
    "kakasi_ins.setMode(\"r\",\"Hepburn\") # default: use Hepburn Roman table\n",
    "kakasi_ins.setMode(\"s\", True) # add space, default: no separator\n",
    "# kakasi_ins.setMode(\"C\", True) # capitalize, default: no capitalize\n",
    "conv_pykakasi = kakasi_ins.getConverter()\n",
    "\n",
    "wakati_ins = wakati()\n",
    "sep_pykakasi = wakati_ins.getConverter()\n",
    "\n",
    "\n",
    "def pykakasi_sep(text):\n",
    "    text = text.replace(\"「\",\"\")\n",
    "    text = text.replace(\"」\",\"\")\n",
    "    text = sep_pykakasi.do(text)\n",
    "    return text\n",
    "\n",
    "def pykakasi_conv(text):\n",
    "    text = text.replace(\"「\",\"\")\n",
    "    text = text.replace(\"」\",\"\")\n",
    "    text = conv_pykakasi.do(text)\n",
    "    return text"
   ]
  },
  {
   "cell_type": "markdown",
   "metadata": {},
   "source": [
    "## mecab分词+pykakasi转换"
   ]
  },
  {
   "cell_type": "code",
   "execution_count": 5,
   "metadata": {},
   "outputs": [],
   "source": [
    "import romkan\n",
    "import MeCab\n",
    "from unidecode import unidecode\n",
    "wakati_mecab = MeCab.Tagger(\"-Owakati\")\n",
    "# yomi = MeCab.Tagger(\"-Oyomi\")\n",
    "# chasen = MeCab.Tagger(\"-Ochasen\")\n",
    "\n",
    "kakasi_ins2 = kakasi()\n",
    "kakasi_ins2.setMode(\"H\",\"a\") # Hiragana to ascii, default: no conversion\n",
    "kakasi_ins2.setMode(\"K\",\"a\") # Katakana to ascii, default: no conversion\n",
    "kakasi_ins2.setMode(\"J\",\"a\") # Japanese to ascii, default: no conversion\n",
    "kakasi_ins2.setMode(\"r\",\"Hepburn\") # default: use Hepburn Roman table\n",
    "# kakasi_ins2.setMode(\"C\", True) # capitalize, default: no capitalize\n",
    "conv_pykakasi_nosep = kakasi_ins2.getConverter()\n",
    "\n",
    "def mecab_sep(text):\n",
    "    text = text.replace(\"「\",\"\")\n",
    "    text = text.replace(\"」\",\"\")\n",
    "    text = wakati_mecab.parse(text)\n",
    "    return text\n",
    "\n",
    "def mecab_conv(text):\n",
    "    text = text.replace(\"「\",\"\")\n",
    "    text = text.replace(\"」\",\"\")\n",
    "    text = conv_pykakasi_nosep.do(wakati_mecab.parse(text))\n",
    "    return text"
   ]
  },
  {
   "cell_type": "code",
   "execution_count": 6,
   "metadata": {},
   "outputs": [],
   "source": [
    "text = \"待ち構えていたその患者はすぐ津田の背後に現われた。津田は早く退却しなければならなくなった。\"\n",
    "text = \"きょうはとてもうれしい\"\n",
    "text = \"彼女は非常に会社に貢献した。\" \n",
    "text = \"こんばんは\"\n",
    "target = \"machikamae te i ta sono kanja wa sugu tsuda no haigo ni araware ta 。 tsuda wa hayaku taikyaku shi nakere ba nara naku nat ta 。\""
   ]
  },
  {
   "cell_type": "code",
   "execution_count": 7,
   "metadata": {},
   "outputs": [],
   "source": [
    "text = \"津田は自分の都合を善く考えてから日取をきめる事にして室外に出た。章、終り。\"\n",
    "target = \"tsuda wa jibun no tsugo- wo yoku kangae te kara hi to wo kimeru koto ni shi te shitsugai ni de ta 。 akira 、 owari 。\"\n",
    "text = \"「腸まで続いているとすると、癒りっこないんですか」「そんな事はありません」\"\n",
    "target = \"cho- made tsuzui te iru to suru to 、 nao ri k ko nai n desu ka son'na koto wa ari mase n\""
   ]
  },
  {
   "cell_type": "code",
   "execution_count": 8,
   "metadata": {},
   "outputs": [
    {
     "name": "stdout",
     "output_type": "stream",
     "text": [
      "腸 まで 続い ているとすると、 癒 りっこないんですかそんな 事 はありません\n",
      "chou made tsuzui teirutosuruto、 yu rikkonaindesukasonna koto haarimasen\n"
     ]
    }
   ],
   "source": [
    "print(pykakasi_sep(text))\n",
    "print(pykakasi_conv(text))"
   ]
  },
  {
   "cell_type": "code",
   "execution_count": 9,
   "metadata": {},
   "outputs": [
    {
     "name": "stdout",
     "output_type": "stream",
     "text": [
      "腸 まで 続い て いる と する と 、 癒り っこ ない ん です か そんな 事 は あり ませ ん \n",
      "\n",
      "chou made tsuzui te iru to suru to 、 yuri kko nai n desu ka sonna koto ha ari mase n \n",
      "\n"
     ]
    }
   ],
   "source": [
    "print(mecab_sep(text))\n",
    "print(mecab_conv(text))"
   ]
  },
  {
   "cell_type": "markdown",
   "metadata": {},
   "source": [
    "## 处理数据集"
   ]
  },
  {
   "cell_type": "markdown",
   "metadata": {},
   "source": [
    "### 读取css10日文数据"
   ]
  },
  {
   "cell_type": "code",
   "execution_count": 7,
   "metadata": {},
   "outputs": [],
   "source": [
    "def_sample_rate = 22050"
   ]
  },
  {
   "cell_type": "code",
   "execution_count": 8,
   "metadata": {},
   "outputs": [
    {
     "name": "stderr",
     "output_type": "stream",
     "text": [
      "/opt/conda/lib/python3.6/site-packages/numba/errors.py:105: UserWarning: Insufficiently recent colorama version found. Numba requires colorama >= 0.3.9\n",
      "  warnings.warn(msg)\n"
     ]
    }
   ],
   "source": [
    "import os\n",
    "import pandas as pd\n",
    "import sys\n",
    "sys.path.append('..')\n",
    "from utils.text import _phonemize"
   ]
  },
  {
   "cell_type": "code",
   "execution_count": 4,
   "metadata": {},
   "outputs": [],
   "source": [
    "txt_file = \"css10/japanese/transcript.txt\"\n",
    "transcript_list = []\n",
    "with open(txt_file, encoding='utf-8') as f:\n",
    "    for line in f:\n",
    "        parts = line.strip().split('|')\n",
    "        transcript_list.append(parts)        \n",
    "\n",
    "df = pd.DataFrame(transcript_list) #[order]"
   ]
  },
  {
   "cell_type": "code",
   "execution_count": 5,
   "metadata": {},
   "outputs": [
    {
     "data": {
      "text/html": [
       "<div>\n",
       "<style scoped>\n",
       "    .dataframe tbody tr th:only-of-type {\n",
       "        vertical-align: middle;\n",
       "    }\n",
       "\n",
       "    .dataframe tbody tr th {\n",
       "        vertical-align: top;\n",
       "    }\n",
       "\n",
       "    .dataframe thead th {\n",
       "        text-align: right;\n",
       "    }\n",
       "</style>\n",
       "<table border=\"1\" class=\"dataframe\">\n",
       "  <thead>\n",
       "    <tr style=\"text-align: right;\">\n",
       "      <th></th>\n",
       "      <th>0</th>\n",
       "      <th>1</th>\n",
       "      <th>2</th>\n",
       "      <th>3</th>\n",
       "    </tr>\n",
       "  </thead>\n",
       "  <tbody>\n",
       "    <tr>\n",
       "      <th>0</th>\n",
       "      <td>meian/meian_0000.wav</td>\n",
       "      <td>この前探った時は、途中に瘢痕の隆起があったので、ついそこが行きどまりだとばかり思って、ああ云...</td>\n",
       "      <td>kono mae sagut ta toki wa 、 tochu- ni hankon n...</td>\n",
       "      <td>8.77</td>\n",
       "    </tr>\n",
       "    <tr>\n",
       "      <th>1</th>\n",
       "      <td>meian/meian_0001.wav</td>\n",
       "      <td>今日疎通を好くするために、そいつをがりがり掻き落して見ると、まだ奥があるんです」</td>\n",
       "      <td>kyo- sotsu- wo yoku suru tame ni 、 soitsu wo g...</td>\n",
       "      <td>7.48</td>\n",
       "    </tr>\n",
       "    <tr>\n",
       "      <th>2</th>\n",
       "      <td>meian/meian_0002.wav</td>\n",
       "      <td>津田の顔には苦笑の裡に淡く盛り上げられた失望の色が見えた。医者は白いだぶだぶした上着の前に</td>\n",
       "      <td>tsuda no kao ni wa kusho- no ura ni awaku mori...</td>\n",
       "      <td>9.11</td>\n",
       "    </tr>\n",
       "    <tr>\n",
       "      <th>3</th>\n",
       "      <td>meian/meian_0003.wav</td>\n",
       "      <td>両手を組み合わせたまま、ちょっと首を傾けた。その様子が「御気の毒ですが</td>\n",
       "      <td>ryo-te wo kumiawase ta mama 、 chotto kubi wo k...</td>\n",
       "      <td>7.44</td>\n",
       "    </tr>\n",
       "    <tr>\n",
       "      <th>4</th>\n",
       "      <td>meian/meian_0004.wav</td>\n",
       "      <td>津田は無言のまま帯を締め直して、椅子の背に投げ掛けられた袴を取り上げながらまた医者の方を向いた。</td>\n",
       "      <td>tsuda wa mugon no mama obi wo shime naoshi te ...</td>\n",
       "      <td>9.26</td>\n",
       "    </tr>\n",
       "    <tr>\n",
       "      <th>5</th>\n",
       "      <td>meian/meian_0005.wav</td>\n",
       "      <td>「腸まで続いているとすると、癒りっこないんですか」「そんな事はありません」</td>\n",
       "      <td>cho- made tsuzui te iru to suru to 、 nao ri k ...</td>\n",
       "      <td>5.7</td>\n",
       "    </tr>\n",
       "    <tr>\n",
       "      <th>6</th>\n",
       "      <td>meian/meian_0006.wav</td>\n",
       "      <td>医者は活溌にまた無雑作に津田の言葉を否定した。併せて彼の気分をも否定するごとくに。</td>\n",
       "      <td>isha wa kappatsu ni mata mu zo-sa ni tsuda no ...</td>\n",
       "      <td>9.09</td>\n",
       "    </tr>\n",
       "    <tr>\n",
       "      <th>7</th>\n",
       "      <td>meian/meian_0007.wav</td>\n",
       "      <td>「ただ今までのように穴の掃除ばかりしていては駄目なんです。それじゃいつまで経っても肉の上りこ...</td>\n",
       "      <td>tadaima made no yo- ni ana no so-ji bakari shi...</td>\n",
       "      <td>9.34</td>\n",
       "    </tr>\n",
       "    <tr>\n",
       "      <th>8</th>\n",
       "      <td>meian/meian_0008.wav</td>\n",
       "      <td>「切開です。切開して穴と腸といっしょにしてしまうんです。すると</td>\n",
       "      <td>sekkai desu 。 sekkai shi te ana to cho- to iss...</td>\n",
       "      <td>6.15</td>\n",
       "    </tr>\n",
       "    <tr>\n",
       "      <th>9</th>\n",
       "      <td>meian/meian_0009.wav</td>\n",
       "      <td>天然自然割かれた面の両側が癒着して来ますから、まあ本式に癒るようになるんです」</td>\n",
       "      <td>ten'nen shizen saka re ta men no ryo-gawa ga y...</td>\n",
       "      <td>7.68</td>\n",
       "    </tr>\n",
       "    <tr>\n",
       "      <th>10</th>\n",
       "      <td>meian/meian_0010.wav</td>\n",
       "      <td>医者と懇意な彼は先刻診察所へ這入った時、物珍らしさに、それを覗かせて貰ったのである。</td>\n",
       "      <td>isha to kon'i na kare wa senkoku shinsatsu sho...</td>\n",
       "      <td>8.31</td>\n",
       "    </tr>\n",
       "    <tr>\n",
       "      <th>11</th>\n",
       "      <td>meian/meian_0011.wav</td>\n",
       "      <td>その時八百五十倍の鏡の底に映ったものは、</td>\n",
       "      <td>sono toki hachi hyaku go ju- bai no kagami no ...</td>\n",
       "      <td>4.19</td>\n",
       "    </tr>\n",
       "    <tr>\n",
       "      <th>12</th>\n",
       "      <td>meian/meian_0012.wav</td>\n",
       "      <td>まるで図に撮影ったように鮮やかに見える着色の葡萄状の細菌であった。津田は袴を穿いてしまって、</td>\n",
       "      <td>marude zu ni satsuei t ta yo- ni azayaka ni mi...</td>\n",
       "      <td>9.21</td>\n",
       "    </tr>\n",
       "    <tr>\n",
       "      <th>13</th>\n",
       "      <td>meian/meian_0013.wav</td>\n",
       "      <td>その洋卓の上に置いた皮の紙入を取り上げた時、ふとこの細菌の事を思い出した。</td>\n",
       "      <td>sono yo- taku no ue ni oi ta kawa no kami iri ...</td>\n",
       "      <td>7.24</td>\n",
       "    </tr>\n",
       "    <tr>\n",
       "      <th>14</th>\n",
       "      <td>meian/meian_0014.wav</td>\n",
       "      <td>すると連想が急に彼の胸を不安にした。診察所を出るべく紙入を懐に収めた彼は</td>\n",
       "      <td>suru to renso- ga kyu- ni kare no mune wo fuan...</td>\n",
       "      <td>8.46</td>\n",
       "    </tr>\n",
       "    <tr>\n",
       "      <th>15</th>\n",
       "      <td>meian/meian_0015.wav</td>\n",
       "      <td>すでに出ようとしてまた躊躇した。「もし結核性のものだとすると、</td>\n",
       "      <td>sudeni deyo u toshite mata chu-cho shi ta 。 mo...</td>\n",
       "      <td>6.77</td>\n",
       "    </tr>\n",
       "    <tr>\n",
       "      <th>16</th>\n",
       "      <td>meian/meian_0016.wav</td>\n",
       "      <td>「結核性なら駄目です。それからそれへと穴を掘って奥の方へ進んで行くんだから、</td>\n",
       "      <td>kekkaku sei nara dame desu 。 sorekara sore e t...</td>\n",
       "      <td>6.7</td>\n",
       "    </tr>\n",
       "    <tr>\n",
       "      <th>17</th>\n",
       "      <td>meian/meian_0017.wav</td>\n",
       "      <td>口元だけ治療したって役にゃ立ちません」津田は思わず眉を寄せた。</td>\n",
       "      <td>kuchimoto dake chiryo- shi ta tte yaku nya tac...</td>\n",
       "      <td>7.57</td>\n",
       "    </tr>\n",
       "    <tr>\n",
       "      <th>18</th>\n",
       "      <td>meian/meian_0018.wav</td>\n",
       "      <td>「私のは結核性じゃないんですか」「いえ、結核性じゃありません」津田は</td>\n",
       "      <td>watashi no wa kekkaku sei ja nai n desu ka ie ...</td>\n",
       "      <td>6.81</td>\n",
       "    </tr>\n",
       "    <tr>\n",
       "      <th>19</th>\n",
       "      <td>meian/meian_0019.wav</td>\n",
       "      <td>相手の言葉にどれほどの真実さがあるかを確かめようとして、ちょっと眼を医者の上に据えた。</td>\n",
       "      <td>aite no kotoba ni dore hodo no shinjitsu sa ga...</td>\n",
       "      <td>7.82</td>\n",
       "    </tr>\n",
       "    <tr>\n",
       "      <th>20</th>\n",
       "      <td>meian/meian_0020.wav</td>\n",
       "      <td>医者は動かなかった。「どうしてそれが分るんですか。ただの診察で分るんですか」</td>\n",
       "      <td>isha wa ugoka nakat ta 。 do-shite sore ga waka...</td>\n",
       "      <td>7.67</td>\n",
       "    </tr>\n",
       "    <tr>\n",
       "      <th>21</th>\n",
       "      <td>meian/meian_0021.wav</td>\n",
       "      <td>「ええ。診察た様子で分ります」　その時看護婦が津田の後に廻った患者の名前を室の出口に立って呼んだ。</td>\n",
       "      <td>e- 。 shinsatsu ta yo-su de wakari masu sono to...</td>\n",
       "      <td>9.26</td>\n",
       "    </tr>\n",
       "    <tr>\n",
       "      <th>22</th>\n",
       "      <td>meian/meian_0022.wav</td>\n",
       "      <td>待ち構えていたその患者はすぐ津田の背後に現われた。津田は早く退却しなければならなくなった。</td>\n",
       "      <td>machikamae te i ta sono kanja wa sugu tsuda no...</td>\n",
       "      <td>8.64</td>\n",
       "    </tr>\n",
       "    <tr>\n",
       "      <th>23</th>\n",
       "      <td>meian/meian_0023.wav</td>\n",
       "      <td>津田は自分の都合を善く考えてから日取をきめる事にして室外に出た。章、終り。</td>\n",
       "      <td>tsuda wa jibun no tsugo- wo yoku kangae te kar...</td>\n",
       "      <td>8.73</td>\n",
       "    </tr>\n",
       "    <tr>\n",
       "      <th>24</th>\n",
       "      <td>meian/meian_0024.wav</td>\n",
       "      <td>二電車に乗った時の彼の気分は沈んでいた。</td>\n",
       "      <td>ni densha ni not ta toki no kare no kibun wa s...</td>\n",
       "      <td>8.18</td>\n",
       "    </tr>\n",
       "    <tr>\n",
       "      <th>25</th>\n",
       "      <td>meian/meian_0025.wav</td>\n",
       "      <td>身動きのならないほど客の込み合う中で、彼は釣革にぶら下りながらただ自分の事ばかり考えた。</td>\n",
       "      <td>miugoki no nara nai hodo kyaku no komiau naka ...</td>\n",
       "      <td>9.0</td>\n",
       "    </tr>\n",
       "    <tr>\n",
       "      <th>26</th>\n",
       "      <td>meian/meian_0026.wav</td>\n",
       "      <td>去年の疼痛がありありと記憶の舞台に上った。</td>\n",
       "      <td>kyonen no to-tsu- ga ariari to kioku no butai ...</td>\n",
       "      <td>4.31</td>\n",
       "    </tr>\n",
       "    <tr>\n",
       "      <th>27</th>\n",
       "      <td>meian/meian_0027.wav</td>\n",
       "      <td>白いベッドの上に横えられた無残な自分の姿が明かに見えた。鎖を切って逃げる事ができない時に</td>\n",
       "      <td>shiroi beddo no ue ni yoko era re ta muzan na ...</td>\n",
       "      <td>8.69</td>\n",
       "    </tr>\n",
       "    <tr>\n",
       "      <th>28</th>\n",
       "      <td>meian/meian_0028.wav</td>\n",
       "      <td>犬の出すような自分の唸り声が判然聴えた。それから冷たい刃物の光と、</td>\n",
       "      <td>inu no dasu yo- na jibun no unari goe ga hanki...</td>\n",
       "      <td>8.06</td>\n",
       "    </tr>\n",
       "    <tr>\n",
       "      <th>29</th>\n",
       "      <td>meian/meian_0029.wav</td>\n",
       "      <td>それが互に触れ合う音と、最後に突然両方の肺臓から一度に空気を搾り出すような恐ろしい力の圧迫と、</td>\n",
       "      <td>sore ga katamini fureau oto to 、 saigo ni tots...</td>\n",
       "      <td>9.94</td>\n",
       "    </tr>\n",
       "    <tr>\n",
       "      <th>...</th>\n",
       "      <td>...</td>\n",
       "      <td>...</td>\n",
       "      <td>...</td>\n",
       "      <td>...</td>\n",
       "    </tr>\n",
       "    <tr>\n",
       "      <th>6811</th>\n",
       "      <td>meian/meian_6811.wav</td>\n",
       "      <td>その御親切に対してもいただかなくっちゃ悪いわね」清子はこう云いながら、二人の間にある林檎の一...</td>\n",
       "      <td>sono go shinsetsu nitaishite mo itadaka nakut ...</td>\n",
       "      <td>9.1</td>\n",
       "    </tr>\n",
       "    <tr>\n",
       "      <th>6812</th>\n",
       "      <td>meian/meian_6812.wav</td>\n",
       "      <td>しかしそれを口へ持って行く前にまた訊いた。「しかし考えるとおかしいわね、いったいどうしたんで...</td>\n",
       "      <td>shikashi sore wo kuchi e mot te iku mae ni mat...</td>\n",
       "      <td>9.4</td>\n",
       "    </tr>\n",
       "    <tr>\n",
       "      <th>6813</th>\n",
       "      <td>meian/meian_6813.wav</td>\n",
       "      <td>「私吉川の奥さんにお見舞をいただこうとは思わなかったのよ。</td>\n",
       "      <td>watashi yoshikawa no okusan ni o mimai wo itad...</td>\n",
       "      <td>5.07</td>\n",
       "    </tr>\n",
       "    <tr>\n",
       "      <th>6814</th>\n",
       "      <td>meian/meian_6814.wav</td>\n",
       "      <td>それからそのお見舞をまたあなたが持って来て下さろうとはなおさら思わなかったのよ」　津田は口の...</td>\n",
       "      <td>sore kara sono omimai wo mata anata ga mot te ...</td>\n",
       "      <td>9.25</td>\n",
       "    </tr>\n",
       "    <tr>\n",
       "      <th>6815</th>\n",
       "      <td>meian/meian_6815.wav</td>\n",
       "      <td>僕でさえそんな事は思わなかったんだから」と云った。その顔をじっと見守った清子の眼に、</td>\n",
       "      <td>boku de sae son'na koto wa omowa nakat ta n da...</td>\n",
       "      <td>7.4</td>\n",
       "    </tr>\n",
       "    <tr>\n",
       "      <th>6816</th>\n",
       "      <td>meian/meian_6816.wav</td>\n",
       "      <td>判然した答を津田から待ち受けるような予期の光が射した。彼はその光に対する特殊な記憶を呼び起した。</td>\n",
       "      <td>hanzen shi ta kotae wo tsuda kara machiukeru y...</td>\n",
       "      <td>9.01</td>\n",
       "    </tr>\n",
       "    <tr>\n",
       "      <th>6817</th>\n",
       "      <td>meian/meian_6817.wav</td>\n",
       "      <td>「ああこの眼だっけ」二人の間に何度も繰り返された過去の光景が、ありありと津田の前に浮き上った。</td>\n",
       "      <td>a- kono me da kke ni nin no ma ni nan do mo ku...</td>\n",
       "      <td>8.82</td>\n",
       "    </tr>\n",
       "    <tr>\n",
       "      <th>6818</th>\n",
       "      <td>meian/meian_6818.wav</td>\n",
       "      <td>その時分の清子は津田と名のつく一人の男を信じていた。だからすべての知識を彼から仰いだ。</td>\n",
       "      <td>sono jibun no kiyoko wa tsuda to na no tsuku i...</td>\n",
       "      <td>7.68</td>\n",
       "    </tr>\n",
       "    <tr>\n",
       "      <th>6819</th>\n",
       "      <td>meian/meian_6819.wav</td>\n",
       "      <td>あらゆる疑問の解決を彼に求めた。自分に解らない未来を挙げて、彼の上に投げかけるように見えた。</td>\n",
       "      <td>arayuru gimon no kaiketsu wo kare ni motome ta...</td>\n",
       "      <td>8.01</td>\n",
       "    </tr>\n",
       "    <tr>\n",
       "      <th>6820</th>\n",
       "      <td>meian/meian_6820.wav</td>\n",
       "      <td>したがって彼女の眼は動いても静であった。何か訊こうとするうちに、信と平和の輝きがあった。</td>\n",
       "      <td>shitagat te kanojo no me wa ugoi te mo sei de ...</td>\n",
       "      <td>8.55</td>\n",
       "    </tr>\n",
       "    <tr>\n",
       "      <th>6821</th>\n",
       "      <td>meian/meian_6821.wav</td>\n",
       "      <td>彼はその輝きを一人で専有する特権をもって生れて来たような気がした。</td>\n",
       "      <td>kare wa sono kagayaki wo ichi nin de sen'yu- s...</td>\n",
       "      <td>5.75</td>\n",
       "    </tr>\n",
       "    <tr>\n",
       "      <th>6822</th>\n",
       "      <td>meian/meian_6822.wav</td>\n",
       "      <td>自分があればこそこの眼も存在するのだとさえ思った。二人はついに離れた。そうしてまた会った。</td>\n",
       "      <td>jibun ga are ba koso kono me mo sonzai suru no...</td>\n",
       "      <td>8.27</td>\n",
       "    </tr>\n",
       "    <tr>\n",
       "      <th>6823</th>\n",
       "      <td>meian/meian_6823.wav</td>\n",
       "      <td>津田は一種の感慨に打たれた。「それはあなたの美くしいところです。</td>\n",
       "      <td>tsuda wa isshu no kangai ni uta re ta 。 sore w...</td>\n",
       "      <td>6.1</td>\n",
       "    </tr>\n",
       "    <tr>\n",
       "      <th>6824</th>\n",
       "      <td>meian/meian_6824.wav</td>\n",
       "      <td>けれどももう私を失望させる美しさに過ぎなくなったのですか。判然教えて下さい」</td>\n",
       "      <td>keredomo mo- watashi wo shitsubo- sa seru utsu...</td>\n",
       "      <td>7.67</td>\n",
       "    </tr>\n",
       "    <tr>\n",
       "      <th>6825</th>\n",
       "      <td>meian/meian_6825.wav</td>\n",
       "      <td>そうしてそこにも二人の間にある意気込の相違を認めた。彼女はどこまでも逼らなかった。</td>\n",
       "      <td>so- shi te soko ni mo ni nin no ma ni aru iki ...</td>\n",
       "      <td>7.77</td>\n",
       "    </tr>\n",
       "    <tr>\n",
       "      <th>6826</th>\n",
       "      <td>meian/meian_6826.wav</td>\n",
       "      <td>どうでも構わないという風に、眼をよそへ持って行った彼女は、それを床の間に活けてある寒菊の花の...</td>\n",
       "      <td>do- demo kamawa nai toyuu kaze ni 、 me wo yoso...</td>\n",
       "      <td>8.42</td>\n",
       "    </tr>\n",
       "    <tr>\n",
       "      <th>6827</th>\n",
       "      <td>meian/meian_6827.wav</td>\n",
       "      <td>眼で逃げられた津田は、口で追かけなければならなかった。「なんぼ僕だってただ吉川の奥さんの使に...</td>\n",
       "      <td>me de nige rare ta tsuda wa 、 kuchi de tsui ka...</td>\n",
       "      <td>8.91</td>\n",
       "    </tr>\n",
       "    <tr>\n",
       "      <th>6828</th>\n",
       "      <td>meian/meian_6828.wav</td>\n",
       "      <td>始めてあなたのここにいらっしゃる事を聴かされた上に、ついお土産まで頼まれちまったんです」「そ...</td>\n",
       "      <td>hajime te anata no koko ni irassharu koto wo k...</td>\n",
       "      <td>8.14</td>\n",
       "    </tr>\n",
       "    <tr>\n",
       "      <th>6829</th>\n",
       "      <td>meian/meian_6829.wav</td>\n",
       "      <td>「だからもう変じゃないのよ。訳さえ伺えば、何でも当り前になっちまうのね」　津田はつい</td>\n",
       "      <td>dakara mo- hen ja nai no yo 。 wake sae ukagae ...</td>\n",
       "      <td>7.21</td>\n",
       "    </tr>\n",
       "    <tr>\n",
       "      <th>6830</th>\n",
       "      <td>meian/meian_6830.wav</td>\n",
       "      <td>「それであなたもどこかお悪いの」津田は言葉少なに病気の顛末を説明した。清子は云った。</td>\n",
       "      <td>sorede anata mo doko kao warui no tsuda wa kot...</td>\n",
       "      <td>8.33</td>\n",
       "    </tr>\n",
       "    <tr>\n",
       "      <th>6831</th>\n",
       "      <td>meian/meian_6831.wav</td>\n",
       "      <td>「でも結構ね、あなたは。そういう時に会社の方の御都合がつくんだから。そこへ行くと良人なんか気...</td>\n",
       "      <td>demo kekko- ne 、 anata wa 。 so-yuu toki ni kai...</td>\n",
       "      <td>8.96</td>\n",
       "    </tr>\n",
       "    <tr>\n",
       "      <th>6832</th>\n",
       "      <td>meian/meian_6832.wav</td>\n",
       "      <td>朝から晩まで忙がしそうにして」「関君こそ酔興なんだから仕方がない」「可哀想に、まさか」</td>\n",
       "      <td>asa kara ban made iso ga shi so- ni shi te sek...</td>\n",
       "      <td>8.16</td>\n",
       "    </tr>\n",
       "    <tr>\n",
       "      <th>6833</th>\n",
       "      <td>meian/meian_6833.wav</td>\n",
       "      <td>「いや僕のいうのは善い意味での酔興ですよ。つまり勉強家という事です」「まあ、お上手だ事」</td>\n",
       "      <td>iya boku no iu no wa yoi imi de no yoi kyo- de...</td>\n",
       "      <td>7.96</td>\n",
       "    </tr>\n",
       "    <tr>\n",
       "      <th>6834</th>\n",
       "      <td>meian/meian_6834.wav</td>\n",
       "      <td>この時下から急ぎ足で階子段を上って来る草履の音が聴えたので、何か云おうとした津田は黙って様子...</td>\n",
       "      <td>kono jika kara isogiashi de kai ko dan wo nobo...</td>\n",
       "      <td>9.3</td>\n",
       "    </tr>\n",
       "    <tr>\n",
       "      <th>6835</th>\n",
       "      <td>meian/meian_6835.wav</td>\n",
       "      <td>すると先刻とは違った下女がそこへ顔を出した。</td>\n",
       "      <td>suru to senkoku to wa chigat ta gejo ga soko e...</td>\n",
       "      <td>3.88</td>\n",
       "    </tr>\n",
       "    <tr>\n",
       "      <th>6836</th>\n",
       "      <td>meian/meian_6836.wav</td>\n",
       "      <td>「あの浜のお客さまが、奥さまにお午から滝の方へ散歩においでになりませんか、伺って来いとおっし...</td>\n",
       "      <td>ano hama no okyaku sama ga 、 okusama ni o uma ...</td>\n",
       "      <td>8.49</td>\n",
       "    </tr>\n",
       "    <tr>\n",
       "      <th>6837</th>\n",
       "      <td>meian/meian_6837.wav</td>\n",
       "      <td>「お供しましょう」清子の返事を聴いた下女は、立ち際に津田の方を見ながら「旦那様もいっしょにい...</td>\n",
       "      <td>otomo shi masho u kiyoko no henji wo kii ta ge...</td>\n",
       "      <td>9.17</td>\n",
       "    </tr>\n",
       "    <tr>\n",
       "      <th>6838</th>\n",
       "      <td>meian/meian_6838.wav</td>\n",
       "      <td>「奥さん」と云おうとして、云い損なった彼はつい「清子さん」と呼び掛けた。「あなたはいつごろま...</td>\n",
       "      <td>okusan to io u toshite 、 ii sokonat ta kare wa...</td>\n",
       "      <td>8.25</td>\n",
       "    </tr>\n",
       "    <tr>\n",
       "      <th>6839</th>\n",
       "      <td>meian/meian_6839.wav</td>\n",
       "      <td>「そりゃ何とも云えないわ」清子はこう云って微笑した。</td>\n",
       "      <td>sorya nantomo ie nai wa kiyoko wa ko- yut te b...</td>\n",
       "      <td>4.45</td>\n",
       "    </tr>\n",
       "    <tr>\n",
       "      <th>6840</th>\n",
       "      <td>meian/meian_6840.wav</td>\n",
       "      <td>夏目漱石、終り</td>\n",
       "      <td>natsume so-seki 、 owari</td>\n",
       "      <td>8.91</td>\n",
       "    </tr>\n",
       "  </tbody>\n",
       "</table>\n",
       "<p>6841 rows × 4 columns</p>\n",
       "</div>"
      ],
      "text/plain": [
       "                         0                                                  1  \\\n",
       "0     meian/meian_0000.wav  この前探った時は、途中に瘢痕の隆起があったので、ついそこが行きどまりだとばかり思って、ああ云...   \n",
       "1     meian/meian_0001.wav           今日疎通を好くするために、そいつをがりがり掻き落して見ると、まだ奥があるんです」   \n",
       "2     meian/meian_0002.wav      津田の顔には苦笑の裡に淡く盛り上げられた失望の色が見えた。医者は白いだぶだぶした上着の前に   \n",
       "3     meian/meian_0003.wav                両手を組み合わせたまま、ちょっと首を傾けた。その様子が「御気の毒ですが   \n",
       "4     meian/meian_0004.wav   津田は無言のまま帯を締め直して、椅子の背に投げ掛けられた袴を取り上げながらまた医者の方を向いた。   \n",
       "5     meian/meian_0005.wav              「腸まで続いているとすると、癒りっこないんですか」「そんな事はありません」   \n",
       "6     meian/meian_0006.wav          医者は活溌にまた無雑作に津田の言葉を否定した。併せて彼の気分をも否定するごとくに。   \n",
       "7     meian/meian_0007.wav  「ただ今までのように穴の掃除ばかりしていては駄目なんです。それじゃいつまで経っても肉の上りこ...   \n",
       "8     meian/meian_0008.wav                    「切開です。切開して穴と腸といっしょにしてしまうんです。すると   \n",
       "9     meian/meian_0009.wav            天然自然割かれた面の両側が癒着して来ますから、まあ本式に癒るようになるんです」   \n",
       "10    meian/meian_0010.wav         医者と懇意な彼は先刻診察所へ這入った時、物珍らしさに、それを覗かせて貰ったのである。   \n",
       "11    meian/meian_0011.wav                               その時八百五十倍の鏡の底に映ったものは、   \n",
       "12    meian/meian_0012.wav     まるで図に撮影ったように鮮やかに見える着色の葡萄状の細菌であった。津田は袴を穿いてしまって、   \n",
       "13    meian/meian_0013.wav              その洋卓の上に置いた皮の紙入を取り上げた時、ふとこの細菌の事を思い出した。   \n",
       "14    meian/meian_0014.wav               すると連想が急に彼の胸を不安にした。診察所を出るべく紙入を懐に収めた彼は   \n",
       "15    meian/meian_0015.wav                    すでに出ようとしてまた躊躇した。「もし結核性のものだとすると、   \n",
       "16    meian/meian_0016.wav             「結核性なら駄目です。それからそれへと穴を掘って奥の方へ進んで行くんだから、   \n",
       "17    meian/meian_0017.wav                    口元だけ治療したって役にゃ立ちません」津田は思わず眉を寄せた。   \n",
       "18    meian/meian_0018.wav                 「私のは結核性じゃないんですか」「いえ、結核性じゃありません」津田は   \n",
       "19    meian/meian_0019.wav        相手の言葉にどれほどの真実さがあるかを確かめようとして、ちょっと眼を医者の上に据えた。   \n",
       "20    meian/meian_0020.wav             医者は動かなかった。「どうしてそれが分るんですか。ただの診察で分るんですか」   \n",
       "21    meian/meian_0021.wav  「ええ。診察た様子で分ります」　その時看護婦が津田の後に廻った患者の名前を室の出口に立って呼んだ。   \n",
       "22    meian/meian_0022.wav      待ち構えていたその患者はすぐ津田の背後に現われた。津田は早く退却しなければならなくなった。   \n",
       "23    meian/meian_0023.wav              津田は自分の都合を善く考えてから日取をきめる事にして室外に出た。章、終り。   \n",
       "24    meian/meian_0024.wav                               二電車に乗った時の彼の気分は沈んでいた。   \n",
       "25    meian/meian_0025.wav       身動きのならないほど客の込み合う中で、彼は釣革にぶら下りながらただ自分の事ばかり考えた。   \n",
       "26    meian/meian_0026.wav                              去年の疼痛がありありと記憶の舞台に上った。   \n",
       "27    meian/meian_0027.wav       白いベッドの上に横えられた無残な自分の姿が明かに見えた。鎖を切って逃げる事ができない時に   \n",
       "28    meian/meian_0028.wav                  犬の出すような自分の唸り声が判然聴えた。それから冷たい刃物の光と、   \n",
       "29    meian/meian_0029.wav    それが互に触れ合う音と、最後に突然両方の肺臓から一度に空気を搾り出すような恐ろしい力の圧迫と、   \n",
       "...                    ...                                                ...   \n",
       "6811  meian/meian_6811.wav  その御親切に対してもいただかなくっちゃ悪いわね」清子はこう云いながら、二人の間にある林檎の一...   \n",
       "6812  meian/meian_6812.wav  しかしそれを口へ持って行く前にまた訊いた。「しかし考えるとおかしいわね、いったいどうしたんで...   \n",
       "6813  meian/meian_6813.wav                      「私吉川の奥さんにお見舞をいただこうとは思わなかったのよ。   \n",
       "6814  meian/meian_6814.wav  それからそのお見舞をまたあなたが持って来て下さろうとはなおさら思わなかったのよ」　津田は口の...   \n",
       "6815  meian/meian_6815.wav         僕でさえそんな事は思わなかったんだから」と云った。その顔をじっと見守った清子の眼に、   \n",
       "6816  meian/meian_6816.wav   判然した答を津田から待ち受けるような予期の光が射した。彼はその光に対する特殊な記憶を呼び起した。   \n",
       "6817  meian/meian_6817.wav    「ああこの眼だっけ」二人の間に何度も繰り返された過去の光景が、ありありと津田の前に浮き上った。   \n",
       "6818  meian/meian_6818.wav        その時分の清子は津田と名のつく一人の男を信じていた。だからすべての知識を彼から仰いだ。   \n",
       "6819  meian/meian_6819.wav     あらゆる疑問の解決を彼に求めた。自分に解らない未来を挙げて、彼の上に投げかけるように見えた。   \n",
       "6820  meian/meian_6820.wav       したがって彼女の眼は動いても静であった。何か訊こうとするうちに、信と平和の輝きがあった。   \n",
       "6821  meian/meian_6821.wav                  彼はその輝きを一人で専有する特権をもって生れて来たような気がした。   \n",
       "6822  meian/meian_6822.wav      自分があればこそこの眼も存在するのだとさえ思った。二人はついに離れた。そうしてまた会った。   \n",
       "6823  meian/meian_6823.wav                   津田は一種の感慨に打たれた。「それはあなたの美くしいところです。   \n",
       "6824  meian/meian_6824.wav             けれどももう私を失望させる美しさに過ぎなくなったのですか。判然教えて下さい」   \n",
       "6825  meian/meian_6825.wav          そうしてそこにも二人の間にある意気込の相違を認めた。彼女はどこまでも逼らなかった。   \n",
       "6826  meian/meian_6826.wav  どうでも構わないという風に、眼をよそへ持って行った彼女は、それを床の間に活けてある寒菊の花の...   \n",
       "6827  meian/meian_6827.wav  眼で逃げられた津田は、口で追かけなければならなかった。「なんぼ僕だってただ吉川の奥さんの使に...   \n",
       "6828  meian/meian_6828.wav  始めてあなたのここにいらっしゃる事を聴かされた上に、ついお土産まで頼まれちまったんです」「そ...   \n",
       "6829  meian/meian_6829.wav         「だからもう変じゃないのよ。訳さえ伺えば、何でも当り前になっちまうのね」　津田はつい   \n",
       "6830  meian/meian_6830.wav         「それであなたもどこかお悪いの」津田は言葉少なに病気の顛末を説明した。清子は云った。   \n",
       "6831  meian/meian_6831.wav  「でも結構ね、あなたは。そういう時に会社の方の御都合がつくんだから。そこへ行くと良人なんか気...   \n",
       "6832  meian/meian_6832.wav        朝から晩まで忙がしそうにして」「関君こそ酔興なんだから仕方がない」「可哀想に、まさか」   \n",
       "6833  meian/meian_6833.wav       「いや僕のいうのは善い意味での酔興ですよ。つまり勉強家という事です」「まあ、お上手だ事」   \n",
       "6834  meian/meian_6834.wav  この時下から急ぎ足で階子段を上って来る草履の音が聴えたので、何か云おうとした津田は黙って様子...   \n",
       "6835  meian/meian_6835.wav                             すると先刻とは違った下女がそこへ顔を出した。   \n",
       "6836  meian/meian_6836.wav  「あの浜のお客さまが、奥さまにお午から滝の方へ散歩においでになりませんか、伺って来いとおっし...   \n",
       "6837  meian/meian_6837.wav  「お供しましょう」清子の返事を聴いた下女は、立ち際に津田の方を見ながら「旦那様もいっしょにい...   \n",
       "6838  meian/meian_6838.wav  「奥さん」と云おうとして、云い損なった彼はつい「清子さん」と呼び掛けた。「あなたはいつごろま...   \n",
       "6839  meian/meian_6839.wav                         「そりゃ何とも云えないわ」清子はこう云って微笑した。   \n",
       "6840  meian/meian_6840.wav                                            夏目漱石、終り   \n",
       "\n",
       "                                                      2     3  \n",
       "0     kono mae sagut ta toki wa 、 tochu- ni hankon n...  8.77  \n",
       "1     kyo- sotsu- wo yoku suru tame ni 、 soitsu wo g...  7.48  \n",
       "2     tsuda no kao ni wa kusho- no ura ni awaku mori...  9.11  \n",
       "3     ryo-te wo kumiawase ta mama 、 chotto kubi wo k...  7.44  \n",
       "4     tsuda wa mugon no mama obi wo shime naoshi te ...  9.26  \n",
       "5     cho- made tsuzui te iru to suru to 、 nao ri k ...   5.7  \n",
       "6     isha wa kappatsu ni mata mu zo-sa ni tsuda no ...  9.09  \n",
       "7     tadaima made no yo- ni ana no so-ji bakari shi...  9.34  \n",
       "8     sekkai desu 。 sekkai shi te ana to cho- to iss...  6.15  \n",
       "9     ten'nen shizen saka re ta men no ryo-gawa ga y...  7.68  \n",
       "10    isha to kon'i na kare wa senkoku shinsatsu sho...  8.31  \n",
       "11    sono toki hachi hyaku go ju- bai no kagami no ...  4.19  \n",
       "12    marude zu ni satsuei t ta yo- ni azayaka ni mi...  9.21  \n",
       "13    sono yo- taku no ue ni oi ta kawa no kami iri ...  7.24  \n",
       "14    suru to renso- ga kyu- ni kare no mune wo fuan...  8.46  \n",
       "15    sudeni deyo u toshite mata chu-cho shi ta 。 mo...  6.77  \n",
       "16    kekkaku sei nara dame desu 。 sorekara sore e t...   6.7  \n",
       "17    kuchimoto dake chiryo- shi ta tte yaku nya tac...  7.57  \n",
       "18    watashi no wa kekkaku sei ja nai n desu ka ie ...  6.81  \n",
       "19    aite no kotoba ni dore hodo no shinjitsu sa ga...  7.82  \n",
       "20    isha wa ugoka nakat ta 。 do-shite sore ga waka...  7.67  \n",
       "21    e- 。 shinsatsu ta yo-su de wakari masu sono to...  9.26  \n",
       "22    machikamae te i ta sono kanja wa sugu tsuda no...  8.64  \n",
       "23    tsuda wa jibun no tsugo- wo yoku kangae te kar...  8.73  \n",
       "24    ni densha ni not ta toki no kare no kibun wa s...  8.18  \n",
       "25    miugoki no nara nai hodo kyaku no komiau naka ...   9.0  \n",
       "26    kyonen no to-tsu- ga ariari to kioku no butai ...  4.31  \n",
       "27    shiroi beddo no ue ni yoko era re ta muzan na ...  8.69  \n",
       "28    inu no dasu yo- na jibun no unari goe ga hanki...  8.06  \n",
       "29    sore ga katamini fureau oto to 、 saigo ni tots...  9.94  \n",
       "...                                                 ...   ...  \n",
       "6811  sono go shinsetsu nitaishite mo itadaka nakut ...   9.1  \n",
       "6812  shikashi sore wo kuchi e mot te iku mae ni mat...   9.4  \n",
       "6813  watashi yoshikawa no okusan ni o mimai wo itad...  5.07  \n",
       "6814  sore kara sono omimai wo mata anata ga mot te ...  9.25  \n",
       "6815  boku de sae son'na koto wa omowa nakat ta n da...   7.4  \n",
       "6816  hanzen shi ta kotae wo tsuda kara machiukeru y...  9.01  \n",
       "6817  a- kono me da kke ni nin no ma ni nan do mo ku...  8.82  \n",
       "6818  sono jibun no kiyoko wa tsuda to na no tsuku i...  7.68  \n",
       "6819  arayuru gimon no kaiketsu wo kare ni motome ta...  8.01  \n",
       "6820  shitagat te kanojo no me wa ugoi te mo sei de ...  8.55  \n",
       "6821  kare wa sono kagayaki wo ichi nin de sen'yu- s...  5.75  \n",
       "6822  jibun ga are ba koso kono me mo sonzai suru no...  8.27  \n",
       "6823  tsuda wa isshu no kangai ni uta re ta 。 sore w...   6.1  \n",
       "6824  keredomo mo- watashi wo shitsubo- sa seru utsu...  7.67  \n",
       "6825  so- shi te soko ni mo ni nin no ma ni aru iki ...  7.77  \n",
       "6826  do- demo kamawa nai toyuu kaze ni 、 me wo yoso...  8.42  \n",
       "6827  me de nige rare ta tsuda wa 、 kuchi de tsui ka...  8.91  \n",
       "6828  hajime te anata no koko ni irassharu koto wo k...  8.14  \n",
       "6829  dakara mo- hen ja nai no yo 。 wake sae ukagae ...  7.21  \n",
       "6830  sorede anata mo doko kao warui no tsuda wa kot...  8.33  \n",
       "6831  demo kekko- ne 、 anata wa 。 so-yuu toki ni kai...  8.96  \n",
       "6832  asa kara ban made iso ga shi so- ni shi te sek...  8.16  \n",
       "6833  iya boku no iu no wa yoi imi de no yoi kyo- de...  7.96  \n",
       "6834  kono jika kara isogiashi de kai ko dan wo nobo...   9.3  \n",
       "6835  suru to senkoku to wa chigat ta gejo ga soko e...  3.88  \n",
       "6836  ano hama no okyaku sama ga 、 okusama ni o uma ...  8.49  \n",
       "6837  otomo shi masho u kiyoko no henji wo kii ta ge...  9.17  \n",
       "6838  okusan to io u toshite 、 ii sokonat ta kare wa...  8.25  \n",
       "6839  sorya nantomo ie nai wa kiyoko wa ko- yut te b...  4.45  \n",
       "6840                            natsume so-seki 、 owari  8.91  \n",
       "\n",
       "[6841 rows x 4 columns]"
      ]
     },
     "execution_count": 5,
     "metadata": {},
     "output_type": "execute_result"
    }
   ],
   "source": [
    "df"
   ]
  },
  {
   "cell_type": "code",
   "execution_count": 8,
   "metadata": {},
   "outputs": [],
   "source": [
    "txt_file = \"css10/train_ja.txt\"\n",
    "txt_file_new = \"css10/train_ja_new.txt\""
   ]
  },
  {
   "cell_type": "code",
   "execution_count": 6,
   "metadata": {},
   "outputs": [],
   "source": [
    "txt_file = \"css10/val_ja.txt\"\n",
    "txt_file_new = \"css10/val_ja_new.txt\""
   ]
  },
  {
   "cell_type": "code",
   "execution_count": 9,
   "metadata": {
    "code_folding": [],
    "scrolled": true
   },
   "outputs": [
    {
     "name": "stderr",
     "output_type": "stream",
     "text": [
      "[WARNING] 1 utterances containing language switches on lines 4\n",
      "[WARNING] extra phones may appear in the \"ja\" phoneset\n",
      "[WARNING] language switch flags have been removed (applying \"remove-flags\" policy)\n",
      "[WARNING] 1 utterances containing language switches on lines 1\n",
      "[WARNING] extra phones may appear in the \"ja\" phoneset\n",
      "[WARNING] language switch flags have been removed (applying \"remove-flags\" policy)\n",
      "[WARNING] 1 utterances containing language switches on lines 3\n",
      "[WARNING] extra phones may appear in the \"ja\" phoneset\n",
      "[WARNING] language switch flags have been removed (applying \"remove-flags\" policy)\n",
      "[WARNING] 2 utterances containing language switches on lines 1, 2\n",
      "[WARNING] extra phones may appear in the \"ja\" phoneset\n",
      "[WARNING] language switch flags have been removed (applying \"remove-flags\" policy)\n",
      "[WARNING] 1 utterances containing language switches on lines 3\n",
      "[WARNING] extra phones may appear in the \"ja\" phoneset\n",
      "[WARNING] language switch flags have been removed (applying \"remove-flags\" policy)\n",
      "[WARNING] 1 utterances containing language switches on lines 2\n",
      "[WARNING] extra phones may appear in the \"ja\" phoneset\n",
      "[WARNING] language switch flags have been removed (applying \"remove-flags\" policy)\n",
      "[WARNING] 1 utterances containing language switches on lines 1\n",
      "[WARNING] extra phones may appear in the \"ja\" phoneset\n",
      "[WARNING] language switch flags have been removed (applying \"remove-flags\" policy)\n",
      "[WARNING] 2 utterances containing language switches on lines 2, 4\n",
      "[WARNING] extra phones may appear in the \"ja\" phoneset\n",
      "[WARNING] language switch flags have been removed (applying \"remove-flags\" policy)\n",
      "[WARNING] 1 utterances containing language switches on lines 2\n",
      "[WARNING] extra phones may appear in the \"ja\" phoneset\n",
      "[WARNING] language switch flags have been removed (applying \"remove-flags\" policy)\n",
      "[WARNING] 1 utterances containing language switches on lines 1\n",
      "[WARNING] extra phones may appear in the \"ja\" phoneset\n",
      "[WARNING] language switch flags have been removed (applying \"remove-flags\" policy)\n",
      "[WARNING] 1 utterances containing language switches on lines 2\n",
      "[WARNING] extra phones may appear in the \"ja\" phoneset\n",
      "[WARNING] language switch flags have been removed (applying \"remove-flags\" policy)\n",
      "[WARNING] 1 utterances containing language switches on lines 1\n",
      "[WARNING] extra phones may appear in the \"ja\" phoneset\n",
      "[WARNING] language switch flags have been removed (applying \"remove-flags\" policy)\n",
      "[WARNING] 2 utterances containing language switches on lines 1, 2\n",
      "[WARNING] extra phones may appear in the \"ja\" phoneset\n",
      "[WARNING] language switch flags have been removed (applying \"remove-flags\" policy)\n",
      "[WARNING] 1 utterances containing language switches on lines 2\n",
      "[WARNING] extra phones may appear in the \"ja\" phoneset\n",
      "[WARNING] language switch flags have been removed (applying \"remove-flags\" policy)\n",
      "[WARNING] 1 utterances containing language switches on lines 2\n",
      "[WARNING] extra phones may appear in the \"ja\" phoneset\n",
      "[WARNING] language switch flags have been removed (applying \"remove-flags\" policy)\n",
      "[WARNING] 1 utterances containing language switches on lines 3\n",
      "[WARNING] extra phones may appear in the \"ja\" phoneset\n",
      "[WARNING] language switch flags have been removed (applying \"remove-flags\" policy)\n",
      "[WARNING] 1 utterances containing language switches on lines 1\n",
      "[WARNING] extra phones may appear in the \"ja\" phoneset\n",
      "[WARNING] language switch flags have been removed (applying \"remove-flags\" policy)\n",
      "[WARNING] 1 utterances containing language switches on lines 4\n",
      "[WARNING] extra phones may appear in the \"ja\" phoneset\n",
      "[WARNING] language switch flags have been removed (applying \"remove-flags\" policy)\n",
      "[WARNING] 1 utterances containing language switches on lines 1\n",
      "[WARNING] extra phones may appear in the \"ja\" phoneset\n",
      "[WARNING] language switch flags have been removed (applying \"remove-flags\" policy)\n",
      "[WARNING] 1 utterances containing language switches on lines 1\n",
      "[WARNING] extra phones may appear in the \"ja\" phoneset\n",
      "[WARNING] language switch flags have been removed (applying \"remove-flags\" policy)\n",
      "[WARNING] 1 utterances containing language switches on lines 1\n",
      "[WARNING] extra phones may appear in the \"ja\" phoneset\n",
      "[WARNING] language switch flags have been removed (applying \"remove-flags\" policy)\n"
     ]
    },
    {
     "name": "stdout",
     "output_type": "stream",
     "text": [
      "Done\n"
     ]
    }
   ],
   "source": [
    "textlist=[]\n",
    "with open(txt_file, 'r', encoding='utf-8') as f:\n",
    "    with open(txt_file_new, 'w', encoding='utf-8') as f2:\n",
    "        \n",
    "        for line in f:\n",
    "            parts = line.strip().split('|')\n",
    "    #         parts[1]=\"00-ja\"\n",
    "    #         parts[2]=\"ja\"\n",
    "    #         data_path = parts[3].replace(\"japanese/\",\"\")\n",
    "    #         text_ori = df[(df[0]==data_path)].iloc[0][1]\n",
    "    #         parts[3]= os.path.join(\"../css10/\",parts[3])\n",
    "    #         parts[4]= os.path.join(\"../css10/\",parts[4])\n",
    "    #         parts[5]= os.path.join(\"../css10/\",parts[5])\n",
    "    # #         text_roma = pykakasi_conv(text_ori)\n",
    "            parts[7] = _phonemize(parts[6], 'ja')\n",
    "            line_mod = '|'.join(parts)\n",
    "            print(line_mod,file=f2)\n",
    "#             textlist.append(line_mod)\n",
    "\n",
    "print('Done')"
   ]
  },
  {
   "cell_type": "markdown",
   "metadata": {},
   "source": [
    "### 读取Mozilla日文数据"
   ]
  },
  {
   "cell_type": "code",
   "execution_count": 10,
   "metadata": {},
   "outputs": [],
   "source": [
    "import glob, os\n",
    "from pydub import AudioSegment"
   ]
  },
  {
   "cell_type": "code",
   "execution_count": 11,
   "metadata": {},
   "outputs": [],
   "source": [
    "txt_file = \"Mozilla/ja/train.tsv\""
   ]
  },
  {
   "cell_type": "code",
   "execution_count": 12,
   "metadata": {},
   "outputs": [
    {
     "data": {
      "text/html": [
       "<div>\n",
       "<style scoped>\n",
       "    .dataframe tbody tr th:only-of-type {\n",
       "        vertical-align: middle;\n",
       "    }\n",
       "\n",
       "    .dataframe tbody tr th {\n",
       "        vertical-align: top;\n",
       "    }\n",
       "\n",
       "    .dataframe thead th {\n",
       "        text-align: right;\n",
       "    }\n",
       "</style>\n",
       "<table border=\"1\" class=\"dataframe\">\n",
       "  <thead>\n",
       "    <tr style=\"text-align: right;\">\n",
       "      <th></th>\n",
       "      <th>client_id</th>\n",
       "      <th>path</th>\n",
       "      <th>sentence</th>\n",
       "      <th>up_votes</th>\n",
       "      <th>down_votes</th>\n",
       "      <th>age</th>\n",
       "      <th>gender</th>\n",
       "      <th>accent</th>\n",
       "      <th>locale</th>\n",
       "      <th>segment</th>\n",
       "    </tr>\n",
       "  </thead>\n",
       "  <tbody>\n",
       "    <tr>\n",
       "      <th>0</th>\n",
       "      <td>11e6ed343ee4fcf30f8717b698eca87944399ff5e73b32...</td>\n",
       "      <td>common_voice_ja_20720467.mp3</td>\n",
       "      <td>本屋で旅行の本を買いました。</td>\n",
       "      <td>2</td>\n",
       "      <td>0</td>\n",
       "      <td>twenties</td>\n",
       "      <td>male</td>\n",
       "      <td>NaN</td>\n",
       "      <td>ja</td>\n",
       "      <td>NaN</td>\n",
       "    </tr>\n",
       "    <tr>\n",
       "      <th>1</th>\n",
       "      <td>11e6ed343ee4fcf30f8717b698eca87944399ff5e73b32...</td>\n",
       "      <td>common_voice_ja_20720591.mp3</td>\n",
       "      <td>この花は春になると、咲きます。</td>\n",
       "      <td>2</td>\n",
       "      <td>0</td>\n",
       "      <td>twenties</td>\n",
       "      <td>male</td>\n",
       "      <td>NaN</td>\n",
       "      <td>ja</td>\n",
       "      <td>NaN</td>\n",
       "    </tr>\n",
       "    <tr>\n",
       "      <th>2</th>\n",
       "      <td>11e6ed343ee4fcf30f8717b698eca87944399ff5e73b32...</td>\n",
       "      <td>common_voice_ja_20720589.mp3</td>\n",
       "      <td>彼女は夜遅くまで起きているのに慣れている。</td>\n",
       "      <td>2</td>\n",
       "      <td>1</td>\n",
       "      <td>twenties</td>\n",
       "      <td>male</td>\n",
       "      <td>NaN</td>\n",
       "      <td>ja</td>\n",
       "      <td>NaN</td>\n",
       "    </tr>\n",
       "    <tr>\n",
       "      <th>3</th>\n",
       "      <td>11e6ed343ee4fcf30f8717b698eca87944399ff5e73b32...</td>\n",
       "      <td>common_voice_ja_20720583.mp3</td>\n",
       "      <td>木村さんはとても頭がいいです。</td>\n",
       "      <td>2</td>\n",
       "      <td>0</td>\n",
       "      <td>twenties</td>\n",
       "      <td>male</td>\n",
       "      <td>NaN</td>\n",
       "      <td>ja</td>\n",
       "      <td>NaN</td>\n",
       "    </tr>\n",
       "    <tr>\n",
       "      <th>4</th>\n",
       "      <td>11e6ed343ee4fcf30f8717b698eca87944399ff5e73b32...</td>\n",
       "      <td>common_voice_ja_20720829.mp3</td>\n",
       "      <td>彼女は服を片付けた。</td>\n",
       "      <td>2</td>\n",
       "      <td>0</td>\n",
       "      <td>twenties</td>\n",
       "      <td>male</td>\n",
       "      <td>NaN</td>\n",
       "      <td>ja</td>\n",
       "      <td>NaN</td>\n",
       "    </tr>\n",
       "    <tr>\n",
       "      <th>5</th>\n",
       "      <td>11e6ed343ee4fcf30f8717b698eca87944399ff5e73b32...</td>\n",
       "      <td>common_voice_ja_20720831.mp3</td>\n",
       "      <td>彼女は非常に会社に貢献した。</td>\n",
       "      <td>2</td>\n",
       "      <td>0</td>\n",
       "      <td>twenties</td>\n",
       "      <td>male</td>\n",
       "      <td>NaN</td>\n",
       "      <td>ja</td>\n",
       "      <td>NaN</td>\n",
       "    </tr>\n",
       "    <tr>\n",
       "      <th>6</th>\n",
       "      <td>11e6ed343ee4fcf30f8717b698eca87944399ff5e73b32...</td>\n",
       "      <td>common_voice_ja_20720860.mp3</td>\n",
       "      <td>林さんの家には犬と猫がいます。</td>\n",
       "      <td>2</td>\n",
       "      <td>0</td>\n",
       "      <td>twenties</td>\n",
       "      <td>male</td>\n",
       "      <td>NaN</td>\n",
       "      <td>ja</td>\n",
       "      <td>NaN</td>\n",
       "    </tr>\n",
       "    <tr>\n",
       "      <th>7</th>\n",
       "      <td>11e6ed343ee4fcf30f8717b698eca87944399ff5e73b32...</td>\n",
       "      <td>common_voice_ja_20720865.mp3</td>\n",
       "      <td>パンや卵などを食べます。</td>\n",
       "      <td>2</td>\n",
       "      <td>0</td>\n",
       "      <td>twenties</td>\n",
       "      <td>male</td>\n",
       "      <td>NaN</td>\n",
       "      <td>ja</td>\n",
       "      <td>NaN</td>\n",
       "    </tr>\n",
       "    <tr>\n",
       "      <th>8</th>\n",
       "      <td>11e6ed343ee4fcf30f8717b698eca87944399ff5e73b32...</td>\n",
       "      <td>common_voice_ja_20720866.mp3</td>\n",
       "      <td>彼女は老人に親切です。</td>\n",
       "      <td>2</td>\n",
       "      <td>1</td>\n",
       "      <td>twenties</td>\n",
       "      <td>male</td>\n",
       "      <td>NaN</td>\n",
       "      <td>ja</td>\n",
       "      <td>NaN</td>\n",
       "    </tr>\n",
       "    <tr>\n",
       "      <th>9</th>\n",
       "      <td>11e6ed343ee4fcf30f8717b698eca87944399ff5e73b32...</td>\n",
       "      <td>common_voice_ja_20720967.mp3</td>\n",
       "      <td>サッカーより野球のほうが好きです。</td>\n",
       "      <td>2</td>\n",
       "      <td>0</td>\n",
       "      <td>twenties</td>\n",
       "      <td>male</td>\n",
       "      <td>NaN</td>\n",
       "      <td>ja</td>\n",
       "      <td>NaN</td>\n",
       "    </tr>\n",
       "    <tr>\n",
       "      <th>10</th>\n",
       "      <td>11e6ed343ee4fcf30f8717b698eca87944399ff5e73b32...</td>\n",
       "      <td>common_voice_ja_20721015.mp3</td>\n",
       "      <td>教室に新しいコンピューターがあります。</td>\n",
       "      <td>2</td>\n",
       "      <td>0</td>\n",
       "      <td>twenties</td>\n",
       "      <td>male</td>\n",
       "      <td>NaN</td>\n",
       "      <td>ja</td>\n",
       "      <td>NaN</td>\n",
       "    </tr>\n",
       "    <tr>\n",
       "      <th>11</th>\n",
       "      <td>11e6ed343ee4fcf30f8717b698eca87944399ff5e73b32...</td>\n",
       "      <td>common_voice_ja_20721047.mp3</td>\n",
       "      <td>父は僕の宿題を見るのに忙しい。</td>\n",
       "      <td>2</td>\n",
       "      <td>0</td>\n",
       "      <td>twenties</td>\n",
       "      <td>male</td>\n",
       "      <td>NaN</td>\n",
       "      <td>ja</td>\n",
       "      <td>NaN</td>\n",
       "    </tr>\n",
       "    <tr>\n",
       "      <th>12</th>\n",
       "      <td>11e6ed343ee4fcf30f8717b698eca87944399ff5e73b32...</td>\n",
       "      <td>common_voice_ja_20721064.mp3</td>\n",
       "      <td>日本語の教室はどこですか。</td>\n",
       "      <td>2</td>\n",
       "      <td>0</td>\n",
       "      <td>twenties</td>\n",
       "      <td>male</td>\n",
       "      <td>NaN</td>\n",
       "      <td>ja</td>\n",
       "      <td>NaN</td>\n",
       "    </tr>\n",
       "    <tr>\n",
       "      <th>13</th>\n",
       "      <td>11e6ed343ee4fcf30f8717b698eca87944399ff5e73b32...</td>\n",
       "      <td>common_voice_ja_20721075.mp3</td>\n",
       "      <td>これはわたしの家のかぎです。</td>\n",
       "      <td>2</td>\n",
       "      <td>0</td>\n",
       "      <td>twenties</td>\n",
       "      <td>male</td>\n",
       "      <td>NaN</td>\n",
       "      <td>ja</td>\n",
       "      <td>NaN</td>\n",
       "    </tr>\n",
       "    <tr>\n",
       "      <th>14</th>\n",
       "      <td>11e6ed343ee4fcf30f8717b698eca87944399ff5e73b32...</td>\n",
       "      <td>common_voice_ja_20721088.mp3</td>\n",
       "      <td>この問題はとても易しいです。</td>\n",
       "      <td>2</td>\n",
       "      <td>0</td>\n",
       "      <td>twenties</td>\n",
       "      <td>male</td>\n",
       "      <td>NaN</td>\n",
       "      <td>ja</td>\n",
       "      <td>NaN</td>\n",
       "    </tr>\n",
       "    <tr>\n",
       "      <th>15</th>\n",
       "      <td>11e6ed343ee4fcf30f8717b698eca87944399ff5e73b32...</td>\n",
       "      <td>common_voice_ja_20721098.mp3</td>\n",
       "      <td>貧乏にもピンからキリまである。</td>\n",
       "      <td>2</td>\n",
       "      <td>0</td>\n",
       "      <td>twenties</td>\n",
       "      <td>male</td>\n",
       "      <td>NaN</td>\n",
       "      <td>ja</td>\n",
       "      <td>NaN</td>\n",
       "    </tr>\n",
       "    <tr>\n",
       "      <th>16</th>\n",
       "      <td>11e6ed343ee4fcf30f8717b698eca87944399ff5e73b32...</td>\n",
       "      <td>common_voice_ja_20721101.mp3</td>\n",
       "      <td>彼女は病院までタクシーに乗った。</td>\n",
       "      <td>2</td>\n",
       "      <td>0</td>\n",
       "      <td>twenties</td>\n",
       "      <td>male</td>\n",
       "      <td>NaN</td>\n",
       "      <td>ja</td>\n",
       "      <td>NaN</td>\n",
       "    </tr>\n",
       "    <tr>\n",
       "      <th>17</th>\n",
       "      <td>11e6ed343ee4fcf30f8717b698eca87944399ff5e73b32...</td>\n",
       "      <td>common_voice_ja_20721106.mp3</td>\n",
       "      <td>彼女は幼くて学校には行けません。</td>\n",
       "      <td>2</td>\n",
       "      <td>0</td>\n",
       "      <td>twenties</td>\n",
       "      <td>male</td>\n",
       "      <td>NaN</td>\n",
       "      <td>ja</td>\n",
       "      <td>NaN</td>\n",
       "    </tr>\n",
       "    <tr>\n",
       "      <th>18</th>\n",
       "      <td>11e6ed343ee4fcf30f8717b698eca87944399ff5e73b32...</td>\n",
       "      <td>common_voice_ja_20721109.mp3</td>\n",
       "      <td>物理学は基本的な自然科学である。</td>\n",
       "      <td>2</td>\n",
       "      <td>0</td>\n",
       "      <td>twenties</td>\n",
       "      <td>male</td>\n",
       "      <td>NaN</td>\n",
       "      <td>ja</td>\n",
       "      <td>NaN</td>\n",
       "    </tr>\n",
       "    <tr>\n",
       "      <th>19</th>\n",
       "      <td>11e6ed343ee4fcf30f8717b698eca87944399ff5e73b32...</td>\n",
       "      <td>common_voice_ja_20721100.mp3</td>\n",
       "      <td>どんな映画ですか。</td>\n",
       "      <td>2</td>\n",
       "      <td>0</td>\n",
       "      <td>twenties</td>\n",
       "      <td>male</td>\n",
       "      <td>NaN</td>\n",
       "      <td>ja</td>\n",
       "      <td>NaN</td>\n",
       "    </tr>\n",
       "    <tr>\n",
       "      <th>20</th>\n",
       "      <td>11e6ed343ee4fcf30f8717b698eca87944399ff5e73b32...</td>\n",
       "      <td>common_voice_ja_20721119.mp3</td>\n",
       "      <td>彼は腹をたてた。</td>\n",
       "      <td>2</td>\n",
       "      <td>1</td>\n",
       "      <td>twenties</td>\n",
       "      <td>male</td>\n",
       "      <td>NaN</td>\n",
       "      <td>ja</td>\n",
       "      <td>NaN</td>\n",
       "    </tr>\n",
       "    <tr>\n",
       "      <th>21</th>\n",
       "      <td>11e6ed343ee4fcf30f8717b698eca87944399ff5e73b32...</td>\n",
       "      <td>common_voice_ja_20721115.mp3</td>\n",
       "      <td>木村さんはどっちが好きですか。</td>\n",
       "      <td>2</td>\n",
       "      <td>0</td>\n",
       "      <td>twenties</td>\n",
       "      <td>male</td>\n",
       "      <td>NaN</td>\n",
       "      <td>ja</td>\n",
       "      <td>NaN</td>\n",
       "    </tr>\n",
       "    <tr>\n",
       "      <th>22</th>\n",
       "      <td>11e6ed343ee4fcf30f8717b698eca87944399ff5e73b32...</td>\n",
       "      <td>common_voice_ja_20721133.mp3</td>\n",
       "      <td>文の前後関係から単語の意味を知る。</td>\n",
       "      <td>2</td>\n",
       "      <td>0</td>\n",
       "      <td>twenties</td>\n",
       "      <td>male</td>\n",
       "      <td>NaN</td>\n",
       "      <td>ja</td>\n",
       "      <td>NaN</td>\n",
       "    </tr>\n",
       "    <tr>\n",
       "      <th>23</th>\n",
       "      <td>11e6ed343ee4fcf30f8717b698eca87944399ff5e73b32...</td>\n",
       "      <td>common_voice_ja_20721186.mp3</td>\n",
       "      <td>物語の結末はどうでしたか。</td>\n",
       "      <td>2</td>\n",
       "      <td>0</td>\n",
       "      <td>twenties</td>\n",
       "      <td>male</td>\n",
       "      <td>NaN</td>\n",
       "      <td>ja</td>\n",
       "      <td>NaN</td>\n",
       "    </tr>\n",
       "    <tr>\n",
       "      <th>24</th>\n",
       "      <td>11e6ed343ee4fcf30f8717b698eca87944399ff5e73b32...</td>\n",
       "      <td>common_voice_ja_20721203.mp3</td>\n",
       "      <td>富子は私の体重を言い当てた。</td>\n",
       "      <td>2</td>\n",
       "      <td>0</td>\n",
       "      <td>twenties</td>\n",
       "      <td>male</td>\n",
       "      <td>NaN</td>\n",
       "      <td>ja</td>\n",
       "      <td>NaN</td>\n",
       "    </tr>\n",
       "    <tr>\n",
       "      <th>25</th>\n",
       "      <td>11e6ed343ee4fcf30f8717b698eca87944399ff5e73b32...</td>\n",
       "      <td>common_voice_ja_20721218.mp3</td>\n",
       "      <td>海で大勢の人が泳いでいます。</td>\n",
       "      <td>2</td>\n",
       "      <td>0</td>\n",
       "      <td>twenties</td>\n",
       "      <td>male</td>\n",
       "      <td>NaN</td>\n",
       "      <td>ja</td>\n",
       "      <td>NaN</td>\n",
       "    </tr>\n",
       "    <tr>\n",
       "      <th>26</th>\n",
       "      <td>11e6ed343ee4fcf30f8717b698eca87944399ff5e73b32...</td>\n",
       "      <td>common_voice_ja_20721235.mp3</td>\n",
       "      <td>父は私にカメラを買ってくれました。</td>\n",
       "      <td>2</td>\n",
       "      <td>0</td>\n",
       "      <td>twenties</td>\n",
       "      <td>male</td>\n",
       "      <td>NaN</td>\n",
       "      <td>ja</td>\n",
       "      <td>NaN</td>\n",
       "    </tr>\n",
       "    <tr>\n",
       "      <th>27</th>\n",
       "      <td>11e6ed343ee4fcf30f8717b698eca87944399ff5e73b32...</td>\n",
       "      <td>common_voice_ja_20721249.mp3</td>\n",
       "      <td>彼女は本当にここへ来たんだ。</td>\n",
       "      <td>2</td>\n",
       "      <td>0</td>\n",
       "      <td>twenties</td>\n",
       "      <td>male</td>\n",
       "      <td>NaN</td>\n",
       "      <td>ja</td>\n",
       "      <td>NaN</td>\n",
       "    </tr>\n",
       "    <tr>\n",
       "      <th>28</th>\n",
       "      <td>11e6ed343ee4fcf30f8717b698eca87944399ff5e73b32...</td>\n",
       "      <td>common_voice_ja_20721254.mp3</td>\n",
       "      <td>クラスで旅行に出かけました。</td>\n",
       "      <td>2</td>\n",
       "      <td>0</td>\n",
       "      <td>twenties</td>\n",
       "      <td>male</td>\n",
       "      <td>NaN</td>\n",
       "      <td>ja</td>\n",
       "      <td>NaN</td>\n",
       "    </tr>\n",
       "    <tr>\n",
       "      <th>29</th>\n",
       "      <td>11e6ed343ee4fcf30f8717b698eca87944399ff5e73b32...</td>\n",
       "      <td>common_voice_ja_20721273.mp3</td>\n",
       "      <td>彼女は部屋をいつもきれいにしている。</td>\n",
       "      <td>2</td>\n",
       "      <td>0</td>\n",
       "      <td>twenties</td>\n",
       "      <td>male</td>\n",
       "      <td>NaN</td>\n",
       "      <td>ja</td>\n",
       "      <td>NaN</td>\n",
       "    </tr>\n",
       "    <tr>\n",
       "      <th>...</th>\n",
       "      <td>...</td>\n",
       "      <td>...</td>\n",
       "      <td>...</td>\n",
       "      <td>...</td>\n",
       "      <td>...</td>\n",
       "      <td>...</td>\n",
       "      <td>...</td>\n",
       "      <td>...</td>\n",
       "      <td>...</td>\n",
       "      <td>...</td>\n",
       "    </tr>\n",
       "    <tr>\n",
       "      <th>1612</th>\n",
       "      <td>8e5df296063d264ffe317c0ac7828f1ed72e44a975edb1...</td>\n",
       "      <td>common_voice_ja_20190631.mp3</td>\n",
       "      <td>彼女は母親と同様、注意深くはない。</td>\n",
       "      <td>2</td>\n",
       "      <td>0</td>\n",
       "      <td>twenties</td>\n",
       "      <td>male</td>\n",
       "      <td>NaN</td>\n",
       "      <td>ja</td>\n",
       "      <td>NaN</td>\n",
       "    </tr>\n",
       "    <tr>\n",
       "      <th>1613</th>\n",
       "      <td>8e5df296063d264ffe317c0ac7828f1ed72e44a975edb1...</td>\n",
       "      <td>common_voice_ja_20190632.mp3</td>\n",
       "      <td>あした大使館へ行かなければなりません。</td>\n",
       "      <td>2</td>\n",
       "      <td>0</td>\n",
       "      <td>twenties</td>\n",
       "      <td>male</td>\n",
       "      <td>NaN</td>\n",
       "      <td>ja</td>\n",
       "      <td>NaN</td>\n",
       "    </tr>\n",
       "    <tr>\n",
       "      <th>1614</th>\n",
       "      <td>8e5df296063d264ffe317c0ac7828f1ed72e44a975edb1...</td>\n",
       "      <td>common_voice_ja_20190633.mp3</td>\n",
       "      <td>かん詰めは、やや細めの二本のまきを使って引きあげた。</td>\n",
       "      <td>2</td>\n",
       "      <td>0</td>\n",
       "      <td>twenties</td>\n",
       "      <td>male</td>\n",
       "      <td>NaN</td>\n",
       "      <td>ja</td>\n",
       "      <td>NaN</td>\n",
       "    </tr>\n",
       "    <tr>\n",
       "      <th>1615</th>\n",
       "      <td>8e5df296063d264ffe317c0ac7828f1ed72e44a975edb1...</td>\n",
       "      <td>common_voice_ja_20190635.mp3</td>\n",
       "      <td>不倶戴天の敵と言われるほど、どうしてそんなに嫌われたかなあ。</td>\n",
       "      <td>2</td>\n",
       "      <td>0</td>\n",
       "      <td>twenties</td>\n",
       "      <td>male</td>\n",
       "      <td>NaN</td>\n",
       "      <td>ja</td>\n",
       "      <td>NaN</td>\n",
       "    </tr>\n",
       "    <tr>\n",
       "      <th>1616</th>\n",
       "      <td>8e5df296063d264ffe317c0ac7828f1ed72e44a975edb1...</td>\n",
       "      <td>common_voice_ja_20190634.mp3</td>\n",
       "      <td>彼女は彼を恩人だと思っている。</td>\n",
       "      <td>2</td>\n",
       "      <td>0</td>\n",
       "      <td>twenties</td>\n",
       "      <td>male</td>\n",
       "      <td>NaN</td>\n",
       "      <td>ja</td>\n",
       "      <td>NaN</td>\n",
       "    </tr>\n",
       "    <tr>\n",
       "      <th>1617</th>\n",
       "      <td>8e5df296063d264ffe317c0ac7828f1ed72e44a975edb1...</td>\n",
       "      <td>common_voice_ja_20190639.mp3</td>\n",
       "      <td>学校までバスより電車のほうが速いと思います。</td>\n",
       "      <td>2</td>\n",
       "      <td>0</td>\n",
       "      <td>twenties</td>\n",
       "      <td>male</td>\n",
       "      <td>NaN</td>\n",
       "      <td>ja</td>\n",
       "      <td>NaN</td>\n",
       "    </tr>\n",
       "    <tr>\n",
       "      <th>1618</th>\n",
       "      <td>8e5df296063d264ffe317c0ac7828f1ed72e44a975edb1...</td>\n",
       "      <td>common_voice_ja_20190638.mp3</td>\n",
       "      <td>彼女を公平に評価すれば、彼女は不器量ではない。</td>\n",
       "      <td>2</td>\n",
       "      <td>0</td>\n",
       "      <td>twenties</td>\n",
       "      <td>male</td>\n",
       "      <td>NaN</td>\n",
       "      <td>ja</td>\n",
       "      <td>NaN</td>\n",
       "    </tr>\n",
       "    <tr>\n",
       "      <th>1619</th>\n",
       "      <td>8e5df296063d264ffe317c0ac7828f1ed72e44a975edb1...</td>\n",
       "      <td>common_voice_ja_20190637.mp3</td>\n",
       "      <td>府県はフランスや日本の行政区域である。</td>\n",
       "      <td>2</td>\n",
       "      <td>0</td>\n",
       "      <td>twenties</td>\n",
       "      <td>male</td>\n",
       "      <td>NaN</td>\n",
       "      <td>ja</td>\n",
       "      <td>NaN</td>\n",
       "    </tr>\n",
       "    <tr>\n",
       "      <th>1620</th>\n",
       "      <td>8e5df296063d264ffe317c0ac7828f1ed72e44a975edb1...</td>\n",
       "      <td>common_voice_ja_20190641.mp3</td>\n",
       "      <td>父は普通ビールを飲むが、今夜はワインを飲んだ。</td>\n",
       "      <td>2</td>\n",
       "      <td>0</td>\n",
       "      <td>twenties</td>\n",
       "      <td>male</td>\n",
       "      <td>NaN</td>\n",
       "      <td>ja</td>\n",
       "      <td>NaN</td>\n",
       "    </tr>\n",
       "    <tr>\n",
       "      <th>1621</th>\n",
       "      <td>8e5df296063d264ffe317c0ac7828f1ed72e44a975edb1...</td>\n",
       "      <td>common_voice_ja_20190642.mp3</td>\n",
       "      <td>結婚も離婚も、他人からは、有無を言わさず、自分から決定した。</td>\n",
       "      <td>2</td>\n",
       "      <td>0</td>\n",
       "      <td>twenties</td>\n",
       "      <td>male</td>\n",
       "      <td>NaN</td>\n",
       "      <td>ja</td>\n",
       "      <td>NaN</td>\n",
       "    </tr>\n",
       "    <tr>\n",
       "      <th>1622</th>\n",
       "      <td>8e5df296063d264ffe317c0ac7828f1ed72e44a975edb1...</td>\n",
       "      <td>common_voice_ja_20190643.mp3</td>\n",
       "      <td>侮辱されたと感じて彼は怒った。</td>\n",
       "      <td>2</td>\n",
       "      <td>0</td>\n",
       "      <td>twenties</td>\n",
       "      <td>male</td>\n",
       "      <td>NaN</td>\n",
       "      <td>ja</td>\n",
       "      <td>NaN</td>\n",
       "    </tr>\n",
       "    <tr>\n",
       "      <th>1623</th>\n",
       "      <td>8e5df296063d264ffe317c0ac7828f1ed72e44a975edb1...</td>\n",
       "      <td>common_voice_ja_20190645.mp3</td>\n",
       "      <td>父はフランス語の文書を日本語に翻訳した。</td>\n",
       "      <td>2</td>\n",
       "      <td>0</td>\n",
       "      <td>twenties</td>\n",
       "      <td>male</td>\n",
       "      <td>NaN</td>\n",
       "      <td>ja</td>\n",
       "      <td>NaN</td>\n",
       "    </tr>\n",
       "    <tr>\n",
       "      <th>1624</th>\n",
       "      <td>8e5df296063d264ffe317c0ac7828f1ed72e44a975edb1...</td>\n",
       "      <td>common_voice_ja_20190644.mp3</td>\n",
       "      <td>彼女は弁当を持ってくる必要はなかったのに。</td>\n",
       "      <td>2</td>\n",
       "      <td>0</td>\n",
       "      <td>twenties</td>\n",
       "      <td>male</td>\n",
       "      <td>NaN</td>\n",
       "      <td>ja</td>\n",
       "      <td>NaN</td>\n",
       "    </tr>\n",
       "    <tr>\n",
       "      <th>1625</th>\n",
       "      <td>8e5df296063d264ffe317c0ac7828f1ed72e44a975edb1...</td>\n",
       "      <td>common_voice_ja_20190646.mp3</td>\n",
       "      <td>教室に机といすがあります。</td>\n",
       "      <td>2</td>\n",
       "      <td>0</td>\n",
       "      <td>twenties</td>\n",
       "      <td>male</td>\n",
       "      <td>NaN</td>\n",
       "      <td>ja</td>\n",
       "      <td>NaN</td>\n",
       "    </tr>\n",
       "    <tr>\n",
       "      <th>1626</th>\n",
       "      <td>8e5df296063d264ffe317c0ac7828f1ed72e44a975edb1...</td>\n",
       "      <td>common_voice_ja_20190647.mp3</td>\n",
       "      <td>彼女は無邪気なのか羞恥心がないのか。</td>\n",
       "      <td>2</td>\n",
       "      <td>0</td>\n",
       "      <td>twenties</td>\n",
       "      <td>male</td>\n",
       "      <td>NaN</td>\n",
       "      <td>ja</td>\n",
       "      <td>NaN</td>\n",
       "    </tr>\n",
       "    <tr>\n",
       "      <th>1627</th>\n",
       "      <td>8e5df296063d264ffe317c0ac7828f1ed72e44a975edb1...</td>\n",
       "      <td>common_voice_ja_20190650.mp3</td>\n",
       "      <td>彼女は涙をぬぐった。</td>\n",
       "      <td>2</td>\n",
       "      <td>0</td>\n",
       "      <td>twenties</td>\n",
       "      <td>male</td>\n",
       "      <td>NaN</td>\n",
       "      <td>ja</td>\n",
       "      <td>NaN</td>\n",
       "    </tr>\n",
       "    <tr>\n",
       "      <th>1628</th>\n",
       "      <td>8e5df296063d264ffe317c0ac7828f1ed72e44a975edb1...</td>\n",
       "      <td>common_voice_ja_20190649.mp3</td>\n",
       "      <td>複雑炭水化物って何か知ってますか。</td>\n",
       "      <td>2</td>\n",
       "      <td>0</td>\n",
       "      <td>twenties</td>\n",
       "      <td>male</td>\n",
       "      <td>NaN</td>\n",
       "      <td>ja</td>\n",
       "      <td>NaN</td>\n",
       "    </tr>\n",
       "    <tr>\n",
       "      <th>1629</th>\n",
       "      <td>8e5df296063d264ffe317c0ac7828f1ed72e44a975edb1...</td>\n",
       "      <td>common_voice_ja_20190651.mp3</td>\n",
       "      <td>若いとき、よく泳ぎました。</td>\n",
       "      <td>2</td>\n",
       "      <td>0</td>\n",
       "      <td>twenties</td>\n",
       "      <td>male</td>\n",
       "      <td>NaN</td>\n",
       "      <td>ja</td>\n",
       "      <td>NaN</td>\n",
       "    </tr>\n",
       "    <tr>\n",
       "      <th>1630</th>\n",
       "      <td>8e5df296063d264ffe317c0ac7828f1ed72e44a975edb1...</td>\n",
       "      <td>common_voice_ja_20190652.mp3</td>\n",
       "      <td>風がやや衰えた。</td>\n",
       "      <td>2</td>\n",
       "      <td>0</td>\n",
       "      <td>twenties</td>\n",
       "      <td>male</td>\n",
       "      <td>NaN</td>\n",
       "      <td>ja</td>\n",
       "      <td>NaN</td>\n",
       "    </tr>\n",
       "    <tr>\n",
       "      <th>1631</th>\n",
       "      <td>8e5df296063d264ffe317c0ac7828f1ed72e44a975edb1...</td>\n",
       "      <td>common_voice_ja_20190655.mp3</td>\n",
       "      <td>父は自分の仕事が好きです。</td>\n",
       "      <td>2</td>\n",
       "      <td>0</td>\n",
       "      <td>twenties</td>\n",
       "      <td>male</td>\n",
       "      <td>NaN</td>\n",
       "      <td>ja</td>\n",
       "      <td>NaN</td>\n",
       "    </tr>\n",
       "    <tr>\n",
       "      <th>1632</th>\n",
       "      <td>8e5df296063d264ffe317c0ac7828f1ed72e44a975edb1...</td>\n",
       "      <td>common_voice_ja_20190657.mp3</td>\n",
       "      <td>先週は忙しかったので、勉強ができませんでした。</td>\n",
       "      <td>2</td>\n",
       "      <td>0</td>\n",
       "      <td>twenties</td>\n",
       "      <td>male</td>\n",
       "      <td>NaN</td>\n",
       "      <td>ja</td>\n",
       "      <td>NaN</td>\n",
       "    </tr>\n",
       "    <tr>\n",
       "      <th>1633</th>\n",
       "      <td>8e5df296063d264ffe317c0ac7828f1ed72e44a975edb1...</td>\n",
       "      <td>common_voice_ja_20190658.mp3</td>\n",
       "      <td>物価は上がり続けるだろう。</td>\n",
       "      <td>2</td>\n",
       "      <td>0</td>\n",
       "      <td>twenties</td>\n",
       "      <td>male</td>\n",
       "      <td>NaN</td>\n",
       "      <td>ja</td>\n",
       "      <td>NaN</td>\n",
       "    </tr>\n",
       "    <tr>\n",
       "      <th>1634</th>\n",
       "      <td>8e5df296063d264ffe317c0ac7828f1ed72e44a975edb1...</td>\n",
       "      <td>common_voice_ja_20190662.mp3</td>\n",
       "      <td>熱が出るとひきつけを起こすことがあります。</td>\n",
       "      <td>2</td>\n",
       "      <td>0</td>\n",
       "      <td>twenties</td>\n",
       "      <td>male</td>\n",
       "      <td>NaN</td>\n",
       "      <td>ja</td>\n",
       "      <td>NaN</td>\n",
       "    </tr>\n",
       "    <tr>\n",
       "      <th>1635</th>\n",
       "      <td>8e5df296063d264ffe317c0ac7828f1ed72e44a975edb1...</td>\n",
       "      <td>common_voice_ja_20190608.mp3</td>\n",
       "      <td>あの辺に林さんの家があります。</td>\n",
       "      <td>2</td>\n",
       "      <td>0</td>\n",
       "      <td>twenties</td>\n",
       "      <td>male</td>\n",
       "      <td>NaN</td>\n",
       "      <td>ja</td>\n",
       "      <td>NaN</td>\n",
       "    </tr>\n",
       "    <tr>\n",
       "      <th>1636</th>\n",
       "      <td>8e5df296063d264ffe317c0ac7828f1ed72e44a975edb1...</td>\n",
       "      <td>common_voice_ja_20190653.mp3</td>\n",
       "      <td>病気のため、彼は外出できなかった。</td>\n",
       "      <td>2</td>\n",
       "      <td>0</td>\n",
       "      <td>twenties</td>\n",
       "      <td>male</td>\n",
       "      <td>NaN</td>\n",
       "      <td>ja</td>\n",
       "      <td>NaN</td>\n",
       "    </tr>\n",
       "    <tr>\n",
       "      <th>1637</th>\n",
       "      <td>8e5df296063d264ffe317c0ac7828f1ed72e44a975edb1...</td>\n",
       "      <td>common_voice_ja_20190656.mp3</td>\n",
       "      <td>浮浪者は教会での感謝祭の夕食をがつがつ食べた。</td>\n",
       "      <td>2</td>\n",
       "      <td>0</td>\n",
       "      <td>twenties</td>\n",
       "      <td>male</td>\n",
       "      <td>NaN</td>\n",
       "      <td>ja</td>\n",
       "      <td>NaN</td>\n",
       "    </tr>\n",
       "    <tr>\n",
       "      <th>1638</th>\n",
       "      <td>8e5df296063d264ffe317c0ac7828f1ed72e44a975edb1...</td>\n",
       "      <td>common_voice_ja_20190654.mp3</td>\n",
       "      <td>兵士達は警戒しながら国境に向かって進んだ。</td>\n",
       "      <td>2</td>\n",
       "      <td>0</td>\n",
       "      <td>twenties</td>\n",
       "      <td>male</td>\n",
       "      <td>NaN</td>\n",
       "      <td>ja</td>\n",
       "      <td>NaN</td>\n",
       "    </tr>\n",
       "    <tr>\n",
       "      <th>1639</th>\n",
       "      <td>8e5df296063d264ffe317c0ac7828f1ed72e44a975edb1...</td>\n",
       "      <td>common_voice_ja_20190648.mp3</td>\n",
       "      <td>百歳の誕生日の数日前になくなった。</td>\n",
       "      <td>2</td>\n",
       "      <td>0</td>\n",
       "      <td>twenties</td>\n",
       "      <td>male</td>\n",
       "      <td>NaN</td>\n",
       "      <td>ja</td>\n",
       "      <td>NaN</td>\n",
       "    </tr>\n",
       "    <tr>\n",
       "      <th>1640</th>\n",
       "      <td>8e5df296063d264ffe317c0ac7828f1ed72e44a975edb1...</td>\n",
       "      <td>common_voice_ja_20190659.mp3</td>\n",
       "      <td>彼女は野菜と玄米を常食としている。</td>\n",
       "      <td>2</td>\n",
       "      <td>0</td>\n",
       "      <td>twenties</td>\n",
       "      <td>male</td>\n",
       "      <td>NaN</td>\n",
       "      <td>ja</td>\n",
       "      <td>NaN</td>\n",
       "    </tr>\n",
       "    <tr>\n",
       "      <th>1641</th>\n",
       "      <td>8e5df296063d264ffe317c0ac7828f1ed72e44a975edb1...</td>\n",
       "      <td>common_voice_ja_20190661.mp3</td>\n",
       "      <td>彼女は帽子をかぶった。</td>\n",
       "      <td>2</td>\n",
       "      <td>0</td>\n",
       "      <td>twenties</td>\n",
       "      <td>male</td>\n",
       "      <td>NaN</td>\n",
       "      <td>ja</td>\n",
       "      <td>NaN</td>\n",
       "    </tr>\n",
       "  </tbody>\n",
       "</table>\n",
       "<p>1642 rows × 10 columns</p>\n",
       "</div>"
      ],
      "text/plain": [
       "                                              client_id  \\\n",
       "0     11e6ed343ee4fcf30f8717b698eca87944399ff5e73b32...   \n",
       "1     11e6ed343ee4fcf30f8717b698eca87944399ff5e73b32...   \n",
       "2     11e6ed343ee4fcf30f8717b698eca87944399ff5e73b32...   \n",
       "3     11e6ed343ee4fcf30f8717b698eca87944399ff5e73b32...   \n",
       "4     11e6ed343ee4fcf30f8717b698eca87944399ff5e73b32...   \n",
       "5     11e6ed343ee4fcf30f8717b698eca87944399ff5e73b32...   \n",
       "6     11e6ed343ee4fcf30f8717b698eca87944399ff5e73b32...   \n",
       "7     11e6ed343ee4fcf30f8717b698eca87944399ff5e73b32...   \n",
       "8     11e6ed343ee4fcf30f8717b698eca87944399ff5e73b32...   \n",
       "9     11e6ed343ee4fcf30f8717b698eca87944399ff5e73b32...   \n",
       "10    11e6ed343ee4fcf30f8717b698eca87944399ff5e73b32...   \n",
       "11    11e6ed343ee4fcf30f8717b698eca87944399ff5e73b32...   \n",
       "12    11e6ed343ee4fcf30f8717b698eca87944399ff5e73b32...   \n",
       "13    11e6ed343ee4fcf30f8717b698eca87944399ff5e73b32...   \n",
       "14    11e6ed343ee4fcf30f8717b698eca87944399ff5e73b32...   \n",
       "15    11e6ed343ee4fcf30f8717b698eca87944399ff5e73b32...   \n",
       "16    11e6ed343ee4fcf30f8717b698eca87944399ff5e73b32...   \n",
       "17    11e6ed343ee4fcf30f8717b698eca87944399ff5e73b32...   \n",
       "18    11e6ed343ee4fcf30f8717b698eca87944399ff5e73b32...   \n",
       "19    11e6ed343ee4fcf30f8717b698eca87944399ff5e73b32...   \n",
       "20    11e6ed343ee4fcf30f8717b698eca87944399ff5e73b32...   \n",
       "21    11e6ed343ee4fcf30f8717b698eca87944399ff5e73b32...   \n",
       "22    11e6ed343ee4fcf30f8717b698eca87944399ff5e73b32...   \n",
       "23    11e6ed343ee4fcf30f8717b698eca87944399ff5e73b32...   \n",
       "24    11e6ed343ee4fcf30f8717b698eca87944399ff5e73b32...   \n",
       "25    11e6ed343ee4fcf30f8717b698eca87944399ff5e73b32...   \n",
       "26    11e6ed343ee4fcf30f8717b698eca87944399ff5e73b32...   \n",
       "27    11e6ed343ee4fcf30f8717b698eca87944399ff5e73b32...   \n",
       "28    11e6ed343ee4fcf30f8717b698eca87944399ff5e73b32...   \n",
       "29    11e6ed343ee4fcf30f8717b698eca87944399ff5e73b32...   \n",
       "...                                                 ...   \n",
       "1612  8e5df296063d264ffe317c0ac7828f1ed72e44a975edb1...   \n",
       "1613  8e5df296063d264ffe317c0ac7828f1ed72e44a975edb1...   \n",
       "1614  8e5df296063d264ffe317c0ac7828f1ed72e44a975edb1...   \n",
       "1615  8e5df296063d264ffe317c0ac7828f1ed72e44a975edb1...   \n",
       "1616  8e5df296063d264ffe317c0ac7828f1ed72e44a975edb1...   \n",
       "1617  8e5df296063d264ffe317c0ac7828f1ed72e44a975edb1...   \n",
       "1618  8e5df296063d264ffe317c0ac7828f1ed72e44a975edb1...   \n",
       "1619  8e5df296063d264ffe317c0ac7828f1ed72e44a975edb1...   \n",
       "1620  8e5df296063d264ffe317c0ac7828f1ed72e44a975edb1...   \n",
       "1621  8e5df296063d264ffe317c0ac7828f1ed72e44a975edb1...   \n",
       "1622  8e5df296063d264ffe317c0ac7828f1ed72e44a975edb1...   \n",
       "1623  8e5df296063d264ffe317c0ac7828f1ed72e44a975edb1...   \n",
       "1624  8e5df296063d264ffe317c0ac7828f1ed72e44a975edb1...   \n",
       "1625  8e5df296063d264ffe317c0ac7828f1ed72e44a975edb1...   \n",
       "1626  8e5df296063d264ffe317c0ac7828f1ed72e44a975edb1...   \n",
       "1627  8e5df296063d264ffe317c0ac7828f1ed72e44a975edb1...   \n",
       "1628  8e5df296063d264ffe317c0ac7828f1ed72e44a975edb1...   \n",
       "1629  8e5df296063d264ffe317c0ac7828f1ed72e44a975edb1...   \n",
       "1630  8e5df296063d264ffe317c0ac7828f1ed72e44a975edb1...   \n",
       "1631  8e5df296063d264ffe317c0ac7828f1ed72e44a975edb1...   \n",
       "1632  8e5df296063d264ffe317c0ac7828f1ed72e44a975edb1...   \n",
       "1633  8e5df296063d264ffe317c0ac7828f1ed72e44a975edb1...   \n",
       "1634  8e5df296063d264ffe317c0ac7828f1ed72e44a975edb1...   \n",
       "1635  8e5df296063d264ffe317c0ac7828f1ed72e44a975edb1...   \n",
       "1636  8e5df296063d264ffe317c0ac7828f1ed72e44a975edb1...   \n",
       "1637  8e5df296063d264ffe317c0ac7828f1ed72e44a975edb1...   \n",
       "1638  8e5df296063d264ffe317c0ac7828f1ed72e44a975edb1...   \n",
       "1639  8e5df296063d264ffe317c0ac7828f1ed72e44a975edb1...   \n",
       "1640  8e5df296063d264ffe317c0ac7828f1ed72e44a975edb1...   \n",
       "1641  8e5df296063d264ffe317c0ac7828f1ed72e44a975edb1...   \n",
       "\n",
       "                              path                        sentence  up_votes  \\\n",
       "0     common_voice_ja_20720467.mp3                  本屋で旅行の本を買いました。         2   \n",
       "1     common_voice_ja_20720591.mp3                 この花は春になると、咲きます。         2   \n",
       "2     common_voice_ja_20720589.mp3           彼女は夜遅くまで起きているのに慣れている。         2   \n",
       "3     common_voice_ja_20720583.mp3                 木村さんはとても頭がいいです。         2   \n",
       "4     common_voice_ja_20720829.mp3                      彼女は服を片付けた。         2   \n",
       "5     common_voice_ja_20720831.mp3                  彼女は非常に会社に貢献した。         2   \n",
       "6     common_voice_ja_20720860.mp3                 林さんの家には犬と猫がいます。         2   \n",
       "7     common_voice_ja_20720865.mp3                    パンや卵などを食べます。         2   \n",
       "8     common_voice_ja_20720866.mp3                     彼女は老人に親切です。         2   \n",
       "9     common_voice_ja_20720967.mp3               サッカーより野球のほうが好きです。         2   \n",
       "10    common_voice_ja_20721015.mp3             教室に新しいコンピューターがあります。         2   \n",
       "11    common_voice_ja_20721047.mp3                 父は僕の宿題を見るのに忙しい。         2   \n",
       "12    common_voice_ja_20721064.mp3                   日本語の教室はどこですか。         2   \n",
       "13    common_voice_ja_20721075.mp3                  これはわたしの家のかぎです。         2   \n",
       "14    common_voice_ja_20721088.mp3                  この問題はとても易しいです。         2   \n",
       "15    common_voice_ja_20721098.mp3                 貧乏にもピンからキリまである。         2   \n",
       "16    common_voice_ja_20721101.mp3                彼女は病院までタクシーに乗った。         2   \n",
       "17    common_voice_ja_20721106.mp3                彼女は幼くて学校には行けません。         2   \n",
       "18    common_voice_ja_20721109.mp3                物理学は基本的な自然科学である。         2   \n",
       "19    common_voice_ja_20721100.mp3                       どんな映画ですか。         2   \n",
       "20    common_voice_ja_20721119.mp3                        彼は腹をたてた。         2   \n",
       "21    common_voice_ja_20721115.mp3                 木村さんはどっちが好きですか。         2   \n",
       "22    common_voice_ja_20721133.mp3               文の前後関係から単語の意味を知る。         2   \n",
       "23    common_voice_ja_20721186.mp3                   物語の結末はどうでしたか。         2   \n",
       "24    common_voice_ja_20721203.mp3                  富子は私の体重を言い当てた。         2   \n",
       "25    common_voice_ja_20721218.mp3                  海で大勢の人が泳いでいます。         2   \n",
       "26    common_voice_ja_20721235.mp3               父は私にカメラを買ってくれました。         2   \n",
       "27    common_voice_ja_20721249.mp3                  彼女は本当にここへ来たんだ。         2   \n",
       "28    common_voice_ja_20721254.mp3                  クラスで旅行に出かけました。         2   \n",
       "29    common_voice_ja_20721273.mp3              彼女は部屋をいつもきれいにしている。         2   \n",
       "...                            ...                             ...       ...   \n",
       "1612  common_voice_ja_20190631.mp3               彼女は母親と同様、注意深くはない。         2   \n",
       "1613  common_voice_ja_20190632.mp3             あした大使館へ行かなければなりません。         2   \n",
       "1614  common_voice_ja_20190633.mp3      かん詰めは、やや細めの二本のまきを使って引きあげた。         2   \n",
       "1615  common_voice_ja_20190635.mp3  不倶戴天の敵と言われるほど、どうしてそんなに嫌われたかなあ。         2   \n",
       "1616  common_voice_ja_20190634.mp3                 彼女は彼を恩人だと思っている。         2   \n",
       "1617  common_voice_ja_20190639.mp3          学校までバスより電車のほうが速いと思います。         2   \n",
       "1618  common_voice_ja_20190638.mp3         彼女を公平に評価すれば、彼女は不器量ではない。         2   \n",
       "1619  common_voice_ja_20190637.mp3             府県はフランスや日本の行政区域である。         2   \n",
       "1620  common_voice_ja_20190641.mp3         父は普通ビールを飲むが、今夜はワインを飲んだ。         2   \n",
       "1621  common_voice_ja_20190642.mp3  結婚も離婚も、他人からは、有無を言わさず、自分から決定した。         2   \n",
       "1622  common_voice_ja_20190643.mp3                 侮辱されたと感じて彼は怒った。         2   \n",
       "1623  common_voice_ja_20190645.mp3            父はフランス語の文書を日本語に翻訳した。         2   \n",
       "1624  common_voice_ja_20190644.mp3           彼女は弁当を持ってくる必要はなかったのに。         2   \n",
       "1625  common_voice_ja_20190646.mp3                   教室に机といすがあります。         2   \n",
       "1626  common_voice_ja_20190647.mp3              彼女は無邪気なのか羞恥心がないのか。         2   \n",
       "1627  common_voice_ja_20190650.mp3                      彼女は涙をぬぐった。         2   \n",
       "1628  common_voice_ja_20190649.mp3               複雑炭水化物って何か知ってますか。         2   \n",
       "1629  common_voice_ja_20190651.mp3                   若いとき、よく泳ぎました。         2   \n",
       "1630  common_voice_ja_20190652.mp3                        風がやや衰えた。         2   \n",
       "1631  common_voice_ja_20190655.mp3                   父は自分の仕事が好きです。         2   \n",
       "1632  common_voice_ja_20190657.mp3         先週は忙しかったので、勉強ができませんでした。         2   \n",
       "1633  common_voice_ja_20190658.mp3                   物価は上がり続けるだろう。         2   \n",
       "1634  common_voice_ja_20190662.mp3           熱が出るとひきつけを起こすことがあります。         2   \n",
       "1635  common_voice_ja_20190608.mp3                 あの辺に林さんの家があります。         2   \n",
       "1636  common_voice_ja_20190653.mp3               病気のため、彼は外出できなかった。         2   \n",
       "1637  common_voice_ja_20190656.mp3         浮浪者は教会での感謝祭の夕食をがつがつ食べた。         2   \n",
       "1638  common_voice_ja_20190654.mp3           兵士達は警戒しながら国境に向かって進んだ。         2   \n",
       "1639  common_voice_ja_20190648.mp3               百歳の誕生日の数日前になくなった。         2   \n",
       "1640  common_voice_ja_20190659.mp3               彼女は野菜と玄米を常食としている。         2   \n",
       "1641  common_voice_ja_20190661.mp3                     彼女は帽子をかぶった。         2   \n",
       "\n",
       "      down_votes       age gender  accent locale  segment  \n",
       "0              0  twenties   male     NaN     ja      NaN  \n",
       "1              0  twenties   male     NaN     ja      NaN  \n",
       "2              1  twenties   male     NaN     ja      NaN  \n",
       "3              0  twenties   male     NaN     ja      NaN  \n",
       "4              0  twenties   male     NaN     ja      NaN  \n",
       "5              0  twenties   male     NaN     ja      NaN  \n",
       "6              0  twenties   male     NaN     ja      NaN  \n",
       "7              0  twenties   male     NaN     ja      NaN  \n",
       "8              1  twenties   male     NaN     ja      NaN  \n",
       "9              0  twenties   male     NaN     ja      NaN  \n",
       "10             0  twenties   male     NaN     ja      NaN  \n",
       "11             0  twenties   male     NaN     ja      NaN  \n",
       "12             0  twenties   male     NaN     ja      NaN  \n",
       "13             0  twenties   male     NaN     ja      NaN  \n",
       "14             0  twenties   male     NaN     ja      NaN  \n",
       "15             0  twenties   male     NaN     ja      NaN  \n",
       "16             0  twenties   male     NaN     ja      NaN  \n",
       "17             0  twenties   male     NaN     ja      NaN  \n",
       "18             0  twenties   male     NaN     ja      NaN  \n",
       "19             0  twenties   male     NaN     ja      NaN  \n",
       "20             1  twenties   male     NaN     ja      NaN  \n",
       "21             0  twenties   male     NaN     ja      NaN  \n",
       "22             0  twenties   male     NaN     ja      NaN  \n",
       "23             0  twenties   male     NaN     ja      NaN  \n",
       "24             0  twenties   male     NaN     ja      NaN  \n",
       "25             0  twenties   male     NaN     ja      NaN  \n",
       "26             0  twenties   male     NaN     ja      NaN  \n",
       "27             0  twenties   male     NaN     ja      NaN  \n",
       "28             0  twenties   male     NaN     ja      NaN  \n",
       "29             0  twenties   male     NaN     ja      NaN  \n",
       "...          ...       ...    ...     ...    ...      ...  \n",
       "1612           0  twenties   male     NaN     ja      NaN  \n",
       "1613           0  twenties   male     NaN     ja      NaN  \n",
       "1614           0  twenties   male     NaN     ja      NaN  \n",
       "1615           0  twenties   male     NaN     ja      NaN  \n",
       "1616           0  twenties   male     NaN     ja      NaN  \n",
       "1617           0  twenties   male     NaN     ja      NaN  \n",
       "1618           0  twenties   male     NaN     ja      NaN  \n",
       "1619           0  twenties   male     NaN     ja      NaN  \n",
       "1620           0  twenties   male     NaN     ja      NaN  \n",
       "1621           0  twenties   male     NaN     ja      NaN  \n",
       "1622           0  twenties   male     NaN     ja      NaN  \n",
       "1623           0  twenties   male     NaN     ja      NaN  \n",
       "1624           0  twenties   male     NaN     ja      NaN  \n",
       "1625           0  twenties   male     NaN     ja      NaN  \n",
       "1626           0  twenties   male     NaN     ja      NaN  \n",
       "1627           0  twenties   male     NaN     ja      NaN  \n",
       "1628           0  twenties   male     NaN     ja      NaN  \n",
       "1629           0  twenties   male     NaN     ja      NaN  \n",
       "1630           0  twenties   male     NaN     ja      NaN  \n",
       "1631           0  twenties   male     NaN     ja      NaN  \n",
       "1632           0  twenties   male     NaN     ja      NaN  \n",
       "1633           0  twenties   male     NaN     ja      NaN  \n",
       "1634           0  twenties   male     NaN     ja      NaN  \n",
       "1635           0  twenties   male     NaN     ja      NaN  \n",
       "1636           0  twenties   male     NaN     ja      NaN  \n",
       "1637           0  twenties   male     NaN     ja      NaN  \n",
       "1638           0  twenties   male     NaN     ja      NaN  \n",
       "1639           0  twenties   male     NaN     ja      NaN  \n",
       "1640           0  twenties   male     NaN     ja      NaN  \n",
       "1641           0  twenties   male     NaN     ja      NaN  \n",
       "\n",
       "[1642 rows x 10 columns]"
      ]
     },
     "execution_count": 12,
     "metadata": {},
     "output_type": "execute_result"
    }
   ],
   "source": [
    "df = pd.read_csv(txt_file,sep='\\t')\n",
    "df"
   ]
  },
  {
   "cell_type": "code",
   "execution_count": 13,
   "metadata": {},
   "outputs": [
    {
     "data": {
      "text/plain": [
       "['Mozilla/ja/validated.tsv',\n",
       " 'Mozilla/ja/reported.tsv',\n",
       " 'Mozilla/ja/dev.tsv',\n",
       " 'Mozilla/ja/train.tsv',\n",
       " 'Mozilla/ja/invalidated.tsv',\n",
       " 'Mozilla/ja/test.tsv',\n",
       " 'Mozilla/ja/other.tsv']"
      ]
     },
     "execution_count": 13,
     "metadata": {},
     "output_type": "execute_result"
    }
   ],
   "source": [
    "txt_file_list_all = glob.glob(\"Mozilla/ja/*.tsv\")\n",
    "txt_file_list_all"
   ]
  },
  {
   "cell_type": "code",
   "execution_count": 14,
   "metadata": {},
   "outputs": [
    {
     "data": {
      "text/plain": [
       "['Mozilla/ja/validated.tsv',\n",
       " 'Mozilla/ja/dev.tsv',\n",
       " 'Mozilla/ja/train.tsv',\n",
       " 'Mozilla/ja/invalidated.tsv',\n",
       " 'Mozilla/ja/other.tsv']"
      ]
     },
     "execution_count": 14,
     "metadata": {},
     "output_type": "execute_result"
    }
   ],
   "source": [
    "txt_file_list_all.remove('Mozilla/ja/test.tsv')\n",
    "txt_file_list_all.remove('Mozilla/ja/reported.tsv')\n",
    "\n",
    "txt_file_list = txt_file_list_all\n",
    "txt_file_list "
   ]
  },
  {
   "cell_type": "code",
   "execution_count": 15,
   "metadata": {},
   "outputs": [],
   "source": [
    "df_list = []\n",
    "for txt_file in txt_file_list:\n",
    "    df = pd.read_csv(txt_file,sep='\\t')\n",
    "    df_list.append(df)\n",
    "df_sum = pd.concat(df_list)"
   ]
  },
  {
   "cell_type": "code",
   "execution_count": 16,
   "metadata": {},
   "outputs": [
    {
     "data": {
      "text/plain": [
       "0    725\n",
       "Name: up_votes, dtype: int64"
      ]
     },
     "execution_count": 16,
     "metadata": {},
     "output_type": "execute_result"
    }
   ],
   "source": [
    "df.loc[:,'up_votes'].value_counts()"
   ]
  },
  {
   "cell_type": "code",
   "execution_count": 17,
   "metadata": {
    "scrolled": false
   },
   "outputs": [
    {
     "data": {
      "text/plain": [
       "0    725\n",
       "Name: down_votes, dtype: int64"
      ]
     },
     "execution_count": 17,
     "metadata": {},
     "output_type": "execute_result"
    }
   ],
   "source": [
    "df.loc[:,'down_votes'].value_counts()"
   ]
  },
  {
   "cell_type": "code",
   "execution_count": 18,
   "metadata": {},
   "outputs": [
    {
     "data": {
      "text/plain": [
       "2     8762\n",
       "0     1955\n",
       "1      164\n",
       "8      102\n",
       "7       85\n",
       "3       34\n",
       "9       22\n",
       "6        9\n",
       "5        2\n",
       "10       2\n",
       "4        1\n",
       "Name: up_votes, dtype: int64"
      ]
     },
     "execution_count": 18,
     "metadata": {},
     "output_type": "execute_result"
    }
   ],
   "source": [
    "df_sum.loc[:,'up_votes'].value_counts()"
   ]
  },
  {
   "cell_type": "code",
   "execution_count": 19,
   "metadata": {},
   "outputs": [
    {
     "data": {
      "text/plain": [
       "0     9286\n",
       "2     1391\n",
       "1      455\n",
       "3        5\n",
       "10       1\n",
       "Name: down_votes, dtype: int64"
      ]
     },
     "execution_count": 19,
     "metadata": {},
     "output_type": "execute_result"
    }
   ],
   "source": [
    "df_sum.loc[:,'down_votes'].value_counts()"
   ]
  },
  {
   "cell_type": "code",
   "execution_count": 20,
   "metadata": {
    "collapsed": true
   },
   "outputs": [
    {
     "data": {
      "text/plain": [
       "11e6ed343ee4fcf30f8717b698eca87944399ff5e73b32d65a5d568adefd7f996c9051a562dd8d4faf14ebd9b46faba3b3b4104b4fd974b7b95627c598e4b68d    1593\n",
       "8e5df296063d264ffe317c0ac7828f1ed72e44a975edb144a42cc873b67cd6718530fff0a595cd07ab437fdd8164f840287e987d5bf4f05dcba9fad6274267ac    1289\n",
       "51e9ed35447037faf8743d586cdb3e1ec9f5c36145456d83cad5e923288fd71278ff6fc1d932eb62a8693da3a224ac54418f66c8577dfa57bbc8a4f3497fe700    1221\n",
       "b067e4a64d0c78c7c24b8eb93f9efc165121f9281fa6c31386d872529c2951a5a1f144ee8e5679c1bd41003695583b1c341de7d67fea995d584b5724b91ce984     656\n",
       "60dd57f5407b98da0fa6c22506c3ccd7ad4e57ef949808d385b447f0e2b210f1c546ed55a6877145c95d807178c13df7577dbaac55015e60d76273cb2a715ea5     589\n",
       "c26b5026d43709b6b49e3d5ef6a8805d0bf166e3d2f64b47581e24e9ea1a79cb066da370916090a4c758b4723d8d2fbee2be7e5760cf23bf7e5f13e03c6bac4f     450\n",
       "b7163b95f7dfc60b56cea7b0f7e9ab23f80b52635b29826bf868c1a3b84f752c440f455bf3b856f68a6dab3d3d64e2de81889c68d2401c6cdca24db1b117347f     376\n",
       "ae366c54d8ae632ccd1098f7d9462913e0b7688c1f7ed3cbf6f3da6ec93b61f007fc59b1abf1f076ff9aa64b50266c5c638d967da8e51f28517ffa0b27aedd5d     330\n",
       "1ef414c9abc5c39e7e5c135c9de36bbfd009f3e14be0d3e05cb0a36d07e60576d86def828d8c976460126dddc1a1bacfaa469b11a421c813d5443a33e198c66b     329\n",
       "939991dfcf12d8250739f3b4e5ed47e0dc4bf8ffb69810f4ab853aa12872a811941be35b7e91af5df8350d75d3c61d1301aba694c41deb3f38f1414703bc0461     274\n",
       "2d928c67f344b5f47839839d08277137da3365c84393a5840a70cada5777fcc74ff69c96720bd4b18eb982f3c3a82f8c849e7acb983216eac72503e9fe1d81f9     248\n",
       "0cc7b395b5ca1a1659962810023082b9726a05ca35c70ae47870857e08bde2f890398009c40a9525d625242d4b296291ba2913a7d920227b816faf482e847202     210\n",
       "185c69f6cb07937060f7651deb580bddc412b91987222554b9dc5bcbb27b0114964f2c46583e8fa1a464ad0fd5542de91f19263a077977b319ec5718ba8af4fc     177\n",
       "0db48cd4edad696ab2a7148f0937920c54d6e17bb3794846c8200d1c929d5f66a7b792182c706ea5226125056947fef47218ea52058f08ab67ee789bdc9451fb     176\n",
       "73cce112db9502b77d2765e9dce7fd44bd7c925789f5a5c4f95d05f88a7d48ae91d2f553b914e7680d0c4bfb70538e7f0e0fdee5145c475a796ae2cd7b696aa2     163\n",
       "ebf973c89d6a841662afcc1e896f3d9895d502f377a42ab4087ffff007824481bdccb584ee32085dc007e0c7689a181117e6c1ac5c6e4bf7d39d3b7bdc5e5992     163\n",
       "c80a9b61d1b5f36cd23da37332ca6559fe602db2a67df8f408708ea6fa3fdf289f41a9c9587cddbe67cb469af17fba9c0d5db1bb4ef1a3e5a7918625aecd6d95     162\n",
       "782ec7b338418a4966cc49ae09265d258705091874fb4d3a7fc76c9541738a997af0f51e9ef6045dc01874a060b482c7adfbfff2a51b50fa8d03764248956d48     147\n",
       "c1ce857360e10c8727a8b87e1fc3c7a50c5389ea134a7dad1dd903cbdd7f7930a6041505d3fdffcf5d922661d4fd352160d0b4eff706b605899a06c78964bd99     146\n",
       "af6e55c0691032cd0ad4fe6198ad749bfa4dcfa7424d95e9d386db48235d6d68088407ec2f11fb9807d4aec2c2d363d02a8d36059648fe15b0e0bfe0c74e1f3b     145\n",
       "32a3e167dc3206a68fd07d47885a723661c52f68b14b0081e800ae12a02e91b2670dd72d8ae3531877829abb66eff79045d4a13eac09a66b01758cc4819257ee     123\n",
       "5ccd151b6c8adb14452960ab0763ce25872fa24b8dedbcf1ae008707ffe826ecd2e2ad77eb426f5f9a1fa671e13dfeecd84f3e96dffbad8979ffb996129b8bd9     107\n",
       "56d021ca8c3a8e0d28b57a0a4b99ebc97dcfd78ee990530305f230f66bdbf4208a1028590a555e7b00803ff8ddb12b8c3dc7edf104e8747959af55af9dc9b127     107\n",
       "9bb3533bca858ff4bf95474d23d3713917ef2c862d826133e33557ba15d717a3b1b6337c7923530b1fd18c63ae737c423ba6485d7cd481d373f10a72b90a4e71      65\n",
       "dab60ebe7cd559ff07ff84bccf018b9aa9c2b9770a5e9b80e8dc96c98ef540052d5bfd25949b9689f031ffc1142d60b7a5ab89257857ea62b8c1b6d572303857      65\n",
       "d6e410175209d8bc5e01c3cb8f525fa4ca988e879e3961ce02a172887b42321642a95525b1e0c23dad1a0ebed0c102e20c4b2967d668bfb34b69cbfc1c8ea983      58\n",
       "d4bc178bb941737b69ee6cb7ef07e58862687f54bcbcf6c02fc8907ed0c9f91c7fe5f3bbd039468ed6c68d99789e35141fe79baf6fc56f0925ab4a59e13c5d61      55\n",
       "02b843dfc0e3791fa4014394027cb18997b9a9faa000f4a7f0f8d62dce750d3a432e4be0cdccb82d4d0e91ae2e387b06f05d8d30654c836433a665f32bd03e86      50\n",
       "917a409b094daca8420a988fc16d8367acd1958b275c5330f78147dd1a3c01e234c2fd14decaa29b59b671bd9caff641c4f84618456aa4ab1494edae625d4a1b      50\n",
       "e28bc7437b55fb871d5b26b39d63fb798bf0b40c4d88d6f9fe1fa254652d0665718cbbd8d83627dbc61f84261340f40fecbf7a4a40db31f1baa203047eedaeb3      50\n",
       "                                                                                                                                    ... \n",
       "56ada357f7218d08f5e055cda85b81ac58307229d66449aef970c20cf4d799a4bedce5209d8af650f7788e827298606db74c436d8d8e82cc44dddb8c75e7aa60       5\n",
       "8bc08dbdd87beaa65ca0fd6b8b1f447c41eae617633b9460c6354afa359f68038e9cac8e029da4689a0882f459ce1932a126520a3e33db92b087c4e5c95d13a8       4\n",
       "e0509c56e3f2844a433a78177d7a8c77b64aad8d592c4135dbb94956a7a991af8d728d2836d9e92916d4e82b2a92faf2bfe86f16dd344a80022e31e6a8b26731       2\n",
       "c6db82184d078f118a5916a5d47de9c125be2adf65cf0c254b5dfa86d0d92c041e2ee3314eab4ba1f3f03625a22145cd284cb21a2d77e44696b329e8a2418a8d       2\n",
       "ae98068a37f37297284c6a111d2284e36f1b997b0c22b3d009dab19939e5da3d0b5efac5978ea41dbbf7c4f08c204d6a0ede0a8f9ef6a2910ccfa211d5773e14       2\n",
       "6c2b1130c2bc95dd93ee9edca0f4550951e14e09123bd0bd7ea91b1d3261ec88d952d1e191cd6db834593c38836508e30279247b4f04acaf4bbecec9132c433e       2\n",
       "09c89486ee212064099fa0be8dbc1e659088d2fa1bcc79653e42675c7c7970ae518575897ba9d2648d7de425278df4f3e02b7950e3444493db411994fb346a5b       1\n",
       "3758b3bbef15fb2c466716ef0c543ba6b44c50b8139467f968cf5813768548efee5819c20577fea62d23b59c49a0d713fc5f5bb01c4b2c76ef43bb2a2385059d       1\n",
       "bbd52392d5e56274b42be039b84bb5bcb625406e4d81fc8a16a0fc644043b98846c4375ef19f9ec28582322debd9d8d840ebcf18fba0741a7d6d75ddb18f7e33       1\n",
       "8b626a4e9ac749620f0963e7898eb0f35b6d827c7d4bd4db4446c92373e4a1e7ef70e3228fcacedbc971be919a39600e814d3476b5f0d659d511855cc5094468       1\n",
       "84b2e497ddfcc3cd7e7c9652cb9d673b3e109c0b79be1e1b7556a48f68f6852422fa259f3d9dbc533cf9f6e7870e5643558fcff57b0a339caf4690c3c60d9aed       1\n",
       "3726098dc7f16ff729bd0410055b7faa760791d2fb477f70785ba91b6ab890855c697aa4d3a68bda0e6b9268df091b8222e7e7d86fffb2a884ceaaa675071067       1\n",
       "425f5a46e995ededc3a866f25ac1b5adba06f4ae991d1e33b273dba4f4a48f9286f0c817f98f1fd2b1395dc3385a0f1f5f4bcc966c84c8ef10fbd052b949cf87       1\n",
       "c1550c98cd768e824a7394ede788232a3665e4fd5a0fd5dc3a51204639847302fbb38d40b0164ce1378dc8be6676b6980c67e287a82dfb89d324b7407a71f1ee       1\n",
       "27b189f01324a3b25e8e2ed1c788a2008cc087b4adf71e64870ce0bc23cb3e4ac7e53f63561d8ca9fe81e3efea83dc29e89340b6cd957e771e6e7bb1e732c580       1\n",
       "6c5627134dec2f73824b0a370b42e48aa4b61aefe4a2ee518380e09fe7df39e3220033dfb371833b50cfe30f95d2520f80d7fab7d43903356f939d5649a7d561       1\n",
       "0cdb44fb23620b09305bc466005882b864f1e6fc7d48a3b29d0d954fa1f045e04a4a93a19890d3f37e9f7f78e934a3390b0bdb8cdf06aca05a19727ee6e8397a       1\n",
       "8d15a5cf215278a9869edb9801b26ef35a7e588077d2b2ee7d4cea75c7187469100c9c1df5dfcf678f9be42399188d703c3a5d0aa56c4bc0a4f72458103db630       1\n",
       "3e464d3418d294a36b3a118b8c3c58b57189ad105c75b2123c44d45070488edf00ba0a352e9c2e3ca5407353984251bfaa89308d3c6cc71d6eeb6dcca8ff787e       1\n",
       "6ef3526cdbe5773c8bcfeea7200469067786e3940a5552c10a6f2fbfffc054f5a938ff3ecd8222c4da76f48666949d83863856116c44ebd2c701ae5de2bc608f       1\n",
       "9a0445b34bb2ab0f4293de9047887fafafc3b320656375f8e9f3ec6ef52c080477dc2899ea0221f5df18d2b87beaf4af2c069572c3eab0d994df70b746eea3be       1\n",
       "df110f77fe310cbf01e7ccb6e3d23fdfcb147f6011d211f346497b6ab4e0731796de5484329ac322c694629e1c0b14f4b2d7b859bd6223f2a26f8bc5d8a2459d       1\n",
       "36c7d30c70327ce784b362e406da3ffea4abbc9dd58b83abf9db26e9cd0e38f89c700713b3f0cb7b28f834a3416a0808a0bcc9660af7621576cab65e0c5ddd46       1\n",
       "c99568fc43af06f8602ebf28da2c697d23f39acfe5c0777d95875e20b31129d62d64b146a067ea065a4dd70b54dc162256d0c2326e491952d49d04d2fdd9d4d9       1\n",
       "087edae49ce1e0f600682ceccc7fc28e81e64ae890e647f5cae8940617c32f67f08309aeb5d339d66e072c348d1ae678756c0d2a1892ed8a99ac144f15663f4e       1\n",
       "4d037df65974988a11e23c8b1a853f70d3f02607bc3a9a453087ab4e47dbeec1e873c00adf129490de5f4ef6c8cb50eadac7a4b9d6c0265fdfb5ffbc050a3d96       1\n",
       "a23f4a2c6a568f78e9a58e517428a2581a1099d3606d8ba85d94a22c660fc5ef5f7c9e0608a6e1d9e66f74d410ccea5e9f5a898cb2237220aba5e415f7c12e1e       1\n",
       "a80da3c133ee9ec0719d8d3c5a992211fe67d9a645adf329b566b8b087fc86ac678cf44ed5c802b9f71df98cc30fddfb3bdb1e8c3dacf08016c3377a9becdde1       1\n",
       "83d48b59a49ae68523c5fffb01776ca86de488f06516d4662975e200a7a82afe7335e1e1b78e1eacbc3057fc17e2eafc69bedb47cbfa680fee224f28f9a3dda0       1\n",
       "dc4c7cb2b4b1baac5d54235744d1f7a707ea147492120c8eb8786034679dc881d2b12ed08ff9f1abbe2c8898915f7610b9406433a085e1ff3e9fcd58c8a8a80e       1\n",
       "Name: client_id, Length: 194, dtype: int64"
      ]
     },
     "execution_count": 20,
     "metadata": {},
     "output_type": "execute_result"
    }
   ],
   "source": [
    "df_sum.loc[:,'client_id'].value_counts()"
   ]
  },
  {
   "cell_type": "code",
   "execution_count": 21,
   "metadata": {
    "collapsed": true
   },
   "outputs": [
    {
     "data": {
      "text/html": [
       "<div>\n",
       "<style scoped>\n",
       "    .dataframe tbody tr th:only-of-type {\n",
       "        vertical-align: middle;\n",
       "    }\n",
       "\n",
       "    .dataframe tbody tr th {\n",
       "        vertical-align: top;\n",
       "    }\n",
       "\n",
       "    .dataframe thead th {\n",
       "        text-align: right;\n",
       "    }\n",
       "</style>\n",
       "<table border=\"1\" class=\"dataframe\">\n",
       "  <thead>\n",
       "    <tr style=\"text-align: right;\">\n",
       "      <th></th>\n",
       "      <th>client_id</th>\n",
       "      <th>path</th>\n",
       "      <th>sentence</th>\n",
       "      <th>up_votes</th>\n",
       "      <th>down_votes</th>\n",
       "      <th>age</th>\n",
       "      <th>gender</th>\n",
       "      <th>accent</th>\n",
       "      <th>locale</th>\n",
       "      <th>segment</th>\n",
       "    </tr>\n",
       "  </thead>\n",
       "  <tbody>\n",
       "    <tr>\n",
       "      <th>0</th>\n",
       "      <td>da263649c681c6c5a50a5dc6252c3cc394baa2246f0c72...</td>\n",
       "      <td>common_voice_ja_22384698.mp3</td>\n",
       "      <td>このタイプの人間が、一番多量の仕事をする。</td>\n",
       "      <td>0</td>\n",
       "      <td>0</td>\n",
       "      <td>twenties</td>\n",
       "      <td>female</td>\n",
       "      <td>NaN</td>\n",
       "      <td>ja</td>\n",
       "      <td>NaN</td>\n",
       "    </tr>\n",
       "    <tr>\n",
       "      <th>1</th>\n",
       "      <td>da263649c681c6c5a50a5dc6252c3cc394baa2246f0c72...</td>\n",
       "      <td>common_voice_ja_22384696.mp3</td>\n",
       "      <td>部屋を替えていただけますか。</td>\n",
       "      <td>0</td>\n",
       "      <td>0</td>\n",
       "      <td>twenties</td>\n",
       "      <td>female</td>\n",
       "      <td>NaN</td>\n",
       "      <td>ja</td>\n",
       "      <td>NaN</td>\n",
       "    </tr>\n",
       "    <tr>\n",
       "      <th>2</th>\n",
       "      <td>5ccd151b6c8adb14452960ab0763ce25872fa24b8dedbc...</td>\n",
       "      <td>common_voice_ja_22392991.mp3</td>\n",
       "      <td>いつも朝八時の電車に乗ります。</td>\n",
       "      <td>0</td>\n",
       "      <td>0</td>\n",
       "      <td>twenties</td>\n",
       "      <td>female</td>\n",
       "      <td>NaN</td>\n",
       "      <td>ja</td>\n",
       "      <td>NaN</td>\n",
       "    </tr>\n",
       "    <tr>\n",
       "      <th>3</th>\n",
       "      <td>5ccd151b6c8adb14452960ab0763ce25872fa24b8dedbc...</td>\n",
       "      <td>common_voice_ja_22392986.mp3</td>\n",
       "      <td>山田さんは目が悪いので、眼鏡をかけています。</td>\n",
       "      <td>0</td>\n",
       "      <td>0</td>\n",
       "      <td>twenties</td>\n",
       "      <td>female</td>\n",
       "      <td>NaN</td>\n",
       "      <td>ja</td>\n",
       "      <td>NaN</td>\n",
       "    </tr>\n",
       "    <tr>\n",
       "      <th>4</th>\n",
       "      <td>5ccd151b6c8adb14452960ab0763ce25872fa24b8dedbc...</td>\n",
       "      <td>common_voice_ja_22392985.mp3</td>\n",
       "      <td>あの会社は車を作っています。</td>\n",
       "      <td>0</td>\n",
       "      <td>0</td>\n",
       "      <td>twenties</td>\n",
       "      <td>female</td>\n",
       "      <td>NaN</td>\n",
       "      <td>ja</td>\n",
       "      <td>NaN</td>\n",
       "    </tr>\n",
       "    <tr>\n",
       "      <th>5</th>\n",
       "      <td>5ccd151b6c8adb14452960ab0763ce25872fa24b8dedbc...</td>\n",
       "      <td>common_voice_ja_22392989.mp3</td>\n",
       "      <td>膝の上にナプキンを広げなさい。</td>\n",
       "      <td>0</td>\n",
       "      <td>0</td>\n",
       "      <td>twenties</td>\n",
       "      <td>female</td>\n",
       "      <td>NaN</td>\n",
       "      <td>ja</td>\n",
       "      <td>NaN</td>\n",
       "    </tr>\n",
       "    <tr>\n",
       "      <th>6</th>\n",
       "      <td>5ccd151b6c8adb14452960ab0763ce25872fa24b8dedbc...</td>\n",
       "      <td>common_voice_ja_22392988.mp3</td>\n",
       "      <td>必ず辞書を自分の横に置いて起きなさい。</td>\n",
       "      <td>0</td>\n",
       "      <td>0</td>\n",
       "      <td>twenties</td>\n",
       "      <td>female</td>\n",
       "      <td>NaN</td>\n",
       "      <td>ja</td>\n",
       "      <td>NaN</td>\n",
       "    </tr>\n",
       "    <tr>\n",
       "      <th>7</th>\n",
       "      <td>5ccd151b6c8adb14452960ab0763ce25872fa24b8dedbc...</td>\n",
       "      <td>common_voice_ja_22392987.mp3</td>\n",
       "      <td>不思議なことに、結局彼は本当に試験に合格した。</td>\n",
       "      <td>0</td>\n",
       "      <td>0</td>\n",
       "      <td>twenties</td>\n",
       "      <td>female</td>\n",
       "      <td>NaN</td>\n",
       "      <td>ja</td>\n",
       "      <td>NaN</td>\n",
       "    </tr>\n",
       "    <tr>\n",
       "      <th>8</th>\n",
       "      <td>5ccd151b6c8adb14452960ab0763ce25872fa24b8dedbc...</td>\n",
       "      <td>common_voice_ja_22392992.mp3</td>\n",
       "      <td>平和と安全を切望しない人はいない。</td>\n",
       "      <td>0</td>\n",
       "      <td>0</td>\n",
       "      <td>twenties</td>\n",
       "      <td>female</td>\n",
       "      <td>NaN</td>\n",
       "      <td>ja</td>\n",
       "      <td>NaN</td>\n",
       "    </tr>\n",
       "    <tr>\n",
       "      <th>9</th>\n",
       "      <td>5ccd151b6c8adb14452960ab0763ce25872fa24b8dedbc...</td>\n",
       "      <td>common_voice_ja_22392994.mp3</td>\n",
       "      <td>部屋にはたくさんの少女がいる。</td>\n",
       "      <td>0</td>\n",
       "      <td>0</td>\n",
       "      <td>twenties</td>\n",
       "      <td>female</td>\n",
       "      <td>NaN</td>\n",
       "      <td>ja</td>\n",
       "      <td>NaN</td>\n",
       "    </tr>\n",
       "    <tr>\n",
       "      <th>10</th>\n",
       "      <td>5ccd151b6c8adb14452960ab0763ce25872fa24b8dedbc...</td>\n",
       "      <td>common_voice_ja_22392995.mp3</td>\n",
       "      <td>父は手紙を書くのに忙しい。</td>\n",
       "      <td>0</td>\n",
       "      <td>0</td>\n",
       "      <td>twenties</td>\n",
       "      <td>female</td>\n",
       "      <td>NaN</td>\n",
       "      <td>ja</td>\n",
       "      <td>NaN</td>\n",
       "    </tr>\n",
       "    <tr>\n",
       "      <th>11</th>\n",
       "      <td>5ccd151b6c8adb14452960ab0763ce25872fa24b8dedbc...</td>\n",
       "      <td>common_voice_ja_22392996.mp3</td>\n",
       "      <td>彼女抜群ですよ。</td>\n",
       "      <td>0</td>\n",
       "      <td>0</td>\n",
       "      <td>twenties</td>\n",
       "      <td>female</td>\n",
       "      <td>NaN</td>\n",
       "      <td>ja</td>\n",
       "      <td>NaN</td>\n",
       "    </tr>\n",
       "    <tr>\n",
       "      <th>12</th>\n",
       "      <td>5ccd151b6c8adb14452960ab0763ce25872fa24b8dedbc...</td>\n",
       "      <td>common_voice_ja_22393007.mp3</td>\n",
       "      <td>不幸にも、その大惨事で生き残った乗客はほとんどいなかった。</td>\n",
       "      <td>0</td>\n",
       "      <td>0</td>\n",
       "      <td>twenties</td>\n",
       "      <td>female</td>\n",
       "      <td>NaN</td>\n",
       "      <td>ja</td>\n",
       "      <td>NaN</td>\n",
       "    </tr>\n",
       "    <tr>\n",
       "      <th>13</th>\n",
       "      <td>5ccd151b6c8adb14452960ab0763ce25872fa24b8dedbc...</td>\n",
       "      <td>common_voice_ja_22393006.mp3</td>\n",
       "      <td>わたしの部屋はあまり広くありません。</td>\n",
       "      <td>0</td>\n",
       "      <td>0</td>\n",
       "      <td>twenties</td>\n",
       "      <td>female</td>\n",
       "      <td>NaN</td>\n",
       "      <td>ja</td>\n",
       "      <td>NaN</td>\n",
       "    </tr>\n",
       "    <tr>\n",
       "      <th>14</th>\n",
       "      <td>5ccd151b6c8adb14452960ab0763ce25872fa24b8dedbc...</td>\n",
       "      <td>common_voice_ja_22393005.mp3</td>\n",
       "      <td>貧乏は苦痛であるが、不名誉なことはない。</td>\n",
       "      <td>0</td>\n",
       "      <td>0</td>\n",
       "      <td>twenties</td>\n",
       "      <td>female</td>\n",
       "      <td>NaN</td>\n",
       "      <td>ja</td>\n",
       "      <td>NaN</td>\n",
       "    </tr>\n",
       "    <tr>\n",
       "      <th>15</th>\n",
       "      <td>5ccd151b6c8adb14452960ab0763ce25872fa24b8dedbc...</td>\n",
       "      <td>common_voice_ja_22393008.mp3</td>\n",
       "      <td>彼女は服にたくさん金を使う。</td>\n",
       "      <td>0</td>\n",
       "      <td>0</td>\n",
       "      <td>twenties</td>\n",
       "      <td>female</td>\n",
       "      <td>NaN</td>\n",
       "      <td>ja</td>\n",
       "      <td>NaN</td>\n",
       "    </tr>\n",
       "    <tr>\n",
       "      <th>16</th>\n",
       "      <td>5ccd151b6c8adb14452960ab0763ce25872fa24b8dedbc...</td>\n",
       "      <td>common_voice_ja_22393009.mp3</td>\n",
       "      <td>田中さんは結婚して、子供がいます。</td>\n",
       "      <td>0</td>\n",
       "      <td>0</td>\n",
       "      <td>twenties</td>\n",
       "      <td>female</td>\n",
       "      <td>NaN</td>\n",
       "      <td>ja</td>\n",
       "      <td>NaN</td>\n",
       "    </tr>\n",
       "    <tr>\n",
       "      <th>17</th>\n",
       "      <td>5ccd151b6c8adb14452960ab0763ce25872fa24b8dedbc...</td>\n",
       "      <td>common_voice_ja_22393024.mp3</td>\n",
       "      <td>疲れたので、座って休みます。</td>\n",
       "      <td>0</td>\n",
       "      <td>0</td>\n",
       "      <td>twenties</td>\n",
       "      <td>female</td>\n",
       "      <td>NaN</td>\n",
       "      <td>ja</td>\n",
       "      <td>NaN</td>\n",
       "    </tr>\n",
       "    <tr>\n",
       "      <th>18</th>\n",
       "      <td>5ccd151b6c8adb14452960ab0763ce25872fa24b8dedbc...</td>\n",
       "      <td>common_voice_ja_22393019.mp3</td>\n",
       "      <td>物質が化学的に変化する時には、化学エネルギーが放出される。</td>\n",
       "      <td>0</td>\n",
       "      <td>0</td>\n",
       "      <td>twenties</td>\n",
       "      <td>female</td>\n",
       "      <td>NaN</td>\n",
       "      <td>ja</td>\n",
       "      <td>NaN</td>\n",
       "    </tr>\n",
       "    <tr>\n",
       "      <th>19</th>\n",
       "      <td>5ccd151b6c8adb14452960ab0763ce25872fa24b8dedbc...</td>\n",
       "      <td>common_voice_ja_22393023.mp3</td>\n",
       "      <td>不正行為のため彼は解雇された。</td>\n",
       "      <td>0</td>\n",
       "      <td>0</td>\n",
       "      <td>twenties</td>\n",
       "      <td>female</td>\n",
       "      <td>NaN</td>\n",
       "      <td>ja</td>\n",
       "      <td>NaN</td>\n",
       "    </tr>\n",
       "    <tr>\n",
       "      <th>20</th>\n",
       "      <td>5ccd151b6c8adb14452960ab0763ce25872fa24b8dedbc...</td>\n",
       "      <td>common_voice_ja_22393022.mp3</td>\n",
       "      <td>副作用としては、視力障害があります。</td>\n",
       "      <td>0</td>\n",
       "      <td>0</td>\n",
       "      <td>twenties</td>\n",
       "      <td>female</td>\n",
       "      <td>NaN</td>\n",
       "      <td>ja</td>\n",
       "      <td>NaN</td>\n",
       "    </tr>\n",
       "    <tr>\n",
       "      <th>21</th>\n",
       "      <td>5ccd151b6c8adb14452960ab0763ce25872fa24b8dedbc...</td>\n",
       "      <td>common_voice_ja_22393021.mp3</td>\n",
       "      <td>彼女頭は悪いけどいい体つきをしている。</td>\n",
       "      <td>0</td>\n",
       "      <td>0</td>\n",
       "      <td>twenties</td>\n",
       "      <td>female</td>\n",
       "      <td>NaN</td>\n",
       "      <td>ja</td>\n",
       "      <td>NaN</td>\n",
       "    </tr>\n",
       "    <tr>\n",
       "      <th>22</th>\n",
       "      <td>5ccd151b6c8adb14452960ab0763ce25872fa24b8dedbc...</td>\n",
       "      <td>common_voice_ja_22395476.mp3</td>\n",
       "      <td>運転免許を取って三年目になります。</td>\n",
       "      <td>0</td>\n",
       "      <td>0</td>\n",
       "      <td>twenties</td>\n",
       "      <td>female</td>\n",
       "      <td>NaN</td>\n",
       "      <td>ja</td>\n",
       "      <td>NaN</td>\n",
       "    </tr>\n",
       "    <tr>\n",
       "      <th>23</th>\n",
       "      <td>5ccd151b6c8adb14452960ab0763ce25872fa24b8dedbc...</td>\n",
       "      <td>common_voice_ja_22395472.mp3</td>\n",
       "      <td>空は広いです。</td>\n",
       "      <td>0</td>\n",
       "      <td>0</td>\n",
       "      <td>twenties</td>\n",
       "      <td>female</td>\n",
       "      <td>NaN</td>\n",
       "      <td>ja</td>\n",
       "      <td>NaN</td>\n",
       "    </tr>\n",
       "    <tr>\n",
       "      <th>24</th>\n",
       "      <td>5ccd151b6c8adb14452960ab0763ce25872fa24b8dedbc...</td>\n",
       "      <td>common_voice_ja_22395474.mp3</td>\n",
       "      <td>テレビのスイッチを入れます。</td>\n",
       "      <td>0</td>\n",
       "      <td>0</td>\n",
       "      <td>twenties</td>\n",
       "      <td>female</td>\n",
       "      <td>NaN</td>\n",
       "      <td>ja</td>\n",
       "      <td>NaN</td>\n",
       "    </tr>\n",
       "    <tr>\n",
       "      <th>25</th>\n",
       "      <td>5ccd151b6c8adb14452960ab0763ce25872fa24b8dedbc...</td>\n",
       "      <td>common_voice_ja_22395478.mp3</td>\n",
       "      <td>父さんはどこへ行ったんだろう。</td>\n",
       "      <td>0</td>\n",
       "      <td>0</td>\n",
       "      <td>twenties</td>\n",
       "      <td>female</td>\n",
       "      <td>NaN</td>\n",
       "      <td>ja</td>\n",
       "      <td>NaN</td>\n",
       "    </tr>\n",
       "    <tr>\n",
       "      <th>26</th>\n",
       "      <td>5ccd151b6c8adb14452960ab0763ce25872fa24b8dedbc...</td>\n",
       "      <td>common_voice_ja_22395480.mp3</td>\n",
       "      <td>彼女は病院で意識を取り戻した。</td>\n",
       "      <td>0</td>\n",
       "      <td>0</td>\n",
       "      <td>twenties</td>\n",
       "      <td>female</td>\n",
       "      <td>NaN</td>\n",
       "      <td>ja</td>\n",
       "      <td>NaN</td>\n",
       "    </tr>\n",
       "    <tr>\n",
       "      <th>27</th>\n",
       "      <td>5ccd151b6c8adb14452960ab0763ce25872fa24b8dedbc...</td>\n",
       "      <td>common_voice_ja_22395499.mp3</td>\n",
       "      <td>彼女は本当に美人だ。</td>\n",
       "      <td>0</td>\n",
       "      <td>0</td>\n",
       "      <td>twenties</td>\n",
       "      <td>female</td>\n",
       "      <td>NaN</td>\n",
       "      <td>ja</td>\n",
       "      <td>NaN</td>\n",
       "    </tr>\n",
       "    <tr>\n",
       "      <th>28</th>\n",
       "      <td>5ccd151b6c8adb14452960ab0763ce25872fa24b8dedbc...</td>\n",
       "      <td>common_voice_ja_22395500.mp3</td>\n",
       "      <td>病気の子供はベッドの上で体を起こした。</td>\n",
       "      <td>0</td>\n",
       "      <td>0</td>\n",
       "      <td>twenties</td>\n",
       "      <td>female</td>\n",
       "      <td>NaN</td>\n",
       "      <td>ja</td>\n",
       "      <td>NaN</td>\n",
       "    </tr>\n",
       "    <tr>\n",
       "      <th>29</th>\n",
       "      <td>5ccd151b6c8adb14452960ab0763ce25872fa24b8dedbc...</td>\n",
       "      <td>common_voice_ja_22395498.mp3</td>\n",
       "      <td>若いとき、よく泳ぎました。</td>\n",
       "      <td>0</td>\n",
       "      <td>0</td>\n",
       "      <td>twenties</td>\n",
       "      <td>female</td>\n",
       "      <td>NaN</td>\n",
       "      <td>ja</td>\n",
       "      <td>NaN</td>\n",
       "    </tr>\n",
       "    <tr>\n",
       "      <th>...</th>\n",
       "      <td>...</td>\n",
       "      <td>...</td>\n",
       "      <td>...</td>\n",
       "      <td>...</td>\n",
       "      <td>...</td>\n",
       "      <td>...</td>\n",
       "      <td>...</td>\n",
       "      <td>...</td>\n",
       "      <td>...</td>\n",
       "      <td>...</td>\n",
       "    </tr>\n",
       "    <tr>\n",
       "      <th>695</th>\n",
       "      <td>c26b5026d43709b6b49e3d5ef6a8805d0bf166e3d2f64b...</td>\n",
       "      <td>common_voice_ja_22482116.mp3</td>\n",
       "      <td>風はとてもひどく吹いている。</td>\n",
       "      <td>0</td>\n",
       "      <td>0</td>\n",
       "      <td>NaN</td>\n",
       "      <td>male</td>\n",
       "      <td>NaN</td>\n",
       "      <td>ja</td>\n",
       "      <td>NaN</td>\n",
       "    </tr>\n",
       "    <tr>\n",
       "      <th>696</th>\n",
       "      <td>c26b5026d43709b6b49e3d5ef6a8805d0bf166e3d2f64b...</td>\n",
       "      <td>common_voice_ja_22482115.mp3</td>\n",
       "      <td>あさって海へ泳ぎに行こうと思っています。</td>\n",
       "      <td>0</td>\n",
       "      <td>0</td>\n",
       "      <td>NaN</td>\n",
       "      <td>male</td>\n",
       "      <td>NaN</td>\n",
       "      <td>ja</td>\n",
       "      <td>NaN</td>\n",
       "    </tr>\n",
       "    <tr>\n",
       "      <th>697</th>\n",
       "      <td>c26b5026d43709b6b49e3d5ef6a8805d0bf166e3d2f64b...</td>\n",
       "      <td>common_voice_ja_22482119.mp3</td>\n",
       "      <td>新しいうちは駅から近いので、とても便利です。</td>\n",
       "      <td>0</td>\n",
       "      <td>0</td>\n",
       "      <td>NaN</td>\n",
       "      <td>male</td>\n",
       "      <td>NaN</td>\n",
       "      <td>ja</td>\n",
       "      <td>NaN</td>\n",
       "    </tr>\n",
       "    <tr>\n",
       "      <th>698</th>\n",
       "      <td>c26b5026d43709b6b49e3d5ef6a8805d0bf166e3d2f64b...</td>\n",
       "      <td>common_voice_ja_22482120.mp3</td>\n",
       "      <td>わたしは時々あそこの本屋へ行きます。</td>\n",
       "      <td>0</td>\n",
       "      <td>0</td>\n",
       "      <td>NaN</td>\n",
       "      <td>male</td>\n",
       "      <td>NaN</td>\n",
       "      <td>ja</td>\n",
       "      <td>NaN</td>\n",
       "    </tr>\n",
       "    <tr>\n",
       "      <th>699</th>\n",
       "      <td>c26b5026d43709b6b49e3d5ef6a8805d0bf166e3d2f64b...</td>\n",
       "      <td>common_voice_ja_22482121.mp3</td>\n",
       "      <td>もう、夕暮れのようである。</td>\n",
       "      <td>0</td>\n",
       "      <td>0</td>\n",
       "      <td>NaN</td>\n",
       "      <td>male</td>\n",
       "      <td>NaN</td>\n",
       "      <td>ja</td>\n",
       "      <td>NaN</td>\n",
       "    </tr>\n",
       "    <tr>\n",
       "      <th>700</th>\n",
       "      <td>c26b5026d43709b6b49e3d5ef6a8805d0bf166e3d2f64b...</td>\n",
       "      <td>common_voice_ja_22482122.mp3</td>\n",
       "      <td>部屋の中をきちんと整理しなさい。</td>\n",
       "      <td>0</td>\n",
       "      <td>0</td>\n",
       "      <td>NaN</td>\n",
       "      <td>male</td>\n",
       "      <td>NaN</td>\n",
       "      <td>ja</td>\n",
       "      <td>NaN</td>\n",
       "    </tr>\n",
       "    <tr>\n",
       "      <th>701</th>\n",
       "      <td>c26b5026d43709b6b49e3d5ef6a8805d0bf166e3d2f64b...</td>\n",
       "      <td>common_voice_ja_22482124.mp3</td>\n",
       "      <td>父は私が外国へ行くことを承知した。</td>\n",
       "      <td>0</td>\n",
       "      <td>0</td>\n",
       "      <td>NaN</td>\n",
       "      <td>male</td>\n",
       "      <td>NaN</td>\n",
       "      <td>ja</td>\n",
       "      <td>NaN</td>\n",
       "    </tr>\n",
       "    <tr>\n",
       "      <th>702</th>\n",
       "      <td>c26b5026d43709b6b49e3d5ef6a8805d0bf166e3d2f64b...</td>\n",
       "      <td>common_voice_ja_22482126.mp3</td>\n",
       "      <td>部屋が暗いので、電気をつけます。</td>\n",
       "      <td>0</td>\n",
       "      <td>0</td>\n",
       "      <td>NaN</td>\n",
       "      <td>male</td>\n",
       "      <td>NaN</td>\n",
       "      <td>ja</td>\n",
       "      <td>NaN</td>\n",
       "    </tr>\n",
       "    <tr>\n",
       "      <th>703</th>\n",
       "      <td>c26b5026d43709b6b49e3d5ef6a8805d0bf166e3d2f64b...</td>\n",
       "      <td>common_voice_ja_22482127.mp3</td>\n",
       "      <td>わたしとイさんは同じグループです。</td>\n",
       "      <td>0</td>\n",
       "      <td>0</td>\n",
       "      <td>NaN</td>\n",
       "      <td>male</td>\n",
       "      <td>NaN</td>\n",
       "      <td>ja</td>\n",
       "      <td>NaN</td>\n",
       "    </tr>\n",
       "    <tr>\n",
       "      <th>704</th>\n",
       "      <td>c26b5026d43709b6b49e3d5ef6a8805d0bf166e3d2f64b...</td>\n",
       "      <td>common_voice_ja_22482125.mp3</td>\n",
       "      <td>わたしは駅員に切符を見せました。</td>\n",
       "      <td>0</td>\n",
       "      <td>0</td>\n",
       "      <td>NaN</td>\n",
       "      <td>male</td>\n",
       "      <td>NaN</td>\n",
       "      <td>ja</td>\n",
       "      <td>NaN</td>\n",
       "    </tr>\n",
       "    <tr>\n",
       "      <th>705</th>\n",
       "      <td>c26b5026d43709b6b49e3d5ef6a8805d0bf166e3d2f64b...</td>\n",
       "      <td>common_voice_ja_22482128.mp3</td>\n",
       "      <td>頻繁にパーティーを開くのが大好きだ。</td>\n",
       "      <td>0</td>\n",
       "      <td>0</td>\n",
       "      <td>NaN</td>\n",
       "      <td>male</td>\n",
       "      <td>NaN</td>\n",
       "      <td>ja</td>\n",
       "      <td>NaN</td>\n",
       "    </tr>\n",
       "    <tr>\n",
       "      <th>706</th>\n",
       "      <td>c26b5026d43709b6b49e3d5ef6a8805d0bf166e3d2f64b...</td>\n",
       "      <td>common_voice_ja_22482134.mp3</td>\n",
       "      <td>兵庫県の人口はどれぐらいですか。</td>\n",
       "      <td>0</td>\n",
       "      <td>0</td>\n",
       "      <td>NaN</td>\n",
       "      <td>male</td>\n",
       "      <td>NaN</td>\n",
       "      <td>ja</td>\n",
       "      <td>NaN</td>\n",
       "    </tr>\n",
       "    <tr>\n",
       "      <th>707</th>\n",
       "      <td>c26b5026d43709b6b49e3d5ef6a8805d0bf166e3d2f64b...</td>\n",
       "      <td>common_voice_ja_22482130.mp3</td>\n",
       "      <td>その本はわたしのです。</td>\n",
       "      <td>0</td>\n",
       "      <td>0</td>\n",
       "      <td>NaN</td>\n",
       "      <td>male</td>\n",
       "      <td>NaN</td>\n",
       "      <td>ja</td>\n",
       "      <td>NaN</td>\n",
       "    </tr>\n",
       "    <tr>\n",
       "      <th>708</th>\n",
       "      <td>c26b5026d43709b6b49e3d5ef6a8805d0bf166e3d2f64b...</td>\n",
       "      <td>common_voice_ja_22482136.mp3</td>\n",
       "      <td>服を着替えて降りてらっしゃい。</td>\n",
       "      <td>0</td>\n",
       "      <td>0</td>\n",
       "      <td>NaN</td>\n",
       "      <td>male</td>\n",
       "      <td>NaN</td>\n",
       "      <td>ja</td>\n",
       "      <td>NaN</td>\n",
       "    </tr>\n",
       "    <tr>\n",
       "      <th>709</th>\n",
       "      <td>c26b5026d43709b6b49e3d5ef6a8805d0bf166e3d2f64b...</td>\n",
       "      <td>common_voice_ja_22482131.mp3</td>\n",
       "      <td>父は誕生日の祝いに時計をくれた。</td>\n",
       "      <td>0</td>\n",
       "      <td>0</td>\n",
       "      <td>NaN</td>\n",
       "      <td>male</td>\n",
       "      <td>NaN</td>\n",
       "      <td>ja</td>\n",
       "      <td>NaN</td>\n",
       "    </tr>\n",
       "    <tr>\n",
       "      <th>710</th>\n",
       "      <td>c26b5026d43709b6b49e3d5ef6a8805d0bf166e3d2f64b...</td>\n",
       "      <td>common_voice_ja_22482141.mp3</td>\n",
       "      <td>レーザー光線を、レンズで拡散させ、撮影したい物体に当て、その反射光を、半透明なフィルムで受ける。</td>\n",
       "      <td>0</td>\n",
       "      <td>0</td>\n",
       "      <td>NaN</td>\n",
       "      <td>male</td>\n",
       "      <td>NaN</td>\n",
       "      <td>ja</td>\n",
       "      <td>NaN</td>\n",
       "    </tr>\n",
       "    <tr>\n",
       "      <th>711</th>\n",
       "      <td>c26b5026d43709b6b49e3d5ef6a8805d0bf166e3d2f64b...</td>\n",
       "      <td>common_voice_ja_22482135.mp3</td>\n",
       "      <td>日本人はおはしを使って、ごはんを食べます。</td>\n",
       "      <td>0</td>\n",
       "      <td>0</td>\n",
       "      <td>NaN</td>\n",
       "      <td>male</td>\n",
       "      <td>NaN</td>\n",
       "      <td>ja</td>\n",
       "      <td>NaN</td>\n",
       "    </tr>\n",
       "    <tr>\n",
       "      <th>712</th>\n",
       "      <td>c26b5026d43709b6b49e3d5ef6a8805d0bf166e3d2f64b...</td>\n",
       "      <td>common_voice_ja_22482137.mp3</td>\n",
       "      <td>文句をいうなよ身から出た錆だぞ。</td>\n",
       "      <td>0</td>\n",
       "      <td>0</td>\n",
       "      <td>NaN</td>\n",
       "      <td>male</td>\n",
       "      <td>NaN</td>\n",
       "      <td>ja</td>\n",
       "      <td>NaN</td>\n",
       "    </tr>\n",
       "    <tr>\n",
       "      <th>713</th>\n",
       "      <td>c26b5026d43709b6b49e3d5ef6a8805d0bf166e3d2f64b...</td>\n",
       "      <td>common_voice_ja_22482138.mp3</td>\n",
       "      <td>父がついでに私を飛行場まで送ってくれることになっている。</td>\n",
       "      <td>0</td>\n",
       "      <td>0</td>\n",
       "      <td>NaN</td>\n",
       "      <td>male</td>\n",
       "      <td>NaN</td>\n",
       "      <td>ja</td>\n",
       "      <td>NaN</td>\n",
       "    </tr>\n",
       "    <tr>\n",
       "      <th>714</th>\n",
       "      <td>c26b5026d43709b6b49e3d5ef6a8805d0bf166e3d2f64b...</td>\n",
       "      <td>common_voice_ja_22482140.mp3</td>\n",
       "      <td>富者は、貧者と同じ栄養状態に落ち込み、貧者は、餓死まで、後一歩という状態へ落ち込んでいく。</td>\n",
       "      <td>0</td>\n",
       "      <td>0</td>\n",
       "      <td>NaN</td>\n",
       "      <td>male</td>\n",
       "      <td>NaN</td>\n",
       "      <td>ja</td>\n",
       "      <td>NaN</td>\n",
       "    </tr>\n",
       "    <tr>\n",
       "      <th>715</th>\n",
       "      <td>c26b5026d43709b6b49e3d5ef6a8805d0bf166e3d2f64b...</td>\n",
       "      <td>common_voice_ja_22482133.mp3</td>\n",
       "      <td>この本はとてもおもしろいと思います。</td>\n",
       "      <td>0</td>\n",
       "      <td>0</td>\n",
       "      <td>NaN</td>\n",
       "      <td>male</td>\n",
       "      <td>NaN</td>\n",
       "      <td>ja</td>\n",
       "      <td>NaN</td>\n",
       "    </tr>\n",
       "    <tr>\n",
       "      <th>716</th>\n",
       "      <td>c26b5026d43709b6b49e3d5ef6a8805d0bf166e3d2f64b...</td>\n",
       "      <td>common_voice_ja_22482143.mp3</td>\n",
       "      <td>日本の料理はどうですか。</td>\n",
       "      <td>0</td>\n",
       "      <td>0</td>\n",
       "      <td>NaN</td>\n",
       "      <td>male</td>\n",
       "      <td>NaN</td>\n",
       "      <td>ja</td>\n",
       "      <td>NaN</td>\n",
       "    </tr>\n",
       "    <tr>\n",
       "      <th>717</th>\n",
       "      <td>c26b5026d43709b6b49e3d5ef6a8805d0bf166e3d2f64b...</td>\n",
       "      <td>common_voice_ja_22482142.mp3</td>\n",
       "      <td>彼女は腹立ちまぎれに婚約を破棄した。</td>\n",
       "      <td>0</td>\n",
       "      <td>0</td>\n",
       "      <td>NaN</td>\n",
       "      <td>male</td>\n",
       "      <td>NaN</td>\n",
       "      <td>ja</td>\n",
       "      <td>NaN</td>\n",
       "    </tr>\n",
       "    <tr>\n",
       "      <th>718</th>\n",
       "      <td>c26b5026d43709b6b49e3d5ef6a8805d0bf166e3d2f64b...</td>\n",
       "      <td>common_voice_ja_22482139.mp3</td>\n",
       "      <td>壁に写真をはります。</td>\n",
       "      <td>0</td>\n",
       "      <td>0</td>\n",
       "      <td>NaN</td>\n",
       "      <td>male</td>\n",
       "      <td>NaN</td>\n",
       "      <td>ja</td>\n",
       "      <td>NaN</td>\n",
       "    </tr>\n",
       "    <tr>\n",
       "      <th>719</th>\n",
       "      <td>c26b5026d43709b6b49e3d5ef6a8805d0bf166e3d2f64b...</td>\n",
       "      <td>common_voice_ja_22482129.mp3</td>\n",
       "      <td>負傷した兵士はほとんど歩けなかった。</td>\n",
       "      <td>0</td>\n",
       "      <td>0</td>\n",
       "      <td>NaN</td>\n",
       "      <td>male</td>\n",
       "      <td>NaN</td>\n",
       "      <td>ja</td>\n",
       "      <td>NaN</td>\n",
       "    </tr>\n",
       "    <tr>\n",
       "      <th>720</th>\n",
       "      <td>c26b5026d43709b6b49e3d5ef6a8805d0bf166e3d2f64b...</td>\n",
       "      <td>common_voice_ja_22482150.mp3</td>\n",
       "      <td>わたしたちの社会は、言葉によるコミュニケーションによって、支えられている。</td>\n",
       "      <td>0</td>\n",
       "      <td>0</td>\n",
       "      <td>NaN</td>\n",
       "      <td>male</td>\n",
       "      <td>NaN</td>\n",
       "      <td>ja</td>\n",
       "      <td>NaN</td>\n",
       "    </tr>\n",
       "    <tr>\n",
       "      <th>721</th>\n",
       "      <td>c26b5026d43709b6b49e3d5ef6a8805d0bf166e3d2f64b...</td>\n",
       "      <td>common_voice_ja_22482151.mp3</td>\n",
       "      <td>この文は短いので、読みやすいです。</td>\n",
       "      <td>0</td>\n",
       "      <td>0</td>\n",
       "      <td>NaN</td>\n",
       "      <td>male</td>\n",
       "      <td>NaN</td>\n",
       "      <td>ja</td>\n",
       "      <td>NaN</td>\n",
       "    </tr>\n",
       "    <tr>\n",
       "      <th>722</th>\n",
       "      <td>c26b5026d43709b6b49e3d5ef6a8805d0bf166e3d2f64b...</td>\n",
       "      <td>common_voice_ja_22482152.mp3</td>\n",
       "      <td>壁にペンキが塗られた。</td>\n",
       "      <td>0</td>\n",
       "      <td>0</td>\n",
       "      <td>NaN</td>\n",
       "      <td>male</td>\n",
       "      <td>NaN</td>\n",
       "      <td>ja</td>\n",
       "      <td>NaN</td>\n",
       "    </tr>\n",
       "    <tr>\n",
       "      <th>723</th>\n",
       "      <td>c26b5026d43709b6b49e3d5ef6a8805d0bf166e3d2f64b...</td>\n",
       "      <td>common_voice_ja_22482153.mp3</td>\n",
       "      <td>父は私にその本を買ってくれました。</td>\n",
       "      <td>0</td>\n",
       "      <td>0</td>\n",
       "      <td>NaN</td>\n",
       "      <td>male</td>\n",
       "      <td>NaN</td>\n",
       "      <td>ja</td>\n",
       "      <td>NaN</td>\n",
       "    </tr>\n",
       "    <tr>\n",
       "      <th>724</th>\n",
       "      <td>c26b5026d43709b6b49e3d5ef6a8805d0bf166e3d2f64b...</td>\n",
       "      <td>common_voice_ja_22482154.mp3</td>\n",
       "      <td>貧しい人を馬鹿にしてはいけない。</td>\n",
       "      <td>0</td>\n",
       "      <td>0</td>\n",
       "      <td>NaN</td>\n",
       "      <td>male</td>\n",
       "      <td>NaN</td>\n",
       "      <td>ja</td>\n",
       "      <td>NaN</td>\n",
       "    </tr>\n",
       "  </tbody>\n",
       "</table>\n",
       "<p>725 rows × 10 columns</p>\n",
       "</div>"
      ],
      "text/plain": [
       "                                             client_id  \\\n",
       "0    da263649c681c6c5a50a5dc6252c3cc394baa2246f0c72...   \n",
       "1    da263649c681c6c5a50a5dc6252c3cc394baa2246f0c72...   \n",
       "2    5ccd151b6c8adb14452960ab0763ce25872fa24b8dedbc...   \n",
       "3    5ccd151b6c8adb14452960ab0763ce25872fa24b8dedbc...   \n",
       "4    5ccd151b6c8adb14452960ab0763ce25872fa24b8dedbc...   \n",
       "5    5ccd151b6c8adb14452960ab0763ce25872fa24b8dedbc...   \n",
       "6    5ccd151b6c8adb14452960ab0763ce25872fa24b8dedbc...   \n",
       "7    5ccd151b6c8adb14452960ab0763ce25872fa24b8dedbc...   \n",
       "8    5ccd151b6c8adb14452960ab0763ce25872fa24b8dedbc...   \n",
       "9    5ccd151b6c8adb14452960ab0763ce25872fa24b8dedbc...   \n",
       "10   5ccd151b6c8adb14452960ab0763ce25872fa24b8dedbc...   \n",
       "11   5ccd151b6c8adb14452960ab0763ce25872fa24b8dedbc...   \n",
       "12   5ccd151b6c8adb14452960ab0763ce25872fa24b8dedbc...   \n",
       "13   5ccd151b6c8adb14452960ab0763ce25872fa24b8dedbc...   \n",
       "14   5ccd151b6c8adb14452960ab0763ce25872fa24b8dedbc...   \n",
       "15   5ccd151b6c8adb14452960ab0763ce25872fa24b8dedbc...   \n",
       "16   5ccd151b6c8adb14452960ab0763ce25872fa24b8dedbc...   \n",
       "17   5ccd151b6c8adb14452960ab0763ce25872fa24b8dedbc...   \n",
       "18   5ccd151b6c8adb14452960ab0763ce25872fa24b8dedbc...   \n",
       "19   5ccd151b6c8adb14452960ab0763ce25872fa24b8dedbc...   \n",
       "20   5ccd151b6c8adb14452960ab0763ce25872fa24b8dedbc...   \n",
       "21   5ccd151b6c8adb14452960ab0763ce25872fa24b8dedbc...   \n",
       "22   5ccd151b6c8adb14452960ab0763ce25872fa24b8dedbc...   \n",
       "23   5ccd151b6c8adb14452960ab0763ce25872fa24b8dedbc...   \n",
       "24   5ccd151b6c8adb14452960ab0763ce25872fa24b8dedbc...   \n",
       "25   5ccd151b6c8adb14452960ab0763ce25872fa24b8dedbc...   \n",
       "26   5ccd151b6c8adb14452960ab0763ce25872fa24b8dedbc...   \n",
       "27   5ccd151b6c8adb14452960ab0763ce25872fa24b8dedbc...   \n",
       "28   5ccd151b6c8adb14452960ab0763ce25872fa24b8dedbc...   \n",
       "29   5ccd151b6c8adb14452960ab0763ce25872fa24b8dedbc...   \n",
       "..                                                 ...   \n",
       "695  c26b5026d43709b6b49e3d5ef6a8805d0bf166e3d2f64b...   \n",
       "696  c26b5026d43709b6b49e3d5ef6a8805d0bf166e3d2f64b...   \n",
       "697  c26b5026d43709b6b49e3d5ef6a8805d0bf166e3d2f64b...   \n",
       "698  c26b5026d43709b6b49e3d5ef6a8805d0bf166e3d2f64b...   \n",
       "699  c26b5026d43709b6b49e3d5ef6a8805d0bf166e3d2f64b...   \n",
       "700  c26b5026d43709b6b49e3d5ef6a8805d0bf166e3d2f64b...   \n",
       "701  c26b5026d43709b6b49e3d5ef6a8805d0bf166e3d2f64b...   \n",
       "702  c26b5026d43709b6b49e3d5ef6a8805d0bf166e3d2f64b...   \n",
       "703  c26b5026d43709b6b49e3d5ef6a8805d0bf166e3d2f64b...   \n",
       "704  c26b5026d43709b6b49e3d5ef6a8805d0bf166e3d2f64b...   \n",
       "705  c26b5026d43709b6b49e3d5ef6a8805d0bf166e3d2f64b...   \n",
       "706  c26b5026d43709b6b49e3d5ef6a8805d0bf166e3d2f64b...   \n",
       "707  c26b5026d43709b6b49e3d5ef6a8805d0bf166e3d2f64b...   \n",
       "708  c26b5026d43709b6b49e3d5ef6a8805d0bf166e3d2f64b...   \n",
       "709  c26b5026d43709b6b49e3d5ef6a8805d0bf166e3d2f64b...   \n",
       "710  c26b5026d43709b6b49e3d5ef6a8805d0bf166e3d2f64b...   \n",
       "711  c26b5026d43709b6b49e3d5ef6a8805d0bf166e3d2f64b...   \n",
       "712  c26b5026d43709b6b49e3d5ef6a8805d0bf166e3d2f64b...   \n",
       "713  c26b5026d43709b6b49e3d5ef6a8805d0bf166e3d2f64b...   \n",
       "714  c26b5026d43709b6b49e3d5ef6a8805d0bf166e3d2f64b...   \n",
       "715  c26b5026d43709b6b49e3d5ef6a8805d0bf166e3d2f64b...   \n",
       "716  c26b5026d43709b6b49e3d5ef6a8805d0bf166e3d2f64b...   \n",
       "717  c26b5026d43709b6b49e3d5ef6a8805d0bf166e3d2f64b...   \n",
       "718  c26b5026d43709b6b49e3d5ef6a8805d0bf166e3d2f64b...   \n",
       "719  c26b5026d43709b6b49e3d5ef6a8805d0bf166e3d2f64b...   \n",
       "720  c26b5026d43709b6b49e3d5ef6a8805d0bf166e3d2f64b...   \n",
       "721  c26b5026d43709b6b49e3d5ef6a8805d0bf166e3d2f64b...   \n",
       "722  c26b5026d43709b6b49e3d5ef6a8805d0bf166e3d2f64b...   \n",
       "723  c26b5026d43709b6b49e3d5ef6a8805d0bf166e3d2f64b...   \n",
       "724  c26b5026d43709b6b49e3d5ef6a8805d0bf166e3d2f64b...   \n",
       "\n",
       "                             path  \\\n",
       "0    common_voice_ja_22384698.mp3   \n",
       "1    common_voice_ja_22384696.mp3   \n",
       "2    common_voice_ja_22392991.mp3   \n",
       "3    common_voice_ja_22392986.mp3   \n",
       "4    common_voice_ja_22392985.mp3   \n",
       "5    common_voice_ja_22392989.mp3   \n",
       "6    common_voice_ja_22392988.mp3   \n",
       "7    common_voice_ja_22392987.mp3   \n",
       "8    common_voice_ja_22392992.mp3   \n",
       "9    common_voice_ja_22392994.mp3   \n",
       "10   common_voice_ja_22392995.mp3   \n",
       "11   common_voice_ja_22392996.mp3   \n",
       "12   common_voice_ja_22393007.mp3   \n",
       "13   common_voice_ja_22393006.mp3   \n",
       "14   common_voice_ja_22393005.mp3   \n",
       "15   common_voice_ja_22393008.mp3   \n",
       "16   common_voice_ja_22393009.mp3   \n",
       "17   common_voice_ja_22393024.mp3   \n",
       "18   common_voice_ja_22393019.mp3   \n",
       "19   common_voice_ja_22393023.mp3   \n",
       "20   common_voice_ja_22393022.mp3   \n",
       "21   common_voice_ja_22393021.mp3   \n",
       "22   common_voice_ja_22395476.mp3   \n",
       "23   common_voice_ja_22395472.mp3   \n",
       "24   common_voice_ja_22395474.mp3   \n",
       "25   common_voice_ja_22395478.mp3   \n",
       "26   common_voice_ja_22395480.mp3   \n",
       "27   common_voice_ja_22395499.mp3   \n",
       "28   common_voice_ja_22395500.mp3   \n",
       "29   common_voice_ja_22395498.mp3   \n",
       "..                            ...   \n",
       "695  common_voice_ja_22482116.mp3   \n",
       "696  common_voice_ja_22482115.mp3   \n",
       "697  common_voice_ja_22482119.mp3   \n",
       "698  common_voice_ja_22482120.mp3   \n",
       "699  common_voice_ja_22482121.mp3   \n",
       "700  common_voice_ja_22482122.mp3   \n",
       "701  common_voice_ja_22482124.mp3   \n",
       "702  common_voice_ja_22482126.mp3   \n",
       "703  common_voice_ja_22482127.mp3   \n",
       "704  common_voice_ja_22482125.mp3   \n",
       "705  common_voice_ja_22482128.mp3   \n",
       "706  common_voice_ja_22482134.mp3   \n",
       "707  common_voice_ja_22482130.mp3   \n",
       "708  common_voice_ja_22482136.mp3   \n",
       "709  common_voice_ja_22482131.mp3   \n",
       "710  common_voice_ja_22482141.mp3   \n",
       "711  common_voice_ja_22482135.mp3   \n",
       "712  common_voice_ja_22482137.mp3   \n",
       "713  common_voice_ja_22482138.mp3   \n",
       "714  common_voice_ja_22482140.mp3   \n",
       "715  common_voice_ja_22482133.mp3   \n",
       "716  common_voice_ja_22482143.mp3   \n",
       "717  common_voice_ja_22482142.mp3   \n",
       "718  common_voice_ja_22482139.mp3   \n",
       "719  common_voice_ja_22482129.mp3   \n",
       "720  common_voice_ja_22482150.mp3   \n",
       "721  common_voice_ja_22482151.mp3   \n",
       "722  common_voice_ja_22482152.mp3   \n",
       "723  common_voice_ja_22482153.mp3   \n",
       "724  common_voice_ja_22482154.mp3   \n",
       "\n",
       "                                             sentence  up_votes  down_votes  \\\n",
       "0                               このタイプの人間が、一番多量の仕事をする。         0           0   \n",
       "1                                      部屋を替えていただけますか。         0           0   \n",
       "2                                     いつも朝八時の電車に乗ります。         0           0   \n",
       "3                              山田さんは目が悪いので、眼鏡をかけています。         0           0   \n",
       "4                                      あの会社は車を作っています。         0           0   \n",
       "5                                     膝の上にナプキンを広げなさい。         0           0   \n",
       "6                                 必ず辞書を自分の横に置いて起きなさい。         0           0   \n",
       "7                             不思議なことに、結局彼は本当に試験に合格した。         0           0   \n",
       "8                                   平和と安全を切望しない人はいない。         0           0   \n",
       "9                                     部屋にはたくさんの少女がいる。         0           0   \n",
       "10                                      父は手紙を書くのに忙しい。         0           0   \n",
       "11                                           彼女抜群ですよ。         0           0   \n",
       "12                      不幸にも、その大惨事で生き残った乗客はほとんどいなかった。         0           0   \n",
       "13                                 わたしの部屋はあまり広くありません。         0           0   \n",
       "14                               貧乏は苦痛であるが、不名誉なことはない。         0           0   \n",
       "15                                     彼女は服にたくさん金を使う。         0           0   \n",
       "16                                  田中さんは結婚して、子供がいます。         0           0   \n",
       "17                                     疲れたので、座って休みます。         0           0   \n",
       "18                      物質が化学的に変化する時には、化学エネルギーが放出される。         0           0   \n",
       "19                                    不正行為のため彼は解雇された。         0           0   \n",
       "20                                 副作用としては、視力障害があります。         0           0   \n",
       "21                                彼女頭は悪いけどいい体つきをしている。         0           0   \n",
       "22                                  運転免許を取って三年目になります。         0           0   \n",
       "23                                            空は広いです。         0           0   \n",
       "24                                     テレビのスイッチを入れます。         0           0   \n",
       "25                                    父さんはどこへ行ったんだろう。         0           0   \n",
       "26                                    彼女は病院で意識を取り戻した。         0           0   \n",
       "27                                         彼女は本当に美人だ。         0           0   \n",
       "28                                病気の子供はベッドの上で体を起こした。         0           0   \n",
       "29                                      若いとき、よく泳ぎました。         0           0   \n",
       "..                                                ...       ...         ...   \n",
       "695                                    風はとてもひどく吹いている。         0           0   \n",
       "696                              あさって海へ泳ぎに行こうと思っています。         0           0   \n",
       "697                            新しいうちは駅から近いので、とても便利です。         0           0   \n",
       "698                                わたしは時々あそこの本屋へ行きます。         0           0   \n",
       "699                                     もう、夕暮れのようである。         0           0   \n",
       "700                                  部屋の中をきちんと整理しなさい。         0           0   \n",
       "701                                 父は私が外国へ行くことを承知した。         0           0   \n",
       "702                                  部屋が暗いので、電気をつけます。         0           0   \n",
       "703                                 わたしとイさんは同じグループです。         0           0   \n",
       "704                                  わたしは駅員に切符を見せました。         0           0   \n",
       "705                                頻繁にパーティーを開くのが大好きだ。         0           0   \n",
       "706                                  兵庫県の人口はどれぐらいですか。         0           0   \n",
       "707                                       その本はわたしのです。         0           0   \n",
       "708                                   服を着替えて降りてらっしゃい。         0           0   \n",
       "709                                  父は誕生日の祝いに時計をくれた。         0           0   \n",
       "710  レーザー光線を、レンズで拡散させ、撮影したい物体に当て、その反射光を、半透明なフィルムで受ける。         0           0   \n",
       "711                             日本人はおはしを使って、ごはんを食べます。         0           0   \n",
       "712                                  文句をいうなよ身から出た錆だぞ。         0           0   \n",
       "713                      父がついでに私を飛行場まで送ってくれることになっている。         0           0   \n",
       "714     富者は、貧者と同じ栄養状態に落ち込み、貧者は、餓死まで、後一歩という状態へ落ち込んでいく。         0           0   \n",
       "715                                この本はとてもおもしろいと思います。         0           0   \n",
       "716                                      日本の料理はどうですか。         0           0   \n",
       "717                                彼女は腹立ちまぎれに婚約を破棄した。         0           0   \n",
       "718                                        壁に写真をはります。         0           0   \n",
       "719                                負傷した兵士はほとんど歩けなかった。         0           0   \n",
       "720             わたしたちの社会は、言葉によるコミュニケーションによって、支えられている。         0           0   \n",
       "721                                 この文は短いので、読みやすいです。         0           0   \n",
       "722                                       壁にペンキが塗られた。         0           0   \n",
       "723                                 父は私にその本を買ってくれました。         0           0   \n",
       "724                                  貧しい人を馬鹿にしてはいけない。         0           0   \n",
       "\n",
       "          age  gender  accent locale  segment  \n",
       "0    twenties  female     NaN     ja      NaN  \n",
       "1    twenties  female     NaN     ja      NaN  \n",
       "2    twenties  female     NaN     ja      NaN  \n",
       "3    twenties  female     NaN     ja      NaN  \n",
       "4    twenties  female     NaN     ja      NaN  \n",
       "5    twenties  female     NaN     ja      NaN  \n",
       "6    twenties  female     NaN     ja      NaN  \n",
       "7    twenties  female     NaN     ja      NaN  \n",
       "8    twenties  female     NaN     ja      NaN  \n",
       "9    twenties  female     NaN     ja      NaN  \n",
       "10   twenties  female     NaN     ja      NaN  \n",
       "11   twenties  female     NaN     ja      NaN  \n",
       "12   twenties  female     NaN     ja      NaN  \n",
       "13   twenties  female     NaN     ja      NaN  \n",
       "14   twenties  female     NaN     ja      NaN  \n",
       "15   twenties  female     NaN     ja      NaN  \n",
       "16   twenties  female     NaN     ja      NaN  \n",
       "17   twenties  female     NaN     ja      NaN  \n",
       "18   twenties  female     NaN     ja      NaN  \n",
       "19   twenties  female     NaN     ja      NaN  \n",
       "20   twenties  female     NaN     ja      NaN  \n",
       "21   twenties  female     NaN     ja      NaN  \n",
       "22   twenties  female     NaN     ja      NaN  \n",
       "23   twenties  female     NaN     ja      NaN  \n",
       "24   twenties  female     NaN     ja      NaN  \n",
       "25   twenties  female     NaN     ja      NaN  \n",
       "26   twenties  female     NaN     ja      NaN  \n",
       "27   twenties  female     NaN     ja      NaN  \n",
       "28   twenties  female     NaN     ja      NaN  \n",
       "29   twenties  female     NaN     ja      NaN  \n",
       "..        ...     ...     ...    ...      ...  \n",
       "695       NaN    male     NaN     ja      NaN  \n",
       "696       NaN    male     NaN     ja      NaN  \n",
       "697       NaN    male     NaN     ja      NaN  \n",
       "698       NaN    male     NaN     ja      NaN  \n",
       "699       NaN    male     NaN     ja      NaN  \n",
       "700       NaN    male     NaN     ja      NaN  \n",
       "701       NaN    male     NaN     ja      NaN  \n",
       "702       NaN    male     NaN     ja      NaN  \n",
       "703       NaN    male     NaN     ja      NaN  \n",
       "704       NaN    male     NaN     ja      NaN  \n",
       "705       NaN    male     NaN     ja      NaN  \n",
       "706       NaN    male     NaN     ja      NaN  \n",
       "707       NaN    male     NaN     ja      NaN  \n",
       "708       NaN    male     NaN     ja      NaN  \n",
       "709       NaN    male     NaN     ja      NaN  \n",
       "710       NaN    male     NaN     ja      NaN  \n",
       "711       NaN    male     NaN     ja      NaN  \n",
       "712       NaN    male     NaN     ja      NaN  \n",
       "713       NaN    male     NaN     ja      NaN  \n",
       "714       NaN    male     NaN     ja      NaN  \n",
       "715       NaN    male     NaN     ja      NaN  \n",
       "716       NaN    male     NaN     ja      NaN  \n",
       "717       NaN    male     NaN     ja      NaN  \n",
       "718       NaN    male     NaN     ja      NaN  \n",
       "719       NaN    male     NaN     ja      NaN  \n",
       "720       NaN    male     NaN     ja      NaN  \n",
       "721       NaN    male     NaN     ja      NaN  \n",
       "722       NaN    male     NaN     ja      NaN  \n",
       "723       NaN    male     NaN     ja      NaN  \n",
       "724       NaN    male     NaN     ja      NaN  \n",
       "\n",
       "[725 rows x 10 columns]"
      ]
     },
     "execution_count": 21,
     "metadata": {},
     "output_type": "execute_result"
    }
   ],
   "source": [
    "df"
   ]
  },
  {
   "cell_type": "code",
   "execution_count": 22,
   "metadata": {
    "collapsed": true
   },
   "outputs": [
    {
     "data": {
      "text/html": [
       "<div>\n",
       "<style scoped>\n",
       "    .dataframe tbody tr th:only-of-type {\n",
       "        vertical-align: middle;\n",
       "    }\n",
       "\n",
       "    .dataframe tbody tr th {\n",
       "        vertical-align: top;\n",
       "    }\n",
       "\n",
       "    .dataframe thead th {\n",
       "        text-align: right;\n",
       "    }\n",
       "</style>\n",
       "<table border=\"1\" class=\"dataframe\">\n",
       "  <thead>\n",
       "    <tr style=\"text-align: right;\">\n",
       "      <th></th>\n",
       "      <th>client_id</th>\n",
       "      <th>path</th>\n",
       "      <th>sentence</th>\n",
       "      <th>up_votes</th>\n",
       "      <th>down_votes</th>\n",
       "      <th>age</th>\n",
       "      <th>gender</th>\n",
       "      <th>accent</th>\n",
       "      <th>locale</th>\n",
       "      <th>segment</th>\n",
       "    </tr>\n",
       "  </thead>\n",
       "  <tbody>\n",
       "    <tr>\n",
       "      <th>0</th>\n",
       "      <td>087edae49ce1e0f600682ceccc7fc28e81e64ae890e647...</td>\n",
       "      <td>common_voice_ja_22072759.mp3</td>\n",
       "      <td>財布をなくしたので、交番へ行きます。</td>\n",
       "      <td>2</td>\n",
       "      <td>0</td>\n",
       "      <td>teens</td>\n",
       "      <td>female</td>\n",
       "      <td>NaN</td>\n",
       "      <td>ja</td>\n",
       "      <td>NaN</td>\n",
       "    </tr>\n",
       "    <tr>\n",
       "      <th>1</th>\n",
       "      <td>15b7d87a73d28b37664fdf7fea1ff232f89e80ce954c9b...</td>\n",
       "      <td>common_voice_ja_19499629.mp3</td>\n",
       "      <td>新しい靴をはいて出かけます。</td>\n",
       "      <td>2</td>\n",
       "      <td>0</td>\n",
       "      <td>NaN</td>\n",
       "      <td>NaN</td>\n",
       "      <td>NaN</td>\n",
       "      <td>ja</td>\n",
       "      <td>NaN</td>\n",
       "    </tr>\n",
       "    <tr>\n",
       "      <th>2</th>\n",
       "      <td>425f5a46e995ededc3a866f25ac1b5adba06f4ae991d1e...</td>\n",
       "      <td>common_voice_ja_19984402.mp3</td>\n",
       "      <td>必ずやります。</td>\n",
       "      <td>2</td>\n",
       "      <td>0</td>\n",
       "      <td>twenties</td>\n",
       "      <td>male</td>\n",
       "      <td>NaN</td>\n",
       "      <td>ja</td>\n",
       "      <td>NaN</td>\n",
       "    </tr>\n",
       "    <tr>\n",
       "      <th>3</th>\n",
       "      <td>4d037df65974988a11e23c8b1a853f70d3f02607bc3a9a...</td>\n",
       "      <td>common_voice_ja_21358328.mp3</td>\n",
       "      <td>妹がまだ帰らないので、母は心配しています。</td>\n",
       "      <td>2</td>\n",
       "      <td>0</td>\n",
       "      <td>twenties</td>\n",
       "      <td>male</td>\n",
       "      <td>NaN</td>\n",
       "      <td>ja</td>\n",
       "      <td>NaN</td>\n",
       "    </tr>\n",
       "    <tr>\n",
       "      <th>4</th>\n",
       "      <td>6c2b1130c2bc95dd93ee9edca0f4550951e14e09123bd0...</td>\n",
       "      <td>common_voice_ja_20946865.mp3</td>\n",
       "      <td>風が強くなりさえしなければいいですよ！</td>\n",
       "      <td>2</td>\n",
       "      <td>0</td>\n",
       "      <td>thirties</td>\n",
       "      <td>male</td>\n",
       "      <td>NaN</td>\n",
       "      <td>ja</td>\n",
       "      <td>NaN</td>\n",
       "    </tr>\n",
       "    <tr>\n",
       "      <th>5</th>\n",
       "      <td>6ef3526cdbe5773c8bcfeea7200469067786e3940a5552...</td>\n",
       "      <td>common_voice_ja_22219505.mp3</td>\n",
       "      <td>はち</td>\n",
       "      <td>2</td>\n",
       "      <td>0</td>\n",
       "      <td>NaN</td>\n",
       "      <td>NaN</td>\n",
       "      <td>NaN</td>\n",
       "      <td>ja</td>\n",
       "      <td>Singleword Benchmark</td>\n",
       "    </tr>\n",
       "    <tr>\n",
       "      <th>6</th>\n",
       "      <td>84b2e497ddfcc3cd7e7c9652cb9d673b3e109c0b79be1e...</td>\n",
       "      <td>common_voice_ja_20650478.mp3</td>\n",
       "      <td>外国語を勉強するのは難しいです。</td>\n",
       "      <td>2</td>\n",
       "      <td>0</td>\n",
       "      <td>NaN</td>\n",
       "      <td>NaN</td>\n",
       "      <td>NaN</td>\n",
       "      <td>ja</td>\n",
       "      <td>NaN</td>\n",
       "    </tr>\n",
       "    <tr>\n",
       "      <th>7</th>\n",
       "      <td>8d15a5cf215278a9869edb9801b26ef35a7e588077d2b2...</td>\n",
       "      <td>common_voice_ja_22307742.mp3</td>\n",
       "      <td>れい</td>\n",
       "      <td>2</td>\n",
       "      <td>0</td>\n",
       "      <td>NaN</td>\n",
       "      <td>NaN</td>\n",
       "      <td>NaN</td>\n",
       "      <td>ja</td>\n",
       "      <td>Singleword Benchmark</td>\n",
       "    </tr>\n",
       "    <tr>\n",
       "      <th>8</th>\n",
       "      <td>c1550c98cd768e824a7394ede788232a3665e4fd5a0fd5...</td>\n",
       "      <td>common_voice_ja_21493990.mp3</td>\n",
       "      <td>いろいろありがとうございました。</td>\n",
       "      <td>2</td>\n",
       "      <td>1</td>\n",
       "      <td>NaN</td>\n",
       "      <td>NaN</td>\n",
       "      <td>NaN</td>\n",
       "      <td>ja</td>\n",
       "      <td>NaN</td>\n",
       "    </tr>\n",
       "    <tr>\n",
       "      <th>9</th>\n",
       "      <td>dc4c7cb2b4b1baac5d54235744d1f7a707ea147492120c...</td>\n",
       "      <td>common_voice_ja_19676248.mp3</td>\n",
       "      <td>ぶらぶらと、球場まで十分足らずの道を歩いていく。</td>\n",
       "      <td>2</td>\n",
       "      <td>0</td>\n",
       "      <td>twenties</td>\n",
       "      <td>female</td>\n",
       "      <td>NaN</td>\n",
       "      <td>ja</td>\n",
       "      <td>NaN</td>\n",
       "    </tr>\n",
       "    <tr>\n",
       "      <th>10</th>\n",
       "      <td>205155067163a7e1ed4f1c44c19020366bdef34aa7e04a...</td>\n",
       "      <td>common_voice_ja_20184176.mp3</td>\n",
       "      <td>彼女は彼を思い切りけとばした。</td>\n",
       "      <td>2</td>\n",
       "      <td>0</td>\n",
       "      <td>thirties</td>\n",
       "      <td>NaN</td>\n",
       "      <td>NaN</td>\n",
       "      <td>ja</td>\n",
       "      <td>NaN</td>\n",
       "    </tr>\n",
       "    <tr>\n",
       "      <th>11</th>\n",
       "      <td>205155067163a7e1ed4f1c44c19020366bdef34aa7e04a...</td>\n",
       "      <td>common_voice_ja_20184174.mp3</td>\n",
       "      <td>部屋の中に多くの聴衆がいた。</td>\n",
       "      <td>2</td>\n",
       "      <td>1</td>\n",
       "      <td>thirties</td>\n",
       "      <td>NaN</td>\n",
       "      <td>NaN</td>\n",
       "      <td>ja</td>\n",
       "      <td>NaN</td>\n",
       "    </tr>\n",
       "    <tr>\n",
       "      <th>12</th>\n",
       "      <td>c6db82184d078f118a5916a5d47de9c125be2adf65cf0c...</td>\n",
       "      <td>common_voice_ja_22247308.mp3</td>\n",
       "      <td>し</td>\n",
       "      <td>2</td>\n",
       "      <td>0</td>\n",
       "      <td>NaN</td>\n",
       "      <td>NaN</td>\n",
       "      <td>NaN</td>\n",
       "      <td>ja</td>\n",
       "      <td>Singleword Benchmark</td>\n",
       "    </tr>\n",
       "    <tr>\n",
       "      <th>13</th>\n",
       "      <td>c6db82184d078f118a5916a5d47de9c125be2adf65cf0c...</td>\n",
       "      <td>common_voice_ja_22247312.mp3</td>\n",
       "      <td>はち</td>\n",
       "      <td>2</td>\n",
       "      <td>0</td>\n",
       "      <td>NaN</td>\n",
       "      <td>NaN</td>\n",
       "      <td>NaN</td>\n",
       "      <td>ja</td>\n",
       "      <td>Singleword Benchmark</td>\n",
       "    </tr>\n",
       "    <tr>\n",
       "      <th>14</th>\n",
       "      <td>e0509c56e3f2844a433a78177d7a8c77b64aad8d592c41...</td>\n",
       "      <td>common_voice_ja_19792531.mp3</td>\n",
       "      <td>暑かったので、家へ帰って、シャワーを浴びました。</td>\n",
       "      <td>2</td>\n",
       "      <td>1</td>\n",
       "      <td>twenties</td>\n",
       "      <td>male</td>\n",
       "      <td>NaN</td>\n",
       "      <td>ja</td>\n",
       "      <td>NaN</td>\n",
       "    </tr>\n",
       "    <tr>\n",
       "      <th>15</th>\n",
       "      <td>e0509c56e3f2844a433a78177d7a8c77b64aad8d592c41...</td>\n",
       "      <td>common_voice_ja_19792532.mp3</td>\n",
       "      <td>りっぱな大人になりたいです。</td>\n",
       "      <td>2</td>\n",
       "      <td>0</td>\n",
       "      <td>twenties</td>\n",
       "      <td>male</td>\n",
       "      <td>NaN</td>\n",
       "      <td>ja</td>\n",
       "      <td>NaN</td>\n",
       "    </tr>\n",
       "    <tr>\n",
       "      <th>16</th>\n",
       "      <td>06fe0935ded73a2f11e14e7f0c77c0fa0fc8038c535978...</td>\n",
       "      <td>common_voice_ja_22207708.mp3</td>\n",
       "      <td>に</td>\n",
       "      <td>2</td>\n",
       "      <td>0</td>\n",
       "      <td>NaN</td>\n",
       "      <td>NaN</td>\n",
       "      <td>NaN</td>\n",
       "      <td>ja</td>\n",
       "      <td>Singleword Benchmark</td>\n",
       "    </tr>\n",
       "    <tr>\n",
       "      <th>17</th>\n",
       "      <td>06fe0935ded73a2f11e14e7f0c77c0fa0fc8038c535978...</td>\n",
       "      <td>common_voice_ja_22207709.mp3</td>\n",
       "      <td>いいえ</td>\n",
       "      <td>2</td>\n",
       "      <td>0</td>\n",
       "      <td>NaN</td>\n",
       "      <td>NaN</td>\n",
       "      <td>NaN</td>\n",
       "      <td>ja</td>\n",
       "      <td>Singleword Benchmark</td>\n",
       "    </tr>\n",
       "    <tr>\n",
       "      <th>18</th>\n",
       "      <td>06fe0935ded73a2f11e14e7f0c77c0fa0fc8038c535978...</td>\n",
       "      <td>common_voice_ja_22207707.mp3</td>\n",
       "      <td>しち</td>\n",
       "      <td>2</td>\n",
       "      <td>0</td>\n",
       "      <td>NaN</td>\n",
       "      <td>NaN</td>\n",
       "      <td>NaN</td>\n",
       "      <td>ja</td>\n",
       "      <td>Singleword Benchmark</td>\n",
       "    </tr>\n",
       "    <tr>\n",
       "      <th>19</th>\n",
       "      <td>06fe0935ded73a2f11e14e7f0c77c0fa0fc8038c535978...</td>\n",
       "      <td>common_voice_ja_22207710.mp3</td>\n",
       "      <td>はい</td>\n",
       "      <td>2</td>\n",
       "      <td>0</td>\n",
       "      <td>NaN</td>\n",
       "      <td>NaN</td>\n",
       "      <td>NaN</td>\n",
       "      <td>ja</td>\n",
       "      <td>Singleword Benchmark</td>\n",
       "    </tr>\n",
       "    <tr>\n",
       "      <th>20</th>\n",
       "      <td>381457c10974ebd9dde81360a795b8661b91b4f856d43e...</td>\n",
       "      <td>common_voice_ja_19701169.mp3</td>\n",
       "      <td>部屋は全く整頓されていなかった。</td>\n",
       "      <td>2</td>\n",
       "      <td>0</td>\n",
       "      <td>teens</td>\n",
       "      <td>male</td>\n",
       "      <td>NaN</td>\n",
       "      <td>ja</td>\n",
       "      <td>NaN</td>\n",
       "    </tr>\n",
       "    <tr>\n",
       "      <th>21</th>\n",
       "      <td>381457c10974ebd9dde81360a795b8661b91b4f856d43e...</td>\n",
       "      <td>common_voice_ja_19701172.mp3</td>\n",
       "      <td>父は母を愛している。</td>\n",
       "      <td>2</td>\n",
       "      <td>0</td>\n",
       "      <td>teens</td>\n",
       "      <td>male</td>\n",
       "      <td>NaN</td>\n",
       "      <td>ja</td>\n",
       "      <td>NaN</td>\n",
       "    </tr>\n",
       "    <tr>\n",
       "      <th>22</th>\n",
       "      <td>381457c10974ebd9dde81360a795b8661b91b4f856d43e...</td>\n",
       "      <td>common_voice_ja_19701171.mp3</td>\n",
       "      <td>布に応じて衣服を裁て。</td>\n",
       "      <td>2</td>\n",
       "      <td>0</td>\n",
       "      <td>teens</td>\n",
       "      <td>male</td>\n",
       "      <td>NaN</td>\n",
       "      <td>ja</td>\n",
       "      <td>NaN</td>\n",
       "    </tr>\n",
       "    <tr>\n",
       "      <th>23</th>\n",
       "      <td>381457c10974ebd9dde81360a795b8661b91b4f856d43e...</td>\n",
       "      <td>common_voice_ja_19701173.mp3</td>\n",
       "      <td>父は私の弟を掌中の玉のようにかわいがった。</td>\n",
       "      <td>2</td>\n",
       "      <td>0</td>\n",
       "      <td>teens</td>\n",
       "      <td>male</td>\n",
       "      <td>NaN</td>\n",
       "      <td>ja</td>\n",
       "      <td>NaN</td>\n",
       "    </tr>\n",
       "    <tr>\n",
       "      <th>24</th>\n",
       "      <td>4266f6c611fca10d9c2c1c2c0b88d0c0daff1b40974d87...</td>\n",
       "      <td>common_voice_ja_20453565.mp3</td>\n",
       "      <td>複写機の紙を切らしたよ。</td>\n",
       "      <td>2</td>\n",
       "      <td>0</td>\n",
       "      <td>twenties</td>\n",
       "      <td>male</td>\n",
       "      <td>NaN</td>\n",
       "      <td>ja</td>\n",
       "      <td>NaN</td>\n",
       "    </tr>\n",
       "    <tr>\n",
       "      <th>25</th>\n",
       "      <td>4266f6c611fca10d9c2c1c2c0b88d0c0daff1b40974d87...</td>\n",
       "      <td>common_voice_ja_20453567.mp3</td>\n",
       "      <td>彼女は疲れていたけれども、その仕事を仕上げようとした。</td>\n",
       "      <td>2</td>\n",
       "      <td>0</td>\n",
       "      <td>twenties</td>\n",
       "      <td>male</td>\n",
       "      <td>NaN</td>\n",
       "      <td>ja</td>\n",
       "      <td>NaN</td>\n",
       "    </tr>\n",
       "    <tr>\n",
       "      <th>26</th>\n",
       "      <td>4266f6c611fca10d9c2c1c2c0b88d0c0daff1b40974d87...</td>\n",
       "      <td>common_voice_ja_20453570.mp3</td>\n",
       "      <td>風邪は抜けない。</td>\n",
       "      <td>2</td>\n",
       "      <td>0</td>\n",
       "      <td>twenties</td>\n",
       "      <td>male</td>\n",
       "      <td>NaN</td>\n",
       "      <td>ja</td>\n",
       "      <td>NaN</td>\n",
       "    </tr>\n",
       "    <tr>\n",
       "      <th>27</th>\n",
       "      <td>4266f6c611fca10d9c2c1c2c0b88d0c0daff1b40974d87...</td>\n",
       "      <td>common_voice_ja_20453571.mp3</td>\n",
       "      <td>彼女を驚かせようという考えが突然私の頭にひらめいた。</td>\n",
       "      <td>2</td>\n",
       "      <td>0</td>\n",
       "      <td>twenties</td>\n",
       "      <td>male</td>\n",
       "      <td>NaN</td>\n",
       "      <td>ja</td>\n",
       "      <td>NaN</td>\n",
       "    </tr>\n",
       "    <tr>\n",
       "      <th>28</th>\n",
       "      <td>463a90da9db7c742ce2e9399d5375fb9129fcf3baf80b0...</td>\n",
       "      <td>common_voice_ja_20088745.mp3</td>\n",
       "      <td>小林さんは青い傘を持っています。</td>\n",
       "      <td>2</td>\n",
       "      <td>0</td>\n",
       "      <td>NaN</td>\n",
       "      <td>NaN</td>\n",
       "      <td>NaN</td>\n",
       "      <td>ja</td>\n",
       "      <td>NaN</td>\n",
       "    </tr>\n",
       "    <tr>\n",
       "      <th>29</th>\n",
       "      <td>463a90da9db7c742ce2e9399d5375fb9129fcf3baf80b0...</td>\n",
       "      <td>common_voice_ja_20088746.mp3</td>\n",
       "      <td>父はまだ帰っていません。</td>\n",
       "      <td>2</td>\n",
       "      <td>0</td>\n",
       "      <td>NaN</td>\n",
       "      <td>NaN</td>\n",
       "      <td>NaN</td>\n",
       "      <td>ja</td>\n",
       "      <td>NaN</td>\n",
       "    </tr>\n",
       "    <tr>\n",
       "      <th>...</th>\n",
       "      <td>...</td>\n",
       "      <td>...</td>\n",
       "      <td>...</td>\n",
       "      <td>...</td>\n",
       "      <td>...</td>\n",
       "      <td>...</td>\n",
       "      <td>...</td>\n",
       "      <td>...</td>\n",
       "      <td>...</td>\n",
       "      <td>...</td>\n",
       "    </tr>\n",
       "    <tr>\n",
       "      <th>695</th>\n",
       "      <td>c26b5026d43709b6b49e3d5ef6a8805d0bf166e3d2f64b...</td>\n",
       "      <td>common_voice_ja_22482116.mp3</td>\n",
       "      <td>風はとてもひどく吹いている。</td>\n",
       "      <td>0</td>\n",
       "      <td>0</td>\n",
       "      <td>NaN</td>\n",
       "      <td>male</td>\n",
       "      <td>NaN</td>\n",
       "      <td>ja</td>\n",
       "      <td>NaN</td>\n",
       "    </tr>\n",
       "    <tr>\n",
       "      <th>696</th>\n",
       "      <td>c26b5026d43709b6b49e3d5ef6a8805d0bf166e3d2f64b...</td>\n",
       "      <td>common_voice_ja_22482115.mp3</td>\n",
       "      <td>あさって海へ泳ぎに行こうと思っています。</td>\n",
       "      <td>0</td>\n",
       "      <td>0</td>\n",
       "      <td>NaN</td>\n",
       "      <td>male</td>\n",
       "      <td>NaN</td>\n",
       "      <td>ja</td>\n",
       "      <td>NaN</td>\n",
       "    </tr>\n",
       "    <tr>\n",
       "      <th>697</th>\n",
       "      <td>c26b5026d43709b6b49e3d5ef6a8805d0bf166e3d2f64b...</td>\n",
       "      <td>common_voice_ja_22482119.mp3</td>\n",
       "      <td>新しいうちは駅から近いので、とても便利です。</td>\n",
       "      <td>0</td>\n",
       "      <td>0</td>\n",
       "      <td>NaN</td>\n",
       "      <td>male</td>\n",
       "      <td>NaN</td>\n",
       "      <td>ja</td>\n",
       "      <td>NaN</td>\n",
       "    </tr>\n",
       "    <tr>\n",
       "      <th>698</th>\n",
       "      <td>c26b5026d43709b6b49e3d5ef6a8805d0bf166e3d2f64b...</td>\n",
       "      <td>common_voice_ja_22482120.mp3</td>\n",
       "      <td>わたしは時々あそこの本屋へ行きます。</td>\n",
       "      <td>0</td>\n",
       "      <td>0</td>\n",
       "      <td>NaN</td>\n",
       "      <td>male</td>\n",
       "      <td>NaN</td>\n",
       "      <td>ja</td>\n",
       "      <td>NaN</td>\n",
       "    </tr>\n",
       "    <tr>\n",
       "      <th>699</th>\n",
       "      <td>c26b5026d43709b6b49e3d5ef6a8805d0bf166e3d2f64b...</td>\n",
       "      <td>common_voice_ja_22482121.mp3</td>\n",
       "      <td>もう、夕暮れのようである。</td>\n",
       "      <td>0</td>\n",
       "      <td>0</td>\n",
       "      <td>NaN</td>\n",
       "      <td>male</td>\n",
       "      <td>NaN</td>\n",
       "      <td>ja</td>\n",
       "      <td>NaN</td>\n",
       "    </tr>\n",
       "    <tr>\n",
       "      <th>700</th>\n",
       "      <td>c26b5026d43709b6b49e3d5ef6a8805d0bf166e3d2f64b...</td>\n",
       "      <td>common_voice_ja_22482122.mp3</td>\n",
       "      <td>部屋の中をきちんと整理しなさい。</td>\n",
       "      <td>0</td>\n",
       "      <td>0</td>\n",
       "      <td>NaN</td>\n",
       "      <td>male</td>\n",
       "      <td>NaN</td>\n",
       "      <td>ja</td>\n",
       "      <td>NaN</td>\n",
       "    </tr>\n",
       "    <tr>\n",
       "      <th>701</th>\n",
       "      <td>c26b5026d43709b6b49e3d5ef6a8805d0bf166e3d2f64b...</td>\n",
       "      <td>common_voice_ja_22482124.mp3</td>\n",
       "      <td>父は私が外国へ行くことを承知した。</td>\n",
       "      <td>0</td>\n",
       "      <td>0</td>\n",
       "      <td>NaN</td>\n",
       "      <td>male</td>\n",
       "      <td>NaN</td>\n",
       "      <td>ja</td>\n",
       "      <td>NaN</td>\n",
       "    </tr>\n",
       "    <tr>\n",
       "      <th>702</th>\n",
       "      <td>c26b5026d43709b6b49e3d5ef6a8805d0bf166e3d2f64b...</td>\n",
       "      <td>common_voice_ja_22482126.mp3</td>\n",
       "      <td>部屋が暗いので、電気をつけます。</td>\n",
       "      <td>0</td>\n",
       "      <td>0</td>\n",
       "      <td>NaN</td>\n",
       "      <td>male</td>\n",
       "      <td>NaN</td>\n",
       "      <td>ja</td>\n",
       "      <td>NaN</td>\n",
       "    </tr>\n",
       "    <tr>\n",
       "      <th>703</th>\n",
       "      <td>c26b5026d43709b6b49e3d5ef6a8805d0bf166e3d2f64b...</td>\n",
       "      <td>common_voice_ja_22482127.mp3</td>\n",
       "      <td>わたしとイさんは同じグループです。</td>\n",
       "      <td>0</td>\n",
       "      <td>0</td>\n",
       "      <td>NaN</td>\n",
       "      <td>male</td>\n",
       "      <td>NaN</td>\n",
       "      <td>ja</td>\n",
       "      <td>NaN</td>\n",
       "    </tr>\n",
       "    <tr>\n",
       "      <th>704</th>\n",
       "      <td>c26b5026d43709b6b49e3d5ef6a8805d0bf166e3d2f64b...</td>\n",
       "      <td>common_voice_ja_22482125.mp3</td>\n",
       "      <td>わたしは駅員に切符を見せました。</td>\n",
       "      <td>0</td>\n",
       "      <td>0</td>\n",
       "      <td>NaN</td>\n",
       "      <td>male</td>\n",
       "      <td>NaN</td>\n",
       "      <td>ja</td>\n",
       "      <td>NaN</td>\n",
       "    </tr>\n",
       "    <tr>\n",
       "      <th>705</th>\n",
       "      <td>c26b5026d43709b6b49e3d5ef6a8805d0bf166e3d2f64b...</td>\n",
       "      <td>common_voice_ja_22482128.mp3</td>\n",
       "      <td>頻繁にパーティーを開くのが大好きだ。</td>\n",
       "      <td>0</td>\n",
       "      <td>0</td>\n",
       "      <td>NaN</td>\n",
       "      <td>male</td>\n",
       "      <td>NaN</td>\n",
       "      <td>ja</td>\n",
       "      <td>NaN</td>\n",
       "    </tr>\n",
       "    <tr>\n",
       "      <th>706</th>\n",
       "      <td>c26b5026d43709b6b49e3d5ef6a8805d0bf166e3d2f64b...</td>\n",
       "      <td>common_voice_ja_22482134.mp3</td>\n",
       "      <td>兵庫県の人口はどれぐらいですか。</td>\n",
       "      <td>0</td>\n",
       "      <td>0</td>\n",
       "      <td>NaN</td>\n",
       "      <td>male</td>\n",
       "      <td>NaN</td>\n",
       "      <td>ja</td>\n",
       "      <td>NaN</td>\n",
       "    </tr>\n",
       "    <tr>\n",
       "      <th>707</th>\n",
       "      <td>c26b5026d43709b6b49e3d5ef6a8805d0bf166e3d2f64b...</td>\n",
       "      <td>common_voice_ja_22482130.mp3</td>\n",
       "      <td>その本はわたしのです。</td>\n",
       "      <td>0</td>\n",
       "      <td>0</td>\n",
       "      <td>NaN</td>\n",
       "      <td>male</td>\n",
       "      <td>NaN</td>\n",
       "      <td>ja</td>\n",
       "      <td>NaN</td>\n",
       "    </tr>\n",
       "    <tr>\n",
       "      <th>708</th>\n",
       "      <td>c26b5026d43709b6b49e3d5ef6a8805d0bf166e3d2f64b...</td>\n",
       "      <td>common_voice_ja_22482136.mp3</td>\n",
       "      <td>服を着替えて降りてらっしゃい。</td>\n",
       "      <td>0</td>\n",
       "      <td>0</td>\n",
       "      <td>NaN</td>\n",
       "      <td>male</td>\n",
       "      <td>NaN</td>\n",
       "      <td>ja</td>\n",
       "      <td>NaN</td>\n",
       "    </tr>\n",
       "    <tr>\n",
       "      <th>709</th>\n",
       "      <td>c26b5026d43709b6b49e3d5ef6a8805d0bf166e3d2f64b...</td>\n",
       "      <td>common_voice_ja_22482131.mp3</td>\n",
       "      <td>父は誕生日の祝いに時計をくれた。</td>\n",
       "      <td>0</td>\n",
       "      <td>0</td>\n",
       "      <td>NaN</td>\n",
       "      <td>male</td>\n",
       "      <td>NaN</td>\n",
       "      <td>ja</td>\n",
       "      <td>NaN</td>\n",
       "    </tr>\n",
       "    <tr>\n",
       "      <th>710</th>\n",
       "      <td>c26b5026d43709b6b49e3d5ef6a8805d0bf166e3d2f64b...</td>\n",
       "      <td>common_voice_ja_22482141.mp3</td>\n",
       "      <td>レーザー光線を、レンズで拡散させ、撮影したい物体に当て、その反射光を、半透明なフィルムで受ける。</td>\n",
       "      <td>0</td>\n",
       "      <td>0</td>\n",
       "      <td>NaN</td>\n",
       "      <td>male</td>\n",
       "      <td>NaN</td>\n",
       "      <td>ja</td>\n",
       "      <td>NaN</td>\n",
       "    </tr>\n",
       "    <tr>\n",
       "      <th>711</th>\n",
       "      <td>c26b5026d43709b6b49e3d5ef6a8805d0bf166e3d2f64b...</td>\n",
       "      <td>common_voice_ja_22482135.mp3</td>\n",
       "      <td>日本人はおはしを使って、ごはんを食べます。</td>\n",
       "      <td>0</td>\n",
       "      <td>0</td>\n",
       "      <td>NaN</td>\n",
       "      <td>male</td>\n",
       "      <td>NaN</td>\n",
       "      <td>ja</td>\n",
       "      <td>NaN</td>\n",
       "    </tr>\n",
       "    <tr>\n",
       "      <th>712</th>\n",
       "      <td>c26b5026d43709b6b49e3d5ef6a8805d0bf166e3d2f64b...</td>\n",
       "      <td>common_voice_ja_22482137.mp3</td>\n",
       "      <td>文句をいうなよ身から出た錆だぞ。</td>\n",
       "      <td>0</td>\n",
       "      <td>0</td>\n",
       "      <td>NaN</td>\n",
       "      <td>male</td>\n",
       "      <td>NaN</td>\n",
       "      <td>ja</td>\n",
       "      <td>NaN</td>\n",
       "    </tr>\n",
       "    <tr>\n",
       "      <th>713</th>\n",
       "      <td>c26b5026d43709b6b49e3d5ef6a8805d0bf166e3d2f64b...</td>\n",
       "      <td>common_voice_ja_22482138.mp3</td>\n",
       "      <td>父がついでに私を飛行場まで送ってくれることになっている。</td>\n",
       "      <td>0</td>\n",
       "      <td>0</td>\n",
       "      <td>NaN</td>\n",
       "      <td>male</td>\n",
       "      <td>NaN</td>\n",
       "      <td>ja</td>\n",
       "      <td>NaN</td>\n",
       "    </tr>\n",
       "    <tr>\n",
       "      <th>714</th>\n",
       "      <td>c26b5026d43709b6b49e3d5ef6a8805d0bf166e3d2f64b...</td>\n",
       "      <td>common_voice_ja_22482140.mp3</td>\n",
       "      <td>富者は、貧者と同じ栄養状態に落ち込み、貧者は、餓死まで、後一歩という状態へ落ち込んでいく。</td>\n",
       "      <td>0</td>\n",
       "      <td>0</td>\n",
       "      <td>NaN</td>\n",
       "      <td>male</td>\n",
       "      <td>NaN</td>\n",
       "      <td>ja</td>\n",
       "      <td>NaN</td>\n",
       "    </tr>\n",
       "    <tr>\n",
       "      <th>715</th>\n",
       "      <td>c26b5026d43709b6b49e3d5ef6a8805d0bf166e3d2f64b...</td>\n",
       "      <td>common_voice_ja_22482133.mp3</td>\n",
       "      <td>この本はとてもおもしろいと思います。</td>\n",
       "      <td>0</td>\n",
       "      <td>0</td>\n",
       "      <td>NaN</td>\n",
       "      <td>male</td>\n",
       "      <td>NaN</td>\n",
       "      <td>ja</td>\n",
       "      <td>NaN</td>\n",
       "    </tr>\n",
       "    <tr>\n",
       "      <th>716</th>\n",
       "      <td>c26b5026d43709b6b49e3d5ef6a8805d0bf166e3d2f64b...</td>\n",
       "      <td>common_voice_ja_22482143.mp3</td>\n",
       "      <td>日本の料理はどうですか。</td>\n",
       "      <td>0</td>\n",
       "      <td>0</td>\n",
       "      <td>NaN</td>\n",
       "      <td>male</td>\n",
       "      <td>NaN</td>\n",
       "      <td>ja</td>\n",
       "      <td>NaN</td>\n",
       "    </tr>\n",
       "    <tr>\n",
       "      <th>717</th>\n",
       "      <td>c26b5026d43709b6b49e3d5ef6a8805d0bf166e3d2f64b...</td>\n",
       "      <td>common_voice_ja_22482142.mp3</td>\n",
       "      <td>彼女は腹立ちまぎれに婚約を破棄した。</td>\n",
       "      <td>0</td>\n",
       "      <td>0</td>\n",
       "      <td>NaN</td>\n",
       "      <td>male</td>\n",
       "      <td>NaN</td>\n",
       "      <td>ja</td>\n",
       "      <td>NaN</td>\n",
       "    </tr>\n",
       "    <tr>\n",
       "      <th>718</th>\n",
       "      <td>c26b5026d43709b6b49e3d5ef6a8805d0bf166e3d2f64b...</td>\n",
       "      <td>common_voice_ja_22482139.mp3</td>\n",
       "      <td>壁に写真をはります。</td>\n",
       "      <td>0</td>\n",
       "      <td>0</td>\n",
       "      <td>NaN</td>\n",
       "      <td>male</td>\n",
       "      <td>NaN</td>\n",
       "      <td>ja</td>\n",
       "      <td>NaN</td>\n",
       "    </tr>\n",
       "    <tr>\n",
       "      <th>719</th>\n",
       "      <td>c26b5026d43709b6b49e3d5ef6a8805d0bf166e3d2f64b...</td>\n",
       "      <td>common_voice_ja_22482129.mp3</td>\n",
       "      <td>負傷した兵士はほとんど歩けなかった。</td>\n",
       "      <td>0</td>\n",
       "      <td>0</td>\n",
       "      <td>NaN</td>\n",
       "      <td>male</td>\n",
       "      <td>NaN</td>\n",
       "      <td>ja</td>\n",
       "      <td>NaN</td>\n",
       "    </tr>\n",
       "    <tr>\n",
       "      <th>720</th>\n",
       "      <td>c26b5026d43709b6b49e3d5ef6a8805d0bf166e3d2f64b...</td>\n",
       "      <td>common_voice_ja_22482150.mp3</td>\n",
       "      <td>わたしたちの社会は、言葉によるコミュニケーションによって、支えられている。</td>\n",
       "      <td>0</td>\n",
       "      <td>0</td>\n",
       "      <td>NaN</td>\n",
       "      <td>male</td>\n",
       "      <td>NaN</td>\n",
       "      <td>ja</td>\n",
       "      <td>NaN</td>\n",
       "    </tr>\n",
       "    <tr>\n",
       "      <th>721</th>\n",
       "      <td>c26b5026d43709b6b49e3d5ef6a8805d0bf166e3d2f64b...</td>\n",
       "      <td>common_voice_ja_22482151.mp3</td>\n",
       "      <td>この文は短いので、読みやすいです。</td>\n",
       "      <td>0</td>\n",
       "      <td>0</td>\n",
       "      <td>NaN</td>\n",
       "      <td>male</td>\n",
       "      <td>NaN</td>\n",
       "      <td>ja</td>\n",
       "      <td>NaN</td>\n",
       "    </tr>\n",
       "    <tr>\n",
       "      <th>722</th>\n",
       "      <td>c26b5026d43709b6b49e3d5ef6a8805d0bf166e3d2f64b...</td>\n",
       "      <td>common_voice_ja_22482152.mp3</td>\n",
       "      <td>壁にペンキが塗られた。</td>\n",
       "      <td>0</td>\n",
       "      <td>0</td>\n",
       "      <td>NaN</td>\n",
       "      <td>male</td>\n",
       "      <td>NaN</td>\n",
       "      <td>ja</td>\n",
       "      <td>NaN</td>\n",
       "    </tr>\n",
       "    <tr>\n",
       "      <th>723</th>\n",
       "      <td>c26b5026d43709b6b49e3d5ef6a8805d0bf166e3d2f64b...</td>\n",
       "      <td>common_voice_ja_22482153.mp3</td>\n",
       "      <td>父は私にその本を買ってくれました。</td>\n",
       "      <td>0</td>\n",
       "      <td>0</td>\n",
       "      <td>NaN</td>\n",
       "      <td>male</td>\n",
       "      <td>NaN</td>\n",
       "      <td>ja</td>\n",
       "      <td>NaN</td>\n",
       "    </tr>\n",
       "    <tr>\n",
       "      <th>724</th>\n",
       "      <td>c26b5026d43709b6b49e3d5ef6a8805d0bf166e3d2f64b...</td>\n",
       "      <td>common_voice_ja_22482154.mp3</td>\n",
       "      <td>貧しい人を馬鹿にしてはいけない。</td>\n",
       "      <td>0</td>\n",
       "      <td>0</td>\n",
       "      <td>NaN</td>\n",
       "      <td>male</td>\n",
       "      <td>NaN</td>\n",
       "      <td>ja</td>\n",
       "      <td>NaN</td>\n",
       "    </tr>\n",
       "  </tbody>\n",
       "</table>\n",
       "<p>11138 rows × 10 columns</p>\n",
       "</div>"
      ],
      "text/plain": [
       "                                             client_id  \\\n",
       "0    087edae49ce1e0f600682ceccc7fc28e81e64ae890e647...   \n",
       "1    15b7d87a73d28b37664fdf7fea1ff232f89e80ce954c9b...   \n",
       "2    425f5a46e995ededc3a866f25ac1b5adba06f4ae991d1e...   \n",
       "3    4d037df65974988a11e23c8b1a853f70d3f02607bc3a9a...   \n",
       "4    6c2b1130c2bc95dd93ee9edca0f4550951e14e09123bd0...   \n",
       "5    6ef3526cdbe5773c8bcfeea7200469067786e3940a5552...   \n",
       "6    84b2e497ddfcc3cd7e7c9652cb9d673b3e109c0b79be1e...   \n",
       "7    8d15a5cf215278a9869edb9801b26ef35a7e588077d2b2...   \n",
       "8    c1550c98cd768e824a7394ede788232a3665e4fd5a0fd5...   \n",
       "9    dc4c7cb2b4b1baac5d54235744d1f7a707ea147492120c...   \n",
       "10   205155067163a7e1ed4f1c44c19020366bdef34aa7e04a...   \n",
       "11   205155067163a7e1ed4f1c44c19020366bdef34aa7e04a...   \n",
       "12   c6db82184d078f118a5916a5d47de9c125be2adf65cf0c...   \n",
       "13   c6db82184d078f118a5916a5d47de9c125be2adf65cf0c...   \n",
       "14   e0509c56e3f2844a433a78177d7a8c77b64aad8d592c41...   \n",
       "15   e0509c56e3f2844a433a78177d7a8c77b64aad8d592c41...   \n",
       "16   06fe0935ded73a2f11e14e7f0c77c0fa0fc8038c535978...   \n",
       "17   06fe0935ded73a2f11e14e7f0c77c0fa0fc8038c535978...   \n",
       "18   06fe0935ded73a2f11e14e7f0c77c0fa0fc8038c535978...   \n",
       "19   06fe0935ded73a2f11e14e7f0c77c0fa0fc8038c535978...   \n",
       "20   381457c10974ebd9dde81360a795b8661b91b4f856d43e...   \n",
       "21   381457c10974ebd9dde81360a795b8661b91b4f856d43e...   \n",
       "22   381457c10974ebd9dde81360a795b8661b91b4f856d43e...   \n",
       "23   381457c10974ebd9dde81360a795b8661b91b4f856d43e...   \n",
       "24   4266f6c611fca10d9c2c1c2c0b88d0c0daff1b40974d87...   \n",
       "25   4266f6c611fca10d9c2c1c2c0b88d0c0daff1b40974d87...   \n",
       "26   4266f6c611fca10d9c2c1c2c0b88d0c0daff1b40974d87...   \n",
       "27   4266f6c611fca10d9c2c1c2c0b88d0c0daff1b40974d87...   \n",
       "28   463a90da9db7c742ce2e9399d5375fb9129fcf3baf80b0...   \n",
       "29   463a90da9db7c742ce2e9399d5375fb9129fcf3baf80b0...   \n",
       "..                                                 ...   \n",
       "695  c26b5026d43709b6b49e3d5ef6a8805d0bf166e3d2f64b...   \n",
       "696  c26b5026d43709b6b49e3d5ef6a8805d0bf166e3d2f64b...   \n",
       "697  c26b5026d43709b6b49e3d5ef6a8805d0bf166e3d2f64b...   \n",
       "698  c26b5026d43709b6b49e3d5ef6a8805d0bf166e3d2f64b...   \n",
       "699  c26b5026d43709b6b49e3d5ef6a8805d0bf166e3d2f64b...   \n",
       "700  c26b5026d43709b6b49e3d5ef6a8805d0bf166e3d2f64b...   \n",
       "701  c26b5026d43709b6b49e3d5ef6a8805d0bf166e3d2f64b...   \n",
       "702  c26b5026d43709b6b49e3d5ef6a8805d0bf166e3d2f64b...   \n",
       "703  c26b5026d43709b6b49e3d5ef6a8805d0bf166e3d2f64b...   \n",
       "704  c26b5026d43709b6b49e3d5ef6a8805d0bf166e3d2f64b...   \n",
       "705  c26b5026d43709b6b49e3d5ef6a8805d0bf166e3d2f64b...   \n",
       "706  c26b5026d43709b6b49e3d5ef6a8805d0bf166e3d2f64b...   \n",
       "707  c26b5026d43709b6b49e3d5ef6a8805d0bf166e3d2f64b...   \n",
       "708  c26b5026d43709b6b49e3d5ef6a8805d0bf166e3d2f64b...   \n",
       "709  c26b5026d43709b6b49e3d5ef6a8805d0bf166e3d2f64b...   \n",
       "710  c26b5026d43709b6b49e3d5ef6a8805d0bf166e3d2f64b...   \n",
       "711  c26b5026d43709b6b49e3d5ef6a8805d0bf166e3d2f64b...   \n",
       "712  c26b5026d43709b6b49e3d5ef6a8805d0bf166e3d2f64b...   \n",
       "713  c26b5026d43709b6b49e3d5ef6a8805d0bf166e3d2f64b...   \n",
       "714  c26b5026d43709b6b49e3d5ef6a8805d0bf166e3d2f64b...   \n",
       "715  c26b5026d43709b6b49e3d5ef6a8805d0bf166e3d2f64b...   \n",
       "716  c26b5026d43709b6b49e3d5ef6a8805d0bf166e3d2f64b...   \n",
       "717  c26b5026d43709b6b49e3d5ef6a8805d0bf166e3d2f64b...   \n",
       "718  c26b5026d43709b6b49e3d5ef6a8805d0bf166e3d2f64b...   \n",
       "719  c26b5026d43709b6b49e3d5ef6a8805d0bf166e3d2f64b...   \n",
       "720  c26b5026d43709b6b49e3d5ef6a8805d0bf166e3d2f64b...   \n",
       "721  c26b5026d43709b6b49e3d5ef6a8805d0bf166e3d2f64b...   \n",
       "722  c26b5026d43709b6b49e3d5ef6a8805d0bf166e3d2f64b...   \n",
       "723  c26b5026d43709b6b49e3d5ef6a8805d0bf166e3d2f64b...   \n",
       "724  c26b5026d43709b6b49e3d5ef6a8805d0bf166e3d2f64b...   \n",
       "\n",
       "                             path  \\\n",
       "0    common_voice_ja_22072759.mp3   \n",
       "1    common_voice_ja_19499629.mp3   \n",
       "2    common_voice_ja_19984402.mp3   \n",
       "3    common_voice_ja_21358328.mp3   \n",
       "4    common_voice_ja_20946865.mp3   \n",
       "5    common_voice_ja_22219505.mp3   \n",
       "6    common_voice_ja_20650478.mp3   \n",
       "7    common_voice_ja_22307742.mp3   \n",
       "8    common_voice_ja_21493990.mp3   \n",
       "9    common_voice_ja_19676248.mp3   \n",
       "10   common_voice_ja_20184176.mp3   \n",
       "11   common_voice_ja_20184174.mp3   \n",
       "12   common_voice_ja_22247308.mp3   \n",
       "13   common_voice_ja_22247312.mp3   \n",
       "14   common_voice_ja_19792531.mp3   \n",
       "15   common_voice_ja_19792532.mp3   \n",
       "16   common_voice_ja_22207708.mp3   \n",
       "17   common_voice_ja_22207709.mp3   \n",
       "18   common_voice_ja_22207707.mp3   \n",
       "19   common_voice_ja_22207710.mp3   \n",
       "20   common_voice_ja_19701169.mp3   \n",
       "21   common_voice_ja_19701172.mp3   \n",
       "22   common_voice_ja_19701171.mp3   \n",
       "23   common_voice_ja_19701173.mp3   \n",
       "24   common_voice_ja_20453565.mp3   \n",
       "25   common_voice_ja_20453567.mp3   \n",
       "26   common_voice_ja_20453570.mp3   \n",
       "27   common_voice_ja_20453571.mp3   \n",
       "28   common_voice_ja_20088745.mp3   \n",
       "29   common_voice_ja_20088746.mp3   \n",
       "..                            ...   \n",
       "695  common_voice_ja_22482116.mp3   \n",
       "696  common_voice_ja_22482115.mp3   \n",
       "697  common_voice_ja_22482119.mp3   \n",
       "698  common_voice_ja_22482120.mp3   \n",
       "699  common_voice_ja_22482121.mp3   \n",
       "700  common_voice_ja_22482122.mp3   \n",
       "701  common_voice_ja_22482124.mp3   \n",
       "702  common_voice_ja_22482126.mp3   \n",
       "703  common_voice_ja_22482127.mp3   \n",
       "704  common_voice_ja_22482125.mp3   \n",
       "705  common_voice_ja_22482128.mp3   \n",
       "706  common_voice_ja_22482134.mp3   \n",
       "707  common_voice_ja_22482130.mp3   \n",
       "708  common_voice_ja_22482136.mp3   \n",
       "709  common_voice_ja_22482131.mp3   \n",
       "710  common_voice_ja_22482141.mp3   \n",
       "711  common_voice_ja_22482135.mp3   \n",
       "712  common_voice_ja_22482137.mp3   \n",
       "713  common_voice_ja_22482138.mp3   \n",
       "714  common_voice_ja_22482140.mp3   \n",
       "715  common_voice_ja_22482133.mp3   \n",
       "716  common_voice_ja_22482143.mp3   \n",
       "717  common_voice_ja_22482142.mp3   \n",
       "718  common_voice_ja_22482139.mp3   \n",
       "719  common_voice_ja_22482129.mp3   \n",
       "720  common_voice_ja_22482150.mp3   \n",
       "721  common_voice_ja_22482151.mp3   \n",
       "722  common_voice_ja_22482152.mp3   \n",
       "723  common_voice_ja_22482153.mp3   \n",
       "724  common_voice_ja_22482154.mp3   \n",
       "\n",
       "                                             sentence  up_votes  down_votes  \\\n",
       "0                                  財布をなくしたので、交番へ行きます。         2           0   \n",
       "1                                      新しい靴をはいて出かけます。         2           0   \n",
       "2                                             必ずやります。         2           0   \n",
       "3                               妹がまだ帰らないので、母は心配しています。         2           0   \n",
       "4                                 風が強くなりさえしなければいいですよ！         2           0   \n",
       "5                                                  はち         2           0   \n",
       "6                                    外国語を勉強するのは難しいです。         2           0   \n",
       "7                                                  れい         2           0   \n",
       "8                                    いろいろありがとうございました。         2           1   \n",
       "9                            ぶらぶらと、球場まで十分足らずの道を歩いていく。         2           0   \n",
       "10                                    彼女は彼を思い切りけとばした。         2           0   \n",
       "11                                     部屋の中に多くの聴衆がいた。         2           1   \n",
       "12                                                  し         2           0   \n",
       "13                                                 はち         2           0   \n",
       "14                           暑かったので、家へ帰って、シャワーを浴びました。         2           1   \n",
       "15                                     りっぱな大人になりたいです。         2           0   \n",
       "16                                                  に         2           0   \n",
       "17                                                いいえ         2           0   \n",
       "18                                                 しち         2           0   \n",
       "19                                                 はい         2           0   \n",
       "20                                   部屋は全く整頓されていなかった。         2           0   \n",
       "21                                         父は母を愛している。         2           0   \n",
       "22                                        布に応じて衣服を裁て。         2           0   \n",
       "23                              父は私の弟を掌中の玉のようにかわいがった。         2           0   \n",
       "24                                       複写機の紙を切らしたよ。         2           0   \n",
       "25                        彼女は疲れていたけれども、その仕事を仕上げようとした。         2           0   \n",
       "26                                           風邪は抜けない。         2           0   \n",
       "27                         彼女を驚かせようという考えが突然私の頭にひらめいた。         2           0   \n",
       "28                                   小林さんは青い傘を持っています。         2           0   \n",
       "29                                       父はまだ帰っていません。         2           0   \n",
       "..                                                ...       ...         ...   \n",
       "695                                    風はとてもひどく吹いている。         0           0   \n",
       "696                              あさって海へ泳ぎに行こうと思っています。         0           0   \n",
       "697                            新しいうちは駅から近いので、とても便利です。         0           0   \n",
       "698                                わたしは時々あそこの本屋へ行きます。         0           0   \n",
       "699                                     もう、夕暮れのようである。         0           0   \n",
       "700                                  部屋の中をきちんと整理しなさい。         0           0   \n",
       "701                                 父は私が外国へ行くことを承知した。         0           0   \n",
       "702                                  部屋が暗いので、電気をつけます。         0           0   \n",
       "703                                 わたしとイさんは同じグループです。         0           0   \n",
       "704                                  わたしは駅員に切符を見せました。         0           0   \n",
       "705                                頻繁にパーティーを開くのが大好きだ。         0           0   \n",
       "706                                  兵庫県の人口はどれぐらいですか。         0           0   \n",
       "707                                       その本はわたしのです。         0           0   \n",
       "708                                   服を着替えて降りてらっしゃい。         0           0   \n",
       "709                                  父は誕生日の祝いに時計をくれた。         0           0   \n",
       "710  レーザー光線を、レンズで拡散させ、撮影したい物体に当て、その反射光を、半透明なフィルムで受ける。         0           0   \n",
       "711                             日本人はおはしを使って、ごはんを食べます。         0           0   \n",
       "712                                  文句をいうなよ身から出た錆だぞ。         0           0   \n",
       "713                      父がついでに私を飛行場まで送ってくれることになっている。         0           0   \n",
       "714     富者は、貧者と同じ栄養状態に落ち込み、貧者は、餓死まで、後一歩という状態へ落ち込んでいく。         0           0   \n",
       "715                                この本はとてもおもしろいと思います。         0           0   \n",
       "716                                      日本の料理はどうですか。         0           0   \n",
       "717                                彼女は腹立ちまぎれに婚約を破棄した。         0           0   \n",
       "718                                        壁に写真をはります。         0           0   \n",
       "719                                負傷した兵士はほとんど歩けなかった。         0           0   \n",
       "720             わたしたちの社会は、言葉によるコミュニケーションによって、支えられている。         0           0   \n",
       "721                                 この文は短いので、読みやすいです。         0           0   \n",
       "722                                       壁にペンキが塗られた。         0           0   \n",
       "723                                 父は私にその本を買ってくれました。         0           0   \n",
       "724                                  貧しい人を馬鹿にしてはいけない。         0           0   \n",
       "\n",
       "          age  gender  accent locale               segment  \n",
       "0       teens  female     NaN     ja                   NaN  \n",
       "1         NaN     NaN     NaN     ja                   NaN  \n",
       "2    twenties    male     NaN     ja                   NaN  \n",
       "3    twenties    male     NaN     ja                   NaN  \n",
       "4    thirties    male     NaN     ja                   NaN  \n",
       "5         NaN     NaN     NaN     ja  Singleword Benchmark  \n",
       "6         NaN     NaN     NaN     ja                   NaN  \n",
       "7         NaN     NaN     NaN     ja  Singleword Benchmark  \n",
       "8         NaN     NaN     NaN     ja                   NaN  \n",
       "9    twenties  female     NaN     ja                   NaN  \n",
       "10   thirties     NaN     NaN     ja                   NaN  \n",
       "11   thirties     NaN     NaN     ja                   NaN  \n",
       "12        NaN     NaN     NaN     ja  Singleword Benchmark  \n",
       "13        NaN     NaN     NaN     ja  Singleword Benchmark  \n",
       "14   twenties    male     NaN     ja                   NaN  \n",
       "15   twenties    male     NaN     ja                   NaN  \n",
       "16        NaN     NaN     NaN     ja  Singleword Benchmark  \n",
       "17        NaN     NaN     NaN     ja  Singleword Benchmark  \n",
       "18        NaN     NaN     NaN     ja  Singleword Benchmark  \n",
       "19        NaN     NaN     NaN     ja  Singleword Benchmark  \n",
       "20      teens    male     NaN     ja                   NaN  \n",
       "21      teens    male     NaN     ja                   NaN  \n",
       "22      teens    male     NaN     ja                   NaN  \n",
       "23      teens    male     NaN     ja                   NaN  \n",
       "24   twenties    male     NaN     ja                   NaN  \n",
       "25   twenties    male     NaN     ja                   NaN  \n",
       "26   twenties    male     NaN     ja                   NaN  \n",
       "27   twenties    male     NaN     ja                   NaN  \n",
       "28        NaN     NaN     NaN     ja                   NaN  \n",
       "29        NaN     NaN     NaN     ja                   NaN  \n",
       "..        ...     ...     ...    ...                   ...  \n",
       "695       NaN    male     NaN     ja                   NaN  \n",
       "696       NaN    male     NaN     ja                   NaN  \n",
       "697       NaN    male     NaN     ja                   NaN  \n",
       "698       NaN    male     NaN     ja                   NaN  \n",
       "699       NaN    male     NaN     ja                   NaN  \n",
       "700       NaN    male     NaN     ja                   NaN  \n",
       "701       NaN    male     NaN     ja                   NaN  \n",
       "702       NaN    male     NaN     ja                   NaN  \n",
       "703       NaN    male     NaN     ja                   NaN  \n",
       "704       NaN    male     NaN     ja                   NaN  \n",
       "705       NaN    male     NaN     ja                   NaN  \n",
       "706       NaN    male     NaN     ja                   NaN  \n",
       "707       NaN    male     NaN     ja                   NaN  \n",
       "708       NaN    male     NaN     ja                   NaN  \n",
       "709       NaN    male     NaN     ja                   NaN  \n",
       "710       NaN    male     NaN     ja                   NaN  \n",
       "711       NaN    male     NaN     ja                   NaN  \n",
       "712       NaN    male     NaN     ja                   NaN  \n",
       "713       NaN    male     NaN     ja                   NaN  \n",
       "714       NaN    male     NaN     ja                   NaN  \n",
       "715       NaN    male     NaN     ja                   NaN  \n",
       "716       NaN    male     NaN     ja                   NaN  \n",
       "717       NaN    male     NaN     ja                   NaN  \n",
       "718       NaN    male     NaN     ja                   NaN  \n",
       "719       NaN    male     NaN     ja                   NaN  \n",
       "720       NaN    male     NaN     ja                   NaN  \n",
       "721       NaN    male     NaN     ja                   NaN  \n",
       "722       NaN    male     NaN     ja                   NaN  \n",
       "723       NaN    male     NaN     ja                   NaN  \n",
       "724       NaN    male     NaN     ja                   NaN  \n",
       "\n",
       "[11138 rows x 10 columns]"
      ]
     },
     "execution_count": 22,
     "metadata": {},
     "output_type": "execute_result"
    }
   ],
   "source": [
    "df_sum"
   ]
  },
  {
   "cell_type": "code",
   "execution_count": 23,
   "metadata": {
    "scrolled": true
   },
   "outputs": [
    {
     "name": "stderr",
     "output_type": "stream",
     "text": [
      "[WARNING] 1 utterances containing language switches on lines 2\n",
      "[WARNING] extra phones may appear in the \"ja\" phoneset\n",
      "[WARNING] language switch flags have been removed (applying \"remove-flags\" policy)\n",
      "[WARNING] 1 utterances containing language switches on lines 1\n",
      "[WARNING] extra phones may appear in the \"ja\" phoneset\n",
      "[WARNING] language switch flags have been removed (applying \"remove-flags\" policy)\n",
      "[WARNING] 1 utterances containing language switches on lines 2\n",
      "[WARNING] extra phones may appear in the \"ja\" phoneset\n",
      "[WARNING] language switch flags have been removed (applying \"remove-flags\" policy)\n",
      "[WARNING] 1 utterances containing language switches on lines 1\n",
      "[WARNING] extra phones may appear in the \"ja\" phoneset\n",
      "[WARNING] language switch flags have been removed (applying \"remove-flags\" policy)\n",
      "[WARNING] 1 utterances containing language switches on lines 1\n",
      "[WARNING] extra phones may appear in the \"ja\" phoneset\n",
      "[WARNING] language switch flags have been removed (applying \"remove-flags\" policy)\n",
      "[WARNING] 1 utterances containing language switches on lines 1\n",
      "[WARNING] extra phones may appear in the \"ja\" phoneset\n",
      "[WARNING] language switch flags have been removed (applying \"remove-flags\" policy)\n",
      "[WARNING] 1 utterances containing language switches on lines 1\n",
      "[WARNING] extra phones may appear in the \"ja\" phoneset\n",
      "[WARNING] language switch flags have been removed (applying \"remove-flags\" policy)\n",
      "[WARNING] 1 utterances containing language switches on lines 1\n",
      "[WARNING] extra phones may appear in the \"ja\" phoneset\n",
      "[WARNING] language switch flags have been removed (applying \"remove-flags\" policy)\n",
      "[WARNING] 1 utterances containing language switches on lines 2\n",
      "[WARNING] extra phones may appear in the \"ja\" phoneset\n",
      "[WARNING] language switch flags have been removed (applying \"remove-flags\" policy)\n",
      "[WARNING] 1 utterances containing language switches on lines 1\n",
      "[WARNING] extra phones may appear in the \"ja\" phoneset\n",
      "[WARNING] language switch flags have been removed (applying \"remove-flags\" policy)\n",
      "[WARNING] 1 utterances containing language switches on lines 2\n",
      "[WARNING] extra phones may appear in the \"ja\" phoneset\n",
      "[WARNING] language switch flags have been removed (applying \"remove-flags\" policy)\n",
      "[WARNING] 1 utterances containing language switches on lines 1\n",
      "[WARNING] extra phones may appear in the \"ja\" phoneset\n",
      "[WARNING] language switch flags have been removed (applying \"remove-flags\" policy)\n",
      "[WARNING] 1 utterances containing language switches on lines 2\n",
      "[WARNING] extra phones may appear in the \"ja\" phoneset\n",
      "[WARNING] language switch flags have been removed (applying \"remove-flags\" policy)\n",
      "[WARNING] 1 utterances containing language switches on lines 1\n",
      "[WARNING] extra phones may appear in the \"ja\" phoneset\n",
      "[WARNING] language switch flags have been removed (applying \"remove-flags\" policy)\n",
      "[WARNING] 1 utterances containing language switches on lines 1\n",
      "[WARNING] extra phones may appear in the \"ja\" phoneset\n",
      "[WARNING] language switch flags have been removed (applying \"remove-flags\" policy)\n",
      "[WARNING] 1 utterances containing language switches on lines 2\n",
      "[WARNING] extra phones may appear in the \"ja\" phoneset\n",
      "[WARNING] language switch flags have been removed (applying \"remove-flags\" policy)\n",
      "[WARNING] 1 utterances containing language switches on lines 1\n",
      "[WARNING] extra phones may appear in the \"ja\" phoneset\n",
      "[WARNING] language switch flags have been removed (applying \"remove-flags\" policy)\n",
      "[WARNING] 1 utterances containing language switches on lines 2\n",
      "[WARNING] extra phones may appear in the \"ja\" phoneset\n",
      "[WARNING] language switch flags have been removed (applying \"remove-flags\" policy)\n",
      "[WARNING] 1 utterances containing language switches on lines 2\n",
      "[WARNING] extra phones may appear in the \"ja\" phoneset\n",
      "[WARNING] language switch flags have been removed (applying \"remove-flags\" policy)\n",
      "[WARNING] 1 utterances containing language switches on lines 2\n",
      "[WARNING] extra phones may appear in the \"ja\" phoneset\n",
      "[WARNING] language switch flags have been removed (applying \"remove-flags\" policy)\n",
      "[WARNING] 1 utterances containing language switches on lines 3\n",
      "[WARNING] extra phones may appear in the \"ja\" phoneset\n",
      "[WARNING] language switch flags have been removed (applying \"remove-flags\" policy)\n",
      "[WARNING] 1 utterances containing language switches on lines 1\n",
      "[WARNING] extra phones may appear in the \"ja\" phoneset\n",
      "[WARNING] language switch flags have been removed (applying \"remove-flags\" policy)\n",
      "[WARNING] 1 utterances containing language switches on lines 1\n",
      "[WARNING] extra phones may appear in the \"ja\" phoneset\n",
      "[WARNING] language switch flags have been removed (applying \"remove-flags\" policy)\n",
      "[WARNING] 1 utterances containing language switches on lines 1\n",
      "[WARNING] extra phones may appear in the \"ja\" phoneset\n",
      "[WARNING] language switch flags have been removed (applying \"remove-flags\" policy)\n",
      "[WARNING] 1 utterances containing language switches on lines 1\n",
      "[WARNING] extra phones may appear in the \"ja\" phoneset\n",
      "[WARNING] language switch flags have been removed (applying \"remove-flags\" policy)\n",
      "[WARNING] 1 utterances containing language switches on lines 1\n",
      "[WARNING] extra phones may appear in the \"ja\" phoneset\n",
      "[WARNING] language switch flags have been removed (applying \"remove-flags\" policy)\n",
      "[WARNING] 1 utterances containing language switches on lines 1\n",
      "[WARNING] extra phones may appear in the \"ja\" phoneset\n",
      "[WARNING] language switch flags have been removed (applying \"remove-flags\" policy)\n",
      "[WARNING] 1 utterances containing language switches on lines 2\n",
      "[WARNING] extra phones may appear in the \"ja\" phoneset\n",
      "[WARNING] language switch flags have been removed (applying \"remove-flags\" policy)\n",
      "[WARNING] 1 utterances containing language switches on lines 1\n",
      "[WARNING] extra phones may appear in the \"ja\" phoneset\n",
      "[WARNING] language switch flags have been removed (applying \"remove-flags\" policy)\n",
      "[WARNING] 1 utterances containing language switches on lines 1\n",
      "[WARNING] extra phones may appear in the \"ja\" phoneset\n",
      "[WARNING] language switch flags have been removed (applying \"remove-flags\" policy)\n",
      "[WARNING] 1 utterances containing language switches on lines 2\n",
      "[WARNING] extra phones may appear in the \"ja\" phoneset\n",
      "[WARNING] language switch flags have been removed (applying \"remove-flags\" policy)\n",
      "[WARNING] 1 utterances containing language switches on lines 1\n",
      "[WARNING] extra phones may appear in the \"ja\" phoneset\n",
      "[WARNING] language switch flags have been removed (applying \"remove-flags\" policy)\n",
      "[WARNING] 1 utterances containing language switches on lines 1\n",
      "[WARNING] extra phones may appear in the \"ja\" phoneset\n",
      "[WARNING] language switch flags have been removed (applying \"remove-flags\" policy)\n",
      "[WARNING] 1 utterances containing language switches on lines 1\n",
      "[WARNING] extra phones may appear in the \"ja\" phoneset\n",
      "[WARNING] language switch flags have been removed (applying \"remove-flags\" policy)\n",
      "[WARNING] 1 utterances containing language switches on lines 1\n",
      "[WARNING] extra phones may appear in the \"ja\" phoneset\n",
      "[WARNING] language switch flags have been removed (applying \"remove-flags\" policy)\n",
      "[WARNING] 1 utterances containing language switches on lines 1\n",
      "[WARNING] extra phones may appear in the \"ja\" phoneset\n",
      "[WARNING] language switch flags have been removed (applying \"remove-flags\" policy)\n",
      "[WARNING] 1 utterances containing language switches on lines 1\n",
      "[WARNING] extra phones may appear in the \"ja\" phoneset\n",
      "[WARNING] language switch flags have been removed (applying \"remove-flags\" policy)\n",
      "[WARNING] 1 utterances containing language switches on lines 1\n",
      "[WARNING] extra phones may appear in the \"ja\" phoneset\n",
      "[WARNING] language switch flags have been removed (applying \"remove-flags\" policy)\n",
      "[WARNING] 1 utterances containing language switches on lines 1\n",
      "[WARNING] extra phones may appear in the \"ja\" phoneset\n",
      "[WARNING] language switch flags have been removed (applying \"remove-flags\" policy)\n",
      "[WARNING] 1 utterances containing language switches on lines 2\n",
      "[WARNING] extra phones may appear in the \"ja\" phoneset\n",
      "[WARNING] language switch flags have been removed (applying \"remove-flags\" policy)\n",
      "[WARNING] 1 utterances containing language switches on lines 1\n",
      "[WARNING] extra phones may appear in the \"ja\" phoneset\n",
      "[WARNING] language switch flags have been removed (applying \"remove-flags\" policy)\n"
     ]
    },
    {
     "name": "stderr",
     "output_type": "stream",
     "text": [
      "[WARNING] 1 utterances containing language switches on lines 1\n",
      "[WARNING] extra phones may appear in the \"ja\" phoneset\n",
      "[WARNING] language switch flags have been removed (applying \"remove-flags\" policy)\n",
      "[WARNING] 1 utterances containing language switches on lines 1\n",
      "[WARNING] extra phones may appear in the \"ja\" phoneset\n",
      "[WARNING] language switch flags have been removed (applying \"remove-flags\" policy)\n",
      "[WARNING] 1 utterances containing language switches on lines 1\n",
      "[WARNING] extra phones may appear in the \"ja\" phoneset\n",
      "[WARNING] language switch flags have been removed (applying \"remove-flags\" policy)\n",
      "[WARNING] 1 utterances containing language switches on lines 1\n",
      "[WARNING] extra phones may appear in the \"ja\" phoneset\n",
      "[WARNING] language switch flags have been removed (applying \"remove-flags\" policy)\n",
      "[WARNING] 1 utterances containing language switches on lines 1\n",
      "[WARNING] extra phones may appear in the \"ja\" phoneset\n",
      "[WARNING] language switch flags have been removed (applying \"remove-flags\" policy)\n",
      "[WARNING] 1 utterances containing language switches on lines 1\n",
      "[WARNING] extra phones may appear in the \"ja\" phoneset\n",
      "[WARNING] language switch flags have been removed (applying \"remove-flags\" policy)\n",
      "[WARNING] 1 utterances containing language switches on lines 1\n",
      "[WARNING] extra phones may appear in the \"ja\" phoneset\n",
      "[WARNING] language switch flags have been removed (applying \"remove-flags\" policy)\n",
      "[WARNING] 1 utterances containing language switches on lines 2\n",
      "[WARNING] extra phones may appear in the \"ja\" phoneset\n",
      "[WARNING] language switch flags have been removed (applying \"remove-flags\" policy)\n",
      "[WARNING] 1 utterances containing language switches on lines 1\n",
      "[WARNING] extra phones may appear in the \"ja\" phoneset\n",
      "[WARNING] language switch flags have been removed (applying \"remove-flags\" policy)\n",
      "[WARNING] 1 utterances containing language switches on lines 1\n",
      "[WARNING] extra phones may appear in the \"ja\" phoneset\n",
      "[WARNING] language switch flags have been removed (applying \"remove-flags\" policy)\n",
      "[WARNING] 2 utterances containing language switches on lines 1, 2\n",
      "[WARNING] extra phones may appear in the \"ja\" phoneset\n",
      "[WARNING] language switch flags have been removed (applying \"remove-flags\" policy)\n",
      "[WARNING] 1 utterances containing language switches on lines 1\n",
      "[WARNING] extra phones may appear in the \"ja\" phoneset\n",
      "[WARNING] language switch flags have been removed (applying \"remove-flags\" policy)\n",
      "[WARNING] 1 utterances containing language switches on lines 1\n",
      "[WARNING] extra phones may appear in the \"ja\" phoneset\n",
      "[WARNING] language switch flags have been removed (applying \"remove-flags\" policy)\n",
      "[WARNING] 1 utterances containing language switches on lines 1\n",
      "[WARNING] extra phones may appear in the \"ja\" phoneset\n",
      "[WARNING] language switch flags have been removed (applying \"remove-flags\" policy)\n",
      "[WARNING] 1 utterances containing language switches on lines 1\n",
      "[WARNING] extra phones may appear in the \"ja\" phoneset\n",
      "[WARNING] language switch flags have been removed (applying \"remove-flags\" policy)\n",
      "[WARNING] 1 utterances containing language switches on lines 1\n",
      "[WARNING] extra phones may appear in the \"ja\" phoneset\n",
      "[WARNING] language switch flags have been removed (applying \"remove-flags\" policy)\n",
      "[WARNING] 1 utterances containing language switches on lines 5\n",
      "[WARNING] extra phones may appear in the \"ja\" phoneset\n",
      "[WARNING] language switch flags have been removed (applying \"remove-flags\" policy)\n",
      "[WARNING] 1 utterances containing language switches on lines 1\n",
      "[WARNING] extra phones may appear in the \"ja\" phoneset\n",
      "[WARNING] language switch flags have been removed (applying \"remove-flags\" policy)\n",
      "[WARNING] 1 utterances containing language switches on lines 1\n",
      "[WARNING] extra phones may appear in the \"ja\" phoneset\n",
      "[WARNING] language switch flags have been removed (applying \"remove-flags\" policy)\n",
      "[WARNING] 1 utterances containing language switches on lines 1\n",
      "[WARNING] extra phones may appear in the \"ja\" phoneset\n",
      "[WARNING] language switch flags have been removed (applying \"remove-flags\" policy)\n",
      "[WARNING] 1 utterances containing language switches on lines 1\n",
      "[WARNING] extra phones may appear in the \"ja\" phoneset\n",
      "[WARNING] language switch flags have been removed (applying \"remove-flags\" policy)\n",
      "[WARNING] 1 utterances containing language switches on lines 1\n",
      "[WARNING] extra phones may appear in the \"ja\" phoneset\n",
      "[WARNING] language switch flags have been removed (applying \"remove-flags\" policy)\n",
      "[WARNING] 1 utterances containing language switches on lines 3\n",
      "[WARNING] extra phones may appear in the \"ja\" phoneset\n",
      "[WARNING] language switch flags have been removed (applying \"remove-flags\" policy)\n",
      "[WARNING] 1 utterances containing language switches on lines 1\n",
      "[WARNING] extra phones may appear in the \"ja\" phoneset\n",
      "[WARNING] language switch flags have been removed (applying \"remove-flags\" policy)\n",
      "[WARNING] 1 utterances containing language switches on lines 1\n",
      "[WARNING] extra phones may appear in the \"ja\" phoneset\n",
      "[WARNING] language switch flags have been removed (applying \"remove-flags\" policy)\n",
      "[WARNING] 1 utterances containing language switches on lines 2\n",
      "[WARNING] extra phones may appear in the \"ja\" phoneset\n",
      "[WARNING] language switch flags have been removed (applying \"remove-flags\" policy)\n",
      "[WARNING] 1 utterances containing language switches on lines 2\n",
      "[WARNING] extra phones may appear in the \"ja\" phoneset\n",
      "[WARNING] language switch flags have been removed (applying \"remove-flags\" policy)\n",
      "[WARNING] 1 utterances containing language switches on lines 2\n",
      "[WARNING] extra phones may appear in the \"ja\" phoneset\n",
      "[WARNING] language switch flags have been removed (applying \"remove-flags\" policy)\n",
      "[WARNING] 1 utterances containing language switches on lines 1\n",
      "[WARNING] extra phones may appear in the \"ja\" phoneset\n",
      "[WARNING] language switch flags have been removed (applying \"remove-flags\" policy)\n",
      "[WARNING] 1 utterances containing language switches on lines 1\n",
      "[WARNING] extra phones may appear in the \"ja\" phoneset\n",
      "[WARNING] language switch flags have been removed (applying \"remove-flags\" policy)\n",
      "[WARNING] 1 utterances containing language switches on lines 1\n",
      "[WARNING] extra phones may appear in the \"ja\" phoneset\n",
      "[WARNING] language switch flags have been removed (applying \"remove-flags\" policy)\n",
      "[WARNING] 1 utterances containing language switches on lines 1\n",
      "[WARNING] extra phones may appear in the \"ja\" phoneset\n",
      "[WARNING] language switch flags have been removed (applying \"remove-flags\" policy)\n",
      "[WARNING] 1 utterances containing language switches on lines 2\n",
      "[WARNING] extra phones may appear in the \"ja\" phoneset\n",
      "[WARNING] language switch flags have been removed (applying \"remove-flags\" policy)\n",
      "[WARNING] 1 utterances containing language switches on lines 1\n",
      "[WARNING] extra phones may appear in the \"ja\" phoneset\n",
      "[WARNING] language switch flags have been removed (applying \"remove-flags\" policy)\n",
      "[WARNING] 1 utterances containing language switches on lines 1\n",
      "[WARNING] extra phones may appear in the \"ja\" phoneset\n",
      "[WARNING] language switch flags have been removed (applying \"remove-flags\" policy)\n",
      "[WARNING] 1 utterances containing language switches on lines 1\n",
      "[WARNING] extra phones may appear in the \"ja\" phoneset\n",
      "[WARNING] language switch flags have been removed (applying \"remove-flags\" policy)\n",
      "[WARNING] 1 utterances containing language switches on lines 1\n",
      "[WARNING] extra phones may appear in the \"ja\" phoneset\n",
      "[WARNING] language switch flags have been removed (applying \"remove-flags\" policy)\n",
      "[WARNING] 1 utterances containing language switches on lines 2\n",
      "[WARNING] extra phones may appear in the \"ja\" phoneset\n",
      "[WARNING] language switch flags have been removed (applying \"remove-flags\" policy)\n",
      "[WARNING] 1 utterances containing language switches on lines 2\n",
      "[WARNING] extra phones may appear in the \"ja\" phoneset\n",
      "[WARNING] language switch flags have been removed (applying \"remove-flags\" policy)\n",
      "[WARNING] 1 utterances containing language switches on lines 1\n",
      "[WARNING] extra phones may appear in the \"ja\" phoneset\n",
      "[WARNING] language switch flags have been removed (applying \"remove-flags\" policy)\n",
      "[WARNING] 1 utterances containing language switches on lines 2\n",
      "[WARNING] extra phones may appear in the \"ja\" phoneset\n",
      "[WARNING] language switch flags have been removed (applying \"remove-flags\" policy)\n"
     ]
    },
    {
     "name": "stderr",
     "output_type": "stream",
     "text": [
      "[WARNING] 1 utterances containing language switches on lines 1\n",
      "[WARNING] extra phones may appear in the \"ja\" phoneset\n",
      "[WARNING] language switch flags have been removed (applying \"remove-flags\" policy)\n",
      "[WARNING] 1 utterances containing language switches on lines 2\n",
      "[WARNING] extra phones may appear in the \"ja\" phoneset\n",
      "[WARNING] language switch flags have been removed (applying \"remove-flags\" policy)\n",
      "[WARNING] 1 utterances containing language switches on lines 1\n",
      "[WARNING] extra phones may appear in the \"ja\" phoneset\n",
      "[WARNING] language switch flags have been removed (applying \"remove-flags\" policy)\n",
      "[WARNING] 1 utterances containing language switches on lines 1\n",
      "[WARNING] extra phones may appear in the \"ja\" phoneset\n",
      "[WARNING] language switch flags have been removed (applying \"remove-flags\" policy)\n",
      "[WARNING] 1 utterances containing language switches on lines 1\n",
      "[WARNING] extra phones may appear in the \"ja\" phoneset\n",
      "[WARNING] language switch flags have been removed (applying \"remove-flags\" policy)\n",
      "[WARNING] 1 utterances containing language switches on lines 1\n",
      "[WARNING] extra phones may appear in the \"ja\" phoneset\n",
      "[WARNING] language switch flags have been removed (applying \"remove-flags\" policy)\n",
      "[WARNING] 1 utterances containing language switches on lines 1\n",
      "[WARNING] extra phones may appear in the \"ja\" phoneset\n",
      "[WARNING] language switch flags have been removed (applying \"remove-flags\" policy)\n",
      "[WARNING] 1 utterances containing language switches on lines 1\n",
      "[WARNING] extra phones may appear in the \"ja\" phoneset\n",
      "[WARNING] language switch flags have been removed (applying \"remove-flags\" policy)\n",
      "[WARNING] 1 utterances containing language switches on lines 2\n",
      "[WARNING] extra phones may appear in the \"ja\" phoneset\n",
      "[WARNING] language switch flags have been removed (applying \"remove-flags\" policy)\n",
      "[WARNING] 1 utterances containing language switches on lines 1\n",
      "[WARNING] extra phones may appear in the \"ja\" phoneset\n",
      "[WARNING] language switch flags have been removed (applying \"remove-flags\" policy)\n",
      "[WARNING] 1 utterances containing language switches on lines 1\n",
      "[WARNING] extra phones may appear in the \"ja\" phoneset\n",
      "[WARNING] language switch flags have been removed (applying \"remove-flags\" policy)\n",
      "[WARNING] 1 utterances containing language switches on lines 1\n",
      "[WARNING] extra phones may appear in the \"ja\" phoneset\n",
      "[WARNING] language switch flags have been removed (applying \"remove-flags\" policy)\n",
      "[WARNING] 1 utterances containing language switches on lines 1\n",
      "[WARNING] extra phones may appear in the \"ja\" phoneset\n",
      "[WARNING] language switch flags have been removed (applying \"remove-flags\" policy)\n",
      "[WARNING] 1 utterances containing language switches on lines 1\n",
      "[WARNING] extra phones may appear in the \"ja\" phoneset\n",
      "[WARNING] language switch flags have been removed (applying \"remove-flags\" policy)\n",
      "[WARNING] 1 utterances containing language switches on lines 1\n",
      "[WARNING] extra phones may appear in the \"ja\" phoneset\n",
      "[WARNING] language switch flags have been removed (applying \"remove-flags\" policy)\n",
      "[WARNING] 1 utterances containing language switches on lines 1\n",
      "[WARNING] extra phones may appear in the \"ja\" phoneset\n",
      "[WARNING] language switch flags have been removed (applying \"remove-flags\" policy)\n",
      "[WARNING] 1 utterances containing language switches on lines 2\n",
      "[WARNING] extra phones may appear in the \"ja\" phoneset\n",
      "[WARNING] language switch flags have been removed (applying \"remove-flags\" policy)\n",
      "[WARNING] 1 utterances containing language switches on lines 1\n",
      "[WARNING] extra phones may appear in the \"ja\" phoneset\n",
      "[WARNING] language switch flags have been removed (applying \"remove-flags\" policy)\n",
      "[WARNING] 1 utterances containing language switches on lines 1\n",
      "[WARNING] extra phones may appear in the \"ja\" phoneset\n",
      "[WARNING] language switch flags have been removed (applying \"remove-flags\" policy)\n",
      "[WARNING] 1 utterances containing language switches on lines 1\n",
      "[WARNING] extra phones may appear in the \"ja\" phoneset\n",
      "[WARNING] language switch flags have been removed (applying \"remove-flags\" policy)\n",
      "[WARNING] 1 utterances containing language switches on lines 1\n",
      "[WARNING] extra phones may appear in the \"ja\" phoneset\n",
      "[WARNING] language switch flags have been removed (applying \"remove-flags\" policy)\n",
      "[WARNING] 1 utterances containing language switches on lines 1\n",
      "[WARNING] extra phones may appear in the \"ja\" phoneset\n",
      "[WARNING] language switch flags have been removed (applying \"remove-flags\" policy)\n",
      "[WARNING] 1 utterances containing language switches on lines 1\n",
      "[WARNING] extra phones may appear in the \"ja\" phoneset\n",
      "[WARNING] language switch flags have been removed (applying \"remove-flags\" policy)\n",
      "[WARNING] 1 utterances containing language switches on lines 1\n",
      "[WARNING] extra phones may appear in the \"ja\" phoneset\n",
      "[WARNING] language switch flags have been removed (applying \"remove-flags\" policy)\n",
      "[WARNING] 1 utterances containing language switches on lines 1\n",
      "[WARNING] extra phones may appear in the \"ja\" phoneset\n",
      "[WARNING] language switch flags have been removed (applying \"remove-flags\" policy)\n",
      "[WARNING] 2 utterances containing language switches on lines 1, 2\n",
      "[WARNING] extra phones may appear in the \"ja\" phoneset\n",
      "[WARNING] language switch flags have been removed (applying \"remove-flags\" policy)\n",
      "[WARNING] 1 utterances containing language switches on lines 1\n",
      "[WARNING] extra phones may appear in the \"ja\" phoneset\n",
      "[WARNING] language switch flags have been removed (applying \"remove-flags\" policy)\n",
      "[WARNING] 1 utterances containing language switches on lines 1\n",
      "[WARNING] extra phones may appear in the \"ja\" phoneset\n",
      "[WARNING] language switch flags have been removed (applying \"remove-flags\" policy)\n",
      "[WARNING] 1 utterances containing language switches on lines 1\n",
      "[WARNING] extra phones may appear in the \"ja\" phoneset\n",
      "[WARNING] language switch flags have been removed (applying \"remove-flags\" policy)\n",
      "[WARNING] 1 utterances containing language switches on lines 1\n",
      "[WARNING] extra phones may appear in the \"ja\" phoneset\n",
      "[WARNING] language switch flags have been removed (applying \"remove-flags\" policy)\n",
      "[WARNING] 1 utterances containing language switches on lines 1\n",
      "[WARNING] extra phones may appear in the \"ja\" phoneset\n",
      "[WARNING] language switch flags have been removed (applying \"remove-flags\" policy)\n",
      "[WARNING] 1 utterances containing language switches on lines 5\n",
      "[WARNING] extra phones may appear in the \"ja\" phoneset\n",
      "[WARNING] language switch flags have been removed (applying \"remove-flags\" policy)\n",
      "[WARNING] 1 utterances containing language switches on lines 1\n",
      "[WARNING] extra phones may appear in the \"ja\" phoneset\n",
      "[WARNING] language switch flags have been removed (applying \"remove-flags\" policy)\n",
      "[WARNING] 1 utterances containing language switches on lines 1\n",
      "[WARNING] extra phones may appear in the \"ja\" phoneset\n",
      "[WARNING] language switch flags have been removed (applying \"remove-flags\" policy)\n",
      "[WARNING] 1 utterances containing language switches on lines 1\n",
      "[WARNING] extra phones may appear in the \"ja\" phoneset\n",
      "[WARNING] language switch flags have been removed (applying \"remove-flags\" policy)\n",
      "[WARNING] 1 utterances containing language switches on lines 2\n",
      "[WARNING] extra phones may appear in the \"ja\" phoneset\n",
      "[WARNING] language switch flags have been removed (applying \"remove-flags\" policy)\n",
      "[WARNING] 1 utterances containing language switches on lines 2\n",
      "[WARNING] extra phones may appear in the \"ja\" phoneset\n",
      "[WARNING] language switch flags have been removed (applying \"remove-flags\" policy)\n",
      "[WARNING] 1 utterances containing language switches on lines 1\n",
      "[WARNING] extra phones may appear in the \"ja\" phoneset\n",
      "[WARNING] language switch flags have been removed (applying \"remove-flags\" policy)\n",
      "[WARNING] 1 utterances containing language switches on lines 1\n",
      "[WARNING] extra phones may appear in the \"ja\" phoneset\n",
      "[WARNING] language switch flags have been removed (applying \"remove-flags\" policy)\n",
      "[WARNING] 1 utterances containing language switches on lines 1\n",
      "[WARNING] extra phones may appear in the \"ja\" phoneset\n",
      "[WARNING] language switch flags have been removed (applying \"remove-flags\" policy)\n",
      "[WARNING] 1 utterances containing language switches on lines 1\n",
      "[WARNING] extra phones may appear in the \"ja\" phoneset\n",
      "[WARNING] language switch flags have been removed (applying \"remove-flags\" policy)\n"
     ]
    },
    {
     "name": "stderr",
     "output_type": "stream",
     "text": [
      "[WARNING] 1 utterances containing language switches on lines 2\n",
      "[WARNING] extra phones may appear in the \"ja\" phoneset\n",
      "[WARNING] language switch flags have been removed (applying \"remove-flags\" policy)\n",
      "[WARNING] 1 utterances containing language switches on lines 1\n",
      "[WARNING] extra phones may appear in the \"ja\" phoneset\n",
      "[WARNING] language switch flags have been removed (applying \"remove-flags\" policy)\n",
      "[WARNING] 1 utterances containing language switches on lines 1\n",
      "[WARNING] extra phones may appear in the \"ja\" phoneset\n",
      "[WARNING] language switch flags have been removed (applying \"remove-flags\" policy)\n",
      "[WARNING] 1 utterances containing language switches on lines 1\n",
      "[WARNING] extra phones may appear in the \"ja\" phoneset\n",
      "[WARNING] language switch flags have been removed (applying \"remove-flags\" policy)\n",
      "[WARNING] 1 utterances containing language switches on lines 1\n",
      "[WARNING] extra phones may appear in the \"ja\" phoneset\n",
      "[WARNING] language switch flags have been removed (applying \"remove-flags\" policy)\n",
      "[WARNING] 1 utterances containing language switches on lines 2\n",
      "[WARNING] extra phones may appear in the \"ja\" phoneset\n",
      "[WARNING] language switch flags have been removed (applying \"remove-flags\" policy)\n",
      "[WARNING] 1 utterances containing language switches on lines 1\n",
      "[WARNING] extra phones may appear in the \"ja\" phoneset\n",
      "[WARNING] language switch flags have been removed (applying \"remove-flags\" policy)\n",
      "[WARNING] 1 utterances containing language switches on lines 2\n",
      "[WARNING] extra phones may appear in the \"ja\" phoneset\n",
      "[WARNING] language switch flags have been removed (applying \"remove-flags\" policy)\n",
      "[WARNING] 1 utterances containing language switches on lines 1\n",
      "[WARNING] extra phones may appear in the \"ja\" phoneset\n",
      "[WARNING] language switch flags have been removed (applying \"remove-flags\" policy)\n",
      "[WARNING] 1 utterances containing language switches on lines 1\n",
      "[WARNING] extra phones may appear in the \"ja\" phoneset\n",
      "[WARNING] language switch flags have been removed (applying \"remove-flags\" policy)\n",
      "[WARNING] 1 utterances containing language switches on lines 1\n",
      "[WARNING] extra phones may appear in the \"ja\" phoneset\n",
      "[WARNING] language switch flags have been removed (applying \"remove-flags\" policy)\n",
      "[WARNING] 1 utterances containing language switches on lines 1\n",
      "[WARNING] extra phones may appear in the \"ja\" phoneset\n",
      "[WARNING] language switch flags have been removed (applying \"remove-flags\" policy)\n",
      "[WARNING] 1 utterances containing language switches on lines 1\n",
      "[WARNING] extra phones may appear in the \"ja\" phoneset\n",
      "[WARNING] language switch flags have been removed (applying \"remove-flags\" policy)\n",
      "[WARNING] 1 utterances containing language switches on lines 1\n",
      "[WARNING] extra phones may appear in the \"ja\" phoneset\n",
      "[WARNING] language switch flags have been removed (applying \"remove-flags\" policy)\n",
      "[WARNING] 1 utterances containing language switches on lines 2\n",
      "[WARNING] extra phones may appear in the \"ja\" phoneset\n",
      "[WARNING] language switch flags have been removed (applying \"remove-flags\" policy)\n",
      "[WARNING] 1 utterances containing language switches on lines 1\n",
      "[WARNING] extra phones may appear in the \"ja\" phoneset\n",
      "[WARNING] language switch flags have been removed (applying \"remove-flags\" policy)\n",
      "[WARNING] 1 utterances containing language switches on lines 1\n",
      "[WARNING] extra phones may appear in the \"ja\" phoneset\n",
      "[WARNING] language switch flags have been removed (applying \"remove-flags\" policy)\n",
      "[WARNING] 1 utterances containing language switches on lines 1\n",
      "[WARNING] extra phones may appear in the \"ja\" phoneset\n",
      "[WARNING] language switch flags have been removed (applying \"remove-flags\" policy)\n",
      "[WARNING] 1 utterances containing language switches on lines 2\n",
      "[WARNING] extra phones may appear in the \"ja\" phoneset\n",
      "[WARNING] language switch flags have been removed (applying \"remove-flags\" policy)\n",
      "[WARNING] 1 utterances containing language switches on lines 1\n",
      "[WARNING] extra phones may appear in the \"ja\" phoneset\n",
      "[WARNING] language switch flags have been removed (applying \"remove-flags\" policy)\n",
      "[WARNING] 1 utterances containing language switches on lines 1\n",
      "[WARNING] extra phones may appear in the \"ja\" phoneset\n",
      "[WARNING] language switch flags have been removed (applying \"remove-flags\" policy)\n",
      "[WARNING] 1 utterances containing language switches on lines 1\n",
      "[WARNING] extra phones may appear in the \"ja\" phoneset\n",
      "[WARNING] language switch flags have been removed (applying \"remove-flags\" policy)\n",
      "[WARNING] 1 utterances containing language switches on lines 1\n",
      "[WARNING] extra phones may appear in the \"ja\" phoneset\n",
      "[WARNING] language switch flags have been removed (applying \"remove-flags\" policy)\n",
      "[WARNING] 1 utterances containing language switches on lines 2\n",
      "[WARNING] extra phones may appear in the \"ja\" phoneset\n",
      "[WARNING] language switch flags have been removed (applying \"remove-flags\" policy)\n",
      "[WARNING] 1 utterances containing language switches on lines 3\n",
      "[WARNING] extra phones may appear in the \"ja\" phoneset\n",
      "[WARNING] language switch flags have been removed (applying \"remove-flags\" policy)\n",
      "[WARNING] 1 utterances containing language switches on lines 1\n",
      "[WARNING] extra phones may appear in the \"ja\" phoneset\n",
      "[WARNING] language switch flags have been removed (applying \"remove-flags\" policy)\n",
      "[WARNING] 1 utterances containing language switches on lines 1\n",
      "[WARNING] extra phones may appear in the \"ja\" phoneset\n",
      "[WARNING] language switch flags have been removed (applying \"remove-flags\" policy)\n",
      "[WARNING] 1 utterances containing language switches on lines 1\n",
      "[WARNING] extra phones may appear in the \"ja\" phoneset\n",
      "[WARNING] language switch flags have been removed (applying \"remove-flags\" policy)\n",
      "[WARNING] 1 utterances containing language switches on lines 1\n",
      "[WARNING] extra phones may appear in the \"ja\" phoneset\n",
      "[WARNING] language switch flags have been removed (applying \"remove-flags\" policy)\n",
      "[WARNING] 1 utterances containing language switches on lines 1\n",
      "[WARNING] extra phones may appear in the \"ja\" phoneset\n",
      "[WARNING] language switch flags have been removed (applying \"remove-flags\" policy)\n",
      "[WARNING] 1 utterances containing language switches on lines 1\n",
      "[WARNING] extra phones may appear in the \"ja\" phoneset\n",
      "[WARNING] language switch flags have been removed (applying \"remove-flags\" policy)\n",
      "[WARNING] 1 utterances containing language switches on lines 2\n",
      "[WARNING] extra phones may appear in the \"ja\" phoneset\n",
      "[WARNING] language switch flags have been removed (applying \"remove-flags\" policy)\n",
      "[WARNING] 1 utterances containing language switches on lines 1\n",
      "[WARNING] extra phones may appear in the \"ja\" phoneset\n",
      "[WARNING] language switch flags have been removed (applying \"remove-flags\" policy)\n",
      "[WARNING] 1 utterances containing language switches on lines 2\n",
      "[WARNING] extra phones may appear in the \"ja\" phoneset\n",
      "[WARNING] language switch flags have been removed (applying \"remove-flags\" policy)\n",
      "[WARNING] 1 utterances containing language switches on lines 1\n",
      "[WARNING] extra phones may appear in the \"ja\" phoneset\n",
      "[WARNING] language switch flags have been removed (applying \"remove-flags\" policy)\n",
      "[WARNING] 1 utterances containing language switches on lines 1\n",
      "[WARNING] extra phones may appear in the \"ja\" phoneset\n",
      "[WARNING] language switch flags have been removed (applying \"remove-flags\" policy)\n",
      "[WARNING] 1 utterances containing language switches on lines 1\n",
      "[WARNING] extra phones may appear in the \"ja\" phoneset\n",
      "[WARNING] language switch flags have been removed (applying \"remove-flags\" policy)\n",
      "[WARNING] 1 utterances containing language switches on lines 1\n",
      "[WARNING] extra phones may appear in the \"ja\" phoneset\n",
      "[WARNING] language switch flags have been removed (applying \"remove-flags\" policy)\n",
      "[WARNING] 1 utterances containing language switches on lines 1\n",
      "[WARNING] extra phones may appear in the \"ja\" phoneset\n",
      "[WARNING] language switch flags have been removed (applying \"remove-flags\" policy)\n",
      "[WARNING] 1 utterances containing language switches on lines 1\n",
      "[WARNING] extra phones may appear in the \"ja\" phoneset\n",
      "[WARNING] language switch flags have been removed (applying \"remove-flags\" policy)\n",
      "[WARNING] 1 utterances containing language switches on lines 2\n",
      "[WARNING] extra phones may appear in the \"ja\" phoneset\n",
      "[WARNING] language switch flags have been removed (applying \"remove-flags\" policy)\n"
     ]
    },
    {
     "name": "stderr",
     "output_type": "stream",
     "text": [
      "[WARNING] 2 utterances containing language switches on lines 1, 2\n",
      "[WARNING] extra phones may appear in the \"ja\" phoneset\n",
      "[WARNING] language switch flags have been removed (applying \"remove-flags\" policy)\n",
      "[WARNING] 1 utterances containing language switches on lines 2\n",
      "[WARNING] extra phones may appear in the \"ja\" phoneset\n",
      "[WARNING] language switch flags have been removed (applying \"remove-flags\" policy)\n",
      "[WARNING] 1 utterances containing language switches on lines 1\n",
      "[WARNING] extra phones may appear in the \"ja\" phoneset\n",
      "[WARNING] language switch flags have been removed (applying \"remove-flags\" policy)\n",
      "[WARNING] 1 utterances containing language switches on lines 2\n",
      "[WARNING] extra phones may appear in the \"ja\" phoneset\n",
      "[WARNING] language switch flags have been removed (applying \"remove-flags\" policy)\n",
      "[WARNING] 1 utterances containing language switches on lines 1\n",
      "[WARNING] extra phones may appear in the \"ja\" phoneset\n",
      "[WARNING] language switch flags have been removed (applying \"remove-flags\" policy)\n",
      "[WARNING] 1 utterances containing language switches on lines 5\n",
      "[WARNING] extra phones may appear in the \"ja\" phoneset\n",
      "[WARNING] language switch flags have been removed (applying \"remove-flags\" policy)\n"
     ]
    },
    {
     "name": "stdout",
     "output_type": "stream",
     "text": [
      "Done\n"
     ]
    }
   ],
   "source": [
    "output_metafile_name = \"ja_Mozilla.txt\"\n",
    "metafile_path = os.path.join(\"Mozilla\", output_metafile_name)\n",
    "wav_dir = \"Mozilla/ja/clips/\"\n",
    "resample_dir = \"Mozilla/ja/clips_22k/\"\n",
    "sub_dir = \"ja/clips_22k/\"\n",
    "if not os.path.exists(resample_dir): os.makedirs(resample_dir)\n",
    "with open(metafile_path, 'w', encoding='utf-8') as f:\n",
    "\n",
    "    for index, row in df_sum.iterrows(): \n",
    "        speaker = row.client_id[:5]\n",
    "        language = \"ja\"\n",
    "        audio_path = os.path.join(wav_dir, row.path)\n",
    "        resample_path = os.path.join(resample_dir, os.path.splitext(row.path)[0]+\".wav\")\n",
    "        if not os.path.exists(resample_path):\n",
    "            sound = AudioSegment.from_file(audio_path)\n",
    "            sound_resample = sound.set_frame_rate(def_sample_rate).set_channels(1)\n",
    "            sound_resample.export(resample_path, format=\"wav\")\n",
    "        audio_path = os.path.join(sub_dir, os.path.splitext(row.path)[0]+\".wav\")\n",
    "        spectrogram_paths = \"|\"\n",
    "#         raw_text = pykakasi_conv(row.sentence)\n",
    "        phonemized_text= _phonemize(raw_text,'ja')\n",
    "        print(f'{str(index).zfill(6)}|{speaker}|{language}|{audio_path}|{spectrogram_paths}|{raw_text}|{phonemized_text}', file=f)\n",
    "print('Done')"
   ]
  },
  {
   "cell_type": "code",
   "execution_count": null,
   "metadata": {},
   "outputs": [],
   "source": []
  },
  {
   "cell_type": "raw",
   "metadata": {},
   "source": [
    "file = \"input.txt\"\n",
    "with open(\"input.txt\", 'w', encoding='utf-8') as f:\n",
    "#     for text in textlist:\n",
    "        f.write(text)"
   ]
  },
  {
   "cell_type": "raw",
   "metadata": {},
   "source": [
    "tsv_list=[]\n",
    "with open(txt_file, encoding='utf-8') as f:\n",
    "    for line in f:\n",
    "        parts = line.strip().split('\\t')\n",
    "        tsv_list.append(parts)\n",
    "df = pd.DataFrame(tsv_list) "
   ]
  },
  {
   "cell_type": "markdown",
   "metadata": {},
   "source": [
    "#  这里开始处理中文"
   ]
  },
  {
   "cell_type": "code",
   "execution_count": 2,
   "metadata": {},
   "outputs": [],
   "source": [
    "import pandas as pd\n",
    "import glob,os\n",
    "import sys\n",
    "sys.path.append('..')\n",
    "from utils.text import to_phoneme,_phonemize\n",
    "from utils.text import build_phoneme_dicts"
   ]
  },
  {
   "cell_type": "code",
   "execution_count": 3,
   "metadata": {},
   "outputs": [],
   "source": [
    "from pypinyin import lazy_pinyin, Style, slug\n",
    "import re, jieba\n",
    "import pinyin\n",
    "import jieba"
   ]
  },
  {
   "cell_type": "code",
   "execution_count": 4,
   "metadata": {
    "code_folding": [
     0
    ]
   },
   "outputs": [],
   "source": [
    "def to_pinyin(text, punctuation=\"!:;,-.?，。！？｡：；、\"):\n",
    "    re_punctuation =r'\\s+([{}])'.format(punctuation)\n",
    "    tt=[]\n",
    "    for tx in jieba.cut(text):\n",
    "        tt.append(slug(tx, style= Style.TONE, separator=''))\n",
    "    te = ' '.join(tt)\n",
    "    text = re.sub(re_punctuation, r'\\1', te)\n",
    "    return text\n",
    "\n",
    "def to_pinyin_pre(text):\n",
    "    return ' '.join([pinyin.get(x) for x in jieba.cut(text.rstrip())])"
   ]
  },
  {
   "cell_type": "code",
   "execution_count": 5,
   "metadata": {},
   "outputs": [
    {
     "name": "stdout",
     "output_type": "stream",
     "text": [
      "shàngqī zhǔyào jiǎng le rénlèi de zhílì xíngzǒu ， yīgè yīn zìránhuánjìng biànhuà 。\n",
      "shàngqī zhǔyào jiǎng le rénlèi de zhílì xíngzǒu， yígè yīn zìránhuánjìng biànhuà。\n"
     ]
    }
   ],
   "source": [
    "s=\"上期主要讲了人类的直立行走，一个因自然环境变化。\"\n",
    "# s = \"今天很高兴。\"\n",
    "print(to_pinyin_pre(s))\n",
    "print(to_pinyin(s))"
   ]
  },
  {
   "cell_type": "code",
   "execution_count": 6,
   "metadata": {},
   "outputs": [
    {
     "data": {
      "text/plain": [
       "'s.ɑ ŋtɕhi ts.u jiɑ ou5 tɕiɑ ŋ lə ʐo nlə ai5 tə ts.i. li ɕi ŋtso jiou5 ， ji ko ji ə5n tsi̪ ʐɑ nxwɑ ntɕi ŋ piɑ nxwɑ 。'"
      ]
     },
     "execution_count": 6,
     "metadata": {},
     "output_type": "execute_result"
    }
   ],
   "source": [
    "_phonemize(to_pinyin(s),'cmn')"
   ]
  },
  {
   "cell_type": "code",
   "execution_count": 14,
   "metadata": {},
   "outputs": [
    {
     "name": "stderr",
     "output_type": "stream",
     "text": [
      "[WARNING] 1 utterances containing language switches on lines 5\n",
      "[WARNING] extra phones may appear in the \"cmn\" phoneset\n",
      "[WARNING] language switch flags have been removed (applying \"remove-flags\" policy)\n",
      "[WARNING] 1 utterances containing language switches on lines 5\n",
      "[WARNING] extra phones may appear in the \"cmn\" phoneset\n",
      "[WARNING] language switch flags have been removed (applying \"remove-flags\" policy)\n",
      "[WARNING] 1 utterances containing language switches on lines 1\n",
      "[WARNING] extra phones may appear in the \"cmn\" phoneset\n",
      "[WARNING] language switch flags have been removed (applying \"remove-flags\" policy)\n",
      "[WARNING] 1 utterances containing language switches on lines 3\n",
      "[WARNING] extra phones may appear in the \"cmn\" phoneset\n",
      "[WARNING] language switch flags have been removed (applying \"remove-flags\" policy)\n",
      "[WARNING] 1 utterances containing language switches on lines 4\n",
      "[WARNING] extra phones may appear in the \"cmn\" phoneset\n",
      "[WARNING] language switch flags have been removed (applying \"remove-flags\" policy)\n"
     ]
    }
   ],
   "source": [
    "textlist=[]\n",
    "with open('./re_gesw_6lang_22k_pinyin/train.txt') as f:\n",
    "    for data in f.readlines():\n",
    "        parts = data.strip().split('|')\n",
    "        if parts[1]=='00-zh':\n",
    "            parts[7]=_phonemize(to_pinyin(parts[6]),'cmn')\n",
    "            data = '|'.join(parts)+\"\\n\"\n",
    "            \n",
    "        textlist.append(data)\n",
    "        \n",
    "new_txt_file = 'train.txt'\n",
    "\n",
    "with open(new_txt_file, 'w', encoding='utf-8') as f:\n",
    "    for text in textlist:\n",
    "        f.write(text)"
   ]
  },
  {
   "cell_type": "code",
   "execution_count": 10,
   "metadata": {
    "code_folding": []
   },
   "outputs": [],
   "source": [
    "cmn_data=[\n",
    "    {\n",
    "        'name_dir':\"Lance_Chn_CleanNoise_22k\",\n",
    "        'sub_dir':\"Lance_Chn_CleanNoise\",\n",
    "        'trim_dir':\"Lance_Chn_CleanNoise_22k_trim33\",\n",
    "        'output_metafile_name' : \"Lance_Chn_CleanNoise_22k_trim33.txt\",\n",
    "        'speaker':\"lance-zh\"\n",
    "    },\n",
    "    {      \n",
    "        'name_dir':\"gg_Chn_CleanNoise_22k\",\n",
    "        'sub_dir': \"gg_Chn_CleanNoise\",\n",
    "        'trim_dir':\"gg_Chn_CleanNoise22k_trim33\",\n",
    "        'output_metafile_name':\"gg_Chn_CleanNoise_22k_trim33.txt\",\n",
    "        'speaker':\"gg-zh\"\n",
    "    },\n",
    "    {\n",
    "        'name_dir' : \"cary_Chn\",\n",
    "        'sub_dir' : \"cary_22k\",\n",
    "        'trim_dir' : \"cary_22k_trim33\",\n",
    "        'output_metafile_name' : \"cary_22k_trim33.txt\",\n",
    "        'speaker' : \"cary-zh\"\n",
    "    },\n",
    "    {\n",
    "        'name_dir' : \"Hotpot_Chn\",\n",
    "        'sub_dir' : \"Hotpot_Chn\",\n",
    "        'trim_dir' : \"Hotpot_Chn_22k_trim33\",\n",
    "        'output_metafile_name' : \"Hotpot_Chn_22k_trim33.txt\",\n",
    "        'speaker' : \"hotpot-zh\"    \n",
    "    },\n",
    "    {\n",
    "        'name_dir' : \"thchs30_22k\",\n",
    "        'sub_dir' : \"wav\",\n",
    "        'trim_dir' : \"thchs30_22k_trim33\",\n",
    "        'output_metafile_name' : \"thchs30_22k_trim33.txt\",\n",
    "        'speaker':\"\"       \n",
    "    }]\n",
    "# resample = True\n",
    "language = \"zh\""
   ]
  },
  {
   "cell_type": "code",
   "execution_count": 11,
   "metadata": {
    "code_folding": [
     0
    ]
   },
   "outputs": [
    {
     "name": "stdout",
     "output_type": "stream",
     "text": [
      "Lance_Chn_CleanNoise_22k\n",
      "gg_Chn_CleanNoise_22k\n",
      "cary_Chn\n",
      "Hotpot_Chn\n",
      "thchs30_22k\n"
     ]
    }
   ],
   "source": [
    "for data in cmn_data:\n",
    "    print(data['name_dir'])"
   ]
  },
  {
   "cell_type": "code",
   "execution_count": 12,
   "metadata": {},
   "outputs": [
    {
     "data": {
      "text/plain": [
       "['./Lance_Chn_CleanNoise_22k/2Voice-Chn-Lance_CleanNoise22k.xlsx',\n",
       " './gg_Chn_CleanNoise_22k/2Voice-Chn-gg_CleanNoise22k.xlsx',\n",
       " './cary_Chn/2Voice-Chn_cary_22k.xlsx',\n",
       " './Hotpot_Chn/2Voice-Chn_Hotpot_annv1.xlsx',\n",
       " './thchs30_22k/2Voice-Chn_thchs30_v2.xlsx']"
      ]
     },
     "execution_count": 12,
     "metadata": {},
     "output_type": "execute_result"
    }
   ],
   "source": [
    "xlsx_list=[]\n",
    "for data in cmn_data:\n",
    "    xlsx_list.append(glob.glob(\"./{}/*.xlsx\".format(data['name_dir']))[0])\n",
    "xlsx_list"
   ]
  },
  {
   "cell_type": "code",
   "execution_count": 13,
   "metadata": {},
   "outputs": [],
   "source": [
    "# xlsx=xlsx_list[0]"
   ]
  },
  {
   "cell_type": "code",
   "execution_count": 14,
   "metadata": {},
   "outputs": [],
   "source": [
    "df_list = []\n",
    "for xlsx in xlsx_list:\n",
    "    df = pd.read_excel(xlsx)\n",
    "    df_list.append(df)\n",
    "df_sum = pd.concat(df_list)"
   ]
  },
  {
   "cell_type": "code",
   "execution_count": 15,
   "metadata": {
    "scrolled": true
   },
   "outputs": [
    {
     "data": {
      "text/html": [
       "<div>\n",
       "<style scoped>\n",
       "    .dataframe tbody tr th:only-of-type {\n",
       "        vertical-align: middle;\n",
       "    }\n",
       "\n",
       "    .dataframe tbody tr th {\n",
       "        vertical-align: top;\n",
       "    }\n",
       "\n",
       "    .dataframe thead th {\n",
       "        text-align: right;\n",
       "    }\n",
       "</style>\n",
       "<table border=\"1\" class=\"dataframe\">\n",
       "  <thead>\n",
       "    <tr style=\"text-align: right;\">\n",
       "      <th></th>\n",
       "      <th>dataset_name</th>\n",
       "      <th>script_title</th>\n",
       "      <th>script_name</th>\n",
       "      <th>sentence_number</th>\n",
       "      <th>sentence_text</th>\n",
       "      <th>language</th>\n",
       "      <th>speaker</th>\n",
       "      <th>emotion</th>\n",
       "      <th>data_path</th>\n",
       "      <th>data_name</th>\n",
       "      <th>...</th>\n",
       "      <th>voice_format</th>\n",
       "      <th>voice_sr</th>\n",
       "      <th>prep_date_time</th>\n",
       "      <th>prep_path</th>\n",
       "      <th>prep_name</th>\n",
       "      <th>samples</th>\n",
       "      <th>frames</th>\n",
       "      <th>clean_date_time</th>\n",
       "      <th>cleaner_name</th>\n",
       "      <th>clean_text</th>\n",
       "    </tr>\n",
       "  </thead>\n",
       "  <tbody>\n",
       "    <tr>\n",
       "      <th>0</th>\n",
       "      <td>Lance</td>\n",
       "      <td>大脑进化</td>\n",
       "      <td>JPHC-001</td>\n",
       "      <td>0</td>\n",
       "      <td>上期主要讲了人类的直立行走，一个因自然环境变化，而被迫完成的残酷过程。</td>\n",
       "      <td>Chn</td>\n",
       "      <td>Lance</td>\n",
       "      <td>一般</td>\n",
       "      <td>\\Lance_Chn_CleanNoise\\CleanNoise-987_0064_2.wav</td>\n",
       "      <td>CleanNoise-987_0064_2.wav</td>\n",
       "      <td>...</td>\n",
       "      <td>wav</td>\n",
       "      <td>22050</td>\n",
       "      <td>NaN</td>\n",
       "      <td>NaN</td>\n",
       "      <td>NaN</td>\n",
       "      <td>NaN</td>\n",
       "      <td>NaN</td>\n",
       "      <td>NaN</td>\n",
       "      <td>NaN</td>\n",
       "      <td>NaN</td>\n",
       "    </tr>\n",
       "    <tr>\n",
       "      <th>1</th>\n",
       "      <td>Lance</td>\n",
       "      <td>大脑进化</td>\n",
       "      <td>JPHC-001</td>\n",
       "      <td>1</td>\n",
       "      <td>总结一下，树上的生活，虽然相对无忧无虑，但是为了采摘食物的方便，古猿还是有了站立能力。</td>\n",
       "      <td>Chn</td>\n",
       "      <td>Lance</td>\n",
       "      <td>一般</td>\n",
       "      <td>\\Lance_Chn_CleanNoise\\CleanNoise-987_0064_2.wav</td>\n",
       "      <td>CleanNoise-987_0064_2.wav</td>\n",
       "      <td>...</td>\n",
       "      <td>wav</td>\n",
       "      <td>22050</td>\n",
       "      <td>NaN</td>\n",
       "      <td>NaN</td>\n",
       "      <td>NaN</td>\n",
       "      <td>NaN</td>\n",
       "      <td>NaN</td>\n",
       "      <td>NaN</td>\n",
       "      <td>NaN</td>\n",
       "      <td>NaN</td>\n",
       "    </tr>\n",
       "    <tr>\n",
       "      <th>2</th>\n",
       "      <td>Lance</td>\n",
       "      <td>大脑进化</td>\n",
       "      <td>JPHC-001</td>\n",
       "      <td>2</td>\n",
       "      <td>这就给后来树下的直立行走打下了基础。</td>\n",
       "      <td>Chn</td>\n",
       "      <td>Lance</td>\n",
       "      <td>一般</td>\n",
       "      <td>\\Lance_Chn_CleanNoise\\CleanNoise-987_0064_2.wav</td>\n",
       "      <td>CleanNoise-987_0064_2.wav</td>\n",
       "      <td>...</td>\n",
       "      <td>wav</td>\n",
       "      <td>22050</td>\n",
       "      <td>NaN</td>\n",
       "      <td>NaN</td>\n",
       "      <td>NaN</td>\n",
       "      <td>NaN</td>\n",
       "      <td>NaN</td>\n",
       "      <td>NaN</td>\n",
       "      <td>NaN</td>\n",
       "      <td>NaN</td>\n",
       "    </tr>\n",
       "    <tr>\n",
       "      <th>3</th>\n",
       "      <td>Lance</td>\n",
       "      <td>大脑进化</td>\n",
       "      <td>JPHC-001</td>\n",
       "      <td>3</td>\n",
       "      <td>而为了升高姿势在草原上获得视野，去搜索目标和预警，是增强直立行走和奔跑能力的原因。</td>\n",
       "      <td>Chn</td>\n",
       "      <td>Lance</td>\n",
       "      <td>一般</td>\n",
       "      <td>\\Lance_Chn_CleanNoise\\CleanNoise-987_0064_2.wav</td>\n",
       "      <td>CleanNoise-987_0064_2.wav</td>\n",
       "      <td>...</td>\n",
       "      <td>wav</td>\n",
       "      <td>22050</td>\n",
       "      <td>NaN</td>\n",
       "      <td>NaN</td>\n",
       "      <td>NaN</td>\n",
       "      <td>NaN</td>\n",
       "      <td>NaN</td>\n",
       "      <td>NaN</td>\n",
       "      <td>NaN</td>\n",
       "      <td>NaN</td>\n",
       "    </tr>\n",
       "    <tr>\n",
       "      <th>4</th>\n",
       "      <td>Lance</td>\n",
       "      <td>大脑进化</td>\n",
       "      <td>JPHC-001</td>\n",
       "      <td>4</td>\n",
       "      <td>不过两条腿的直立行走，却意外获得了能量优势。</td>\n",
       "      <td>Chn</td>\n",
       "      <td>Lance</td>\n",
       "      <td>一般</td>\n",
       "      <td>\\Lance_Chn_CleanNoise\\CleanNoise-987_0064_2.wav</td>\n",
       "      <td>CleanNoise-987_0064_2.wav</td>\n",
       "      <td>...</td>\n",
       "      <td>wav</td>\n",
       "      <td>22050</td>\n",
       "      <td>NaN</td>\n",
       "      <td>NaN</td>\n",
       "      <td>NaN</td>\n",
       "      <td>NaN</td>\n",
       "      <td>NaN</td>\n",
       "      <td>NaN</td>\n",
       "      <td>NaN</td>\n",
       "      <td>NaN</td>\n",
       "    </tr>\n",
       "    <tr>\n",
       "      <th>...</th>\n",
       "      <td>...</td>\n",
       "      <td>...</td>\n",
       "      <td>...</td>\n",
       "      <td>...</td>\n",
       "      <td>...</td>\n",
       "      <td>...</td>\n",
       "      <td>...</td>\n",
       "      <td>...</td>\n",
       "      <td>...</td>\n",
       "      <td>...</td>\n",
       "      <td>...</td>\n",
       "      <td>...</td>\n",
       "      <td>...</td>\n",
       "      <td>...</td>\n",
       "      <td>...</td>\n",
       "      <td>...</td>\n",
       "      <td>...</td>\n",
       "      <td>...</td>\n",
       "      <td>...</td>\n",
       "      <td>...</td>\n",
       "      <td>...</td>\n",
       "    </tr>\n",
       "    <tr>\n",
       "      <th>13383</th>\n",
       "      <td>thchs30</td>\n",
       "      <td>NaN</td>\n",
       "      <td>NaN</td>\n",
       "      <td>NaN</td>\n",
       "      <td>杭城某丝织厂一位沈姓姑娘怀揣一千多元钱来到濮院选购羊毛衫。</td>\n",
       "      <td>Chn</td>\n",
       "      <td>D8</td>\n",
       "      <td>NaN</td>\n",
       "      <td>NaN</td>\n",
       "      <td>NaN</td>\n",
       "      <td>...</td>\n",
       "      <td>wav</td>\n",
       "      <td>22050</td>\n",
       "      <td>NaN</td>\n",
       "      <td>NaN</td>\n",
       "      <td>NaN</td>\n",
       "      <td>NaN</td>\n",
       "      <td>NaN</td>\n",
       "      <td>NaN</td>\n",
       "      <td>NaN</td>\n",
       "      <td>NaN</td>\n",
       "    </tr>\n",
       "    <tr>\n",
       "      <th>13384</th>\n",
       "      <td>thchs30</td>\n",
       "      <td>NaN</td>\n",
       "      <td>NaN</td>\n",
       "      <td>NaN</td>\n",
       "      <td>他认为：无论是脑血栓还是脑溢血均为颅内血液循环障碍、脑组织受损所致。</td>\n",
       "      <td>Chn</td>\n",
       "      <td>D8</td>\n",
       "      <td>NaN</td>\n",
       "      <td>NaN</td>\n",
       "      <td>NaN</td>\n",
       "      <td>...</td>\n",
       "      <td>wav</td>\n",
       "      <td>22050</td>\n",
       "      <td>NaN</td>\n",
       "      <td>NaN</td>\n",
       "      <td>NaN</td>\n",
       "      <td>NaN</td>\n",
       "      <td>NaN</td>\n",
       "      <td>NaN</td>\n",
       "      <td>NaN</td>\n",
       "      <td>NaN</td>\n",
       "    </tr>\n",
       "    <tr>\n",
       "      <th>13385</th>\n",
       "      <td>thchs30</td>\n",
       "      <td>NaN</td>\n",
       "      <td>NaN</td>\n",
       "      <td>NaN</td>\n",
       "      <td>非洲葡语国家包括安哥拉、莫桑比克、几内亚比绍、佛得角、圣多美和普林西比五国。</td>\n",
       "      <td>Chn</td>\n",
       "      <td>D8</td>\n",
       "      <td>NaN</td>\n",
       "      <td>NaN</td>\n",
       "      <td>NaN</td>\n",
       "      <td>...</td>\n",
       "      <td>wav</td>\n",
       "      <td>22050</td>\n",
       "      <td>NaN</td>\n",
       "      <td>NaN</td>\n",
       "      <td>NaN</td>\n",
       "      <td>NaN</td>\n",
       "      <td>NaN</td>\n",
       "      <td>NaN</td>\n",
       "      <td>NaN</td>\n",
       "      <td>NaN</td>\n",
       "    </tr>\n",
       "    <tr>\n",
       "      <th>13386</th>\n",
       "      <td>thchs30</td>\n",
       "      <td>NaN</td>\n",
       "      <td>NaN</td>\n",
       "      <td>NaN</td>\n",
       "      <td>它的外形特征是头中等大、鼻梁多微隆、眼大明亮、耳较短厚、颈细、前胸宽广、蹄小而质坚。</td>\n",
       "      <td>Chn</td>\n",
       "      <td>D8</td>\n",
       "      <td>NaN</td>\n",
       "      <td>NaN</td>\n",
       "      <td>NaN</td>\n",
       "      <td>...</td>\n",
       "      <td>wav</td>\n",
       "      <td>22050</td>\n",
       "      <td>NaN</td>\n",
       "      <td>NaN</td>\n",
       "      <td>NaN</td>\n",
       "      <td>NaN</td>\n",
       "      <td>NaN</td>\n",
       "      <td>NaN</td>\n",
       "      <td>NaN</td>\n",
       "      <td>NaN</td>\n",
       "    </tr>\n",
       "    <tr>\n",
       "      <th>13387</th>\n",
       "      <td>thchs30</td>\n",
       "      <td>NaN</td>\n",
       "      <td>NaN</td>\n",
       "      <td>NaN</td>\n",
       "      <td>国务委员兼国务院秘书长罗干、民政部部长多吉才让也一同前往延安看望人民群众。</td>\n",
       "      <td>Chn</td>\n",
       "      <td>D8</td>\n",
       "      <td>NaN</td>\n",
       "      <td>NaN</td>\n",
       "      <td>NaN</td>\n",
       "      <td>...</td>\n",
       "      <td>wav</td>\n",
       "      <td>22050</td>\n",
       "      <td>NaN</td>\n",
       "      <td>NaN</td>\n",
       "      <td>NaN</td>\n",
       "      <td>NaN</td>\n",
       "      <td>NaN</td>\n",
       "      <td>NaN</td>\n",
       "      <td>NaN</td>\n",
       "      <td>NaN</td>\n",
       "    </tr>\n",
       "  </tbody>\n",
       "</table>\n",
       "<p>15646 rows × 28 columns</p>\n",
       "</div>"
      ],
      "text/plain": [
       "      dataset_name script_title script_name sentence_number  \\\n",
       "0            Lance         大脑进化    JPHC-001               0   \n",
       "1            Lance         大脑进化    JPHC-001               1   \n",
       "2            Lance         大脑进化    JPHC-001               2   \n",
       "3            Lance         大脑进化    JPHC-001               3   \n",
       "4            Lance         大脑进化    JPHC-001               4   \n",
       "...            ...          ...         ...             ...   \n",
       "13383      thchs30          NaN         NaN             NaN   \n",
       "13384      thchs30          NaN         NaN             NaN   \n",
       "13385      thchs30          NaN         NaN             NaN   \n",
       "13386      thchs30          NaN         NaN             NaN   \n",
       "13387      thchs30          NaN         NaN             NaN   \n",
       "\n",
       "                                     sentence_text language speaker emotion  \\\n",
       "0              上期主要讲了人类的直立行走，一个因自然环境变化，而被迫完成的残酷过程。      Chn   Lance      一般   \n",
       "1      总结一下，树上的生活，虽然相对无忧无虑，但是为了采摘食物的方便，古猿还是有了站立能力。      Chn   Lance      一般   \n",
       "2                               这就给后来树下的直立行走打下了基础。      Chn   Lance      一般   \n",
       "3        而为了升高姿势在草原上获得视野，去搜索目标和预警，是增强直立行走和奔跑能力的原因。      Chn   Lance      一般   \n",
       "4                           不过两条腿的直立行走，却意外获得了能量优势。      Chn   Lance      一般   \n",
       "...                                            ...      ...     ...     ...   \n",
       "13383                杭城某丝织厂一位沈姓姑娘怀揣一千多元钱来到濮院选购羊毛衫。      Chn      D8     NaN   \n",
       "13384           他认为：无论是脑血栓还是脑溢血均为颅内血液循环障碍、脑组织受损所致。      Chn      D8     NaN   \n",
       "13385       非洲葡语国家包括安哥拉、莫桑比克、几内亚比绍、佛得角、圣多美和普林西比五国。      Chn      D8     NaN   \n",
       "13386   它的外形特征是头中等大、鼻梁多微隆、眼大明亮、耳较短厚、颈细、前胸宽广、蹄小而质坚。      Chn      D8     NaN   \n",
       "13387        国务委员兼国务院秘书长罗干、民政部部长多吉才让也一同前往延安看望人民群众。      Chn      D8     NaN   \n",
       "\n",
       "                                             data_path  \\\n",
       "0      \\Lance_Chn_CleanNoise\\CleanNoise-987_0064_2.wav   \n",
       "1      \\Lance_Chn_CleanNoise\\CleanNoise-987_0064_2.wav   \n",
       "2      \\Lance_Chn_CleanNoise\\CleanNoise-987_0064_2.wav   \n",
       "3      \\Lance_Chn_CleanNoise\\CleanNoise-987_0064_2.wav   \n",
       "4      \\Lance_Chn_CleanNoise\\CleanNoise-987_0064_2.wav   \n",
       "...                                                ...   \n",
       "13383                                              NaN   \n",
       "13384                                              NaN   \n",
       "13385                                              NaN   \n",
       "13386                                              NaN   \n",
       "13387                                              NaN   \n",
       "\n",
       "                       data_name  ...  voice_format voice_sr prep_date_time  \\\n",
       "0      CleanNoise-987_0064_2.wav  ...           wav    22050            NaN   \n",
       "1      CleanNoise-987_0064_2.wav  ...           wav    22050            NaN   \n",
       "2      CleanNoise-987_0064_2.wav  ...           wav    22050            NaN   \n",
       "3      CleanNoise-987_0064_2.wav  ...           wav    22050            NaN   \n",
       "4      CleanNoise-987_0064_2.wav  ...           wav    22050            NaN   \n",
       "...                          ...  ...           ...      ...            ...   \n",
       "13383                        NaN  ...           wav    22050            NaN   \n",
       "13384                        NaN  ...           wav    22050            NaN   \n",
       "13385                        NaN  ...           wav    22050            NaN   \n",
       "13386                        NaN  ...           wav    22050            NaN   \n",
       "13387                        NaN  ...           wav    22050            NaN   \n",
       "\n",
       "      prep_path  prep_name samples frames  clean_date_time cleaner_name  \\\n",
       "0           NaN        NaN     NaN    NaN              NaN          NaN   \n",
       "1           NaN        NaN     NaN    NaN              NaN          NaN   \n",
       "2           NaN        NaN     NaN    NaN              NaN          NaN   \n",
       "3           NaN        NaN     NaN    NaN              NaN          NaN   \n",
       "4           NaN        NaN     NaN    NaN              NaN          NaN   \n",
       "...         ...        ...     ...    ...              ...          ...   \n",
       "13383       NaN        NaN     NaN    NaN              NaN          NaN   \n",
       "13384       NaN        NaN     NaN    NaN              NaN          NaN   \n",
       "13385       NaN        NaN     NaN    NaN              NaN          NaN   \n",
       "13386       NaN        NaN     NaN    NaN              NaN          NaN   \n",
       "13387       NaN        NaN     NaN    NaN              NaN          NaN   \n",
       "\n",
       "       clean_text  \n",
       "0             NaN  \n",
       "1             NaN  \n",
       "2             NaN  \n",
       "3             NaN  \n",
       "4             NaN  \n",
       "...           ...  \n",
       "13383         NaN  \n",
       "13384         NaN  \n",
       "13385         NaN  \n",
       "13386         NaN  \n",
       "13387         NaN  \n",
       "\n",
       "[15646 rows x 28 columns]"
      ]
     },
     "execution_count": 15,
     "metadata": {},
     "output_type": "execute_result"
    }
   ],
   "source": [
    "df_sum"
   ]
  },
  {
   "cell_type": "code",
   "execution_count": 13,
   "metadata": {
    "code_folding": []
   },
   "outputs": [],
   "source": [
    "# Audio trim process. NO NEED TO EXECUTE EVERYTIME.\n",
    "import sys\n",
    "sys.path.append(\"../\")\n",
    "from utils import audio\n",
    "\n",
    "stft_window_ms = 50                  # size in ms of the Hann window of short-time Fourier transform, used during spectrogram computation\n",
    "stft_shift_ms = 12.5 \n",
    "\n",
    "if not os.path.exists(os.path.join(name_dir, trim_dir)): os.makedirs(os.path.join(name_dir, trim_dir))\n",
    "for index, row in df.iterrows(): \n",
    "    audio_path = os.path.join(name_dir, sub_dir, row.voice_name)\n",
    "#     if resample:\n",
    "#         sound = AudioSegment.from_file(audio_path)\n",
    "#         sound_resample = sound.set_frame_rate(def_sample_rate).set_channels(1)\n",
    "#         sound_resample.export(audio_path, format=\"wav\")\n",
    "    wav_data = audio.load(audio_path)\n",
    "    wav_data_trim = audio.trim_silence(wav_data,stft_window_ms,stft_shift_ms,top_db=33)[0]\n",
    "    audio_path_trim = os.path.join(name_dir, trim_dir, row.voice_name)\n",
    "    if not os.path.exists(audio_path_trim):\n",
    "        audio.save(wav_data_trim, audio_path_trim)"
   ]
  },
  {
   "cell_type": "code",
   "execution_count": 11,
   "metadata": {
    "scrolled": true
   },
   "outputs": [
    {
     "name": "stdout",
     "output_type": "stream",
     "text": [
      "Building phoneme dictionary: ░░░░░░░░░░░░░░░░░░░░░░░░░░░░░░░░░░░░░░░░░░░░░░░░░░░░░░░░░░░░░░░░░░░░░░░ 0.0%"
     ]
    },
    {
     "name": "stderr",
     "output_type": "stream",
     "text": [
      "[ERROR] espeak: No envelope\n",
      "[ERROR] espeak: No envelope\n",
      "[ERROR] espeak: No envelope\n"
     ]
    },
    {
     "name": "stdout",
     "output_type": "stream",
     "text": [
      "Building phoneme dictionary: ░░░░░░░░░░░░░░░░░░░░░░░░░░░░░░░░░░░░░░░░░░░░░░░░░░░░░░░░░░░░░░░░░░░░░░░ 0.0%"
     ]
    },
    {
     "name": "stderr",
     "output_type": "stream",
     "text": [
      "[ERROR] espeak: No envelope\n",
      "[ERROR] espeak: No envelope\n",
      "[ERROR] espeak: No envelope\n",
      "[ERROR] espeak: No envelope\n",
      "[WARNING] 1 utterances containing language switches on lines 1\n",
      "[WARNING] extra phones may appear in the \"cmn\" phoneset\n",
      "[WARNING] language switch flags have been removed (applying \"remove-flags\" policy)\n"
     ]
    },
    {
     "name": "stdout",
     "output_type": "stream",
     "text": [
      "Building phoneme dictionary: ░░░░░░░░░░░░░░░░░░░░░░░░░░░░░░░░░░░░░░░░░░░░░░░░░░░░░░░░░░░░░░░░░░░░░░░ 0.1%"
     ]
    },
    {
     "name": "stderr",
     "output_type": "stream",
     "text": [
      "[WARNING] 1 utterances containing language switches on lines 1\n",
      "[WARNING] extra phones may appear in the \"cmn\" phoneset\n",
      "[WARNING] language switch flags have been removed (applying \"remove-flags\" policy)\n"
     ]
    },
    {
     "name": "stdout",
     "output_type": "stream",
     "text": [
      "\r",
      "Building phoneme dictionary: ░░░░░░░░░░░░░░░░░░░░░░░░░░░░░░░░░░░░░░░░░░░░░░░░░░░░░░░░░░░░░░░░░░░░░░░ 0.1%"
     ]
    },
    {
     "name": "stderr",
     "output_type": "stream",
     "text": [
      "[ERROR] espeak: No envelope\n",
      "[ERROR] espeak: No envelope\n",
      "[ERROR] espeak: No envelope\n",
      "[ERROR] espeak: No envelope\n"
     ]
    },
    {
     "name": "stdout",
     "output_type": "stream",
     "text": [
      "Building phoneme dictionary: ░░░░░░░░░░░░░░░░░░░░░░░░░░░░░░░░░░░░░░░░░░░░░░░░░░░░░░░░░░░░░░░░░░░░░░░ 0.1%"
     ]
    },
    {
     "name": "stderr",
     "output_type": "stream",
     "text": [
      "[ERROR] espeak: No envelope\n",
      "[ERROR] espeak: No envelope\n",
      "[ERROR] espeak: No envelope\n",
      "[ERROR] espeak: No envelope\n",
      "[ERROR] espeak: No envelope\n"
     ]
    },
    {
     "name": "stdout",
     "output_type": "stream",
     "text": [
      "Building phoneme dictionary: ░░░░░░░░░░░░░░░░░░░░░░░░░░░░░░░░░░░░░░░░░░░░░░░░░░░░░░░░░░░░░░░░░░░░░░░ 0.1%"
     ]
    },
    {
     "name": "stderr",
     "output_type": "stream",
     "text": [
      "[WARNING] 1 utterances containing language switches on lines 1\n",
      "[WARNING] extra phones may appear in the \"cmn\" phoneset\n",
      "[WARNING] language switch flags have been removed (applying \"remove-flags\" policy)\n"
     ]
    },
    {
     "name": "stdout",
     "output_type": "stream",
     "text": [
      "\r",
      "Building phoneme dictionary: ░░░░░░░░░░░░░░░░░░░░░░░░░░░░░░░░░░░░░░░░░░░░░░░░░░░░░░░░░░░░░░░░░░░░░░░ 0.1%"
     ]
    },
    {
     "name": "stderr",
     "output_type": "stream",
     "text": [
      "[WARNING] 1 utterances containing language switches on lines 1\n",
      "[WARNING] extra phones may appear in the \"cmn\" phoneset\n",
      "[WARNING] language switch flags have been removed (applying \"remove-flags\" policy)\n"
     ]
    },
    {
     "name": "stdout",
     "output_type": "stream",
     "text": [
      "Building phoneme dictionary: ░░░░░░░░░░░░░░░░░░░░░░░░░░░░░░░░░░░░░░░░░░░░░░░░░░░░░░░░░░░░░░░░░░░░░░░ 0.2%"
     ]
    },
    {
     "name": "stderr",
     "output_type": "stream",
     "text": [
      "[WARNING] 1 utterances containing language switches on lines 1\n",
      "[WARNING] extra phones may appear in the \"cmn\" phoneset\n",
      "[WARNING] language switch flags have been removed (applying \"remove-flags\" policy)\n"
     ]
    },
    {
     "name": "stdout",
     "output_type": "stream",
     "text": [
      "Building phoneme dictionary: ░░░░░░░░░░░░░░░░░░░░░░░░░░░░░░░░░░░░░░░░░░░░░░░░░░░░░░░░░░░░░░░░░░░░░░░ 0.3%"
     ]
    },
    {
     "name": "stderr",
     "output_type": "stream",
     "text": [
      "[ERROR] espeak: No envelope\n",
      "[ERROR] espeak: No envelope\n",
      "[ERROR] espeak: No envelope\n",
      "[ERROR] espeak: No envelope\n",
      "[ERROR] espeak: No envelope\n",
      "[ERROR] espeak: No envelope\n"
     ]
    },
    {
     "name": "stdout",
     "output_type": "stream",
     "text": [
      "Building phoneme dictionary: ░░░░░░░░░░░░░░░░░░░░░░░░░░░░░░░░░░░░░░░░░░░░░░░░░░░░░░░░░░░░░░░░░░░░░░░ 0.3%"
     ]
    },
    {
     "name": "stderr",
     "output_type": "stream",
     "text": [
      "[ERROR] espeak: No envelope\n",
      "[ERROR] espeak: No envelope\n",
      "[ERROR] espeak: No envelope\n",
      "[ERROR] espeak: No envelope\n",
      "[WARNING] 1 utterances containing language switches on lines 1\n",
      "[WARNING] extra phones may appear in the \"cmn\" phoneset\n",
      "[WARNING] language switch flags have been removed (applying \"remove-flags\" policy)\n"
     ]
    },
    {
     "name": "stdout",
     "output_type": "stream",
     "text": [
      "\r",
      "Building phoneme dictionary: ░░░░░░░░░░░░░░░░░░░░░░░░░░░░░░░░░░░░░░░░░░░░░░░░░░░░░░░░░░░░░░░░░░░░░░░ 0.3%"
     ]
    },
    {
     "name": "stderr",
     "output_type": "stream",
     "text": [
      "[ERROR] espeak: No envelope\n",
      "[ERROR] espeak: No envelope\n",
      "[ERROR] espeak: No envelope\n",
      "[ERROR] espeak: No envelope\n",
      "[ERROR] espeak: No envelope\n",
      "[ERROR] espeak: No envelope\n",
      "[ERROR] espeak: No envelope\n",
      "[ERROR] espeak: No envelope\n",
      "[ERROR] espeak: No envelope\n",
      "[ERROR] espeak: No envelope\n"
     ]
    },
    {
     "name": "stdout",
     "output_type": "stream",
     "text": [
      "\r",
      "Building phoneme dictionary: ░░░░░░░░░░░░░░░░░░░░░░░░░░░░░░░░░░░░░░░░░░░░░░░░░░░░░░░░░░░░░░░░░░░░░░░ 0.3%"
     ]
    },
    {
     "name": "stderr",
     "output_type": "stream",
     "text": [
      "[WARNING] 1 utterances containing language switches on lines 1\n",
      "[WARNING] extra phones may appear in the \"cmn\" phoneset\n",
      "[WARNING] language switch flags have been removed (applying \"remove-flags\" policy)\n"
     ]
    },
    {
     "name": "stdout",
     "output_type": "stream",
     "text": [
      "Building phoneme dictionary: ░░░░░░░░░░░░░░░░░░░░░░░░░░░░░░░░░░░░░░░░░░░░░░░░░░░░░░░░░░░░░░░░░░░░░░░ 0.4%"
     ]
    },
    {
     "name": "stderr",
     "output_type": "stream",
     "text": [
      "[ERROR] espeak: No envelope\n",
      "[ERROR] espeak: No envelope\n"
     ]
    },
    {
     "name": "stdout",
     "output_type": "stream",
     "text": [
      "\r",
      "Building phoneme dictionary: ░░░░░░░░░░░░░░░░░░░░░░░░░░░░░░░░░░░░░░░░░░░░░░░░░░░░░░░░░░░░░░░░░░░░░░░ 0.4%"
     ]
    },
    {
     "name": "stderr",
     "output_type": "stream",
     "text": [
      "[ERROR] espeak: No envelope\n"
     ]
    },
    {
     "name": "stdout",
     "output_type": "stream",
     "text": [
      "\r",
      "Building phoneme dictionary: ░░░░░░░░░░░░░░░░░░░░░░░░░░░░░░░░░░░░░░░░░░░░░░░░░░░░░░░░░░░░░░░░░░░░░░░ 0.4%"
     ]
    },
    {
     "name": "stderr",
     "output_type": "stream",
     "text": [
      "[WARNING] 1 utterances containing language switches on lines 1\n",
      "[WARNING] extra phones may appear in the \"cmn\" phoneset\n",
      "[WARNING] language switch flags have been removed (applying \"remove-flags\" policy)\n"
     ]
    },
    {
     "name": "stdout",
     "output_type": "stream",
     "text": [
      "\r",
      "Building phoneme dictionary: ░░░░░░░░░░░░░░░░░░░░░░░░░░░░░░░░░░░░░░░░░░░░░░░░░░░░░░░░░░░░░░░░░░░░░░░ 0.5%"
     ]
    },
    {
     "name": "stderr",
     "output_type": "stream",
     "text": [
      "[WARNING] 1 utterances containing language switches on lines 1\n",
      "[WARNING] extra phones may appear in the \"cmn\" phoneset\n",
      "[WARNING] language switch flags have been removed (applying \"remove-flags\" policy)\n"
     ]
    },
    {
     "name": "stdout",
     "output_type": "stream",
     "text": [
      "Building phoneme dictionary: ▒░░░░░░░░░░░░░░░░░░░░░░░░░░░░░░░░░░░░░░░░░░░░░░░░░░░░░░░░░░░░░░░░░░░░░░ 0.5%"
     ]
    },
    {
     "name": "stderr",
     "output_type": "stream",
     "text": [
      "[ERROR] espeak: No envelope\n",
      "[ERROR] espeak: No envelope\n",
      "[ERROR] espeak: No envelope\n",
      "[ERROR] espeak: No envelope\n",
      "[ERROR] espeak: No envelope\n",
      "[ERROR] espeak: No envelope\n",
      "[ERROR] espeak: No envelope\n"
     ]
    },
    {
     "name": "stdout",
     "output_type": "stream",
     "text": [
      "Building phoneme dictionary: ▒░░░░░░░░░░░░░░░░░░░░░░░░░░░░░░░░░░░░░░░░░░░░░░░░░░░░░░░░░░░░░░░░░░░░░░ 0.6%"
     ]
    },
    {
     "name": "stderr",
     "output_type": "stream",
     "text": [
      "[ERROR] espeak: No envelope\n",
      "[ERROR] espeak: No envelope\n",
      "[ERROR] espeak: No envelope\n",
      "[ERROR] espeak: No envelope\n",
      "[ERROR] espeak: No envelope\n",
      "[ERROR] espeak: No envelope\n"
     ]
    },
    {
     "name": "stdout",
     "output_type": "stream",
     "text": [
      "Building phoneme dictionary: ▒░░░░░░░░░░░░░░░░░░░░░░░░░░░░░░░░░░░░░░░░░░░░░░░░░░░░░░░░░░░░░░░░░░░░░░ 0.6%"
     ]
    },
    {
     "name": "stderr",
     "output_type": "stream",
     "text": [
      "[ERROR] espeak: No envelope\n",
      "[ERROR] espeak: No envelope\n",
      "[ERROR] espeak: No envelope\n",
      "[ERROR] espeak: No envelope\n"
     ]
    },
    {
     "name": "stdout",
     "output_type": "stream",
     "text": [
      "\r",
      "Building phoneme dictionary: ▒░░░░░░░░░░░░░░░░░░░░░░░░░░░░░░░░░░░░░░░░░░░░░░░░░░░░░░░░░░░░░░░░░░░░░░ 0.6%"
     ]
    },
    {
     "name": "stderr",
     "output_type": "stream",
     "text": [
      "[WARNING] 1 utterances containing language switches on lines 1\n",
      "[WARNING] extra phones may appear in the \"cmn\" phoneset\n",
      "[WARNING] language switch flags have been removed (applying \"remove-flags\" policy)\n"
     ]
    },
    {
     "name": "stdout",
     "output_type": "stream",
     "text": [
      "Building phoneme dictionary: ▒░░░░░░░░░░░░░░░░░░░░░░░░░░░░░░░░░░░░░░░░░░░░░░░░░░░░░░░░░░░░░░░░░░░░░░ 0.7%"
     ]
    },
    {
     "name": "stderr",
     "output_type": "stream",
     "text": [
      "[ERROR] espeak: No envelope\n",
      "[ERROR] espeak: No envelope\n"
     ]
    },
    {
     "name": "stdout",
     "output_type": "stream",
     "text": [
      "Building phoneme dictionary: ▒░░░░░░░░░░░░░░░░░░░░░░░░░░░░░░░░░░░░░░░░░░░░░░░░░░░░░░░░░░░░░░░░░░░░░░ 0.7%"
     ]
    },
    {
     "name": "stderr",
     "output_type": "stream",
     "text": [
      "[ERROR] espeak: No envelope\n",
      "[ERROR] espeak: No envelope\n",
      "[ERROR] espeak: No envelope\n",
      "[ERROR] espeak: No envelope\n",
      "[ERROR] espeak: No envelope\n"
     ]
    },
    {
     "name": "stdout",
     "output_type": "stream",
     "text": [
      "Building phoneme dictionary: ▒░░░░░░░░░░░░░░░░░░░░░░░░░░░░░░░░░░░░░░░░░░░░░░░░░░░░░░░░░░░░░░░░░░░░░░ 0.8%"
     ]
    },
    {
     "name": "stderr",
     "output_type": "stream",
     "text": [
      "[WARNING] 1 utterances containing language switches on lines 1\n",
      "[WARNING] extra phones may appear in the \"cmn\" phoneset\n",
      "[WARNING] language switch flags have been removed (applying \"remove-flags\" policy)\n"
     ]
    },
    {
     "name": "stdout",
     "output_type": "stream",
     "text": [
      "Building phoneme dictionary: ▒░░░░░░░░░░░░░░░░░░░░░░░░░░░░░░░░░░░░░░░░░░░░░░░░░░░░░░░░░░░░░░░░░░░░░░ 0.8%"
     ]
    },
    {
     "name": "stderr",
     "output_type": "stream",
     "text": [
      "[ERROR] espeak: No envelope\n",
      "[ERROR] espeak: No envelope\n",
      "[ERROR] espeak: No envelope\n",
      "[ERROR] espeak: No envelope\n"
     ]
    },
    {
     "name": "stdout",
     "output_type": "stream",
     "text": [
      "Building phoneme dictionary: ▒░░░░░░░░░░░░░░░░░░░░░░░░░░░░░░░░░░░░░░░░░░░░░░░░░░░░░░░░░░░░░░░░░░░░░░ 0.9%"
     ]
    },
    {
     "name": "stderr",
     "output_type": "stream",
     "text": [
      "[ERROR] espeak: No envelope\n",
      "[ERROR] espeak: No envelope\n",
      "[ERROR] espeak: No envelope\n",
      "[ERROR] espeak: No envelope\n",
      "[ERROR] espeak: No envelope\n"
     ]
    },
    {
     "name": "stdout",
     "output_type": "stream",
     "text": [
      "Building phoneme dictionary: ▒░░░░░░░░░░░░░░░░░░░░░░░░░░░░░░░░░░░░░░░░░░░░░░░░░░░░░░░░░░░░░░░░░░░░░░ 0.9%"
     ]
    },
    {
     "name": "stderr",
     "output_type": "stream",
     "text": [
      "[ERROR] espeak: No envelope\n",
      "[ERROR] espeak: No envelope\n"
     ]
    },
    {
     "name": "stdout",
     "output_type": "stream",
     "text": [
      "Building phoneme dictionary: ▒░░░░░░░░░░░░░░░░░░░░░░░░░░░░░░░░░░░░░░░░░░░░░░░░░░░░░░░░░░░░░░░░░░░░░░ 0.9%"
     ]
    },
    {
     "name": "stderr",
     "output_type": "stream",
     "text": [
      "[ERROR] espeak: No envelope\n",
      "[ERROR] espeak: No envelope\n"
     ]
    },
    {
     "name": "stdout",
     "output_type": "stream",
     "text": [
      "Building phoneme dictionary: ▓░░░░░░░░░░░░░░░░░░░░░░░░░░░░░░░░░░░░░░░░░░░░░░░░░░░░░░░░░░░░░░░░░░░░░░ 1.0%"
     ]
    },
    {
     "name": "stderr",
     "output_type": "stream",
     "text": [
      "[ERROR] espeak: No envelope\n",
      "[ERROR] espeak: No envelope\n",
      "[ERROR] espeak: No envelope\n",
      "[ERROR] espeak: No envelope\n",
      "[ERROR] espeak: No envelope\n",
      "[ERROR] espeak: No envelope\n"
     ]
    },
    {
     "name": "stdout",
     "output_type": "stream",
     "text": [
      "Building phoneme dictionary: ▓░░░░░░░░░░░░░░░░░░░░░░░░░░░░░░░░░░░░░░░░░░░░░░░░░░░░░░░░░░░░░░░░░░░░░░ 1.0%"
     ]
    },
    {
     "name": "stderr",
     "output_type": "stream",
     "text": [
      "[WARNING] 1 utterances containing language switches on lines 1\n",
      "[WARNING] extra phones may appear in the \"cmn\" phoneset\n",
      "[WARNING] language switch flags have been removed (applying \"remove-flags\" policy)\n"
     ]
    },
    {
     "name": "stdout",
     "output_type": "stream",
     "text": [
      "\r",
      "Building phoneme dictionary: ▓░░░░░░░░░░░░░░░░░░░░░░░░░░░░░░░░░░░░░░░░░░░░░░░░░░░░░░░░░░░░░░░░░░░░░░ 1.0%"
     ]
    },
    {
     "name": "stderr",
     "output_type": "stream",
     "text": [
      "[WARNING] 1 utterances containing language switches on lines 1\n",
      "[WARNING] extra phones may appear in the \"cmn\" phoneset\n",
      "[WARNING] language switch flags have been removed (applying \"remove-flags\" policy)\n"
     ]
    },
    {
     "name": "stdout",
     "output_type": "stream",
     "text": [
      "Building phoneme dictionary: ▓░░░░░░░░░░░░░░░░░░░░░░░░░░░░░░░░░░░░░░░░░░░░░░░░░░░░░░░░░░░░░░░░░░░░░░ 1.0%"
     ]
    },
    {
     "name": "stderr",
     "output_type": "stream",
     "text": [
      "[ERROR] espeak: No envelope\n",
      "[ERROR] espeak: No envelope\n"
     ]
    },
    {
     "name": "stdout",
     "output_type": "stream",
     "text": [
      "Building phoneme dictionary: ▓░░░░░░░░░░░░░░░░░░░░░░░░░░░░░░░░░░░░░░░░░░░░░░░░░░░░░░░░░░░░░░░░░░░░░░ 1.0%"
     ]
    },
    {
     "name": "stderr",
     "output_type": "stream",
     "text": [
      "[WARNING] 1 utterances containing language switches on lines 1\n",
      "[WARNING] extra phones may appear in the \"cmn\" phoneset\n",
      "[WARNING] language switch flags have been removed (applying \"remove-flags\" policy)\n"
     ]
    },
    {
     "name": "stdout",
     "output_type": "stream",
     "text": [
      "Building phoneme dictionary: ▓░░░░░░░░░░░░░░░░░░░░░░░░░░░░░░░░░░░░░░░░░░░░░░░░░░░░░░░░░░░░░░░░░░░░░░ 1.1%"
     ]
    },
    {
     "name": "stderr",
     "output_type": "stream",
     "text": [
      "[WARNING] 1 utterances containing language switches on lines 1\n",
      "[WARNING] extra phones may appear in the \"cmn\" phoneset\n",
      "[WARNING] language switch flags have been removed (applying \"remove-flags\" policy)\n"
     ]
    },
    {
     "name": "stdout",
     "output_type": "stream",
     "text": [
      "Building phoneme dictionary: ▓░░░░░░░░░░░░░░░░░░░░░░░░░░░░░░░░░░░░░░░░░░░░░░░░░░░░░░░░░░░░░░░░░░░░░░ 1.2%"
     ]
    },
    {
     "name": "stderr",
     "output_type": "stream",
     "text": [
      "[WARNING] 1 utterances containing language switches on lines 1\n",
      "[WARNING] extra phones may appear in the \"cmn\" phoneset\n",
      "[WARNING] language switch flags have been removed (applying \"remove-flags\" policy)\n"
     ]
    },
    {
     "name": "stdout",
     "output_type": "stream",
     "text": [
      "\r",
      "Building phoneme dictionary: ▓░░░░░░░░░░░░░░░░░░░░░░░░░░░░░░░░░░░░░░░░░░░░░░░░░░░░░░░░░░░░░░░░░░░░░░ 1.2%"
     ]
    },
    {
     "name": "stderr",
     "output_type": "stream",
     "text": [
      "[ERROR] espeak: No envelope\n",
      "[ERROR] espeak: No envelope\n",
      "[ERROR] espeak: No envelope\n",
      "[ERROR] espeak: No envelope\n",
      "[ERROR] espeak: No envelope\n",
      "[ERROR] espeak: No envelope\n"
     ]
    },
    {
     "name": "stdout",
     "output_type": "stream",
     "text": [
      "Building phoneme dictionary: ▓░░░░░░░░░░░░░░░░░░░░░░░░░░░░░░░░░░░░░░░░░░░░░░░░░░░░░░░░░░░░░░░░░░░░░░ 1.2%"
     ]
    },
    {
     "name": "stderr",
     "output_type": "stream",
     "text": [
      "[WARNING] 1 utterances containing language switches on lines 1\n",
      "[WARNING] extra phones may appear in the \"cmn\" phoneset\n",
      "[WARNING] language switch flags have been removed (applying \"remove-flags\" policy)\n"
     ]
    },
    {
     "name": "stdout",
     "output_type": "stream",
     "text": [
      "Building phoneme dictionary: ▓░░░░░░░░░░░░░░░░░░░░░░░░░░░░░░░░░░░░░░░░░░░░░░░░░░░░░░░░░░░░░░░░░░░░░░ 1.2%"
     ]
    },
    {
     "name": "stderr",
     "output_type": "stream",
     "text": [
      "[WARNING] 1 utterances containing language switches on lines 1\n",
      "[WARNING] extra phones may appear in the \"cmn\" phoneset\n",
      "[WARNING] language switch flags have been removed (applying \"remove-flags\" policy)\n"
     ]
    },
    {
     "name": "stdout",
     "output_type": "stream",
     "text": [
      "Building phoneme dictionary: ▓░░░░░░░░░░░░░░░░░░░░░░░░░░░░░░░░░░░░░░░░░░░░░░░░░░░░░░░░░░░░░░░░░░░░░░ 1.2%"
     ]
    },
    {
     "name": "stderr",
     "output_type": "stream",
     "text": [
      "[ERROR] espeak: No envelope\n",
      "[ERROR] espeak: No envelope\n",
      "[ERROR] espeak: No envelope\n",
      "[ERROR] espeak: No envelope\n",
      "[ERROR] espeak: No envelope\n"
     ]
    },
    {
     "name": "stdout",
     "output_type": "stream",
     "text": [
      "Building phoneme dictionary: ▓░░░░░░░░░░░░░░░░░░░░░░░░░░░░░░░░░░░░░░░░░░░░░░░░░░░░░░░░░░░░░░░░░░░░░░ 1.3%"
     ]
    },
    {
     "name": "stderr",
     "output_type": "stream",
     "text": [
      "[ERROR] espeak: No envelope\n",
      "[ERROR] espeak: No envelope\n",
      "[ERROR] espeak: No envelope\n"
     ]
    },
    {
     "name": "stdout",
     "output_type": "stream",
     "text": [
      "Building phoneme dictionary: ▓░░░░░░░░░░░░░░░░░░░░░░░░░░░░░░░░░░░░░░░░░░░░░░░░░░░░░░░░░░░░░░░░░░░░░░ 1.3%"
     ]
    },
    {
     "name": "stderr",
     "output_type": "stream",
     "text": [
      "[WARNING] 1 utterances containing language switches on lines 1\n",
      "[WARNING] extra phones may appear in the \"cmn\" phoneset\n",
      "[WARNING] language switch flags have been removed (applying \"remove-flags\" policy)\n"
     ]
    },
    {
     "name": "stdout",
     "output_type": "stream",
     "text": [
      "Building phoneme dictionary: ▓░░░░░░░░░░░░░░░░░░░░░░░░░░░░░░░░░░░░░░░░░░░░░░░░░░░░░░░░░░░░░░░░░░░░░░ 1.4%"
     ]
    },
    {
     "name": "stderr",
     "output_type": "stream",
     "text": [
      "[WARNING] 1 utterances containing language switches on lines 1\n",
      "[WARNING] extra phones may appear in the \"cmn\" phoneset\n",
      "[WARNING] language switch flags have been removed (applying \"remove-flags\" policy)\n"
     ]
    },
    {
     "name": "stdout",
     "output_type": "stream",
     "text": [
      "Building phoneme dictionary: ▓░░░░░░░░░░░░░░░░░░░░░░░░░░░░░░░░░░░░░░░░░░░░░░░░░░░░░░░░░░░░░░░░░░░░░░ 1.4%"
     ]
    },
    {
     "name": "stderr",
     "output_type": "stream",
     "text": [
      "[ERROR] espeak: No envelope\n",
      "[ERROR] espeak: No envelope\n",
      "[ERROR] espeak: No envelope\n",
      "[ERROR] espeak: No envelope\n",
      "[ERROR] espeak: No envelope\n"
     ]
    },
    {
     "name": "stdout",
     "output_type": "stream",
     "text": [
      "\r",
      "Building phoneme dictionary: ▓░░░░░░░░░░░░░░░░░░░░░░░░░░░░░░░░░░░░░░░░░░░░░░░░░░░░░░░░░░░░░░░░░░░░░░ 1.4%"
     ]
    },
    {
     "name": "stderr",
     "output_type": "stream",
     "text": [
      "[WARNING] 1 utterances containing language switches on lines 1\n",
      "[WARNING] extra phones may appear in the \"cmn\" phoneset\n",
      "[WARNING] language switch flags have been removed (applying \"remove-flags\" policy)\n"
     ]
    },
    {
     "name": "stdout",
     "output_type": "stream",
     "text": [
      "Building phoneme dictionary: ▓░░░░░░░░░░░░░░░░░░░░░░░░░░░░░░░░░░░░░░░░░░░░░░░░░░░░░░░░░░░░░░░░░░░░░░ 1.4%"
     ]
    },
    {
     "name": "stderr",
     "output_type": "stream",
     "text": [
      "[ERROR] espeak: No envelope\n",
      "[ERROR] espeak: No envelope\n"
     ]
    },
    {
     "name": "stdout",
     "output_type": "stream",
     "text": [
      "Building phoneme dictionary: █░░░░░░░░░░░░░░░░░░░░░░░░░░░░░░░░░░░░░░░░░░░░░░░░░░░░░░░░░░░░░░░░░░░░░░ 1.5%"
     ]
    },
    {
     "name": "stderr",
     "output_type": "stream",
     "text": [
      "[WARNING] 1 utterances containing language switches on lines 1\n",
      "[WARNING] extra phones may appear in the \"cmn\" phoneset\n",
      "[WARNING] language switch flags have been removed (applying \"remove-flags\" policy)\n",
      "[ERROR] espeak: No envelope\n",
      "[ERROR] espeak: No envelope\n",
      "[ERROR] espeak: No envelope\n",
      "[ERROR] espeak: No envelope\n",
      "[ERROR] espeak: No envelope\n",
      "[ERROR] espeak: No envelope\n",
      "[ERROR] espeak: No envelope\n",
      "[ERROR] espeak: No envelope\n"
     ]
    },
    {
     "name": "stdout",
     "output_type": "stream",
     "text": [
      "Building phoneme dictionary: █░░░░░░░░░░░░░░░░░░░░░░░░░░░░░░░░░░░░░░░░░░░░░░░░░░░░░░░░░░░░░░░░░░░░░░ 1.5%"
     ]
    },
    {
     "name": "stderr",
     "output_type": "stream",
     "text": [
      "[ERROR] espeak: No envelope\n",
      "[ERROR] espeak: No envelope\n",
      "[ERROR] espeak: No envelope\n",
      "[ERROR] espeak: No envelope\n"
     ]
    },
    {
     "name": "stdout",
     "output_type": "stream",
     "text": [
      "Building phoneme dictionary: █░░░░░░░░░░░░░░░░░░░░░░░░░░░░░░░░░░░░░░░░░░░░░░░░░░░░░░░░░░░░░░░░░░░░░░ 1.6%"
     ]
    },
    {
     "name": "stderr",
     "output_type": "stream",
     "text": [
      "[ERROR] espeak: No envelope\n",
      "[ERROR] espeak: No envelope\n",
      "[ERROR] espeak: No envelope\n",
      "[ERROR] espeak: No envelope\n",
      "[ERROR] espeak: No envelope\n",
      "[ERROR] espeak: No envelope\n"
     ]
    },
    {
     "name": "stdout",
     "output_type": "stream",
     "text": [
      "Building phoneme dictionary: █░░░░░░░░░░░░░░░░░░░░░░░░░░░░░░░░░░░░░░░░░░░░░░░░░░░░░░░░░░░░░░░░░░░░░░ 1.8%"
     ]
    },
    {
     "name": "stderr",
     "output_type": "stream",
     "text": [
      "[WARNING] 1 utterances containing language switches on lines 1\n",
      "[WARNING] extra phones may appear in the \"cmn\" phoneset\n",
      "[WARNING] language switch flags have been removed (applying \"remove-flags\" policy)\n"
     ]
    },
    {
     "name": "stdout",
     "output_type": "stream",
     "text": [
      "Building phoneme dictionary: █░░░░░░░░░░░░░░░░░░░░░░░░░░░░░░░░░░░░░░░░░░░░░░░░░░░░░░░░░░░░░░░░░░░░░░ 1.8%"
     ]
    },
    {
     "name": "stderr",
     "output_type": "stream",
     "text": [
      "[ERROR] espeak: No envelope\n",
      "[ERROR] espeak: No envelope\n",
      "[ERROR] espeak: No envelope\n",
      "[ERROR] espeak: No envelope\n",
      "[ERROR] espeak: No envelope\n",
      "[ERROR] espeak: No envelope\n"
     ]
    },
    {
     "name": "stdout",
     "output_type": "stream",
     "text": [
      "Building phoneme dictionary: █░░░░░░░░░░░░░░░░░░░░░░░░░░░░░░░░░░░░░░░░░░░░░░░░░░░░░░░░░░░░░░░░░░░░░░ 1.9%"
     ]
    },
    {
     "name": "stderr",
     "output_type": "stream",
     "text": [
      "[WARNING] 1 utterances containing language switches on lines 1\n",
      "[WARNING] extra phones may appear in the \"cmn\" phoneset\n",
      "[WARNING] language switch flags have been removed (applying \"remove-flags\" policy)\n"
     ]
    },
    {
     "name": "stdout",
     "output_type": "stream",
     "text": [
      "Building phoneme dictionary: █░░░░░░░░░░░░░░░░░░░░░░░░░░░░░░░░░░░░░░░░░░░░░░░░░░░░░░░░░░░░░░░░░░░░░░ 1.9%"
     ]
    },
    {
     "name": "stderr",
     "output_type": "stream",
     "text": [
      "[ERROR] espeak: No envelope\n",
      "[ERROR] espeak: No envelope\n"
     ]
    },
    {
     "name": "stdout",
     "output_type": "stream",
     "text": [
      "Building phoneme dictionary: █▒░░░░░░░░░░░░░░░░░░░░░░░░░░░░░░░░░░░░░░░░░░░░░░░░░░░░░░░░░░░░░░░░░░░░░ 1.9%"
     ]
    },
    {
     "name": "stderr",
     "output_type": "stream",
     "text": [
      "[ERROR] espeak: No envelope\n",
      "[ERROR] espeak: No envelope\n"
     ]
    },
    {
     "name": "stdout",
     "output_type": "stream",
     "text": [
      "Building phoneme dictionary: █▒░░░░░░░░░░░░░░░░░░░░░░░░░░░░░░░░░░░░░░░░░░░░░░░░░░░░░░░░░░░░░░░░░░░░░ 1.9%"
     ]
    },
    {
     "name": "stderr",
     "output_type": "stream",
     "text": [
      "[ERROR] espeak: No envelope\n",
      "[ERROR] espeak: No envelope\n",
      "[ERROR] espeak: No envelope\n",
      "[ERROR] espeak: No envelope\n"
     ]
    },
    {
     "name": "stdout",
     "output_type": "stream",
     "text": [
      "Building phoneme dictionary: █▒░░░░░░░░░░░░░░░░░░░░░░░░░░░░░░░░░░░░░░░░░░░░░░░░░░░░░░░░░░░░░░░░░░░░░ 2.0%"
     ]
    },
    {
     "name": "stderr",
     "output_type": "stream",
     "text": [
      "[WARNING] 1 utterances containing language switches on lines 1\n",
      "[WARNING] extra phones may appear in the \"cmn\" phoneset\n",
      "[WARNING] language switch flags have been removed (applying \"remove-flags\" policy)\n"
     ]
    },
    {
     "name": "stdout",
     "output_type": "stream",
     "text": [
      "Building phoneme dictionary: █▒░░░░░░░░░░░░░░░░░░░░░░░░░░░░░░░░░░░░░░░░░░░░░░░░░░░░░░░░░░░░░░░░░░░░░ 2.0%"
     ]
    },
    {
     "name": "stderr",
     "output_type": "stream",
     "text": [
      "[WARNING] 1 utterances containing language switches on lines 1\n",
      "[WARNING] extra phones may appear in the \"cmn\" phoneset\n",
      "[WARNING] language switch flags have been removed (applying \"remove-flags\" policy)\n"
     ]
    },
    {
     "name": "stdout",
     "output_type": "stream",
     "text": [
      "Building phoneme dictionary: █▒░░░░░░░░░░░░░░░░░░░░░░░░░░░░░░░░░░░░░░░░░░░░░░░░░░░░░░░░░░░░░░░░░░░░░ 2.1%"
     ]
    },
    {
     "name": "stderr",
     "output_type": "stream",
     "text": [
      "[WARNING] 1 utterances containing language switches on lines 1\n",
      "[WARNING] extra phones may appear in the \"cmn\" phoneset\n",
      "[WARNING] language switch flags have been removed (applying \"remove-flags\" policy)\n"
     ]
    },
    {
     "name": "stdout",
     "output_type": "stream",
     "text": [
      "Building phoneme dictionary: █▒░░░░░░░░░░░░░░░░░░░░░░░░░░░░░░░░░░░░░░░░░░░░░░░░░░░░░░░░░░░░░░░░░░░░░ 2.1%"
     ]
    },
    {
     "name": "stderr",
     "output_type": "stream",
     "text": [
      "[WARNING] 1 utterances containing language switches on lines 1\n",
      "[WARNING] extra phones may appear in the \"cmn\" phoneset\n",
      "[WARNING] language switch flags have been removed (applying \"remove-flags\" policy)\n"
     ]
    },
    {
     "name": "stdout",
     "output_type": "stream",
     "text": [
      "Building phoneme dictionary: █▒░░░░░░░░░░░░░░░░░░░░░░░░░░░░░░░░░░░░░░░░░░░░░░░░░░░░░░░░░░░░░░░░░░░░░ 2.1%"
     ]
    },
    {
     "name": "stderr",
     "output_type": "stream",
     "text": [
      "[WARNING] 1 utterances containing language switches on lines 1\n",
      "[WARNING] extra phones may appear in the \"cmn\" phoneset\n",
      "[WARNING] language switch flags have been removed (applying \"remove-flags\" policy)\n"
     ]
    },
    {
     "name": "stdout",
     "output_type": "stream",
     "text": [
      "Building phoneme dictionary: █▒░░░░░░░░░░░░░░░░░░░░░░░░░░░░░░░░░░░░░░░░░░░░░░░░░░░░░░░░░░░░░░░░░░░░░ 2.2%"
     ]
    },
    {
     "name": "stderr",
     "output_type": "stream",
     "text": [
      "[WARNING] 1 utterances containing language switches on lines 1\n",
      "[WARNING] extra phones may appear in the \"cmn\" phoneset\n",
      "[WARNING] language switch flags have been removed (applying \"remove-flags\" policy)\n"
     ]
    },
    {
     "name": "stdout",
     "output_type": "stream",
     "text": [
      "Building phoneme dictionary: █▒░░░░░░░░░░░░░░░░░░░░░░░░░░░░░░░░░░░░░░░░░░░░░░░░░░░░░░░░░░░░░░░░░░░░░ 2.2%"
     ]
    },
    {
     "name": "stderr",
     "output_type": "stream",
     "text": [
      "[ERROR] espeak: No envelope\n",
      "[ERROR] espeak: No envelope\n",
      "[ERROR] espeak: No envelope\n",
      "[ERROR] espeak: No envelope\n",
      "[ERROR] espeak: No envelope\n"
     ]
    },
    {
     "name": "stdout",
     "output_type": "stream",
     "text": [
      "Building phoneme dictionary: █▒░░░░░░░░░░░░░░░░░░░░░░░░░░░░░░░░░░░░░░░░░░░░░░░░░░░░░░░░░░░░░░░░░░░░░ 2.2%"
     ]
    },
    {
     "name": "stderr",
     "output_type": "stream",
     "text": [
      "[ERROR] espeak: No envelope\n"
     ]
    },
    {
     "name": "stdout",
     "output_type": "stream",
     "text": [
      "Building phoneme dictionary: █▒░░░░░░░░░░░░░░░░░░░░░░░░░░░░░░░░░░░░░░░░░░░░░░░░░░░░░░░░░░░░░░░░░░░░░ 2.2%"
     ]
    },
    {
     "name": "stderr",
     "output_type": "stream",
     "text": [
      "[WARNING] 1 utterances containing language switches on lines 1\n",
      "[WARNING] extra phones may appear in the \"cmn\" phoneset\n",
      "[WARNING] language switch flags have been removed (applying \"remove-flags\" policy)\n"
     ]
    },
    {
     "name": "stdout",
     "output_type": "stream",
     "text": [
      "Building phoneme dictionary: █▒░░░░░░░░░░░░░░░░░░░░░░░░░░░░░░░░░░░░░░░░░░░░░░░░░░░░░░░░░░░░░░░░░░░░░ 2.3%"
     ]
    },
    {
     "name": "stderr",
     "output_type": "stream",
     "text": [
      "[WARNING] 1 utterances containing language switches on lines 1\n",
      "[WARNING] extra phones may appear in the \"cmn\" phoneset\n",
      "[WARNING] language switch flags have been removed (applying \"remove-flags\" policy)\n"
     ]
    },
    {
     "name": "stdout",
     "output_type": "stream",
     "text": [
      "Building phoneme dictionary: █▒░░░░░░░░░░░░░░░░░░░░░░░░░░░░░░░░░░░░░░░░░░░░░░░░░░░░░░░░░░░░░░░░░░░░░ 2.3%"
     ]
    },
    {
     "name": "stderr",
     "output_type": "stream",
     "text": [
      "[WARNING] 1 utterances containing language switches on lines 1\n",
      "[WARNING] extra phones may appear in the \"cmn\" phoneset\n",
      "[WARNING] language switch flags have been removed (applying \"remove-flags\" policy)\n"
     ]
    },
    {
     "name": "stdout",
     "output_type": "stream",
     "text": [
      "Building phoneme dictionary: █▒░░░░░░░░░░░░░░░░░░░░░░░░░░░░░░░░░░░░░░░░░░░░░░░░░░░░░░░░░░░░░░░░░░░░░ 2.3%"
     ]
    },
    {
     "name": "stderr",
     "output_type": "stream",
     "text": [
      "[WARNING] 1 utterances containing language switches on lines 1\n",
      "[WARNING] extra phones may appear in the \"cmn\" phoneset\n",
      "[WARNING] language switch flags have been removed (applying \"remove-flags\" policy)\n"
     ]
    },
    {
     "name": "stdout",
     "output_type": "stream",
     "text": [
      "Building phoneme dictionary: █▓░░░░░░░░░░░░░░░░░░░░░░░░░░░░░░░░░░░░░░░░░░░░░░░░░░░░░░░░░░░░░░░░░░░░░ 2.4%"
     ]
    },
    {
     "name": "stderr",
     "output_type": "stream",
     "text": [
      "[ERROR] espeak: No envelope\n",
      "[ERROR] espeak: No envelope\n",
      "[ERROR] espeak: No envelope\n"
     ]
    },
    {
     "name": "stdout",
     "output_type": "stream",
     "text": [
      "Building phoneme dictionary: █▓░░░░░░░░░░░░░░░░░░░░░░░░░░░░░░░░░░░░░░░░░░░░░░░░░░░░░░░░░░░░░░░░░░░░░ 2.4%"
     ]
    },
    {
     "name": "stderr",
     "output_type": "stream",
     "text": [
      "[ERROR] espeak: No envelope\n",
      "[ERROR] espeak: No envelope\n",
      "[ERROR] espeak: No envelope\n",
      "[ERROR] espeak: No envelope\n",
      "[ERROR] espeak: No envelope\n"
     ]
    },
    {
     "name": "stdout",
     "output_type": "stream",
     "text": [
      "Building phoneme dictionary: █▓░░░░░░░░░░░░░░░░░░░░░░░░░░░░░░░░░░░░░░░░░░░░░░░░░░░░░░░░░░░░░░░░░░░░░ 2.5%"
     ]
    },
    {
     "name": "stderr",
     "output_type": "stream",
     "text": [
      "[ERROR] espeak: No envelope\n",
      "[ERROR] espeak: No envelope\n",
      "[ERROR] espeak: No envelope\n",
      "[ERROR] espeak: No envelope\n",
      "[ERROR] espeak: No envelope\n",
      "[ERROR] espeak: No envelope\n"
     ]
    },
    {
     "name": "stdout",
     "output_type": "stream",
     "text": [
      "Building phoneme dictionary: █▓░░░░░░░░░░░░░░░░░░░░░░░░░░░░░░░░░░░░░░░░░░░░░░░░░░░░░░░░░░░░░░░░░░░░░ 2.5%"
     ]
    },
    {
     "name": "stderr",
     "output_type": "stream",
     "text": [
      "[WARNING] 1 utterances containing language switches on lines 1\n",
      "[WARNING] extra phones may appear in the \"cmn\" phoneset\n",
      "[WARNING] language switch flags have been removed (applying \"remove-flags\" policy)\n"
     ]
    },
    {
     "name": "stdout",
     "output_type": "stream",
     "text": [
      "Building phoneme dictionary: █▓░░░░░░░░░░░░░░░░░░░░░░░░░░░░░░░░░░░░░░░░░░░░░░░░░░░░░░░░░░░░░░░░░░░░░ 2.5%"
     ]
    },
    {
     "name": "stderr",
     "output_type": "stream",
     "text": [
      "[WARNING] 1 utterances containing language switches on lines 1\n",
      "[WARNING] extra phones may appear in the \"cmn\" phoneset\n",
      "[WARNING] language switch flags have been removed (applying \"remove-flags\" policy)\n"
     ]
    },
    {
     "name": "stdout",
     "output_type": "stream",
     "text": [
      "Building phoneme dictionary: █▓░░░░░░░░░░░░░░░░░░░░░░░░░░░░░░░░░░░░░░░░░░░░░░░░░░░░░░░░░░░░░░░░░░░░░ 2.6%"
     ]
    },
    {
     "name": "stderr",
     "output_type": "stream",
     "text": [
      "[ERROR] espeak: No envelope\n",
      "[ERROR] espeak: No envelope\n",
      "[ERROR] espeak: No envelope\n",
      "[ERROR] espeak: No envelope\n",
      "[ERROR] espeak: No envelope\n",
      "[ERROR] espeak: No envelope\n",
      "[ERROR] espeak: No envelope\n",
      "[ERROR] espeak: No envelope\n",
      "[ERROR] espeak: No envelope\n",
      "[ERROR] espeak: No envelope\n",
      "[ERROR] espeak: No envelope\n",
      "[ERROR] espeak: No envelope\n",
      "[ERROR] espeak: No envelope\n",
      "[ERROR] espeak: No envelope\n",
      "[ERROR] espeak: No envelope\n",
      "[ERROR] espeak: No envelope\n",
      "[ERROR] espeak: No envelope\n",
      "[ERROR] espeak: No envelope\n",
      "[ERROR] espeak: No envelope\n",
      "[ERROR] espeak: No envelope\n",
      "[ERROR] espeak: No envelope\n",
      "[ERROR] espeak: No envelope\n",
      "[ERROR] espeak: No envelope\n",
      "[ERROR] espeak: No envelope\n",
      "[ERROR] espeak: No envelope\n",
      "[ERROR] espeak: No envelope\n",
      "[ERROR] espeak: No envelope\n",
      "[ERROR] espeak: No envelope\n",
      "[ERROR] espeak: No envelope\n",
      "[ERROR] espeak: No envelope\n",
      "[ERROR] espeak: No envelope\n",
      "[ERROR] espeak: No envelope\n",
      "[ERROR] espeak: No envelope\n",
      "[ERROR] espeak: No envelope\n",
      "[ERROR] espeak: No envelope\n",
      "[ERROR] espeak: No envelope\n",
      "[ERROR] espeak: No envelope\n",
      "[ERROR] espeak: No envelope\n",
      "[ERROR] espeak: No envelope\n",
      "[ERROR] espeak: No envelope\n",
      "[ERROR] espeak: No envelope\n",
      "[ERROR] espeak: No envelope\n",
      "[ERROR] espeak: No envelope\n",
      "[ERROR] espeak: No envelope\n",
      "[ERROR] espeak: No envelope\n"
     ]
    },
    {
     "name": "stdout",
     "output_type": "stream",
     "text": [
      "Building phoneme dictionary: █▓░░░░░░░░░░░░░░░░░░░░░░░░░░░░░░░░░░░░░░░░░░░░░░░░░░░░░░░░░░░░░░░░░░░░░ 2.6%"
     ]
    },
    {
     "name": "stderr",
     "output_type": "stream",
     "text": [
      "[ERROR] espeak: No envelope\n",
      "[ERROR] espeak: No envelope\n",
      "[ERROR] espeak: No envelope\n",
      "[ERROR] espeak: No envelope\n",
      "[ERROR] espeak: No envelope\n",
      "[ERROR] espeak: No envelope\n",
      "[ERROR] espeak: No envelope\n"
     ]
    },
    {
     "name": "stdout",
     "output_type": "stream",
     "text": [
      "Building phoneme dictionary: █▓░░░░░░░░░░░░░░░░░░░░░░░░░░░░░░░░░░░░░░░░░░░░░░░░░░░░░░░░░░░░░░░░░░░░░ 2.7%"
     ]
    },
    {
     "name": "stderr",
     "output_type": "stream",
     "text": [
      "[ERROR] espeak: No envelope\n",
      "[ERROR] espeak: No envelope\n",
      "[ERROR] espeak: No envelope\n"
     ]
    },
    {
     "name": "stdout",
     "output_type": "stream",
     "text": [
      "Building phoneme dictionary: █▓░░░░░░░░░░░░░░░░░░░░░░░░░░░░░░░░░░░░░░░░░░░░░░░░░░░░░░░░░░░░░░░░░░░░░ 2.8%"
     ]
    },
    {
     "name": "stderr",
     "output_type": "stream",
     "text": [
      "[WARNING] 1 utterances containing language switches on lines 1\n",
      "[WARNING] extra phones may appear in the \"cmn\" phoneset\n",
      "[WARNING] language switch flags have been removed (applying \"remove-flags\" policy)\n"
     ]
    },
    {
     "name": "stdout",
     "output_type": "stream",
     "text": [
      "Building phoneme dictionary: █▓░░░░░░░░░░░░░░░░░░░░░░░░░░░░░░░░░░░░░░░░░░░░░░░░░░░░░░░░░░░░░░░░░░░░░ 2.9%"
     ]
    },
    {
     "name": "stderr",
     "output_type": "stream",
     "text": [
      "[WARNING] 1 utterances containing language switches on lines 1\n",
      "[WARNING] extra phones may appear in the \"cmn\" phoneset\n",
      "[WARNING] language switch flags have been removed (applying \"remove-flags\" policy)\n"
     ]
    },
    {
     "name": "stdout",
     "output_type": "stream",
     "text": [
      "Building phoneme dictionary: ██░░░░░░░░░░░░░░░░░░░░░░░░░░░░░░░░░░░░░░░░░░░░░░░░░░░░░░░░░░░░░░░░░░░░░ 2.9%"
     ]
    },
    {
     "name": "stderr",
     "output_type": "stream",
     "text": [
      "[WARNING] 1 utterances containing language switches on lines 1\n",
      "[WARNING] extra phones may appear in the \"cmn\" phoneset\n",
      "[WARNING] language switch flags have been removed (applying \"remove-flags\" policy)\n"
     ]
    },
    {
     "name": "stdout",
     "output_type": "stream",
     "text": [
      "Building phoneme dictionary: ██░░░░░░░░░░░░░░░░░░░░░░░░░░░░░░░░░░░░░░░░░░░░░░░░░░░░░░░░░░░░░░░░░░░░░ 2.9%"
     ]
    },
    {
     "name": "stderr",
     "output_type": "stream",
     "text": [
      "[WARNING] 1 utterances containing language switches on lines 1\n",
      "[WARNING] extra phones may appear in the \"cmn\" phoneset\n",
      "[WARNING] language switch flags have been removed (applying \"remove-flags\" policy)\n"
     ]
    },
    {
     "name": "stdout",
     "output_type": "stream",
     "text": [
      "Building phoneme dictionary: ██░░░░░░░░░░░░░░░░░░░░░░░░░░░░░░░░░░░░░░░░░░░░░░░░░░░░░░░░░░░░░░░░░░░░░ 3.0%"
     ]
    },
    {
     "name": "stderr",
     "output_type": "stream",
     "text": [
      "[WARNING] 1 utterances containing language switches on lines 1\n",
      "[WARNING] extra phones may appear in the \"cmn\" phoneset\n",
      "[WARNING] language switch flags have been removed (applying \"remove-flags\" policy)\n"
     ]
    },
    {
     "name": "stdout",
     "output_type": "stream",
     "text": [
      "\r",
      "Building phoneme dictionary: ██░░░░░░░░░░░░░░░░░░░░░░░░░░░░░░░░░░░░░░░░░░░░░░░░░░░░░░░░░░░░░░░░░░░░░ 3.0%"
     ]
    },
    {
     "name": "stderr",
     "output_type": "stream",
     "text": [
      "[WARNING] 1 utterances containing language switches on lines 1\n",
      "[WARNING] extra phones may appear in the \"cmn\" phoneset\n",
      "[WARNING] language switch flags have been removed (applying \"remove-flags\" policy)\n"
     ]
    },
    {
     "name": "stdout",
     "output_type": "stream",
     "text": [
      "Building phoneme dictionary: ██░░░░░░░░░░░░░░░░░░░░░░░░░░░░░░░░░░░░░░░░░░░░░░░░░░░░░░░░░░░░░░░░░░░░░ 3.1%"
     ]
    },
    {
     "name": "stderr",
     "output_type": "stream",
     "text": [
      "[ERROR] espeak: No envelope\n",
      "[ERROR] espeak: No envelope\n",
      "[ERROR] espeak: No envelope\n",
      "[ERROR] espeak: No envelope\n"
     ]
    },
    {
     "name": "stdout",
     "output_type": "stream",
     "text": [
      "Building phoneme dictionary: ██░░░░░░░░░░░░░░░░░░░░░░░░░░░░░░░░░░░░░░░░░░░░░░░░░░░░░░░░░░░░░░░░░░░░░ 3.2%"
     ]
    },
    {
     "name": "stderr",
     "output_type": "stream",
     "text": [
      "[ERROR] espeak: No envelope\n",
      "[ERROR] espeak: No envelope\n",
      "[ERROR] espeak: No envelope\n",
      "[ERROR] espeak: No envelope\n",
      "[ERROR] espeak: No envelope\n",
      "[ERROR] espeak: No envelope\n"
     ]
    },
    {
     "name": "stdout",
     "output_type": "stream",
     "text": [
      "\r",
      "Building phoneme dictionary: ██░░░░░░░░░░░░░░░░░░░░░░░░░░░░░░░░░░░░░░░░░░░░░░░░░░░░░░░░░░░░░░░░░░░░░ 3.2%"
     ]
    },
    {
     "name": "stderr",
     "output_type": "stream",
     "text": [
      "[ERROR] espeak: No envelope\n",
      "[ERROR] espeak: No envelope\n",
      "[ERROR] espeak: No envelope\n",
      "[ERROR] espeak: No envelope\n"
     ]
    },
    {
     "name": "stdout",
     "output_type": "stream",
     "text": [
      "\r",
      "Building phoneme dictionary: ██░░░░░░░░░░░░░░░░░░░░░░░░░░░░░░░░░░░░░░░░░░░░░░░░░░░░░░░░░░░░░░░░░░░░░ 3.2%"
     ]
    },
    {
     "name": "stderr",
     "output_type": "stream",
     "text": [
      "[WARNING] 1 utterances containing language switches on lines 1\n",
      "[WARNING] extra phones may appear in the \"cmn\" phoneset\n",
      "[WARNING] language switch flags have been removed (applying \"remove-flags\" policy)\n"
     ]
    },
    {
     "name": "stdout",
     "output_type": "stream",
     "text": [
      "Building phoneme dictionary: ██░░░░░░░░░░░░░░░░░░░░░░░░░░░░░░░░░░░░░░░░░░░░░░░░░░░░░░░░░░░░░░░░░░░░░ 3.3%"
     ]
    },
    {
     "name": "stderr",
     "output_type": "stream",
     "text": [
      "[WARNING] 1 utterances containing language switches on lines 1\n",
      "[WARNING] extra phones may appear in the \"cmn\" phoneset\n",
      "[WARNING] language switch flags have been removed (applying \"remove-flags\" policy)\n"
     ]
    },
    {
     "name": "stdout",
     "output_type": "stream",
     "text": [
      "Building phoneme dictionary: ██▒░░░░░░░░░░░░░░░░░░░░░░░░░░░░░░░░░░░░░░░░░░░░░░░░░░░░░░░░░░░░░░░░░░░░ 3.4%"
     ]
    },
    {
     "name": "stderr",
     "output_type": "stream",
     "text": [
      "[ERROR] espeak: No envelope\n",
      "[ERROR] espeak: No envelope\n",
      "[ERROR] espeak: No envelope\n",
      "[ERROR] espeak: No envelope\n"
     ]
    },
    {
     "name": "stdout",
     "output_type": "stream",
     "text": [
      "Building phoneme dictionary: ██▒░░░░░░░░░░░░░░░░░░░░░░░░░░░░░░░░░░░░░░░░░░░░░░░░░░░░░░░░░░░░░░░░░░░░ 3.5%"
     ]
    },
    {
     "name": "stderr",
     "output_type": "stream",
     "text": [
      "[WARNING] 1 utterances containing language switches on lines 1\n",
      "[WARNING] extra phones may appear in the \"cmn\" phoneset\n",
      "[WARNING] language switch flags have been removed (applying \"remove-flags\" policy)\n"
     ]
    },
    {
     "name": "stdout",
     "output_type": "stream",
     "text": [
      "Building phoneme dictionary: ██▒░░░░░░░░░░░░░░░░░░░░░░░░░░░░░░░░░░░░░░░░░░░░░░░░░░░░░░░░░░░░░░░░░░░░ 3.5%"
     ]
    },
    {
     "name": "stderr",
     "output_type": "stream",
     "text": [
      "[WARNING] 1 utterances containing language switches on lines 1\n",
      "[WARNING] extra phones may appear in the \"cmn\" phoneset\n",
      "[WARNING] language switch flags have been removed (applying \"remove-flags\" policy)\n",
      "[ERROR] espeak: No envelope\n",
      "[ERROR] espeak: No envelope\n",
      "[ERROR] espeak: No envelope\n",
      "[ERROR] espeak: No envelope\n"
     ]
    },
    {
     "name": "stdout",
     "output_type": "stream",
     "text": [
      "Building phoneme dictionary: ██▒░░░░░░░░░░░░░░░░░░░░░░░░░░░░░░░░░░░░░░░░░░░░░░░░░░░░░░░░░░░░░░░░░░░░ 3.5%"
     ]
    },
    {
     "name": "stderr",
     "output_type": "stream",
     "text": [
      "[WARNING] 1 utterances containing language switches on lines 1\n",
      "[WARNING] extra phones may appear in the \"cmn\" phoneset\n",
      "[WARNING] language switch flags have been removed (applying \"remove-flags\" policy)\n"
     ]
    },
    {
     "name": "stdout",
     "output_type": "stream",
     "text": [
      "Building phoneme dictionary: ██▒░░░░░░░░░░░░░░░░░░░░░░░░░░░░░░░░░░░░░░░░░░░░░░░░░░░░░░░░░░░░░░░░░░░░ 3.6%"
     ]
    },
    {
     "name": "stderr",
     "output_type": "stream",
     "text": [
      "[ERROR] espeak: No envelope\n",
      "[ERROR] espeak: No envelope\n",
      "[ERROR] espeak: No envelope\n",
      "[ERROR] espeak: No envelope\n",
      "[ERROR] espeak: No envelope\n",
      "[ERROR] espeak: No envelope\n",
      "[ERROR] espeak: No envelope\n",
      "[ERROR] espeak: No envelope\n"
     ]
    },
    {
     "name": "stdout",
     "output_type": "stream",
     "text": [
      "Building phoneme dictionary: ██▒░░░░░░░░░░░░░░░░░░░░░░░░░░░░░░░░░░░░░░░░░░░░░░░░░░░░░░░░░░░░░░░░░░░░ 3.8%"
     ]
    },
    {
     "name": "stderr",
     "output_type": "stream",
     "text": [
      "[ERROR] espeak: No envelope\n"
     ]
    },
    {
     "name": "stdout",
     "output_type": "stream",
     "text": [
      "\r",
      "Building phoneme dictionary: ██▒░░░░░░░░░░░░░░░░░░░░░░░░░░░░░░░░░░░░░░░░░░░░░░░░░░░░░░░░░░░░░░░░░░░░ 3.8%"
     ]
    },
    {
     "name": "stderr",
     "output_type": "stream",
     "text": [
      "[ERROR] espeak: No envelope\n",
      "[ERROR] espeak: No envelope\n",
      "[ERROR] espeak: No envelope\n",
      "[ERROR] espeak: No envelope\n",
      "[ERROR] espeak: No envelope\n",
      "[ERROR] espeak: No envelope\n"
     ]
    },
    {
     "name": "stdout",
     "output_type": "stream",
     "text": [
      "Building phoneme dictionary: ██▓░░░░░░░░░░░░░░░░░░░░░░░░░░░░░░░░░░░░░░░░░░░░░░░░░░░░░░░░░░░░░░░░░░░░ 3.9%"
     ]
    },
    {
     "name": "stderr",
     "output_type": "stream",
     "text": [
      "[ERROR] espeak: No envelope\n",
      "[ERROR] espeak: No envelope\n",
      "[ERROR] espeak: No envelope\n",
      "[ERROR] espeak: No envelope\n",
      "[ERROR] espeak: No envelope\n",
      "[ERROR] espeak: No envelope\n"
     ]
    },
    {
     "name": "stdout",
     "output_type": "stream",
     "text": [
      "Building phoneme dictionary: ██▓░░░░░░░░░░░░░░░░░░░░░░░░░░░░░░░░░░░░░░░░░░░░░░░░░░░░░░░░░░░░░░░░░░░░ 3.9%"
     ]
    },
    {
     "name": "stderr",
     "output_type": "stream",
     "text": [
      "[ERROR] espeak: No envelope\n",
      "[ERROR] espeak: No envelope\n",
      "[ERROR] espeak: No envelope\n",
      "[ERROR] espeak: No envelope\n"
     ]
    },
    {
     "name": "stdout",
     "output_type": "stream",
     "text": [
      "\r",
      "Building phoneme dictionary: ██▓░░░░░░░░░░░░░░░░░░░░░░░░░░░░░░░░░░░░░░░░░░░░░░░░░░░░░░░░░░░░░░░░░░░░ 3.9%"
     ]
    },
    {
     "name": "stderr",
     "output_type": "stream",
     "text": [
      "[ERROR] espeak: No envelope\n"
     ]
    },
    {
     "name": "stdout",
     "output_type": "stream",
     "text": [
      "Building phoneme dictionary: ██▓░░░░░░░░░░░░░░░░░░░░░░░░░░░░░░░░░░░░░░░░░░░░░░░░░░░░░░░░░░░░░░░░░░░░ 4.0%"
     ]
    },
    {
     "name": "stderr",
     "output_type": "stream",
     "text": [
      "[ERROR] espeak: No envelope\n",
      "[ERROR] espeak: No envelope\n",
      "[ERROR] espeak: No envelope\n"
     ]
    },
    {
     "name": "stdout",
     "output_type": "stream",
     "text": [
      "\r",
      "Building phoneme dictionary: ██▓░░░░░░░░░░░░░░░░░░░░░░░░░░░░░░░░░░░░░░░░░░░░░░░░░░░░░░░░░░░░░░░░░░░░ 4.0%"
     ]
    },
    {
     "name": "stderr",
     "output_type": "stream",
     "text": [
      "[ERROR] espeak: No envelope\n",
      "[ERROR] espeak: No envelope\n",
      "[ERROR] espeak: No envelope\n",
      "[ERROR] espeak: No envelope\n",
      "[ERROR] espeak: No envelope\n"
     ]
    },
    {
     "name": "stdout",
     "output_type": "stream",
     "text": [
      "Building phoneme dictionary: ██▓░░░░░░░░░░░░░░░░░░░░░░░░░░░░░░░░░░░░░░░░░░░░░░░░░░░░░░░░░░░░░░░░░░░░ 4.0%"
     ]
    },
    {
     "name": "stderr",
     "output_type": "stream",
     "text": [
      "[WARNING] 1 utterances containing language switches on lines 1\n",
      "[WARNING] extra phones may appear in the \"cmn\" phoneset\n",
      "[WARNING] language switch flags have been removed (applying \"remove-flags\" policy)\n"
     ]
    },
    {
     "name": "stdout",
     "output_type": "stream",
     "text": [
      "Building phoneme dictionary: ██▓░░░░░░░░░░░░░░░░░░░░░░░░░░░░░░░░░░░░░░░░░░░░░░░░░░░░░░░░░░░░░░░░░░░░ 4.0%"
     ]
    },
    {
     "name": "stderr",
     "output_type": "stream",
     "text": [
      "[ERROR] espeak: No envelope\n",
      "[ERROR] espeak: No envelope\n",
      "[ERROR] espeak: No envelope\n",
      "[ERROR] espeak: No envelope\n"
     ]
    },
    {
     "name": "stdout",
     "output_type": "stream",
     "text": [
      "Building phoneme dictionary: ██▓░░░░░░░░░░░░░░░░░░░░░░░░░░░░░░░░░░░░░░░░░░░░░░░░░░░░░░░░░░░░░░░░░░░░ 4.1%"
     ]
    },
    {
     "name": "stderr",
     "output_type": "stream",
     "text": [
      "[ERROR] espeak: No envelope\n",
      "[ERROR] espeak: No envelope\n",
      "[ERROR] espeak: No envelope\n",
      "[ERROR] espeak: No envelope\n"
     ]
    },
    {
     "name": "stdout",
     "output_type": "stream",
     "text": [
      "Building phoneme dictionary: ██▓░░░░░░░░░░░░░░░░░░░░░░░░░░░░░░░░░░░░░░░░░░░░░░░░░░░░░░░░░░░░░░░░░░░░ 4.2%"
     ]
    },
    {
     "name": "stderr",
     "output_type": "stream",
     "text": [
      "[WARNING] 1 utterances containing language switches on lines 1\n",
      "[WARNING] extra phones may appear in the \"cmn\" phoneset\n",
      "[WARNING] language switch flags have been removed (applying \"remove-flags\" policy)\n",
      "[WARNING] 1 utterances containing language switches on lines 1\n",
      "[WARNING] extra phones may appear in the \"cmn\" phoneset\n",
      "[WARNING] language switch flags have been removed (applying \"remove-flags\" policy)\n"
     ]
    },
    {
     "name": "stdout",
     "output_type": "stream",
     "text": [
      "Building phoneme dictionary: ███░░░░░░░░░░░░░░░░░░░░░░░░░░░░░░░░░░░░░░░░░░░░░░░░░░░░░░░░░░░░░░░░░░░░ 4.3%"
     ]
    },
    {
     "name": "stderr",
     "output_type": "stream",
     "text": [
      "[ERROR] espeak: No envelope\n",
      "[ERROR] espeak: No envelope\n",
      "[ERROR] espeak: No envelope\n",
      "[ERROR] espeak: No envelope\n",
      "[ERROR] espeak: No envelope\n",
      "[ERROR] espeak: No envelope\n",
      "[ERROR] espeak: No envelope\n",
      "[ERROR] espeak: No envelope\n"
     ]
    },
    {
     "name": "stdout",
     "output_type": "stream",
     "text": [
      "Building phoneme dictionary: ███░░░░░░░░░░░░░░░░░░░░░░░░░░░░░░░░░░░░░░░░░░░░░░░░░░░░░░░░░░░░░░░░░░░░ 4.4%"
     ]
    },
    {
     "name": "stderr",
     "output_type": "stream",
     "text": [
      "[ERROR] espeak: No envelope\n",
      "[ERROR] espeak: No envelope\n",
      "[ERROR] espeak: No envelope\n",
      "[ERROR] espeak: No envelope\n",
      "[ERROR] espeak: No envelope\n",
      "[ERROR] espeak: No envelope\n",
      "[WARNING] 1 utterances containing language switches on lines 1\n",
      "[WARNING] extra phones may appear in the \"cmn\" phoneset\n",
      "[WARNING] language switch flags have been removed (applying \"remove-flags\" policy)\n"
     ]
    },
    {
     "name": "stdout",
     "output_type": "stream",
     "text": [
      "Building phoneme dictionary: ███░░░░░░░░░░░░░░░░░░░░░░░░░░░░░░░░░░░░░░░░░░░░░░░░░░░░░░░░░░░░░░░░░░░░ 4.4%"
     ]
    },
    {
     "name": "stderr",
     "output_type": "stream",
     "text": [
      "[ERROR] espeak: No envelope\n",
      "[ERROR] espeak: No envelope\n",
      "[ERROR] espeak: No envelope\n",
      "[ERROR] espeak: No envelope\n",
      "[ERROR] espeak: No envelope\n",
      "[ERROR] espeak: No envelope\n"
     ]
    },
    {
     "name": "stdout",
     "output_type": "stream",
     "text": [
      "Building phoneme dictionary: ███░░░░░░░░░░░░░░░░░░░░░░░░░░░░░░░░░░░░░░░░░░░░░░░░░░░░░░░░░░░░░░░░░░░░ 4.4%"
     ]
    },
    {
     "name": "stderr",
     "output_type": "stream",
     "text": [
      "[ERROR] espeak: No envelope\n",
      "[ERROR] espeak: No envelope\n",
      "[ERROR] espeak: No envelope\n",
      "[ERROR] espeak: No envelope\n",
      "[ERROR] espeak: No envelope\n"
     ]
    },
    {
     "name": "stdout",
     "output_type": "stream",
     "text": [
      "Building phoneme dictionary: ███░░░░░░░░░░░░░░░░░░░░░░░░░░░░░░░░░░░░░░░░░░░░░░░░░░░░░░░░░░░░░░░░░░░░ 4.4%"
     ]
    },
    {
     "name": "stderr",
     "output_type": "stream",
     "text": [
      "[WARNING] 1 utterances containing language switches on lines 1\n",
      "[WARNING] extra phones may appear in the \"cmn\" phoneset\n",
      "[WARNING] language switch flags have been removed (applying \"remove-flags\" policy)\n"
     ]
    },
    {
     "name": "stdout",
     "output_type": "stream",
     "text": [
      "Building phoneme dictionary: ███░░░░░░░░░░░░░░░░░░░░░░░░░░░░░░░░░░░░░░░░░░░░░░░░░░░░░░░░░░░░░░░░░░░░ 4.5%"
     ]
    },
    {
     "name": "stderr",
     "output_type": "stream",
     "text": [
      "[ERROR] espeak: No envelope\n",
      "[ERROR] espeak: No envelope\n",
      "[ERROR] espeak: No envelope\n",
      "[ERROR] espeak: No envelope\n"
     ]
    },
    {
     "name": "stdout",
     "output_type": "stream",
     "text": [
      "Building phoneme dictionary: ███░░░░░░░░░░░░░░░░░░░░░░░░░░░░░░░░░░░░░░░░░░░░░░░░░░░░░░░░░░░░░░░░░░░░ 4.5%"
     ]
    },
    {
     "name": "stderr",
     "output_type": "stream",
     "text": [
      "[WARNING] 1 utterances containing language switches on lines 1\n",
      "[WARNING] extra phones may appear in the \"cmn\" phoneset\n",
      "[WARNING] language switch flags have been removed (applying \"remove-flags\" policy)\n"
     ]
    },
    {
     "name": "stdout",
     "output_type": "stream",
     "text": [
      "\r",
      "Building phoneme dictionary: ███░░░░░░░░░░░░░░░░░░░░░░░░░░░░░░░░░░░░░░░░░░░░░░░░░░░░░░░░░░░░░░░░░░░░ 4.5%"
     ]
    },
    {
     "name": "stderr",
     "output_type": "stream",
     "text": [
      "[WARNING] 1 utterances containing language switches on lines 1\n",
      "[WARNING] extra phones may appear in the \"cmn\" phoneset\n",
      "[WARNING] language switch flags have been removed (applying \"remove-flags\" policy)\n"
     ]
    },
    {
     "name": "stdout",
     "output_type": "stream",
     "text": [
      "Building phoneme dictionary: ███░░░░░░░░░░░░░░░░░░░░░░░░░░░░░░░░░░░░░░░░░░░░░░░░░░░░░░░░░░░░░░░░░░░░ 4.5%"
     ]
    },
    {
     "name": "stderr",
     "output_type": "stream",
     "text": [
      "[WARNING] 1 utterances containing language switches on lines 1\n",
      "[WARNING] extra phones may appear in the \"cmn\" phoneset\n",
      "[WARNING] language switch flags have been removed (applying \"remove-flags\" policy)\n"
     ]
    },
    {
     "name": "stdout",
     "output_type": "stream",
     "text": [
      "Building phoneme dictionary: ███░░░░░░░░░░░░░░░░░░░░░░░░░░░░░░░░░░░░░░░░░░░░░░░░░░░░░░░░░░░░░░░░░░░░ 4.7%"
     ]
    },
    {
     "name": "stderr",
     "output_type": "stream",
     "text": [
      "[WARNING] 1 utterances containing language switches on lines 1\n",
      "[WARNING] extra phones may appear in the \"cmn\" phoneset\n",
      "[WARNING] language switch flags have been removed (applying \"remove-flags\" policy)\n"
     ]
    },
    {
     "name": "stdout",
     "output_type": "stream",
     "text": [
      "Building phoneme dictionary: ███░░░░░░░░░░░░░░░░░░░░░░░░░░░░░░░░░░░░░░░░░░░░░░░░░░░░░░░░░░░░░░░░░░░░ 4.7%"
     ]
    },
    {
     "name": "stderr",
     "output_type": "stream",
     "text": [
      "[WARNING] 1 utterances containing language switches on lines 1\n",
      "[WARNING] extra phones may appear in the \"cmn\" phoneset\n",
      "[WARNING] language switch flags have been removed (applying \"remove-flags\" policy)\n"
     ]
    },
    {
     "name": "stdout",
     "output_type": "stream",
     "text": [
      "Building phoneme dictionary: ███░░░░░░░░░░░░░░░░░░░░░░░░░░░░░░░░░░░░░░░░░░░░░░░░░░░░░░░░░░░░░░░░░░░░ 4.7%"
     ]
    },
    {
     "name": "stderr",
     "output_type": "stream",
     "text": [
      "[WARNING] 1 utterances containing language switches on lines 1\n",
      "[WARNING] extra phones may appear in the \"cmn\" phoneset\n",
      "[WARNING] language switch flags have been removed (applying \"remove-flags\" policy)\n"
     ]
    },
    {
     "name": "stdout",
     "output_type": "stream",
     "text": [
      "Building phoneme dictionary: ███░░░░░░░░░░░░░░░░░░░░░░░░░░░░░░░░░░░░░░░░░░░░░░░░░░░░░░░░░░░░░░░░░░░░ 4.7%"
     ]
    },
    {
     "name": "stderr",
     "output_type": "stream",
     "text": [
      "[WARNING] 1 utterances containing language switches on lines 1\n",
      "[WARNING] extra phones may appear in the \"cmn\" phoneset\n",
      "[WARNING] language switch flags have been removed (applying \"remove-flags\" policy)\n"
     ]
    },
    {
     "name": "stdout",
     "output_type": "stream",
     "text": [
      "Building phoneme dictionary: ███▒░░░░░░░░░░░░░░░░░░░░░░░░░░░░░░░░░░░░░░░░░░░░░░░░░░░░░░░░░░░░░░░░░░░ 4.8%"
     ]
    },
    {
     "name": "stderr",
     "output_type": "stream",
     "text": [
      "[ERROR] espeak: No envelope\n"
     ]
    },
    {
     "name": "stdout",
     "output_type": "stream",
     "text": [
      "Building phoneme dictionary: ███▒░░░░░░░░░░░░░░░░░░░░░░░░░░░░░░░░░░░░░░░░░░░░░░░░░░░░░░░░░░░░░░░░░░░ 4.9%"
     ]
    },
    {
     "name": "stderr",
     "output_type": "stream",
     "text": [
      "[WARNING] 1 utterances containing language switches on lines 1\n",
      "[WARNING] extra phones may appear in the \"cmn\" phoneset\n",
      "[WARNING] language switch flags have been removed (applying \"remove-flags\" policy)\n"
     ]
    },
    {
     "name": "stdout",
     "output_type": "stream",
     "text": [
      "Building phoneme dictionary: ███▒░░░░░░░░░░░░░░░░░░░░░░░░░░░░░░░░░░░░░░░░░░░░░░░░░░░░░░░░░░░░░░░░░░░ 4.9%"
     ]
    },
    {
     "name": "stderr",
     "output_type": "stream",
     "text": [
      "[ERROR] espeak: No envelope\n",
      "[ERROR] espeak: No envelope\n",
      "[ERROR] espeak: No envelope\n",
      "[ERROR] espeak: No envelope\n",
      "[ERROR] espeak: No envelope\n"
     ]
    },
    {
     "name": "stdout",
     "output_type": "stream",
     "text": [
      "Building phoneme dictionary: ███▒░░░░░░░░░░░░░░░░░░░░░░░░░░░░░░░░░░░░░░░░░░░░░░░░░░░░░░░░░░░░░░░░░░░ 4.9%"
     ]
    },
    {
     "name": "stderr",
     "output_type": "stream",
     "text": [
      "[WARNING] 1 utterances containing language switches on lines 1\n",
      "[WARNING] extra phones may appear in the \"cmn\" phoneset\n",
      "[WARNING] language switch flags have been removed (applying \"remove-flags\" policy)\n"
     ]
    },
    {
     "name": "stdout",
     "output_type": "stream",
     "text": [
      "Building phoneme dictionary: ███▒░░░░░░░░░░░░░░░░░░░░░░░░░░░░░░░░░░░░░░░░░░░░░░░░░░░░░░░░░░░░░░░░░░░ 5.0%"
     ]
    },
    {
     "name": "stderr",
     "output_type": "stream",
     "text": [
      "[WARNING] 1 utterances containing language switches on lines 1\n",
      "[WARNING] extra phones may appear in the \"cmn\" phoneset\n",
      "[WARNING] language switch flags have been removed (applying \"remove-flags\" policy)\n"
     ]
    },
    {
     "name": "stdout",
     "output_type": "stream",
     "text": [
      "Building phoneme dictionary: ███▒░░░░░░░░░░░░░░░░░░░░░░░░░░░░░░░░░░░░░░░░░░░░░░░░░░░░░░░░░░░░░░░░░░░ 5.0%"
     ]
    },
    {
     "name": "stderr",
     "output_type": "stream",
     "text": [
      "[WARNING] 1 utterances containing language switches on lines 1\n",
      "[WARNING] extra phones may appear in the \"cmn\" phoneset\n",
      "[WARNING] language switch flags have been removed (applying \"remove-flags\" policy)\n",
      "[WARNING] 1 utterances containing language switches on lines 1\n",
      "[WARNING] extra phones may appear in the \"cmn\" phoneset\n",
      "[WARNING] language switch flags have been removed (applying \"remove-flags\" policy)\n"
     ]
    },
    {
     "name": "stdout",
     "output_type": "stream",
     "text": [
      "Building phoneme dictionary: ███▒░░░░░░░░░░░░░░░░░░░░░░░░░░░░░░░░░░░░░░░░░░░░░░░░░░░░░░░░░░░░░░░░░░░ 5.0%"
     ]
    },
    {
     "name": "stderr",
     "output_type": "stream",
     "text": [
      "[WARNING] 1 utterances containing language switches on lines 1\n",
      "[WARNING] extra phones may appear in the \"cmn\" phoneset\n",
      "[WARNING] language switch flags have been removed (applying \"remove-flags\" policy)\n"
     ]
    },
    {
     "name": "stdout",
     "output_type": "stream",
     "text": [
      "Building phoneme dictionary: ███▒░░░░░░░░░░░░░░░░░░░░░░░░░░░░░░░░░░░░░░░░░░░░░░░░░░░░░░░░░░░░░░░░░░░ 5.1%"
     ]
    },
    {
     "name": "stderr",
     "output_type": "stream",
     "text": [
      "[ERROR] espeak: No envelope\n",
      "[ERROR] espeak: No envelope\n",
      "[ERROR] espeak: No envelope\n"
     ]
    },
    {
     "name": "stdout",
     "output_type": "stream",
     "text": [
      "Building phoneme dictionary: ███▒░░░░░░░░░░░░░░░░░░░░░░░░░░░░░░░░░░░░░░░░░░░░░░░░░░░░░░░░░░░░░░░░░░░ 5.1%"
     ]
    },
    {
     "name": "stderr",
     "output_type": "stream",
     "text": [
      "[ERROR] espeak: No envelope\n"
     ]
    },
    {
     "name": "stdout",
     "output_type": "stream",
     "text": [
      "Building phoneme dictionary: ███▒░░░░░░░░░░░░░░░░░░░░░░░░░░░░░░░░░░░░░░░░░░░░░░░░░░░░░░░░░░░░░░░░░░░ 5.2%"
     ]
    },
    {
     "name": "stderr",
     "output_type": "stream",
     "text": [
      "[WARNING] 1 utterances containing language switches on lines 1\n",
      "[WARNING] extra phones may appear in the \"cmn\" phoneset\n",
      "[WARNING] language switch flags have been removed (applying \"remove-flags\" policy)\n"
     ]
    },
    {
     "name": "stdout",
     "output_type": "stream",
     "text": [
      "Building phoneme dictionary: ███▒░░░░░░░░░░░░░░░░░░░░░░░░░░░░░░░░░░░░░░░░░░░░░░░░░░░░░░░░░░░░░░░░░░░ 5.2%"
     ]
    },
    {
     "name": "stderr",
     "output_type": "stream",
     "text": [
      "[ERROR] espeak: No envelope\n",
      "[ERROR] espeak: No envelope\n"
     ]
    },
    {
     "name": "stdout",
     "output_type": "stream",
     "text": [
      "Building phoneme dictionary: ███▓░░░░░░░░░░░░░░░░░░░░░░░░░░░░░░░░░░░░░░░░░░░░░░░░░░░░░░░░░░░░░░░░░░░ 5.2%"
     ]
    },
    {
     "name": "stderr",
     "output_type": "stream",
     "text": [
      "[ERROR] espeak: No envelope\n",
      "[ERROR] espeak: No envelope\n",
      "[ERROR] espeak: No envelope\n"
     ]
    },
    {
     "name": "stdout",
     "output_type": "stream",
     "text": [
      "\r",
      "Building phoneme dictionary: ███▓░░░░░░░░░░░░░░░░░░░░░░░░░░░░░░░░░░░░░░░░░░░░░░░░░░░░░░░░░░░░░░░░░░░ 5.3%"
     ]
    },
    {
     "name": "stderr",
     "output_type": "stream",
     "text": [
      "[ERROR] espeak: No envelope\n",
      "[ERROR] espeak: No envelope\n",
      "[ERROR] espeak: No envelope\n",
      "[ERROR] espeak: No envelope\n",
      "[ERROR] espeak: No envelope\n",
      "[ERROR] espeak: No envelope\n",
      "[ERROR] espeak: No envelope\n",
      "[ERROR] espeak: No envelope\n",
      "[ERROR] espeak: No envelope\n"
     ]
    },
    {
     "name": "stdout",
     "output_type": "stream",
     "text": [
      "Building phoneme dictionary: ███▓░░░░░░░░░░░░░░░░░░░░░░░░░░░░░░░░░░░░░░░░░░░░░░░░░░░░░░░░░░░░░░░░░░░ 5.3%"
     ]
    },
    {
     "name": "stderr",
     "output_type": "stream",
     "text": [
      "[WARNING] 1 utterances containing language switches on lines 1\n",
      "[WARNING] extra phones may appear in the \"cmn\" phoneset\n",
      "[WARNING] language switch flags have been removed (applying \"remove-flags\" policy)\n"
     ]
    },
    {
     "name": "stdout",
     "output_type": "stream",
     "text": [
      "Building phoneme dictionary: ███▓░░░░░░░░░░░░░░░░░░░░░░░░░░░░░░░░░░░░░░░░░░░░░░░░░░░░░░░░░░░░░░░░░░░ 5.3%"
     ]
    },
    {
     "name": "stderr",
     "output_type": "stream",
     "text": [
      "[WARNING] 1 utterances containing language switches on lines 1\n",
      "[WARNING] extra phones may appear in the \"cmn\" phoneset\n",
      "[WARNING] language switch flags have been removed (applying \"remove-flags\" policy)\n"
     ]
    },
    {
     "name": "stdout",
     "output_type": "stream",
     "text": [
      "Building phoneme dictionary: ███▓░░░░░░░░░░░░░░░░░░░░░░░░░░░░░░░░░░░░░░░░░░░░░░░░░░░░░░░░░░░░░░░░░░░ 5.4%"
     ]
    },
    {
     "name": "stderr",
     "output_type": "stream",
     "text": [
      "[WARNING] 1 utterances containing language switches on lines 1\n",
      "[WARNING] extra phones may appear in the \"cmn\" phoneset\n",
      "[WARNING] language switch flags have been removed (applying \"remove-flags\" policy)\n"
     ]
    },
    {
     "name": "stdout",
     "output_type": "stream",
     "text": [
      "Building phoneme dictionary: ███▓░░░░░░░░░░░░░░░░░░░░░░░░░░░░░░░░░░░░░░░░░░░░░░░░░░░░░░░░░░░░░░░░░░░ 5.4%"
     ]
    },
    {
     "name": "stderr",
     "output_type": "stream",
     "text": [
      "[ERROR] espeak: No envelope\n",
      "[ERROR] espeak: No envelope\n",
      "[ERROR] espeak: No envelope\n",
      "[ERROR] espeak: No envelope\n"
     ]
    },
    {
     "name": "stdout",
     "output_type": "stream",
     "text": [
      "Building phoneme dictionary: ███▓░░░░░░░░░░░░░░░░░░░░░░░░░░░░░░░░░░░░░░░░░░░░░░░░░░░░░░░░░░░░░░░░░░░ 5.4%"
     ]
    },
    {
     "name": "stderr",
     "output_type": "stream",
     "text": [
      "[WARNING] 1 utterances containing language switches on lines 1\n",
      "[WARNING] extra phones may appear in the \"cmn\" phoneset\n",
      "[WARNING] language switch flags have been removed (applying \"remove-flags\" policy)\n"
     ]
    },
    {
     "name": "stdout",
     "output_type": "stream",
     "text": [
      "Building phoneme dictionary: ███▓░░░░░░░░░░░░░░░░░░░░░░░░░░░░░░░░░░░░░░░░░░░░░░░░░░░░░░░░░░░░░░░░░░░ 5.5%"
     ]
    },
    {
     "name": "stderr",
     "output_type": "stream",
     "text": [
      "[ERROR] espeak: No envelope\n",
      "[ERROR] espeak: No envelope\n"
     ]
    },
    {
     "name": "stdout",
     "output_type": "stream",
     "text": [
      "Building phoneme dictionary: ███▓░░░░░░░░░░░░░░░░░░░░░░░░░░░░░░░░░░░░░░░░░░░░░░░░░░░░░░░░░░░░░░░░░░░ 5.5%"
     ]
    },
    {
     "name": "stderr",
     "output_type": "stream",
     "text": [
      "[ERROR] espeak: No envelope\n",
      "[ERROR] espeak: No envelope\n",
      "[ERROR] espeak: No envelope\n",
      "[ERROR] espeak: No envelope\n",
      "[ERROR] espeak: No envelope\n",
      "[ERROR] espeak: No envelope\n"
     ]
    },
    {
     "name": "stdout",
     "output_type": "stream",
     "text": [
      "Building phoneme dictionary: ███▓░░░░░░░░░░░░░░░░░░░░░░░░░░░░░░░░░░░░░░░░░░░░░░░░░░░░░░░░░░░░░░░░░░░ 5.6%"
     ]
    },
    {
     "name": "stderr",
     "output_type": "stream",
     "text": [
      "[ERROR] espeak: No envelope\n",
      "[ERROR] espeak: No envelope\n"
     ]
    },
    {
     "name": "stdout",
     "output_type": "stream",
     "text": [
      "Building phoneme dictionary: ███▓░░░░░░░░░░░░░░░░░░░░░░░░░░░░░░░░░░░░░░░░░░░░░░░░░░░░░░░░░░░░░░░░░░░ 5.6%"
     ]
    },
    {
     "name": "stderr",
     "output_type": "stream",
     "text": [
      "[WARNING] 1 utterances containing language switches on lines 1\n",
      "[WARNING] extra phones may appear in the \"cmn\" phoneset\n",
      "[WARNING] language switch flags have been removed (applying \"remove-flags\" policy)\n"
     ]
    },
    {
     "name": "stdout",
     "output_type": "stream",
     "text": [
      "Building phoneme dictionary: ███▓░░░░░░░░░░░░░░░░░░░░░░░░░░░░░░░░░░░░░░░░░░░░░░░░░░░░░░░░░░░░░░░░░░░ 5.6%"
     ]
    },
    {
     "name": "stderr",
     "output_type": "stream",
     "text": [
      "[ERROR] espeak: No envelope\n",
      "[ERROR] espeak: No envelope\n",
      "[ERROR] espeak: No envelope\n",
      "[ERROR] espeak: No envelope\n"
     ]
    },
    {
     "name": "stdout",
     "output_type": "stream",
     "text": [
      "Building phoneme dictionary: ███▓░░░░░░░░░░░░░░░░░░░░░░░░░░░░░░░░░░░░░░░░░░░░░░░░░░░░░░░░░░░░░░░░░░░ 5.7%"
     ]
    },
    {
     "name": "stderr",
     "output_type": "stream",
     "text": [
      "[WARNING] 1 utterances containing language switches on lines 1\n",
      "[WARNING] extra phones may appear in the \"cmn\" phoneset\n",
      "[WARNING] language switch flags have been removed (applying \"remove-flags\" policy)\n"
     ]
    },
    {
     "name": "stdout",
     "output_type": "stream",
     "text": [
      "Building phoneme dictionary: ████░░░░░░░░░░░░░░░░░░░░░░░░░░░░░░░░░░░░░░░░░░░░░░░░░░░░░░░░░░░░░░░░░░░ 5.7%"
     ]
    },
    {
     "name": "stderr",
     "output_type": "stream",
     "text": [
      "[WARNING] 1 utterances containing language switches on lines 1\n",
      "[WARNING] extra phones may appear in the \"cmn\" phoneset\n",
      "[WARNING] language switch flags have been removed (applying \"remove-flags\" policy)\n"
     ]
    },
    {
     "name": "stdout",
     "output_type": "stream",
     "text": [
      "Building phoneme dictionary: ████░░░░░░░░░░░░░░░░░░░░░░░░░░░░░░░░░░░░░░░░░░░░░░░░░░░░░░░░░░░░░░░░░░░ 5.8%"
     ]
    },
    {
     "name": "stderr",
     "output_type": "stream",
     "text": [
      "[ERROR] espeak: No envelope\n",
      "[ERROR] espeak: No envelope\n",
      "[ERROR] espeak: No envelope\n",
      "[ERROR] espeak: No envelope\n"
     ]
    },
    {
     "name": "stdout",
     "output_type": "stream",
     "text": [
      "Building phoneme dictionary: ████░░░░░░░░░░░░░░░░░░░░░░░░░░░░░░░░░░░░░░░░░░░░░░░░░░░░░░░░░░░░░░░░░░░ 5.8%"
     ]
    },
    {
     "name": "stderr",
     "output_type": "stream",
     "text": [
      "[ERROR] espeak: No envelope\n",
      "[ERROR] espeak: No envelope\n",
      "[ERROR] espeak: No envelope\n",
      "[ERROR] espeak: No envelope\n",
      "[ERROR] espeak: No envelope\n"
     ]
    },
    {
     "name": "stdout",
     "output_type": "stream",
     "text": [
      "Building phoneme dictionary: ████░░░░░░░░░░░░░░░░░░░░░░░░░░░░░░░░░░░░░░░░░░░░░░░░░░░░░░░░░░░░░░░░░░░ 5.9%"
     ]
    },
    {
     "name": "stderr",
     "output_type": "stream",
     "text": [
      "[ERROR] espeak: No envelope\n",
      "[ERROR] espeak: No envelope\n",
      "[ERROR] espeak: No envelope\n"
     ]
    },
    {
     "name": "stdout",
     "output_type": "stream",
     "text": [
      "Building phoneme dictionary: ████░░░░░░░░░░░░░░░░░░░░░░░░░░░░░░░░░░░░░░░░░░░░░░░░░░░░░░░░░░░░░░░░░░░ 6.0%"
     ]
    },
    {
     "name": "stderr",
     "output_type": "stream",
     "text": [
      "[ERROR] espeak: No envelope\n",
      "[ERROR] espeak: No envelope\n",
      "[ERROR] espeak: No envelope\n",
      "[ERROR] espeak: No envelope\n",
      "[ERROR] espeak: No envelope\n",
      "[ERROR] espeak: No envelope\n",
      "[ERROR] espeak: No envelope\n",
      "[ERROR] espeak: No envelope\n"
     ]
    },
    {
     "name": "stdout",
     "output_type": "stream",
     "text": [
      "Building phoneme dictionary: ████░░░░░░░░░░░░░░░░░░░░░░░░░░░░░░░░░░░░░░░░░░░░░░░░░░░░░░░░░░░░░░░░░░░ 6.0%"
     ]
    },
    {
     "name": "stderr",
     "output_type": "stream",
     "text": [
      "[WARNING] 1 utterances containing language switches on lines 1\n",
      "[WARNING] extra phones may appear in the \"cmn\" phoneset\n",
      "[WARNING] language switch flags have been removed (applying \"remove-flags\" policy)\n"
     ]
    },
    {
     "name": "stdout",
     "output_type": "stream",
     "text": [
      "Building phoneme dictionary: ████░░░░░░░░░░░░░░░░░░░░░░░░░░░░░░░░░░░░░░░░░░░░░░░░░░░░░░░░░░░░░░░░░░░ 6.1%"
     ]
    },
    {
     "name": "stderr",
     "output_type": "stream",
     "text": [
      "[ERROR] espeak: No envelope\n",
      "[ERROR] espeak: No envelope\n",
      "[ERROR] espeak: No envelope\n"
     ]
    },
    {
     "name": "stdout",
     "output_type": "stream",
     "text": [
      "Building phoneme dictionary: ████░░░░░░░░░░░░░░░░░░░░░░░░░░░░░░░░░░░░░░░░░░░░░░░░░░░░░░░░░░░░░░░░░░░ 6.2%"
     ]
    },
    {
     "name": "stderr",
     "output_type": "stream",
     "text": [
      "[WARNING] 1 utterances containing language switches on lines 1\n",
      "[WARNING] extra phones may appear in the \"cmn\" phoneset\n",
      "[WARNING] language switch flags have been removed (applying \"remove-flags\" policy)\n"
     ]
    },
    {
     "name": "stdout",
     "output_type": "stream",
     "text": [
      "Building phoneme dictionary: ████▒░░░░░░░░░░░░░░░░░░░░░░░░░░░░░░░░░░░░░░░░░░░░░░░░░░░░░░░░░░░░░░░░░░ 6.2%"
     ]
    },
    {
     "name": "stderr",
     "output_type": "stream",
     "text": [
      "[WARNING] 1 utterances containing language switches on lines 1\n",
      "[WARNING] extra phones may appear in the \"cmn\" phoneset\n",
      "[WARNING] language switch flags have been removed (applying \"remove-flags\" policy)\n"
     ]
    },
    {
     "name": "stdout",
     "output_type": "stream",
     "text": [
      "Building phoneme dictionary: ████▒░░░░░░░░░░░░░░░░░░░░░░░░░░░░░░░░░░░░░░░░░░░░░░░░░░░░░░░░░░░░░░░░░░ 6.3%"
     ]
    },
    {
     "name": "stderr",
     "output_type": "stream",
     "text": [
      "[ERROR] espeak: No envelope\n",
      "[ERROR] espeak: No envelope\n",
      "[ERROR] espeak: No envelope\n"
     ]
    },
    {
     "name": "stdout",
     "output_type": "stream",
     "text": [
      "Building phoneme dictionary: ████▒░░░░░░░░░░░░░░░░░░░░░░░░░░░░░░░░░░░░░░░░░░░░░░░░░░░░░░░░░░░░░░░░░░ 6.3%"
     ]
    },
    {
     "name": "stderr",
     "output_type": "stream",
     "text": [
      "[ERROR] espeak: No envelope\n",
      "[ERROR] espeak: No envelope\n",
      "[ERROR] espeak: No envelope\n",
      "[ERROR] espeak: No envelope\n",
      "[ERROR] espeak: No envelope\n"
     ]
    },
    {
     "name": "stdout",
     "output_type": "stream",
     "text": [
      "Building phoneme dictionary: ████▒░░░░░░░░░░░░░░░░░░░░░░░░░░░░░░░░░░░░░░░░░░░░░░░░░░░░░░░░░░░░░░░░░░ 6.4%"
     ]
    },
    {
     "name": "stderr",
     "output_type": "stream",
     "text": [
      "[WARNING] 1 utterances containing language switches on lines 1\n",
      "[WARNING] extra phones may appear in the \"cmn\" phoneset\n",
      "[WARNING] language switch flags have been removed (applying \"remove-flags\" policy)\n"
     ]
    },
    {
     "name": "stdout",
     "output_type": "stream",
     "text": [
      "Building phoneme dictionary: ████▒░░░░░░░░░░░░░░░░░░░░░░░░░░░░░░░░░░░░░░░░░░░░░░░░░░░░░░░░░░░░░░░░░░ 6.4%"
     ]
    },
    {
     "name": "stderr",
     "output_type": "stream",
     "text": [
      "[WARNING] 1 utterances containing language switches on lines 1\n",
      "[WARNING] extra phones may appear in the \"cmn\" phoneset\n",
      "[WARNING] language switch flags have been removed (applying \"remove-flags\" policy)\n"
     ]
    },
    {
     "name": "stdout",
     "output_type": "stream",
     "text": [
      "Building phoneme dictionary: ████▒░░░░░░░░░░░░░░░░░░░░░░░░░░░░░░░░░░░░░░░░░░░░░░░░░░░░░░░░░░░░░░░░░░ 6.4%"
     ]
    },
    {
     "name": "stderr",
     "output_type": "stream",
     "text": [
      "[ERROR] espeak: No envelope\n",
      "[ERROR] espeak: No envelope\n",
      "[ERROR] espeak: No envelope\n",
      "[ERROR] espeak: No envelope\n",
      "[ERROR] espeak: No envelope\n",
      "[ERROR] espeak: No envelope\n",
      "[ERROR] espeak: No envelope\n",
      "[ERROR] espeak: No envelope\n",
      "[ERROR] espeak: No envelope\n",
      "[ERROR] espeak: No envelope\n",
      "[ERROR] espeak: No envelope\n",
      "[ERROR] espeak: No envelope\n",
      "[ERROR] espeak: No envelope\n",
      "[ERROR] espeak: No envelope\n",
      "[ERROR] espeak: No envelope\n",
      "[ERROR] espeak: No envelope\n",
      "[ERROR] espeak: No envelope\n",
      "[ERROR] espeak: No envelope\n",
      "[ERROR] espeak: No envelope\n",
      "[ERROR] espeak: No envelope\n"
     ]
    },
    {
     "name": "stdout",
     "output_type": "stream",
     "text": [
      "Building phoneme dictionary: ████▒░░░░░░░░░░░░░░░░░░░░░░░░░░░░░░░░░░░░░░░░░░░░░░░░░░░░░░░░░░░░░░░░░░ 6.4%"
     ]
    },
    {
     "name": "stderr",
     "output_type": "stream",
     "text": [
      "[ERROR] espeak: No envelope\n",
      "[ERROR] espeak: No envelope\n",
      "[ERROR] espeak: No envelope\n",
      "[ERROR] espeak: No envelope\n"
     ]
    },
    {
     "name": "stdout",
     "output_type": "stream",
     "text": [
      "Building phoneme dictionary: ████▒░░░░░░░░░░░░░░░░░░░░░░░░░░░░░░░░░░░░░░░░░░░░░░░░░░░░░░░░░░░░░░░░░░ 6.5%"
     ]
    },
    {
     "name": "stderr",
     "output_type": "stream",
     "text": [
      "[WARNING] 1 utterances containing language switches on lines 1\n",
      "[WARNING] extra phones may appear in the \"cmn\" phoneset\n",
      "[WARNING] language switch flags have been removed (applying \"remove-flags\" policy)\n"
     ]
    },
    {
     "name": "stdout",
     "output_type": "stream",
     "text": [
      "Building phoneme dictionary: ████▒░░░░░░░░░░░░░░░░░░░░░░░░░░░░░░░░░░░░░░░░░░░░░░░░░░░░░░░░░░░░░░░░░░ 6.6%"
     ]
    },
    {
     "name": "stderr",
     "output_type": "stream",
     "text": [
      "[ERROR] espeak: No envelope\n",
      "[ERROR] espeak: No envelope\n",
      "[ERROR] espeak: No envelope\n",
      "[ERROR] espeak: No envelope\n"
     ]
    },
    {
     "name": "stdout",
     "output_type": "stream",
     "text": [
      "Building phoneme dictionary: ████▒░░░░░░░░░░░░░░░░░░░░░░░░░░░░░░░░░░░░░░░░░░░░░░░░░░░░░░░░░░░░░░░░░░ 6.6%"
     ]
    },
    {
     "name": "stderr",
     "output_type": "stream",
     "text": [
      "[ERROR] espeak: No envelope\n",
      "[ERROR] espeak: No envelope\n",
      "[ERROR] espeak: No envelope\n",
      "[ERROR] espeak: No envelope\n"
     ]
    },
    {
     "name": "stdout",
     "output_type": "stream",
     "text": [
      "Building phoneme dictionary: ████▓░░░░░░░░░░░░░░░░░░░░░░░░░░░░░░░░░░░░░░░░░░░░░░░░░░░░░░░░░░░░░░░░░░ 6.7%"
     ]
    },
    {
     "name": "stderr",
     "output_type": "stream",
     "text": [
      "[ERROR] espeak: No envelope\n",
      "[ERROR] espeak: No envelope\n",
      "[ERROR] espeak: No envelope\n"
     ]
    },
    {
     "name": "stdout",
     "output_type": "stream",
     "text": [
      "Building phoneme dictionary: ████▓░░░░░░░░░░░░░░░░░░░░░░░░░░░░░░░░░░░░░░░░░░░░░░░░░░░░░░░░░░░░░░░░░░ 6.7%"
     ]
    },
    {
     "name": "stderr",
     "output_type": "stream",
     "text": [
      "[ERROR] espeak: No envelope\n",
      "[ERROR] espeak: No envelope\n",
      "[ERROR] espeak: No envelope\n",
      "[ERROR] espeak: No envelope\n",
      "[ERROR] espeak: No envelope\n",
      "[ERROR] espeak: No envelope\n"
     ]
    },
    {
     "name": "stdout",
     "output_type": "stream",
     "text": [
      "Building phoneme dictionary: ████▓░░░░░░░░░░░░░░░░░░░░░░░░░░░░░░░░░░░░░░░░░░░░░░░░░░░░░░░░░░░░░░░░░░ 6.7%"
     ]
    },
    {
     "name": "stderr",
     "output_type": "stream",
     "text": [
      "[ERROR] espeak: No envelope\n",
      "[ERROR] espeak: No envelope\n"
     ]
    },
    {
     "name": "stdout",
     "output_type": "stream",
     "text": [
      "Building phoneme dictionary: ████▓░░░░░░░░░░░░░░░░░░░░░░░░░░░░░░░░░░░░░░░░░░░░░░░░░░░░░░░░░░░░░░░░░░ 6.8%"
     ]
    },
    {
     "name": "stderr",
     "output_type": "stream",
     "text": [
      "[WARNING] 1 utterances containing language switches on lines 1\n",
      "[WARNING] extra phones may appear in the \"cmn\" phoneset\n",
      "[WARNING] language switch flags have been removed (applying \"remove-flags\" policy)\n"
     ]
    },
    {
     "name": "stdout",
     "output_type": "stream",
     "text": [
      "\r",
      "Building phoneme dictionary: ████▓░░░░░░░░░░░░░░░░░░░░░░░░░░░░░░░░░░░░░░░░░░░░░░░░░░░░░░░░░░░░░░░░░░ 6.8%"
     ]
    },
    {
     "name": "stderr",
     "output_type": "stream",
     "text": [
      "[WARNING] 1 utterances containing language switches on lines 1\n",
      "[WARNING] extra phones may appear in the \"cmn\" phoneset\n",
      "[WARNING] language switch flags have been removed (applying \"remove-flags\" policy)\n"
     ]
    },
    {
     "name": "stdout",
     "output_type": "stream",
     "text": [
      "Building phoneme dictionary: ████▓░░░░░░░░░░░░░░░░░░░░░░░░░░░░░░░░░░░░░░░░░░░░░░░░░░░░░░░░░░░░░░░░░░ 6.8%"
     ]
    },
    {
     "name": "stderr",
     "output_type": "stream",
     "text": [
      "[ERROR] espeak: No envelope\n",
      "[ERROR] espeak: No envelope\n",
      "[ERROR] espeak: No envelope\n",
      "[ERROR] espeak: No envelope\n",
      "[ERROR] espeak: No envelope\n",
      "[ERROR] espeak: No envelope\n"
     ]
    },
    {
     "name": "stdout",
     "output_type": "stream",
     "text": [
      "Building phoneme dictionary: ████▓░░░░░░░░░░░░░░░░░░░░░░░░░░░░░░░░░░░░░░░░░░░░░░░░░░░░░░░░░░░░░░░░░░ 6.9%"
     ]
    },
    {
     "name": "stderr",
     "output_type": "stream",
     "text": [
      "[ERROR] espeak: No envelope\n",
      "[ERROR] espeak: No envelope\n",
      "[ERROR] espeak: No envelope\n",
      "[ERROR] espeak: No envelope\n",
      "[ERROR] espeak: No envelope\n",
      "[ERROR] espeak: No envelope\n"
     ]
    },
    {
     "name": "stdout",
     "output_type": "stream",
     "text": [
      "Building phoneme dictionary: ████▓░░░░░░░░░░░░░░░░░░░░░░░░░░░░░░░░░░░░░░░░░░░░░░░░░░░░░░░░░░░░░░░░░░ 6.9%"
     ]
    },
    {
     "name": "stderr",
     "output_type": "stream",
     "text": [
      "[ERROR] espeak: No envelope\n",
      "[ERROR] espeak: No envelope\n"
     ]
    },
    {
     "name": "stdout",
     "output_type": "stream",
     "text": [
      "Building phoneme dictionary: ████▓░░░░░░░░░░░░░░░░░░░░░░░░░░░░░░░░░░░░░░░░░░░░░░░░░░░░░░░░░░░░░░░░░░ 6.9%"
     ]
    },
    {
     "name": "stderr",
     "output_type": "stream",
     "text": [
      "[ERROR] espeak: No envelope\n",
      "[ERROR] espeak: No envelope\n"
     ]
    },
    {
     "name": "stdout",
     "output_type": "stream",
     "text": [
      "Building phoneme dictionary: ████▓░░░░░░░░░░░░░░░░░░░░░░░░░░░░░░░░░░░░░░░░░░░░░░░░░░░░░░░░░░░░░░░░░░ 7.0%"
     ]
    },
    {
     "name": "stderr",
     "output_type": "stream",
     "text": [
      "[WARNING] 1 utterances containing language switches on lines 1\n",
      "[WARNING] extra phones may appear in the \"cmn\" phoneset\n",
      "[WARNING] language switch flags have been removed (applying \"remove-flags\" policy)\n"
     ]
    },
    {
     "name": "stdout",
     "output_type": "stream",
     "text": [
      "\r",
      "Building phoneme dictionary: ████▓░░░░░░░░░░░░░░░░░░░░░░░░░░░░░░░░░░░░░░░░░░░░░░░░░░░░░░░░░░░░░░░░░░ 7.0%"
     ]
    },
    {
     "name": "stderr",
     "output_type": "stream",
     "text": [
      "[ERROR] espeak: No envelope\n",
      "[ERROR] espeak: No envelope\n"
     ]
    },
    {
     "name": "stdout",
     "output_type": "stream",
     "text": [
      "Building phoneme dictionary: ████▓░░░░░░░░░░░░░░░░░░░░░░░░░░░░░░░░░░░░░░░░░░░░░░░░░░░░░░░░░░░░░░░░░░ 7.0%"
     ]
    },
    {
     "name": "stderr",
     "output_type": "stream",
     "text": [
      "[WARNING] 1 utterances containing language switches on lines 1\n",
      "[WARNING] extra phones may appear in the \"cmn\" phoneset\n",
      "[WARNING] language switch flags have been removed (applying \"remove-flags\" policy)\n"
     ]
    },
    {
     "name": "stdout",
     "output_type": "stream",
     "text": [
      "Building phoneme dictionary: ████▓░░░░░░░░░░░░░░░░░░░░░░░░░░░░░░░░░░░░░░░░░░░░░░░░░░░░░░░░░░░░░░░░░░ 7.0%"
     ]
    },
    {
     "name": "stderr",
     "output_type": "stream",
     "text": [
      "[ERROR] espeak: No envelope\n"
     ]
    },
    {
     "name": "stdout",
     "output_type": "stream",
     "text": [
      "Building phoneme dictionary: ████▓░░░░░░░░░░░░░░░░░░░░░░░░░░░░░░░░░░░░░░░░░░░░░░░░░░░░░░░░░░░░░░░░░░ 7.0%"
     ]
    },
    {
     "name": "stderr",
     "output_type": "stream",
     "text": [
      "[ERROR] espeak: No envelope\n",
      "[ERROR] espeak: No envelope\n",
      "[ERROR] espeak: No envelope\n",
      "[ERROR] espeak: No envelope\n"
     ]
    },
    {
     "name": "stdout",
     "output_type": "stream",
     "text": [
      "Building phoneme dictionary: ████▓░░░░░░░░░░░░░░░░░░░░░░░░░░░░░░░░░░░░░░░░░░░░░░░░░░░░░░░░░░░░░░░░░░ 7.1%"
     ]
    },
    {
     "name": "stderr",
     "output_type": "stream",
     "text": [
      "[WARNING] 1 utterances containing language switches on lines 1\n",
      "[WARNING] extra phones may appear in the \"cmn\" phoneset\n",
      "[WARNING] language switch flags have been removed (applying \"remove-flags\" policy)\n"
     ]
    },
    {
     "name": "stdout",
     "output_type": "stream",
     "text": [
      "\r",
      "Building phoneme dictionary: ████▓░░░░░░░░░░░░░░░░░░░░░░░░░░░░░░░░░░░░░░░░░░░░░░░░░░░░░░░░░░░░░░░░░░ 7.1%"
     ]
    },
    {
     "name": "stderr",
     "output_type": "stream",
     "text": [
      "[ERROR] espeak: No envelope\n",
      "[ERROR] espeak: No envelope\n",
      "[ERROR] espeak: No envelope\n",
      "[ERROR] espeak: No envelope\n",
      "[ERROR] espeak: No envelope\n",
      "[ERROR] espeak: No envelope\n",
      "[ERROR] espeak: No envelope\n"
     ]
    },
    {
     "name": "stdout",
     "output_type": "stream",
     "text": [
      "Building phoneme dictionary: ████▓░░░░░░░░░░░░░░░░░░░░░░░░░░░░░░░░░░░░░░░░░░░░░░░░░░░░░░░░░░░░░░░░░░ 7.1%"
     ]
    },
    {
     "name": "stderr",
     "output_type": "stream",
     "text": [
      "[ERROR] espeak: No envelope\n",
      "[ERROR] espeak: No envelope\n",
      "[ERROR] espeak: No envelope\n"
     ]
    },
    {
     "name": "stdout",
     "output_type": "stream",
     "text": [
      "Building phoneme dictionary: ████▓░░░░░░░░░░░░░░░░░░░░░░░░░░░░░░░░░░░░░░░░░░░░░░░░░░░░░░░░░░░░░░░░░░ 7.1%"
     ]
    },
    {
     "name": "stderr",
     "output_type": "stream",
     "text": [
      "[ERROR] espeak: No envelope\n",
      "[ERROR] espeak: No envelope\n",
      "[ERROR] espeak: No envelope\n",
      "[ERROR] espeak: No envelope\n",
      "[ERROR] espeak: No envelope\n"
     ]
    },
    {
     "name": "stdout",
     "output_type": "stream",
     "text": [
      "Building phoneme dictionary: █████░░░░░░░░░░░░░░░░░░░░░░░░░░░░░░░░░░░░░░░░░░░░░░░░░░░░░░░░░░░░░░░░░░ 7.2%"
     ]
    },
    {
     "name": "stderr",
     "output_type": "stream",
     "text": [
      "[ERROR] espeak: No envelope\n",
      "[ERROR] espeak: No envelope\n",
      "[ERROR] espeak: No envelope\n",
      "[ERROR] espeak: No envelope\n",
      "[ERROR] espeak: No envelope\n"
     ]
    },
    {
     "name": "stdout",
     "output_type": "stream",
     "text": [
      "Building phoneme dictionary: █████░░░░░░░░░░░░░░░░░░░░░░░░░░░░░░░░░░░░░░░░░░░░░░░░░░░░░░░░░░░░░░░░░░ 7.2%"
     ]
    },
    {
     "name": "stderr",
     "output_type": "stream",
     "text": [
      "[ERROR] espeak: No envelope\n",
      "[ERROR] espeak: No envelope\n"
     ]
    },
    {
     "name": "stdout",
     "output_type": "stream",
     "text": [
      "Building phoneme dictionary: █████░░░░░░░░░░░░░░░░░░░░░░░░░░░░░░░░░░░░░░░░░░░░░░░░░░░░░░░░░░░░░░░░░░ 7.2%"
     ]
    },
    {
     "name": "stderr",
     "output_type": "stream",
     "text": [
      "[ERROR] espeak: No envelope\n",
      "[ERROR] espeak: No envelope\n",
      "[ERROR] espeak: No envelope\n",
      "[ERROR] espeak: No envelope\n"
     ]
    },
    {
     "name": "stdout",
     "output_type": "stream",
     "text": [
      "Building phoneme dictionary: █████░░░░░░░░░░░░░░░░░░░░░░░░░░░░░░░░░░░░░░░░░░░░░░░░░░░░░░░░░░░░░░░░░░ 7.3%"
     ]
    },
    {
     "name": "stderr",
     "output_type": "stream",
     "text": [
      "[ERROR] espeak: No envelope\n",
      "[ERROR] espeak: No envelope\n",
      "[ERROR] espeak: No envelope\n",
      "[ERROR] espeak: No envelope\n",
      "[ERROR] espeak: No envelope\n",
      "[ERROR] espeak: No envelope\n"
     ]
    },
    {
     "name": "stdout",
     "output_type": "stream",
     "text": [
      "Building phoneme dictionary: █████░░░░░░░░░░░░░░░░░░░░░░░░░░░░░░░░░░░░░░░░░░░░░░░░░░░░░░░░░░░░░░░░░░ 7.3%"
     ]
    },
    {
     "name": "stderr",
     "output_type": "stream",
     "text": [
      "[WARNING] 1 utterances containing language switches on lines 1\n",
      "[WARNING] extra phones may appear in the \"cmn\" phoneset\n",
      "[WARNING] language switch flags have been removed (applying \"remove-flags\" policy)\n"
     ]
    },
    {
     "name": "stdout",
     "output_type": "stream",
     "text": [
      "Building phoneme dictionary: █████░░░░░░░░░░░░░░░░░░░░░░░░░░░░░░░░░░░░░░░░░░░░░░░░░░░░░░░░░░░░░░░░░░ 7.3%"
     ]
    },
    {
     "name": "stderr",
     "output_type": "stream",
     "text": [
      "[ERROR] espeak: No envelope\n",
      "[ERROR] espeak: No envelope\n",
      "[ERROR] espeak: No envelope\n"
     ]
    },
    {
     "name": "stdout",
     "output_type": "stream",
     "text": [
      "Building phoneme dictionary: █████░░░░░░░░░░░░░░░░░░░░░░░░░░░░░░░░░░░░░░░░░░░░░░░░░░░░░░░░░░░░░░░░░░ 7.4%"
     ]
    },
    {
     "name": "stderr",
     "output_type": "stream",
     "text": [
      "[WARNING] 1 utterances containing language switches on lines 1\n",
      "[WARNING] extra phones may appear in the \"cmn\" phoneset\n",
      "[WARNING] language switch flags have been removed (applying \"remove-flags\" policy)\n"
     ]
    },
    {
     "name": "stdout",
     "output_type": "stream",
     "text": [
      "Building phoneme dictionary: █████░░░░░░░░░░░░░░░░░░░░░░░░░░░░░░░░░░░░░░░░░░░░░░░░░░░░░░░░░░░░░░░░░░ 7.4%"
     ]
    },
    {
     "name": "stderr",
     "output_type": "stream",
     "text": [
      "[ERROR] espeak: No envelope\n",
      "[ERROR] espeak: No envelope\n",
      "[ERROR] espeak: No envelope\n",
      "[ERROR] espeak: No envelope\n",
      "[ERROR] espeak: No envelope\n",
      "[ERROR] espeak: No envelope\n",
      "[ERROR] espeak: No envelope\n",
      "[ERROR] espeak: No envelope\n",
      "[ERROR] espeak: No envelope\n",
      "[ERROR] espeak: No envelope\n",
      "[ERROR] espeak: No envelope\n",
      "[ERROR] espeak: No envelope\n",
      "[ERROR] espeak: No envelope\n",
      "[ERROR] espeak: No envelope\n",
      "[ERROR] espeak: No envelope\n",
      "[ERROR] espeak: No envelope\n",
      "[ERROR] espeak: No envelope\n",
      "[ERROR] espeak: No envelope\n",
      "[ERROR] espeak: No envelope\n",
      "[ERROR] espeak: No envelope\n",
      "[ERROR] espeak: No envelope\n",
      "[ERROR] espeak: No envelope\n",
      "[ERROR] espeak: No envelope\n",
      "[ERROR] espeak: No envelope\n",
      "[ERROR] espeak: No envelope\n",
      "[ERROR] espeak: No envelope\n",
      "[ERROR] espeak: No envelope\n",
      "[ERROR] espeak: No envelope\n",
      "[ERROR] espeak: No envelope\n",
      "[ERROR] espeak: No envelope\n",
      "[ERROR] espeak: No envelope\n",
      "[ERROR] espeak: No envelope\n",
      "[ERROR] espeak: No envelope\n",
      "[ERROR] espeak: No envelope\n",
      "[ERROR] espeak: No envelope\n",
      "[ERROR] espeak: No envelope\n",
      "[ERROR] espeak: No envelope\n",
      "[ERROR] espeak: No envelope\n",
      "[ERROR] espeak: No envelope\n"
     ]
    },
    {
     "name": "stdout",
     "output_type": "stream",
     "text": [
      "\r",
      "Building phoneme dictionary: █████░░░░░░░░░░░░░░░░░░░░░░░░░░░░░░░░░░░░░░░░░░░░░░░░░░░░░░░░░░░░░░░░░░ 7.4%"
     ]
    },
    {
     "name": "stderr",
     "output_type": "stream",
     "text": [
      "[WARNING] 1 utterances containing language switches on lines 1\n",
      "[WARNING] extra phones may appear in the \"cmn\" phoneset\n",
      "[WARNING] language switch flags have been removed (applying \"remove-flags\" policy)\n"
     ]
    },
    {
     "name": "stdout",
     "output_type": "stream",
     "text": [
      "\r",
      "Building phoneme dictionary: █████░░░░░░░░░░░░░░░░░░░░░░░░░░░░░░░░░░░░░░░░░░░░░░░░░░░░░░░░░░░░░░░░░░ 7.4%"
     ]
    },
    {
     "name": "stderr",
     "output_type": "stream",
     "text": [
      "[WARNING] 1 utterances containing language switches on lines 1\n",
      "[WARNING] extra phones may appear in the \"cmn\" phoneset\n",
      "[WARNING] language switch flags have been removed (applying \"remove-flags\" policy)\n"
     ]
    },
    {
     "name": "stdout",
     "output_type": "stream",
     "text": [
      "\r",
      "Building phoneme dictionary: █████░░░░░░░░░░░░░░░░░░░░░░░░░░░░░░░░░░░░░░░░░░░░░░░░░░░░░░░░░░░░░░░░░░ 7.4%"
     ]
    },
    {
     "name": "stderr",
     "output_type": "stream",
     "text": [
      "[ERROR] espeak: No envelope\n",
      "[ERROR] espeak: No envelope\n",
      "[ERROR] espeak: No envelope\n",
      "[ERROR] espeak: No envelope\n",
      "[ERROR] espeak: No envelope\n",
      "[ERROR] espeak: No envelope\n"
     ]
    },
    {
     "name": "stdout",
     "output_type": "stream",
     "text": [
      "\r",
      "Building phoneme dictionary: █████░░░░░░░░░░░░░░░░░░░░░░░░░░░░░░░░░░░░░░░░░░░░░░░░░░░░░░░░░░░░░░░░░░ 7.4%"
     ]
    },
    {
     "name": "stderr",
     "output_type": "stream",
     "text": [
      "[ERROR] espeak: No envelope\n",
      "[ERROR] espeak: No envelope\n",
      "[ERROR] espeak: No envelope\n"
     ]
    },
    {
     "name": "stdout",
     "output_type": "stream",
     "text": [
      "Building phoneme dictionary: █████░░░░░░░░░░░░░░░░░░░░░░░░░░░░░░░░░░░░░░░░░░░░░░░░░░░░░░░░░░░░░░░░░░ 7.4%"
     ]
    },
    {
     "name": "stderr",
     "output_type": "stream",
     "text": [
      "[WARNING] 1 utterances containing language switches on lines 1\n",
      "[WARNING] extra phones may appear in the \"cmn\" phoneset\n",
      "[WARNING] language switch flags have been removed (applying \"remove-flags\" policy)\n"
     ]
    },
    {
     "name": "stdout",
     "output_type": "stream",
     "text": [
      "\r",
      "Building phoneme dictionary: █████░░░░░░░░░░░░░░░░░░░░░░░░░░░░░░░░░░░░░░░░░░░░░░░░░░░░░░░░░░░░░░░░░░ 7.4%"
     ]
    },
    {
     "name": "stderr",
     "output_type": "stream",
     "text": [
      "[ERROR] espeak: No envelope\n",
      "[ERROR] espeak: No envelope\n",
      "[ERROR] espeak: No envelope\n",
      "[ERROR] espeak: No envelope\n"
     ]
    },
    {
     "name": "stdout",
     "output_type": "stream",
     "text": [
      "Building phoneme dictionary: █████░░░░░░░░░░░░░░░░░░░░░░░░░░░░░░░░░░░░░░░░░░░░░░░░░░░░░░░░░░░░░░░░░░ 7.4%"
     ]
    },
    {
     "name": "stderr",
     "output_type": "stream",
     "text": [
      "[WARNING] 1 utterances containing language switches on lines 1\n",
      "[WARNING] extra phones may appear in the \"cmn\" phoneset\n",
      "[WARNING] language switch flags have been removed (applying \"remove-flags\" policy)\n"
     ]
    },
    {
     "name": "stdout",
     "output_type": "stream",
     "text": [
      "Building phoneme dictionary: █████░░░░░░░░░░░░░░░░░░░░░░░░░░░░░░░░░░░░░░░░░░░░░░░░░░░░░░░░░░░░░░░░░░ 7.5%"
     ]
    },
    {
     "name": "stderr",
     "output_type": "stream",
     "text": [
      "[ERROR] espeak: No envelope\n",
      "[ERROR] espeak: No envelope\n",
      "[ERROR] espeak: No envelope\n",
      "[ERROR] espeak: No envelope\n",
      "[ERROR] espeak: No envelope\n",
      "[ERROR] espeak: No envelope\n",
      "[ERROR] espeak: No envelope\n",
      "[ERROR] espeak: No envelope\n"
     ]
    },
    {
     "name": "stdout",
     "output_type": "stream",
     "text": [
      "\r",
      "Building phoneme dictionary: █████░░░░░░░░░░░░░░░░░░░░░░░░░░░░░░░░░░░░░░░░░░░░░░░░░░░░░░░░░░░░░░░░░░ 7.5%"
     ]
    },
    {
     "name": "stderr",
     "output_type": "stream",
     "text": [
      "[WARNING] 1 utterances containing language switches on lines 1\n",
      "[WARNING] extra phones may appear in the \"cmn\" phoneset\n",
      "[WARNING] language switch flags have been removed (applying \"remove-flags\" policy)\n"
     ]
    },
    {
     "name": "stdout",
     "output_type": "stream",
     "text": [
      "Building phoneme dictionary: █████░░░░░░░░░░░░░░░░░░░░░░░░░░░░░░░░░░░░░░░░░░░░░░░░░░░░░░░░░░░░░░░░░░ 7.5%"
     ]
    },
    {
     "name": "stderr",
     "output_type": "stream",
     "text": [
      "[WARNING] 1 utterances containing language switches on lines 1\n",
      "[WARNING] extra phones may appear in the \"cmn\" phoneset\n",
      "[WARNING] language switch flags have been removed (applying \"remove-flags\" policy)\n"
     ]
    },
    {
     "name": "stdout",
     "output_type": "stream",
     "text": [
      "Building phoneme dictionary: █████░░░░░░░░░░░░░░░░░░░░░░░░░░░░░░░░░░░░░░░░░░░░░░░░░░░░░░░░░░░░░░░░░░ 7.6%"
     ]
    },
    {
     "name": "stderr",
     "output_type": "stream",
     "text": [
      "[ERROR] espeak: No envelope\n",
      "[ERROR] espeak: No envelope\n",
      "[ERROR] espeak: No envelope\n",
      "[ERROR] espeak: No envelope\n",
      "[ERROR] espeak: No envelope\n",
      "[ERROR] espeak: No envelope\n"
     ]
    },
    {
     "name": "stdout",
     "output_type": "stream",
     "text": [
      "Building phoneme dictionary: █████░░░░░░░░░░░░░░░░░░░░░░░░░░░░░░░░░░░░░░░░░░░░░░░░░░░░░░░░░░░░░░░░░░ 7.6%"
     ]
    },
    {
     "name": "stderr",
     "output_type": "stream",
     "text": [
      "[ERROR] espeak: No envelope\n"
     ]
    },
    {
     "name": "stdout",
     "output_type": "stream",
     "text": [
      "\r",
      "Building phoneme dictionary: █████░░░░░░░░░░░░░░░░░░░░░░░░░░░░░░░░░░░░░░░░░░░░░░░░░░░░░░░░░░░░░░░░░░ 7.6%"
     ]
    },
    {
     "name": "stderr",
     "output_type": "stream",
     "text": [
      "[WARNING] 1 utterances containing language switches on lines 1\n",
      "[WARNING] extra phones may appear in the \"cmn\" phoneset\n",
      "[WARNING] language switch flags have been removed (applying \"remove-flags\" policy)\n",
      "[WARNING] 1 utterances containing language switches on lines 1\n",
      "[WARNING] extra phones may appear in the \"cmn\" phoneset\n",
      "[WARNING] language switch flags have been removed (applying \"remove-flags\" policy)\n"
     ]
    },
    {
     "name": "stdout",
     "output_type": "stream",
     "text": [
      "Building phoneme dictionary: █████▒░░░░░░░░░░░░░░░░░░░░░░░░░░░░░░░░░░░░░░░░░░░░░░░░░░░░░░░░░░░░░░░░░ 7.6%"
     ]
    },
    {
     "name": "stderr",
     "output_type": "stream",
     "text": [
      "[ERROR] espeak: No envelope\n",
      "[ERROR] espeak: No envelope\n",
      "[ERROR] espeak: No envelope\n",
      "[ERROR] espeak: No envelope\n",
      "[ERROR] espeak: No envelope\n",
      "[ERROR] espeak: No envelope\n",
      "[ERROR] espeak: No envelope\n",
      "[ERROR] espeak: No envelope\n",
      "[ERROR] espeak: No envelope\n",
      "[ERROR] espeak: No envelope\n",
      "[ERROR] espeak: No envelope\n",
      "[ERROR] espeak: No envelope\n"
     ]
    },
    {
     "name": "stdout",
     "output_type": "stream",
     "text": [
      "Building phoneme dictionary: █████▒░░░░░░░░░░░░░░░░░░░░░░░░░░░░░░░░░░░░░░░░░░░░░░░░░░░░░░░░░░░░░░░░░ 7.7%"
     ]
    },
    {
     "name": "stderr",
     "output_type": "stream",
     "text": [
      "[ERROR] espeak: No envelope\n",
      "[ERROR] espeak: No envelope\n",
      "[ERROR] espeak: No envelope\n",
      "[ERROR] espeak: No envelope\n",
      "[ERROR] espeak: No envelope\n"
     ]
    },
    {
     "name": "stdout",
     "output_type": "stream",
     "text": [
      "\r",
      "Building phoneme dictionary: █████▒░░░░░░░░░░░░░░░░░░░░░░░░░░░░░░░░░░░░░░░░░░░░░░░░░░░░░░░░░░░░░░░░░ 7.7%"
     ]
    },
    {
     "name": "stderr",
     "output_type": "stream",
     "text": [
      "[WARNING] 1 utterances containing language switches on lines 1\n",
      "[WARNING] extra phones may appear in the \"cmn\" phoneset\n",
      "[WARNING] language switch flags have been removed (applying \"remove-flags\" policy)\n"
     ]
    },
    {
     "name": "stdout",
     "output_type": "stream",
     "text": [
      "Building phoneme dictionary: █████▒░░░░░░░░░░░░░░░░░░░░░░░░░░░░░░░░░░░░░░░░░░░░░░░░░░░░░░░░░░░░░░░░░ 7.7%"
     ]
    },
    {
     "name": "stderr",
     "output_type": "stream",
     "text": [
      "[ERROR] espeak: No envelope\n",
      "[ERROR] espeak: No envelope\n",
      "[ERROR] espeak: No envelope\n",
      "[ERROR] espeak: No envelope\n",
      "[ERROR] espeak: No envelope\n",
      "[ERROR] espeak: No envelope\n"
     ]
    },
    {
     "name": "stdout",
     "output_type": "stream",
     "text": [
      "Building phoneme dictionary: █████▒░░░░░░░░░░░░░░░░░░░░░░░░░░░░░░░░░░░░░░░░░░░░░░░░░░░░░░░░░░░░░░░░░ 7.7%"
     ]
    },
    {
     "name": "stderr",
     "output_type": "stream",
     "text": [
      "[ERROR] espeak: No envelope\n",
      "[ERROR] espeak: No envelope\n",
      "[ERROR] espeak: No envelope\n",
      "[ERROR] espeak: No envelope\n",
      "[ERROR] espeak: No envelope\n",
      "[ERROR] espeak: No envelope\n",
      "[ERROR] espeak: No envelope\n",
      "[ERROR] espeak: No envelope\n"
     ]
    },
    {
     "name": "stdout",
     "output_type": "stream",
     "text": [
      "Building phoneme dictionary: █████▒░░░░░░░░░░░░░░░░░░░░░░░░░░░░░░░░░░░░░░░░░░░░░░░░░░░░░░░░░░░░░░░░░ 7.8%"
     ]
    },
    {
     "name": "stderr",
     "output_type": "stream",
     "text": [
      "[ERROR] espeak: No envelope\n",
      "[ERROR] espeak: No envelope\n",
      "[ERROR] espeak: No envelope\n"
     ]
    },
    {
     "name": "stdout",
     "output_type": "stream",
     "text": [
      "Building phoneme dictionary: █████▒░░░░░░░░░░░░░░░░░░░░░░░░░░░░░░░░░░░░░░░░░░░░░░░░░░░░░░░░░░░░░░░░░ 7.8%"
     ]
    },
    {
     "name": "stderr",
     "output_type": "stream",
     "text": [
      "[ERROR] espeak: No envelope\n",
      "[ERROR] espeak: No envelope\n",
      "[ERROR] espeak: No envelope\n",
      "[ERROR] espeak: No envelope\n",
      "[ERROR] espeak: No envelope\n"
     ]
    },
    {
     "name": "stdout",
     "output_type": "stream",
     "text": [
      "Building phoneme dictionary: █████▒░░░░░░░░░░░░░░░░░░░░░░░░░░░░░░░░░░░░░░░░░░░░░░░░░░░░░░░░░░░░░░░░░ 7.8%"
     ]
    },
    {
     "name": "stderr",
     "output_type": "stream",
     "text": [
      "[WARNING] 1 utterances containing language switches on lines 1\n",
      "[WARNING] extra phones may appear in the \"cmn\" phoneset\n",
      "[WARNING] language switch flags have been removed (applying \"remove-flags\" policy)\n"
     ]
    },
    {
     "name": "stdout",
     "output_type": "stream",
     "text": [
      "Building phoneme dictionary: █████▒░░░░░░░░░░░░░░░░░░░░░░░░░░░░░░░░░░░░░░░░░░░░░░░░░░░░░░░░░░░░░░░░░ 7.8%"
     ]
    },
    {
     "name": "stderr",
     "output_type": "stream",
     "text": [
      "[WARNING] 1 utterances containing language switches on lines 1\n",
      "[WARNING] extra phones may appear in the \"cmn\" phoneset\n",
      "[WARNING] language switch flags have been removed (applying \"remove-flags\" policy)\n"
     ]
    },
    {
     "name": "stdout",
     "output_type": "stream",
     "text": [
      "\r",
      "Building phoneme dictionary: █████▒░░░░░░░░░░░░░░░░░░░░░░░░░░░░░░░░░░░░░░░░░░░░░░░░░░░░░░░░░░░░░░░░░ 7.8%"
     ]
    },
    {
     "name": "stderr",
     "output_type": "stream",
     "text": [
      "[WARNING] 1 utterances containing language switches on lines 1\n",
      "[WARNING] extra phones may appear in the \"cmn\" phoneset\n",
      "[WARNING] language switch flags have been removed (applying \"remove-flags\" policy)\n"
     ]
    },
    {
     "name": "stdout",
     "output_type": "stream",
     "text": [
      "Building phoneme dictionary: █████▒░░░░░░░░░░░░░░░░░░░░░░░░░░░░░░░░░░░░░░░░░░░░░░░░░░░░░░░░░░░░░░░░░ 7.9%"
     ]
    },
    {
     "name": "stderr",
     "output_type": "stream",
     "text": [
      "[ERROR] espeak: No envelope\n",
      "[ERROR] espeak: No envelope\n",
      "[ERROR] espeak: No envelope\n"
     ]
    },
    {
     "name": "stdout",
     "output_type": "stream",
     "text": [
      "Building phoneme dictionary: █████▒░░░░░░░░░░░░░░░░░░░░░░░░░░░░░░░░░░░░░░░░░░░░░░░░░░░░░░░░░░░░░░░░░ 7.9%"
     ]
    },
    {
     "name": "stderr",
     "output_type": "stream",
     "text": [
      "[ERROR] espeak: No envelope\n"
     ]
    },
    {
     "name": "stdout",
     "output_type": "stream",
     "text": [
      "Building phoneme dictionary: █████▒░░░░░░░░░░░░░░░░░░░░░░░░░░░░░░░░░░░░░░░░░░░░░░░░░░░░░░░░░░░░░░░░░ 7.9%"
     ]
    },
    {
     "name": "stderr",
     "output_type": "stream",
     "text": [
      "[ERROR] espeak: No envelope\n",
      "[ERROR] espeak: No envelope\n",
      "[ERROR] espeak: No envelope\n",
      "[ERROR] espeak: No envelope\n",
      "[ERROR] espeak: No envelope\n",
      "[ERROR] espeak: No envelope\n",
      "[ERROR] espeak: No envelope\n",
      "[ERROR] espeak: No envelope\n"
     ]
    },
    {
     "name": "stdout",
     "output_type": "stream",
     "text": [
      "Building phoneme dictionary: █████▒░░░░░░░░░░░░░░░░░░░░░░░░░░░░░░░░░░░░░░░░░░░░░░░░░░░░░░░░░░░░░░░░░ 8.0%"
     ]
    },
    {
     "name": "stderr",
     "output_type": "stream",
     "text": [
      "[ERROR] espeak: No envelope\n",
      "[ERROR] espeak: No envelope\n",
      "[ERROR] espeak: No envelope\n",
      "[ERROR] espeak: No envelope\n"
     ]
    },
    {
     "name": "stdout",
     "output_type": "stream",
     "text": [
      "Building phoneme dictionary: █████▒░░░░░░░░░░░░░░░░░░░░░░░░░░░░░░░░░░░░░░░░░░░░░░░░░░░░░░░░░░░░░░░░░ 8.0%"
     ]
    },
    {
     "name": "stderr",
     "output_type": "stream",
     "text": [
      "[ERROR] espeak: No envelope\n",
      "[ERROR] espeak: No envelope\n",
      "[ERROR] espeak: No envelope\n",
      "[ERROR] espeak: No envelope\n",
      "[ERROR] espeak: No envelope\n",
      "[ERROR] espeak: No envelope\n",
      "[ERROR] espeak: No envelope\n",
      "[ERROR] espeak: No envelope\n",
      "[ERROR] espeak: No envelope\n",
      "[ERROR] espeak: No envelope\n",
      "[ERROR] espeak: No envelope\n",
      "[ERROR] espeak: No envelope\n",
      "[ERROR] espeak: No envelope\n",
      "[ERROR] espeak: No envelope\n",
      "[ERROR] espeak: No envelope\n",
      "[ERROR] espeak: No envelope\n",
      "[ERROR] espeak: No envelope\n",
      "[ERROR] espeak: No envelope\n",
      "[ERROR] espeak: No envelope\n",
      "[ERROR] espeak: No envelope\n",
      "[ERROR] espeak: No envelope\n",
      "[ERROR] espeak: No envelope\n",
      "[ERROR] espeak: No envelope\n",
      "[ERROR] espeak: No envelope\n",
      "[ERROR] espeak: No envelope\n",
      "[ERROR] espeak: No envelope\n",
      "[ERROR] espeak: No envelope\n",
      "[ERROR] espeak: No envelope\n",
      "[ERROR] espeak: No envelope\n",
      "[ERROR] espeak: No envelope\n",
      "[ERROR] espeak: No envelope\n",
      "[ERROR] espeak: No envelope\n",
      "[ERROR] espeak: No envelope\n",
      "[ERROR] espeak: No envelope\n",
      "[ERROR] espeak: No envelope\n",
      "[ERROR] espeak: No envelope\n",
      "[ERROR] espeak: No envelope\n",
      "[ERROR] espeak: No envelope\n",
      "[ERROR] espeak: No envelope\n",
      "[ERROR] espeak: No envelope\n",
      "[ERROR] espeak: No envelope\n",
      "[ERROR] espeak: No envelope\n",
      "[ERROR] espeak: No envelope\n",
      "[ERROR] espeak: No envelope\n",
      "[ERROR] espeak: No envelope\n",
      "[ERROR] espeak: No envelope\n",
      "[ERROR] espeak: No envelope\n",
      "[ERROR] espeak: No envelope\n",
      "[ERROR] espeak: No envelope\n",
      "[ERROR] espeak: No envelope\n",
      "[ERROR] espeak: No envelope\n",
      "[ERROR] espeak: No envelope\n",
      "[ERROR] espeak: No envelope\n",
      "[ERROR] espeak: No envelope\n",
      "[ERROR] espeak: No envelope\n",
      "[ERROR] espeak: No envelope\n",
      "[ERROR] espeak: No envelope\n",
      "[ERROR] espeak: No envelope\n",
      "[ERROR] espeak: No envelope\n"
     ]
    },
    {
     "name": "stdout",
     "output_type": "stream",
     "text": [
      "Building phoneme dictionary: █████▒░░░░░░░░░░░░░░░░░░░░░░░░░░░░░░░░░░░░░░░░░░░░░░░░░░░░░░░░░░░░░░░░░ 8.1%"
     ]
    },
    {
     "name": "stderr",
     "output_type": "stream",
     "text": [
      "[ERROR] espeak: No envelope\n",
      "[ERROR] espeak: No envelope\n",
      "[ERROR] espeak: No envelope\n",
      "[ERROR] espeak: No envelope\n"
     ]
    },
    {
     "name": "stdout",
     "output_type": "stream",
     "text": [
      "Building phoneme dictionary: █████▓░░░░░░░░░░░░░░░░░░░░░░░░░░░░░░░░░░░░░░░░░░░░░░░░░░░░░░░░░░░░░░░░░ 8.1%"
     ]
    },
    {
     "name": "stderr",
     "output_type": "stream",
     "text": [
      "[ERROR] espeak: No envelope\n",
      "[ERROR] espeak: No envelope\n",
      "[ERROR] espeak: No envelope\n",
      "[ERROR] espeak: No envelope\n"
     ]
    },
    {
     "name": "stdout",
     "output_type": "stream",
     "text": [
      "\r",
      "Building phoneme dictionary: █████▓░░░░░░░░░░░░░░░░░░░░░░░░░░░░░░░░░░░░░░░░░░░░░░░░░░░░░░░░░░░░░░░░░ 8.2%"
     ]
    },
    {
     "name": "stderr",
     "output_type": "stream",
     "text": [
      "[WARNING] 1 utterances containing language switches on lines 1\n",
      "[WARNING] extra phones may appear in the \"cmn\" phoneset\n",
      "[WARNING] language switch flags have been removed (applying \"remove-flags\" policy)\n"
     ]
    },
    {
     "name": "stdout",
     "output_type": "stream",
     "text": [
      "Building phoneme dictionary: █████▓░░░░░░░░░░░░░░░░░░░░░░░░░░░░░░░░░░░░░░░░░░░░░░░░░░░░░░░░░░░░░░░░░ 8.2%"
     ]
    },
    {
     "name": "stderr",
     "output_type": "stream",
     "text": [
      "[ERROR] espeak: No envelope\n",
      "[ERROR] espeak: No envelope\n",
      "[ERROR] espeak: No envelope\n",
      "[ERROR] espeak: No envelope\n"
     ]
    },
    {
     "name": "stdout",
     "output_type": "stream",
     "text": [
      "Building phoneme dictionary: █████▓░░░░░░░░░░░░░░░░░░░░░░░░░░░░░░░░░░░░░░░░░░░░░░░░░░░░░░░░░░░░░░░░░ 8.2%"
     ]
    },
    {
     "name": "stderr",
     "output_type": "stream",
     "text": [
      "[ERROR] espeak: No envelope\n",
      "[ERROR] espeak: No envelope\n",
      "[ERROR] espeak: No envelope\n",
      "[ERROR] espeak: No envelope\n",
      "[ERROR] espeak: No envelope\n",
      "[ERROR] espeak: No envelope\n"
     ]
    },
    {
     "name": "stdout",
     "output_type": "stream",
     "text": [
      "Building phoneme dictionary: █████▓░░░░░░░░░░░░░░░░░░░░░░░░░░░░░░░░░░░░░░░░░░░░░░░░░░░░░░░░░░░░░░░░░ 8.2%"
     ]
    },
    {
     "name": "stderr",
     "output_type": "stream",
     "text": [
      "[ERROR] espeak: No envelope\n",
      "[ERROR] espeak: No envelope\n",
      "[ERROR] espeak: No envelope\n",
      "[ERROR] espeak: No envelope\n",
      "[ERROR] espeak: No envelope\n"
     ]
    },
    {
     "name": "stdout",
     "output_type": "stream",
     "text": [
      "\r",
      "Building phoneme dictionary: █████▓░░░░░░░░░░░░░░░░░░░░░░░░░░░░░░░░░░░░░░░░░░░░░░░░░░░░░░░░░░░░░░░░░ 8.2%"
     ]
    },
    {
     "name": "stderr",
     "output_type": "stream",
     "text": [
      "[WARNING] 1 utterances containing language switches on lines 1\n",
      "[WARNING] extra phones may appear in the \"cmn\" phoneset\n",
      "[WARNING] language switch flags have been removed (applying \"remove-flags\" policy)\n"
     ]
    },
    {
     "name": "stdout",
     "output_type": "stream",
     "text": [
      "Building phoneme dictionary: █████▓░░░░░░░░░░░░░░░░░░░░░░░░░░░░░░░░░░░░░░░░░░░░░░░░░░░░░░░░░░░░░░░░░ 8.3%"
     ]
    },
    {
     "name": "stderr",
     "output_type": "stream",
     "text": [
      "[ERROR] espeak: No envelope\n",
      "[ERROR] espeak: No envelope\n"
     ]
    },
    {
     "name": "stdout",
     "output_type": "stream",
     "text": [
      "Building phoneme dictionary: █████▓░░░░░░░░░░░░░░░░░░░░░░░░░░░░░░░░░░░░░░░░░░░░░░░░░░░░░░░░░░░░░░░░░ 8.3%"
     ]
    },
    {
     "name": "stderr",
     "output_type": "stream",
     "text": [
      "[WARNING] 1 utterances containing language switches on lines 1\n",
      "[WARNING] extra phones may appear in the \"cmn\" phoneset\n",
      "[WARNING] language switch flags have been removed (applying \"remove-flags\" policy)\n"
     ]
    },
    {
     "name": "stdout",
     "output_type": "stream",
     "text": [
      "Building phoneme dictionary: █████▓░░░░░░░░░░░░░░░░░░░░░░░░░░░░░░░░░░░░░░░░░░░░░░░░░░░░░░░░░░░░░░░░░ 8.3%"
     ]
    },
    {
     "name": "stderr",
     "output_type": "stream",
     "text": [
      "[ERROR] espeak: No envelope\n",
      "[ERROR] espeak: No envelope\n",
      "[ERROR] espeak: No envelope\n",
      "[ERROR] espeak: No envelope\n",
      "[ERROR] espeak: No envelope\n"
     ]
    },
    {
     "name": "stdout",
     "output_type": "stream",
     "text": [
      "Building phoneme dictionary: █████▓░░░░░░░░░░░░░░░░░░░░░░░░░░░░░░░░░░░░░░░░░░░░░░░░░░░░░░░░░░░░░░░░░ 8.4%"
     ]
    },
    {
     "name": "stderr",
     "output_type": "stream",
     "text": [
      "[ERROR] espeak: No envelope\n",
      "[ERROR] espeak: No envelope\n",
      "[ERROR] espeak: No envelope\n",
      "[ERROR] espeak: No envelope\n",
      "[ERROR] espeak: No envelope\n",
      "[ERROR] espeak: No envelope\n",
      "[ERROR] espeak: No envelope\n",
      "[ERROR] espeak: No envelope\n",
      "[ERROR] espeak: No envelope\n"
     ]
    },
    {
     "name": "stdout",
     "output_type": "stream",
     "text": [
      "Building phoneme dictionary: █████▓░░░░░░░░░░░░░░░░░░░░░░░░░░░░░░░░░░░░░░░░░░░░░░░░░░░░░░░░░░░░░░░░░ 8.4%"
     ]
    },
    {
     "name": "stderr",
     "output_type": "stream",
     "text": [
      "[ERROR] espeak: No envelope\n",
      "[ERROR] espeak: No envelope\n"
     ]
    },
    {
     "name": "stdout",
     "output_type": "stream",
     "text": [
      "Building phoneme dictionary: █████▓░░░░░░░░░░░░░░░░░░░░░░░░░░░░░░░░░░░░░░░░░░░░░░░░░░░░░░░░░░░░░░░░░ 8.4%"
     ]
    },
    {
     "name": "stderr",
     "output_type": "stream",
     "text": [
      "[WARNING] 1 utterances containing language switches on lines 1\n",
      "[WARNING] extra phones may appear in the \"cmn\" phoneset\n",
      "[WARNING] language switch flags have been removed (applying \"remove-flags\" policy)\n"
     ]
    },
    {
     "name": "stdout",
     "output_type": "stream",
     "text": [
      "\r",
      "Building phoneme dictionary: █████▓░░░░░░░░░░░░░░░░░░░░░░░░░░░░░░░░░░░░░░░░░░░░░░░░░░░░░░░░░░░░░░░░░ 8.4%"
     ]
    },
    {
     "name": "stderr",
     "output_type": "stream",
     "text": [
      "[ERROR] espeak: No envelope\n",
      "[ERROR] espeak: No envelope\n",
      "[ERROR] espeak: No envelope\n",
      "[ERROR] espeak: No envelope\n",
      "[ERROR] espeak: No envelope\n"
     ]
    },
    {
     "name": "stdout",
     "output_type": "stream",
     "text": [
      "\r",
      "Building phoneme dictionary: █████▓░░░░░░░░░░░░░░░░░░░░░░░░░░░░░░░░░░░░░░░░░░░░░░░░░░░░░░░░░░░░░░░░░ 8.4%"
     ]
    },
    {
     "name": "stderr",
     "output_type": "stream",
     "text": [
      "[ERROR] espeak: No envelope\n",
      "[ERROR] espeak: No envelope\n",
      "[ERROR] espeak: No envelope\n",
      "[ERROR] espeak: No envelope\n",
      "[ERROR] espeak: No envelope\n",
      "[ERROR] espeak: No envelope\n"
     ]
    },
    {
     "name": "stdout",
     "output_type": "stream",
     "text": [
      "Building phoneme dictionary: █████▓░░░░░░░░░░░░░░░░░░░░░░░░░░░░░░░░░░░░░░░░░░░░░░░░░░░░░░░░░░░░░░░░░ 8.5%"
     ]
    },
    {
     "name": "stderr",
     "output_type": "stream",
     "text": [
      "[ERROR] espeak: No envelope\n",
      "[ERROR] espeak: No envelope\n",
      "[ERROR] espeak: No envelope\n",
      "[ERROR] espeak: No envelope\n"
     ]
    },
    {
     "name": "stdout",
     "output_type": "stream",
     "text": [
      "Building phoneme dictionary: █████▓░░░░░░░░░░░░░░░░░░░░░░░░░░░░░░░░░░░░░░░░░░░░░░░░░░░░░░░░░░░░░░░░░ 8.5%"
     ]
    },
    {
     "name": "stderr",
     "output_type": "stream",
     "text": [
      "[WARNING] 1 utterances containing language switches on lines 1\n",
      "[WARNING] extra phones may appear in the \"cmn\" phoneset\n",
      "[WARNING] language switch flags have been removed (applying \"remove-flags\" policy)\n"
     ]
    },
    {
     "name": "stdout",
     "output_type": "stream",
     "text": [
      "Building phoneme dictionary: █████▓░░░░░░░░░░░░░░░░░░░░░░░░░░░░░░░░░░░░░░░░░░░░░░░░░░░░░░░░░░░░░░░░░ 8.5%"
     ]
    },
    {
     "name": "stderr",
     "output_type": "stream",
     "text": [
      "[ERROR] espeak: No envelope\n",
      "[ERROR] espeak: No envelope\n"
     ]
    },
    {
     "name": "stdout",
     "output_type": "stream",
     "text": [
      "\r",
      "Building phoneme dictionary: █████▓░░░░░░░░░░░░░░░░░░░░░░░░░░░░░░░░░░░░░░░░░░░░░░░░░░░░░░░░░░░░░░░░░ 8.5%"
     ]
    },
    {
     "name": "stderr",
     "output_type": "stream",
     "text": [
      "[ERROR] espeak: No envelope\n",
      "[ERROR] espeak: No envelope\n",
      "[ERROR] espeak: No envelope\n",
      "[ERROR] espeak: No envelope\n",
      "[ERROR] espeak: No envelope\n",
      "[ERROR] espeak: No envelope\n"
     ]
    },
    {
     "name": "stdout",
     "output_type": "stream",
     "text": [
      "Building phoneme dictionary: █████▓░░░░░░░░░░░░░░░░░░░░░░░░░░░░░░░░░░░░░░░░░░░░░░░░░░░░░░░░░░░░░░░░░ 8.5%"
     ]
    },
    {
     "name": "stderr",
     "output_type": "stream",
     "text": [
      "[ERROR] espeak: No envelope\n",
      "[ERROR] espeak: No envelope\n",
      "[ERROR] espeak: No envelope\n",
      "[ERROR] espeak: No envelope\n"
     ]
    },
    {
     "name": "stdout",
     "output_type": "stream",
     "text": [
      "\r",
      "Building phoneme dictionary: █████▓░░░░░░░░░░░░░░░░░░░░░░░░░░░░░░░░░░░░░░░░░░░░░░░░░░░░░░░░░░░░░░░░░ 8.6%"
     ]
    },
    {
     "name": "stderr",
     "output_type": "stream",
     "text": [
      "[WARNING] 1 utterances containing language switches on lines 1\n",
      "[WARNING] extra phones may appear in the \"cmn\" phoneset\n",
      "[WARNING] language switch flags have been removed (applying \"remove-flags\" policy)\n"
     ]
    },
    {
     "name": "stdout",
     "output_type": "stream",
     "text": [
      "Building phoneme dictionary: ██████░░░░░░░░░░░░░░░░░░░░░░░░░░░░░░░░░░░░░░░░░░░░░░░░░░░░░░░░░░░░░░░░░ 8.6%"
     ]
    },
    {
     "name": "stderr",
     "output_type": "stream",
     "text": [
      "[ERROR] espeak: No envelope\n",
      "[ERROR] espeak: No envelope\n",
      "[ERROR] espeak: No envelope\n",
      "[ERROR] espeak: No envelope\n",
      "[ERROR] espeak: No envelope\n"
     ]
    },
    {
     "name": "stdout",
     "output_type": "stream",
     "text": [
      "\r",
      "Building phoneme dictionary: ██████░░░░░░░░░░░░░░░░░░░░░░░░░░░░░░░░░░░░░░░░░░░░░░░░░░░░░░░░░░░░░░░░░ 8.6%"
     ]
    },
    {
     "name": "stderr",
     "output_type": "stream",
     "text": [
      "[ERROR] espeak: No envelope\n",
      "[ERROR] espeak: No envelope\n",
      "[ERROR] espeak: No envelope\n",
      "[ERROR] espeak: No envelope\n",
      "[ERROR] espeak: No envelope\n",
      "[ERROR] espeak: No envelope\n",
      "[ERROR] espeak: No envelope\n",
      "[ERROR] espeak: No envelope\n",
      "[ERROR] espeak: No envelope\n",
      "[ERROR] espeak: No envelope\n"
     ]
    },
    {
     "name": "stdout",
     "output_type": "stream",
     "text": [
      "Building phoneme dictionary: ██████░░░░░░░░░░░░░░░░░░░░░░░░░░░░░░░░░░░░░░░░░░░░░░░░░░░░░░░░░░░░░░░░░ 8.6%"
     ]
    },
    {
     "name": "stderr",
     "output_type": "stream",
     "text": [
      "[WARNING] 1 utterances containing language switches on lines 1\n",
      "[WARNING] extra phones may appear in the \"cmn\" phoneset\n",
      "[WARNING] language switch flags have been removed (applying \"remove-flags\" policy)\n"
     ]
    },
    {
     "name": "stdout",
     "output_type": "stream",
     "text": [
      "Building phoneme dictionary: ██████░░░░░░░░░░░░░░░░░░░░░░░░░░░░░░░░░░░░░░░░░░░░░░░░░░░░░░░░░░░░░░░░░ 8.7%"
     ]
    },
    {
     "name": "stderr",
     "output_type": "stream",
     "text": [
      "[ERROR] espeak: No envelope\n",
      "[ERROR] espeak: No envelope\n",
      "[ERROR] espeak: No envelope\n",
      "[ERROR] espeak: No envelope\n"
     ]
    },
    {
     "name": "stdout",
     "output_type": "stream",
     "text": [
      "Building phoneme dictionary: ██████░░░░░░░░░░░░░░░░░░░░░░░░░░░░░░░░░░░░░░░░░░░░░░░░░░░░░░░░░░░░░░░░░ 8.7%"
     ]
    },
    {
     "name": "stderr",
     "output_type": "stream",
     "text": [
      "[ERROR] espeak: No envelope\n",
      "[ERROR] espeak: No envelope\n",
      "[ERROR] espeak: No envelope\n",
      "[ERROR] espeak: No envelope\n"
     ]
    },
    {
     "name": "stdout",
     "output_type": "stream",
     "text": [
      "Building phoneme dictionary: ██████░░░░░░░░░░░░░░░░░░░░░░░░░░░░░░░░░░░░░░░░░░░░░░░░░░░░░░░░░░░░░░░░░ 8.7%"
     ]
    },
    {
     "name": "stderr",
     "output_type": "stream",
     "text": [
      "[WARNING] 1 utterances containing language switches on lines 1\n",
      "[WARNING] extra phones may appear in the \"cmn\" phoneset\n",
      "[WARNING] language switch flags have been removed (applying \"remove-flags\" policy)\n"
     ]
    },
    {
     "name": "stdout",
     "output_type": "stream",
     "text": [
      "Building phoneme dictionary: ██████░░░░░░░░░░░░░░░░░░░░░░░░░░░░░░░░░░░░░░░░░░░░░░░░░░░░░░░░░░░░░░░░░ 8.7%"
     ]
    },
    {
     "name": "stderr",
     "output_type": "stream",
     "text": [
      "[ERROR] espeak: No envelope\n",
      "[ERROR] espeak: No envelope\n",
      "[ERROR] espeak: No envelope\n",
      "[ERROR] espeak: No envelope\n"
     ]
    },
    {
     "name": "stdout",
     "output_type": "stream",
     "text": [
      "Building phoneme dictionary: ██████░░░░░░░░░░░░░░░░░░░░░░░░░░░░░░░░░░░░░░░░░░░░░░░░░░░░░░░░░░░░░░░░░ 8.7%"
     ]
    },
    {
     "name": "stderr",
     "output_type": "stream",
     "text": [
      "[ERROR] espeak: No envelope\n",
      "[ERROR] espeak: No envelope\n"
     ]
    },
    {
     "name": "stdout",
     "output_type": "stream",
     "text": [
      "Building phoneme dictionary: ██████░░░░░░░░░░░░░░░░░░░░░░░░░░░░░░░░░░░░░░░░░░░░░░░░░░░░░░░░░░░░░░░░░ 8.8%"
     ]
    },
    {
     "name": "stderr",
     "output_type": "stream",
     "text": [
      "[WARNING] 1 utterances containing language switches on lines 1\n",
      "[WARNING] extra phones may appear in the \"cmn\" phoneset\n",
      "[WARNING] language switch flags have been removed (applying \"remove-flags\" policy)\n"
     ]
    },
    {
     "name": "stdout",
     "output_type": "stream",
     "text": [
      "\r",
      "Building phoneme dictionary: ██████░░░░░░░░░░░░░░░░░░░░░░░░░░░░░░░░░░░░░░░░░░░░░░░░░░░░░░░░░░░░░░░░░ 8.8%"
     ]
    },
    {
     "name": "stderr",
     "output_type": "stream",
     "text": [
      "[ERROR] espeak: No envelope\n",
      "[ERROR] espeak: No envelope\n",
      "[ERROR] espeak: No envelope\n",
      "[ERROR] espeak: No envelope\n"
     ]
    },
    {
     "name": "stdout",
     "output_type": "stream",
     "text": [
      "Building phoneme dictionary: ██████░░░░░░░░░░░░░░░░░░░░░░░░░░░░░░░░░░░░░░░░░░░░░░░░░░░░░░░░░░░░░░░░░ 8.8%"
     ]
    },
    {
     "name": "stderr",
     "output_type": "stream",
     "text": [
      "[ERROR] espeak: No envelope\n",
      "[ERROR] espeak: No envelope\n"
     ]
    },
    {
     "name": "stdout",
     "output_type": "stream",
     "text": [
      "Building phoneme dictionary: ██████░░░░░░░░░░░░░░░░░░░░░░░░░░░░░░░░░░░░░░░░░░░░░░░░░░░░░░░░░░░░░░░░░ 8.9%"
     ]
    },
    {
     "name": "stderr",
     "output_type": "stream",
     "text": [
      "[ERROR] espeak: No envelope\n",
      "[ERROR] espeak: No envelope\n",
      "[ERROR] espeak: No envelope\n",
      "[ERROR] espeak: No envelope\n",
      "[ERROR] espeak: No envelope\n",
      "[ERROR] espeak: No envelope\n",
      "[ERROR] espeak: No envelope\n",
      "[ERROR] espeak: No envelope\n",
      "[ERROR] espeak: No envelope\n"
     ]
    },
    {
     "name": "stdout",
     "output_type": "stream",
     "text": [
      "\r",
      "Building phoneme dictionary: ██████░░░░░░░░░░░░░░░░░░░░░░░░░░░░░░░░░░░░░░░░░░░░░░░░░░░░░░░░░░░░░░░░░ 8.9%"
     ]
    },
    {
     "name": "stderr",
     "output_type": "stream",
     "text": [
      "[ERROR] espeak: No envelope\n",
      "[ERROR] espeak: No envelope\n",
      "[ERROR] espeak: No envelope\n",
      "[ERROR] espeak: No envelope\n",
      "[ERROR] espeak: No envelope\n",
      "[ERROR] espeak: No envelope\n",
      "[ERROR] espeak: No envelope\n"
     ]
    },
    {
     "name": "stdout",
     "output_type": "stream",
     "text": [
      "Building phoneme dictionary: ██████░░░░░░░░░░░░░░░░░░░░░░░░░░░░░░░░░░░░░░░░░░░░░░░░░░░░░░░░░░░░░░░░░ 8.9%"
     ]
    },
    {
     "name": "stderr",
     "output_type": "stream",
     "text": [
      "[WARNING] 1 utterances containing language switches on lines 1\n",
      "[WARNING] extra phones may appear in the \"cmn\" phoneset\n",
      "[WARNING] language switch flags have been removed (applying \"remove-flags\" policy)\n"
     ]
    },
    {
     "name": "stdout",
     "output_type": "stream",
     "text": [
      "Building phoneme dictionary: ██████░░░░░░░░░░░░░░░░░░░░░░░░░░░░░░░░░░░░░░░░░░░░░░░░░░░░░░░░░░░░░░░░░ 8.9%"
     ]
    },
    {
     "name": "stderr",
     "output_type": "stream",
     "text": [
      "[WARNING] 1 utterances containing language switches on lines 1\n",
      "[WARNING] extra phones may appear in the \"cmn\" phoneset\n",
      "[WARNING] language switch flags have been removed (applying \"remove-flags\" policy)\n",
      "[ERROR] espeak: No envelope\n",
      "[ERROR] espeak: No envelope\n",
      "[WARNING] 1 utterances containing language switches on lines 1\n",
      "[WARNING] extra phones may appear in the \"cmn\" phoneset\n",
      "[WARNING] language switch flags have been removed (applying \"remove-flags\" policy)\n"
     ]
    },
    {
     "name": "stdout",
     "output_type": "stream",
     "text": [
      "\r",
      "Building phoneme dictionary: ██████░░░░░░░░░░░░░░░░░░░░░░░░░░░░░░░░░░░░░░░░░░░░░░░░░░░░░░░░░░░░░░░░░ 9.0%"
     ]
    },
    {
     "name": "stderr",
     "output_type": "stream",
     "text": [
      "[ERROR] espeak: No envelope\n",
      "[ERROR] espeak: No envelope\n",
      "[ERROR] espeak: No envelope\n"
     ]
    },
    {
     "name": "stdout",
     "output_type": "stream",
     "text": [
      "Building phoneme dictionary: ██████░░░░░░░░░░░░░░░░░░░░░░░░░░░░░░░░░░░░░░░░░░░░░░░░░░░░░░░░░░░░░░░░░ 9.0%"
     ]
    },
    {
     "name": "stderr",
     "output_type": "stream",
     "text": [
      "[ERROR] espeak: No envelope\n",
      "[ERROR] espeak: No envelope\n",
      "[ERROR] espeak: No envelope\n",
      "[ERROR] espeak: No envelope\n",
      "[ERROR] espeak: No envelope\n"
     ]
    },
    {
     "name": "stdout",
     "output_type": "stream",
     "text": [
      "Building phoneme dictionary: ██████░░░░░░░░░░░░░░░░░░░░░░░░░░░░░░░░░░░░░░░░░░░░░░░░░░░░░░░░░░░░░░░░░ 9.0%"
     ]
    },
    {
     "name": "stderr",
     "output_type": "stream",
     "text": [
      "[ERROR] espeak: No envelope\n",
      "[ERROR] espeak: No envelope\n",
      "[ERROR] espeak: No envelope\n",
      "[ERROR] espeak: No envelope\n",
      "[ERROR] espeak: No envelope\n"
     ]
    },
    {
     "name": "stdout",
     "output_type": "stream",
     "text": [
      "Building phoneme dictionary: ██████▒░░░░░░░░░░░░░░░░░░░░░░░░░░░░░░░░░░░░░░░░░░░░░░░░░░░░░░░░░░░░░░░░ 9.1%"
     ]
    },
    {
     "name": "stderr",
     "output_type": "stream",
     "text": [
      "[WARNING] 1 utterances containing language switches on lines 1\n",
      "[WARNING] extra phones may appear in the \"cmn\" phoneset\n",
      "[WARNING] language switch flags have been removed (applying \"remove-flags\" policy)\n"
     ]
    },
    {
     "name": "stdout",
     "output_type": "stream",
     "text": [
      "Building phoneme dictionary: ██████▒░░░░░░░░░░░░░░░░░░░░░░░░░░░░░░░░░░░░░░░░░░░░░░░░░░░░░░░░░░░░░░░░ 9.1%"
     ]
    },
    {
     "name": "stderr",
     "output_type": "stream",
     "text": [
      "[WARNING] 1 utterances containing language switches on lines 1\n",
      "[WARNING] extra phones may appear in the \"cmn\" phoneset\n",
      "[WARNING] language switch flags have been removed (applying \"remove-flags\" policy)\n"
     ]
    },
    {
     "name": "stdout",
     "output_type": "stream",
     "text": [
      "Building phoneme dictionary: ██████▒░░░░░░░░░░░░░░░░░░░░░░░░░░░░░░░░░░░░░░░░░░░░░░░░░░░░░░░░░░░░░░░░ 9.1%"
     ]
    },
    {
     "name": "stderr",
     "output_type": "stream",
     "text": [
      "[ERROR] espeak: No envelope\n",
      "[ERROR] espeak: No envelope\n",
      "[ERROR] espeak: No envelope\n",
      "[ERROR] espeak: No envelope\n",
      "[ERROR] espeak: No envelope\n"
     ]
    },
    {
     "name": "stdout",
     "output_type": "stream",
     "text": [
      "Building phoneme dictionary: ██████▒░░░░░░░░░░░░░░░░░░░░░░░░░░░░░░░░░░░░░░░░░░░░░░░░░░░░░░░░░░░░░░░░ 9.2%"
     ]
    },
    {
     "name": "stderr",
     "output_type": "stream",
     "text": [
      "[WARNING] 1 utterances containing language switches on lines 1\n",
      "[WARNING] extra phones may appear in the \"cmn\" phoneset\n",
      "[WARNING] language switch flags have been removed (applying \"remove-flags\" policy)\n"
     ]
    },
    {
     "name": "stdout",
     "output_type": "stream",
     "text": [
      "Building phoneme dictionary: ██████▒░░░░░░░░░░░░░░░░░░░░░░░░░░░░░░░░░░░░░░░░░░░░░░░░░░░░░░░░░░░░░░░░ 9.2%"
     ]
    },
    {
     "name": "stderr",
     "output_type": "stream",
     "text": [
      "[ERROR] espeak: No envelope\n",
      "[ERROR] espeak: No envelope\n",
      "[ERROR] espeak: No envelope\n",
      "[ERROR] espeak: No envelope\n",
      "[ERROR] espeak: No envelope\n"
     ]
    },
    {
     "name": "stdout",
     "output_type": "stream",
     "text": [
      "Building phoneme dictionary: ██████▒░░░░░░░░░░░░░░░░░░░░░░░░░░░░░░░░░░░░░░░░░░░░░░░░░░░░░░░░░░░░░░░░ 9.2%"
     ]
    },
    {
     "name": "stderr",
     "output_type": "stream",
     "text": [
      "[ERROR] espeak: No envelope\n",
      "[ERROR] espeak: No envelope\n",
      "[ERROR] espeak: No envelope\n"
     ]
    },
    {
     "name": "stdout",
     "output_type": "stream",
     "text": [
      "Building phoneme dictionary: ██████▒░░░░░░░░░░░░░░░░░░░░░░░░░░░░░░░░░░░░░░░░░░░░░░░░░░░░░░░░░░░░░░░░ 9.2%"
     ]
    },
    {
     "name": "stderr",
     "output_type": "stream",
     "text": [
      "[ERROR] espeak: No envelope\n",
      "[ERROR] espeak: No envelope\n",
      "[ERROR] espeak: No envelope\n",
      "[ERROR] espeak: No envelope\n",
      "[ERROR] espeak: No envelope\n"
     ]
    },
    {
     "name": "stdout",
     "output_type": "stream",
     "text": [
      "Building phoneme dictionary: ██████▒░░░░░░░░░░░░░░░░░░░░░░░░░░░░░░░░░░░░░░░░░░░░░░░░░░░░░░░░░░░░░░░░ 9.3%"
     ]
    },
    {
     "name": "stderr",
     "output_type": "stream",
     "text": [
      "[ERROR] espeak: No envelope\n",
      "[ERROR] espeak: No envelope\n",
      "[ERROR] espeak: No envelope\n",
      "[WARNING] 1 utterances containing language switches on lines 1\n",
      "[WARNING] extra phones may appear in the \"cmn\" phoneset\n",
      "[WARNING] language switch flags have been removed (applying \"remove-flags\" policy)\n"
     ]
    },
    {
     "name": "stdout",
     "output_type": "stream",
     "text": [
      "Building phoneme dictionary: ██████▒░░░░░░░░░░░░░░░░░░░░░░░░░░░░░░░░░░░░░░░░░░░░░░░░░░░░░░░░░░░░░░░░ 9.3%"
     ]
    },
    {
     "name": "stderr",
     "output_type": "stream",
     "text": [
      "[WARNING] 1 utterances containing language switches on lines 1\n",
      "[WARNING] extra phones may appear in the \"cmn\" phoneset\n",
      "[WARNING] language switch flags have been removed (applying \"remove-flags\" policy)\n"
     ]
    },
    {
     "name": "stdout",
     "output_type": "stream",
     "text": [
      "Building phoneme dictionary: ██████▒░░░░░░░░░░░░░░░░░░░░░░░░░░░░░░░░░░░░░░░░░░░░░░░░░░░░░░░░░░░░░░░░ 9.3%"
     ]
    },
    {
     "name": "stderr",
     "output_type": "stream",
     "text": [
      "[WARNING] 1 utterances containing language switches on lines 1\n",
      "[WARNING] extra phones may appear in the \"cmn\" phoneset\n",
      "[WARNING] language switch flags have been removed (applying \"remove-flags\" policy)\n"
     ]
    },
    {
     "name": "stdout",
     "output_type": "stream",
     "text": [
      "\r",
      "Building phoneme dictionary: ██████▒░░░░░░░░░░░░░░░░░░░░░░░░░░░░░░░░░░░░░░░░░░░░░░░░░░░░░░░░░░░░░░░░ 9.3%"
     ]
    },
    {
     "name": "stderr",
     "output_type": "stream",
     "text": [
      "[ERROR] espeak: No envelope\n",
      "[ERROR] espeak: No envelope\n",
      "[ERROR] espeak: No envelope\n",
      "[ERROR] espeak: No envelope\n",
      "[ERROR] espeak: No envelope\n",
      "[ERROR] espeak: No envelope\n",
      "[ERROR] espeak: No envelope\n",
      "[ERROR] espeak: No envelope\n",
      "[ERROR] espeak: No envelope\n",
      "[ERROR] espeak: No envelope\n"
     ]
    },
    {
     "name": "stdout",
     "output_type": "stream",
     "text": [
      "Building phoneme dictionary: ██████▒░░░░░░░░░░░░░░░░░░░░░░░░░░░░░░░░░░░░░░░░░░░░░░░░░░░░░░░░░░░░░░░░ 9.4%"
     ]
    },
    {
     "name": "stderr",
     "output_type": "stream",
     "text": [
      "[WARNING] 1 utterances containing language switches on lines 1\n",
      "[WARNING] extra phones may appear in the \"cmn\" phoneset\n",
      "[WARNING] language switch flags have been removed (applying \"remove-flags\" policy)\n"
     ]
    },
    {
     "name": "stdout",
     "output_type": "stream",
     "text": [
      "\r",
      "Building phoneme dictionary: ██████▒░░░░░░░░░░░░░░░░░░░░░░░░░░░░░░░░░░░░░░░░░░░░░░░░░░░░░░░░░░░░░░░░ 9.4%"
     ]
    },
    {
     "name": "stderr",
     "output_type": "stream",
     "text": [
      "[ERROR] espeak: No envelope\n",
      "[ERROR] espeak: No envelope\n",
      "[ERROR] espeak: No envelope\n",
      "[ERROR] espeak: No envelope\n"
     ]
    },
    {
     "name": "stdout",
     "output_type": "stream",
     "text": [
      "\r",
      "Building phoneme dictionary: ██████▒░░░░░░░░░░░░░░░░░░░░░░░░░░░░░░░░░░░░░░░░░░░░░░░░░░░░░░░░░░░░░░░░ 9.4%"
     ]
    },
    {
     "name": "stderr",
     "output_type": "stream",
     "text": [
      "[WARNING] 1 utterances containing language switches on lines 1\n",
      "[WARNING] extra phones may appear in the \"cmn\" phoneset\n",
      "[WARNING] language switch flags have been removed (applying \"remove-flags\" policy)\n",
      "[WARNING] 1 utterances containing language switches on lines 1\n",
      "[WARNING] extra phones may appear in the \"cmn\" phoneset\n",
      "[WARNING] language switch flags have been removed (applying \"remove-flags\" policy)\n"
     ]
    },
    {
     "name": "stdout",
     "output_type": "stream",
     "text": [
      "Building phoneme dictionary: ██████▒░░░░░░░░░░░░░░░░░░░░░░░░░░░░░░░░░░░░░░░░░░░░░░░░░░░░░░░░░░░░░░░░ 9.5%"
     ]
    },
    {
     "name": "stderr",
     "output_type": "stream",
     "text": [
      "[WARNING] 1 utterances containing language switches on lines 1\n",
      "[WARNING] extra phones may appear in the \"cmn\" phoneset\n",
      "[WARNING] language switch flags have been removed (applying \"remove-flags\" policy)\n"
     ]
    },
    {
     "name": "stdout",
     "output_type": "stream",
     "text": [
      "\r",
      "Building phoneme dictionary: ██████▒░░░░░░░░░░░░░░░░░░░░░░░░░░░░░░░░░░░░░░░░░░░░░░░░░░░░░░░░░░░░░░░░ 9.5%"
     ]
    },
    {
     "name": "stderr",
     "output_type": "stream",
     "text": [
      "[ERROR] espeak: No envelope\n",
      "[ERROR] espeak: No envelope\n",
      "[ERROR] espeak: No envelope\n",
      "[ERROR] espeak: No envelope\n",
      "[ERROR] espeak: No envelope\n"
     ]
    },
    {
     "name": "stdout",
     "output_type": "stream",
     "text": [
      "\r",
      "Building phoneme dictionary: ██████▒░░░░░░░░░░░░░░░░░░░░░░░░░░░░░░░░░░░░░░░░░░░░░░░░░░░░░░░░░░░░░░░░ 9.5%"
     ]
    },
    {
     "name": "stderr",
     "output_type": "stream",
     "text": [
      "[ERROR] espeak: No envelope\n",
      "[ERROR] espeak: No envelope\n",
      "[ERROR] espeak: No envelope\n"
     ]
    },
    {
     "name": "stdout",
     "output_type": "stream",
     "text": [
      "Building phoneme dictionary: ██████▒░░░░░░░░░░░░░░░░░░░░░░░░░░░░░░░░░░░░░░░░░░░░░░░░░░░░░░░░░░░░░░░░ 9.5%"
     ]
    },
    {
     "name": "stderr",
     "output_type": "stream",
     "text": [
      "[WARNING] 1 utterances containing language switches on lines 1\n",
      "[WARNING] extra phones may appear in the \"cmn\" phoneset\n",
      "[WARNING] language switch flags have been removed (applying \"remove-flags\" policy)\n"
     ]
    },
    {
     "name": "stdout",
     "output_type": "stream",
     "text": [
      "Building phoneme dictionary: ██████▓░░░░░░░░░░░░░░░░░░░░░░░░░░░░░░░░░░░░░░░░░░░░░░░░░░░░░░░░░░░░░░░░ 9.5%"
     ]
    },
    {
     "name": "stderr",
     "output_type": "stream",
     "text": [
      "[WARNING] 1 utterances containing language switches on lines 1\n",
      "[WARNING] extra phones may appear in the \"cmn\" phoneset\n",
      "[WARNING] language switch flags have been removed (applying \"remove-flags\" policy)\n"
     ]
    },
    {
     "name": "stdout",
     "output_type": "stream",
     "text": [
      "\r",
      "Building phoneme dictionary: ██████▓░░░░░░░░░░░░░░░░░░░░░░░░░░░░░░░░░░░░░░░░░░░░░░░░░░░░░░░░░░░░░░░░ 9.6%"
     ]
    },
    {
     "name": "stderr",
     "output_type": "stream",
     "text": [
      "[WARNING] 1 utterances containing language switches on lines 1\n",
      "[WARNING] extra phones may appear in the \"cmn\" phoneset\n",
      "[WARNING] language switch flags have been removed (applying \"remove-flags\" policy)\n"
     ]
    },
    {
     "name": "stdout",
     "output_type": "stream",
     "text": [
      "Building phoneme dictionary: ██████▓░░░░░░░░░░░░░░░░░░░░░░░░░░░░░░░░░░░░░░░░░░░░░░░░░░░░░░░░░░░░░░░░ 9.6%"
     ]
    },
    {
     "name": "stderr",
     "output_type": "stream",
     "text": [
      "[ERROR] espeak: No envelope\n",
      "[ERROR] espeak: No envelope\n"
     ]
    },
    {
     "name": "stdout",
     "output_type": "stream",
     "text": [
      "\r",
      "Building phoneme dictionary: ██████▓░░░░░░░░░░░░░░░░░░░░░░░░░░░░░░░░░░░░░░░░░░░░░░░░░░░░░░░░░░░░░░░░ 9.6%"
     ]
    },
    {
     "name": "stderr",
     "output_type": "stream",
     "text": [
      "[ERROR] espeak: No envelope\n",
      "[ERROR] espeak: No envelope\n",
      "[ERROR] espeak: No envelope\n",
      "[ERROR] espeak: No envelope\n",
      "[ERROR] espeak: No envelope\n",
      "[ERROR] espeak: No envelope\n"
     ]
    },
    {
     "name": "stdout",
     "output_type": "stream",
     "text": [
      "\r",
      "Building phoneme dictionary: ██████▓░░░░░░░░░░░░░░░░░░░░░░░░░░░░░░░░░░░░░░░░░░░░░░░░░░░░░░░░░░░░░░░░ 9.6%"
     ]
    },
    {
     "name": "stderr",
     "output_type": "stream",
     "text": [
      "[ERROR] espeak: No envelope\n",
      "[ERROR] espeak: No envelope\n",
      "[ERROR] espeak: No envelope\n",
      "[ERROR] espeak: No envelope\n",
      "[ERROR] espeak: No envelope\n",
      "[ERROR] espeak: No envelope\n",
      "[ERROR] espeak: No envelope\n",
      "[ERROR] espeak: No envelope\n"
     ]
    },
    {
     "name": "stdout",
     "output_type": "stream",
     "text": [
      "Building phoneme dictionary: ██████▓░░░░░░░░░░░░░░░░░░░░░░░░░░░░░░░░░░░░░░░░░░░░░░░░░░░░░░░░░░░░░░░░ 9.6%"
     ]
    },
    {
     "name": "stderr",
     "output_type": "stream",
     "text": [
      "[ERROR] espeak: No envelope\n",
      "[ERROR] espeak: No envelope\n",
      "[ERROR] espeak: No envelope\n",
      "[ERROR] espeak: No envelope\n",
      "[ERROR] espeak: No envelope\n"
     ]
    },
    {
     "name": "stdout",
     "output_type": "stream",
     "text": [
      "Building phoneme dictionary: ██████▓░░░░░░░░░░░░░░░░░░░░░░░░░░░░░░░░░░░░░░░░░░░░░░░░░░░░░░░░░░░░░░░░ 9.7%"
     ]
    },
    {
     "name": "stderr",
     "output_type": "stream",
     "text": [
      "[WARNING] 1 utterances containing language switches on lines 1\n",
      "[WARNING] extra phones may appear in the \"cmn\" phoneset\n",
      "[WARNING] language switch flags have been removed (applying \"remove-flags\" policy)\n"
     ]
    },
    {
     "name": "stdout",
     "output_type": "stream",
     "text": [
      "Building phoneme dictionary: ██████▓░░░░░░░░░░░░░░░░░░░░░░░░░░░░░░░░░░░░░░░░░░░░░░░░░░░░░░░░░░░░░░░░ 9.7%"
     ]
    },
    {
     "name": "stderr",
     "output_type": "stream",
     "text": [
      "[WARNING] 1 utterances containing language switches on lines 1\n",
      "[WARNING] extra phones may appear in the \"cmn\" phoneset\n",
      "[WARNING] language switch flags have been removed (applying \"remove-flags\" policy)\n"
     ]
    },
    {
     "name": "stdout",
     "output_type": "stream",
     "text": [
      "\r",
      "Building phoneme dictionary: ██████▓░░░░░░░░░░░░░░░░░░░░░░░░░░░░░░░░░░░░░░░░░░░░░░░░░░░░░░░░░░░░░░░░ 9.7%"
     ]
    },
    {
     "name": "stderr",
     "output_type": "stream",
     "text": [
      "[ERROR] espeak: No envelope\n",
      "[ERROR] espeak: No envelope\n",
      "[ERROR] espeak: No envelope\n"
     ]
    },
    {
     "name": "stdout",
     "output_type": "stream",
     "text": [
      "Building phoneme dictionary: ██████▓░░░░░░░░░░░░░░░░░░░░░░░░░░░░░░░░░░░░░░░░░░░░░░░░░░░░░░░░░░░░░░░░ 9.7%"
     ]
    },
    {
     "name": "stderr",
     "output_type": "stream",
     "text": [
      "[ERROR] espeak: No envelope\n",
      "[ERROR] espeak: No envelope\n"
     ]
    },
    {
     "name": "stdout",
     "output_type": "stream",
     "text": [
      "Building phoneme dictionary: ██████▓░░░░░░░░░░░░░░░░░░░░░░░░░░░░░░░░░░░░░░░░░░░░░░░░░░░░░░░░░░░░░░░░ 9.8%"
     ]
    },
    {
     "name": "stderr",
     "output_type": "stream",
     "text": [
      "[WARNING] 1 utterances containing language switches on lines 1\n",
      "[WARNING] extra phones may appear in the \"cmn\" phoneset\n",
      "[WARNING] language switch flags have been removed (applying \"remove-flags\" policy)\n"
     ]
    },
    {
     "name": "stdout",
     "output_type": "stream",
     "text": [
      "Building phoneme dictionary: ██████▓░░░░░░░░░░░░░░░░░░░░░░░░░░░░░░░░░░░░░░░░░░░░░░░░░░░░░░░░░░░░░░░░ 9.8%"
     ]
    },
    {
     "name": "stderr",
     "output_type": "stream",
     "text": [
      "[WARNING] 1 utterances containing language switches on lines 1\n",
      "[WARNING] extra phones may appear in the \"cmn\" phoneset\n",
      "[WARNING] language switch flags have been removed (applying \"remove-flags\" policy)\n"
     ]
    },
    {
     "name": "stdout",
     "output_type": "stream",
     "text": [
      "Building phoneme dictionary: ██████▓░░░░░░░░░░░░░░░░░░░░░░░░░░░░░░░░░░░░░░░░░░░░░░░░░░░░░░░░░░░░░░░░ 9.8%"
     ]
    },
    {
     "name": "stderr",
     "output_type": "stream",
     "text": [
      "[ERROR] espeak: No envelope\n",
      "[ERROR] espeak: No envelope\n"
     ]
    },
    {
     "name": "stdout",
     "output_type": "stream",
     "text": [
      "Building phoneme dictionary: ██████▓░░░░░░░░░░░░░░░░░░░░░░░░░░░░░░░░░░░░░░░░░░░░░░░░░░░░░░░░░░░░░░░░ 9.9%"
     ]
    },
    {
     "name": "stderr",
     "output_type": "stream",
     "text": [
      "[WARNING] 1 utterances containing language switches on lines 1\n",
      "[WARNING] extra phones may appear in the \"cmn\" phoneset\n",
      "[WARNING] language switch flags have been removed (applying \"remove-flags\" policy)\n"
     ]
    },
    {
     "name": "stdout",
     "output_type": "stream",
     "text": [
      "Building phoneme dictionary: ██████▓░░░░░░░░░░░░░░░░░░░░░░░░░░░░░░░░░░░░░░░░░░░░░░░░░░░░░░░░░░░░░░░░ 9.9%"
     ]
    },
    {
     "name": "stderr",
     "output_type": "stream",
     "text": [
      "[ERROR] espeak: No envelope\n",
      "[ERROR] espeak: No envelope\n",
      "[ERROR] espeak: No envelope\n",
      "[ERROR] espeak: No envelope\n",
      "[ERROR] espeak: No envelope\n"
     ]
    },
    {
     "name": "stdout",
     "output_type": "stream",
     "text": [
      "\r",
      "Building phoneme dictionary: ██████▓░░░░░░░░░░░░░░░░░░░░░░░░░░░░░░░░░░░░░░░░░░░░░░░░░░░░░░░░░░░░░░░░ 10.0%"
     ]
    },
    {
     "name": "stderr",
     "output_type": "stream",
     "text": [
      "[ERROR] espeak: No envelope\n",
      "[ERROR] espeak: No envelope\n",
      "[ERROR] espeak: No envelope\n",
      "[ERROR] espeak: No envelope\n",
      "[ERROR] espeak: No envelope\n"
     ]
    },
    {
     "name": "stdout",
     "output_type": "stream",
     "text": [
      "Building phoneme dictionary: ██████▓░░░░░░░░░░░░░░░░░░░░░░░░░░░░░░░░░░░░░░░░░░░░░░░░░░░░░░░░░░░░░░░░ 10.0%"
     ]
    },
    {
     "name": "stderr",
     "output_type": "stream",
     "text": [
      "[ERROR] espeak: No envelope\n",
      "[ERROR] espeak: No envelope\n",
      "[ERROR] espeak: No envelope\n",
      "[ERROR] espeak: No envelope\n",
      "[ERROR] espeak: No envelope\n",
      "[ERROR] espeak: No envelope\n",
      "[ERROR] espeak: No envelope\n"
     ]
    },
    {
     "name": "stdout",
     "output_type": "stream",
     "text": [
      "Building phoneme dictionary: ██████▓░░░░░░░░░░░░░░░░░░░░░░░░░░░░░░░░░░░░░░░░░░░░░░░░░░░░░░░░░░░░░░░░ 10.0%"
     ]
    },
    {
     "name": "stderr",
     "output_type": "stream",
     "text": [
      "[WARNING] 1 utterances containing language switches on lines 1\n",
      "[WARNING] extra phones may appear in the \"cmn\" phoneset\n",
      "[WARNING] language switch flags have been removed (applying \"remove-flags\" policy)\n"
     ]
    },
    {
     "name": "stdout",
     "output_type": "stream",
     "text": [
      "\r",
      "Building phoneme dictionary: ███████░░░░░░░░░░░░░░░░░░░░░░░░░░░░░░░░░░░░░░░░░░░░░░░░░░░░░░░░░░░░░░░░ 10.0%"
     ]
    },
    {
     "name": "stderr",
     "output_type": "stream",
     "text": [
      "[ERROR] espeak: No envelope\n"
     ]
    },
    {
     "name": "stdout",
     "output_type": "stream",
     "text": [
      "Building phoneme dictionary: ███████░░░░░░░░░░░░░░░░░░░░░░░░░░░░░░░░░░░░░░░░░░░░░░░░░░░░░░░░░░░░░░░░ 10.1%"
     ]
    },
    {
     "name": "stderr",
     "output_type": "stream",
     "text": [
      "[ERROR] espeak: No envelope\n",
      "[ERROR] espeak: No envelope\n",
      "[ERROR] espeak: No envelope\n"
     ]
    },
    {
     "name": "stdout",
     "output_type": "stream",
     "text": [
      "\r",
      "Building phoneme dictionary: ███████░░░░░░░░░░░░░░░░░░░░░░░░░░░░░░░░░░░░░░░░░░░░░░░░░░░░░░░░░░░░░░░░ 10.1%"
     ]
    },
    {
     "name": "stderr",
     "output_type": "stream",
     "text": [
      "[WARNING] 1 utterances containing language switches on lines 1\n",
      "[WARNING] extra phones may appear in the \"cmn\" phoneset\n",
      "[WARNING] language switch flags have been removed (applying \"remove-flags\" policy)\n"
     ]
    },
    {
     "name": "stdout",
     "output_type": "stream",
     "text": [
      "Building phoneme dictionary: ███████░░░░░░░░░░░░░░░░░░░░░░░░░░░░░░░░░░░░░░░░░░░░░░░░░░░░░░░░░░░░░░░░ 10.1%"
     ]
    },
    {
     "name": "stderr",
     "output_type": "stream",
     "text": [
      "[ERROR] espeak: No envelope\n",
      "[ERROR] espeak: No envelope\n",
      "[ERROR] espeak: No envelope\n",
      "[ERROR] espeak: No envelope\n",
      "[ERROR] espeak: No envelope\n"
     ]
    },
    {
     "name": "stdout",
     "output_type": "stream",
     "text": [
      "Building phoneme dictionary: ███████░░░░░░░░░░░░░░░░░░░░░░░░░░░░░░░░░░░░░░░░░░░░░░░░░░░░░░░░░░░░░░░░ 10.2%"
     ]
    },
    {
     "name": "stderr",
     "output_type": "stream",
     "text": [
      "[WARNING] 1 utterances containing language switches on lines 1\n",
      "[WARNING] extra phones may appear in the \"cmn\" phoneset\n",
      "[WARNING] language switch flags have been removed (applying \"remove-flags\" policy)\n"
     ]
    },
    {
     "name": "stdout",
     "output_type": "stream",
     "text": [
      "\r",
      "Building phoneme dictionary: ███████░░░░░░░░░░░░░░░░░░░░░░░░░░░░░░░░░░░░░░░░░░░░░░░░░░░░░░░░░░░░░░░░ 10.2%"
     ]
    },
    {
     "name": "stderr",
     "output_type": "stream",
     "text": [
      "[ERROR] espeak: No envelope\n",
      "[ERROR] espeak: No envelope\n",
      "[ERROR] espeak: No envelope\n"
     ]
    },
    {
     "name": "stdout",
     "output_type": "stream",
     "text": [
      "Building phoneme dictionary: ███████░░░░░░░░░░░░░░░░░░░░░░░░░░░░░░░░░░░░░░░░░░░░░░░░░░░░░░░░░░░░░░░░ 10.2%"
     ]
    },
    {
     "name": "stderr",
     "output_type": "stream",
     "text": [
      "[WARNING] 1 utterances containing language switches on lines 1\n",
      "[WARNING] extra phones may appear in the \"cmn\" phoneset\n",
      "[WARNING] language switch flags have been removed (applying \"remove-flags\" policy)\n"
     ]
    },
    {
     "name": "stdout",
     "output_type": "stream",
     "text": [
      "Building phoneme dictionary: ███████░░░░░░░░░░░░░░░░░░░░░░░░░░░░░░░░░░░░░░░░░░░░░░░░░░░░░░░░░░░░░░░░ 10.3%"
     ]
    },
    {
     "name": "stderr",
     "output_type": "stream",
     "text": [
      "[ERROR] espeak: No envelope\n",
      "[ERROR] espeak: No envelope\n",
      "[WARNING] 1 utterances containing language switches on lines 1\n",
      "[WARNING] extra phones may appear in the \"cmn\" phoneset\n",
      "[WARNING] language switch flags have been removed (applying \"remove-flags\" policy)\n"
     ]
    },
    {
     "name": "stdout",
     "output_type": "stream",
     "text": [
      "Building phoneme dictionary: ███████░░░░░░░░░░░░░░░░░░░░░░░░░░░░░░░░░░░░░░░░░░░░░░░░░░░░░░░░░░░░░░░░ 10.3%"
     ]
    },
    {
     "name": "stderr",
     "output_type": "stream",
     "text": [
      "[ERROR] espeak: No envelope\n",
      "[ERROR] espeak: No envelope\n",
      "[ERROR] espeak: No envelope\n",
      "[ERROR] espeak: No envelope\n",
      "[ERROR] espeak: No envelope\n",
      "[ERROR] espeak: No envelope\n",
      "[ERROR] espeak: No envelope\n",
      "[ERROR] espeak: No envelope\n",
      "[ERROR] espeak: No envelope\n"
     ]
    },
    {
     "name": "stdout",
     "output_type": "stream",
     "text": [
      "Building phoneme dictionary: ███████░░░░░░░░░░░░░░░░░░░░░░░░░░░░░░░░░░░░░░░░░░░░░░░░░░░░░░░░░░░░░░░░ 10.4%"
     ]
    },
    {
     "name": "stderr",
     "output_type": "stream",
     "text": [
      "[WARNING] 1 utterances containing language switches on lines 1\n",
      "[WARNING] extra phones may appear in the \"cmn\" phoneset\n",
      "[WARNING] language switch flags have been removed (applying \"remove-flags\" policy)\n"
     ]
    },
    {
     "name": "stdout",
     "output_type": "stream",
     "text": [
      "Building phoneme dictionary: ███████░░░░░░░░░░░░░░░░░░░░░░░░░░░░░░░░░░░░░░░░░░░░░░░░░░░░░░░░░░░░░░░░ 10.5%"
     ]
    },
    {
     "name": "stderr",
     "output_type": "stream",
     "text": [
      "[ERROR] espeak: No envelope\n"
     ]
    },
    {
     "name": "stdout",
     "output_type": "stream",
     "text": [
      "Building phoneme dictionary: ███████▒░░░░░░░░░░░░░░░░░░░░░░░░░░░░░░░░░░░░░░░░░░░░░░░░░░░░░░░░░░░░░░░ 10.5%"
     ]
    },
    {
     "name": "stderr",
     "output_type": "stream",
     "text": [
      "[ERROR] espeak: No envelope\n",
      "[ERROR] espeak: No envelope\n"
     ]
    },
    {
     "name": "stdout",
     "output_type": "stream",
     "text": [
      "\r",
      "Building phoneme dictionary: ███████▒░░░░░░░░░░░░░░░░░░░░░░░░░░░░░░░░░░░░░░░░░░░░░░░░░░░░░░░░░░░░░░░ 10.5%"
     ]
    },
    {
     "name": "stderr",
     "output_type": "stream",
     "text": [
      "[WARNING] 1 utterances containing language switches on lines 1\n",
      "[WARNING] extra phones may appear in the \"cmn\" phoneset\n",
      "[WARNING] language switch flags have been removed (applying \"remove-flags\" policy)\n"
     ]
    },
    {
     "name": "stdout",
     "output_type": "stream",
     "text": [
      "Building phoneme dictionary: ███████▒░░░░░░░░░░░░░░░░░░░░░░░░░░░░░░░░░░░░░░░░░░░░░░░░░░░░░░░░░░░░░░░ 10.5%"
     ]
    },
    {
     "name": "stderr",
     "output_type": "stream",
     "text": [
      "[ERROR] espeak: No envelope\n",
      "[ERROR] espeak: No envelope\n",
      "[ERROR] espeak: No envelope\n",
      "[ERROR] espeak: No envelope\n"
     ]
    },
    {
     "name": "stdout",
     "output_type": "stream",
     "text": [
      "Building phoneme dictionary: ███████▒░░░░░░░░░░░░░░░░░░░░░░░░░░░░░░░░░░░░░░░░░░░░░░░░░░░░░░░░░░░░░░░ 10.6%"
     ]
    },
    {
     "name": "stderr",
     "output_type": "stream",
     "text": [
      "[ERROR] espeak: No envelope\n",
      "[ERROR] espeak: No envelope\n",
      "[ERROR] espeak: No envelope\n",
      "[WARNING] 1 utterances containing language switches on lines 1\n",
      "[WARNING] extra phones may appear in the \"cmn\" phoneset\n",
      "[WARNING] language switch flags have been removed (applying \"remove-flags\" policy)\n"
     ]
    },
    {
     "name": "stdout",
     "output_type": "stream",
     "text": [
      "Building phoneme dictionary: ███████▒░░░░░░░░░░░░░░░░░░░░░░░░░░░░░░░░░░░░░░░░░░░░░░░░░░░░░░░░░░░░░░░ 10.6%"
     ]
    },
    {
     "name": "stderr",
     "output_type": "stream",
     "text": [
      "[ERROR] espeak: No envelope\n",
      "[ERROR] espeak: No envelope\n"
     ]
    },
    {
     "name": "stdout",
     "output_type": "stream",
     "text": [
      "\r",
      "Building phoneme dictionary: ███████▒░░░░░░░░░░░░░░░░░░░░░░░░░░░░░░░░░░░░░░░░░░░░░░░░░░░░░░░░░░░░░░░ 10.6%"
     ]
    },
    {
     "name": "stderr",
     "output_type": "stream",
     "text": [
      "[ERROR] espeak: No envelope\n",
      "[ERROR] espeak: No envelope\n",
      "[ERROR] espeak: No envelope\n",
      "[ERROR] espeak: No envelope\n",
      "[ERROR] espeak: No envelope\n",
      "[ERROR] espeak: No envelope\n",
      "[ERROR] espeak: No envelope\n",
      "[ERROR] espeak: No envelope\n",
      "[ERROR] espeak: No envelope\n",
      "[ERROR] espeak: No envelope\n"
     ]
    },
    {
     "name": "stdout",
     "output_type": "stream",
     "text": [
      "\r",
      "Building phoneme dictionary: ███████▒░░░░░░░░░░░░░░░░░░░░░░░░░░░░░░░░░░░░░░░░░░░░░░░░░░░░░░░░░░░░░░░ 10.6%"
     ]
    },
    {
     "name": "stderr",
     "output_type": "stream",
     "text": [
      "[ERROR] espeak: No envelope\n",
      "[ERROR] espeak: No envelope\n",
      "[ERROR] espeak: No envelope\n",
      "[ERROR] espeak: No envelope\n",
      "[ERROR] espeak: No envelope\n",
      "[ERROR] espeak: No envelope\n",
      "[WARNING] 1 utterances containing language switches on lines 1\n",
      "[WARNING] extra phones may appear in the \"cmn\" phoneset\n",
      "[WARNING] language switch flags have been removed (applying \"remove-flags\" policy)\n"
     ]
    },
    {
     "name": "stdout",
     "output_type": "stream",
     "text": [
      "Building phoneme dictionary: ███████▒░░░░░░░░░░░░░░░░░░░░░░░░░░░░░░░░░░░░░░░░░░░░░░░░░░░░░░░░░░░░░░░ 10.6%"
     ]
    },
    {
     "name": "stderr",
     "output_type": "stream",
     "text": [
      "[ERROR] espeak: No envelope\n",
      "[ERROR] espeak: No envelope\n",
      "[ERROR] espeak: No envelope\n",
      "[ERROR] espeak: No envelope\n",
      "[ERROR] espeak: No envelope\n"
     ]
    },
    {
     "name": "stdout",
     "output_type": "stream",
     "text": [
      "Building phoneme dictionary: ███████▒░░░░░░░░░░░░░░░░░░░░░░░░░░░░░░░░░░░░░░░░░░░░░░░░░░░░░░░░░░░░░░░ 10.7%"
     ]
    },
    {
     "name": "stderr",
     "output_type": "stream",
     "text": [
      "[ERROR] espeak: No envelope\n",
      "[ERROR] espeak: No envelope\n"
     ]
    },
    {
     "name": "stdout",
     "output_type": "stream",
     "text": [
      "Building phoneme dictionary: ███████▒░░░░░░░░░░░░░░░░░░░░░░░░░░░░░░░░░░░░░░░░░░░░░░░░░░░░░░░░░░░░░░░ 10.7%"
     ]
    },
    {
     "name": "stderr",
     "output_type": "stream",
     "text": [
      "[WARNING] 1 utterances containing language switches on lines 1\n",
      "[WARNING] extra phones may appear in the \"cmn\" phoneset\n",
      "[WARNING] language switch flags have been removed (applying \"remove-flags\" policy)\n"
     ]
    },
    {
     "name": "stdout",
     "output_type": "stream",
     "text": [
      "Building phoneme dictionary: ███████▒░░░░░░░░░░░░░░░░░░░░░░░░░░░░░░░░░░░░░░░░░░░░░░░░░░░░░░░░░░░░░░░ 10.8%"
     ]
    },
    {
     "name": "stderr",
     "output_type": "stream",
     "text": [
      "[ERROR] espeak: No envelope\n",
      "[ERROR] espeak: No envelope\n",
      "[ERROR] espeak: No envelope\n"
     ]
    },
    {
     "name": "stdout",
     "output_type": "stream",
     "text": [
      "Building phoneme dictionary: ███████▒░░░░░░░░░░░░░░░░░░░░░░░░░░░░░░░░░░░░░░░░░░░░░░░░░░░░░░░░░░░░░░░ 10.9%"
     ]
    },
    {
     "name": "stderr",
     "output_type": "stream",
     "text": [
      "[ERROR] espeak: No envelope\n",
      "[ERROR] espeak: No envelope\n"
     ]
    },
    {
     "name": "stdout",
     "output_type": "stream",
     "text": [
      "\r",
      "Building phoneme dictionary: ███████▒░░░░░░░░░░░░░░░░░░░░░░░░░░░░░░░░░░░░░░░░░░░░░░░░░░░░░░░░░░░░░░░ 10.9%"
     ]
    },
    {
     "name": "stderr",
     "output_type": "stream",
     "text": [
      "[WARNING] 1 utterances containing language switches on lines 1\n",
      "[WARNING] extra phones may appear in the \"cmn\" phoneset\n",
      "[WARNING] language switch flags have been removed (applying \"remove-flags\" policy)\n"
     ]
    },
    {
     "name": "stdout",
     "output_type": "stream",
     "text": [
      "Building phoneme dictionary: ███████▓░░░░░░░░░░░░░░░░░░░░░░░░░░░░░░░░░░░░░░░░░░░░░░░░░░░░░░░░░░░░░░░ 11.0%"
     ]
    },
    {
     "name": "stderr",
     "output_type": "stream",
     "text": [
      "[ERROR] espeak: No envelope\n",
      "[ERROR] espeak: No envelope\n",
      "[ERROR] espeak: No envelope\n",
      "[ERROR] espeak: No envelope\n",
      "[ERROR] espeak: No envelope\n",
      "[ERROR] espeak: No envelope\n"
     ]
    },
    {
     "name": "stdout",
     "output_type": "stream",
     "text": [
      "Building phoneme dictionary: ███████▓░░░░░░░░░░░░░░░░░░░░░░░░░░░░░░░░░░░░░░░░░░░░░░░░░░░░░░░░░░░░░░░ 11.0%"
     ]
    },
    {
     "name": "stderr",
     "output_type": "stream",
     "text": [
      "[WARNING] 1 utterances containing language switches on lines 1\n",
      "[WARNING] extra phones may appear in the \"cmn\" phoneset\n",
      "[WARNING] language switch flags have been removed (applying \"remove-flags\" policy)\n",
      "[ERROR] espeak: No envelope\n",
      "[ERROR] espeak: No envelope\n"
     ]
    },
    {
     "name": "stdout",
     "output_type": "stream",
     "text": [
      "Building phoneme dictionary: ███████▓░░░░░░░░░░░░░░░░░░░░░░░░░░░░░░░░░░░░░░░░░░░░░░░░░░░░░░░░░░░░░░░ 11.0%"
     ]
    },
    {
     "name": "stderr",
     "output_type": "stream",
     "text": [
      "[WARNING] 1 utterances containing language switches on lines 1\n",
      "[WARNING] extra phones may appear in the \"cmn\" phoneset\n",
      "[WARNING] language switch flags have been removed (applying \"remove-flags\" policy)\n"
     ]
    },
    {
     "name": "stdout",
     "output_type": "stream",
     "text": [
      "Building phoneme dictionary: ███████▓░░░░░░░░░░░░░░░░░░░░░░░░░░░░░░░░░░░░░░░░░░░░░░░░░░░░░░░░░░░░░░░ 11.1%"
     ]
    },
    {
     "name": "stderr",
     "output_type": "stream",
     "text": [
      "[WARNING] 1 utterances containing language switches on lines 1\n",
      "[WARNING] extra phones may appear in the \"cmn\" phoneset\n",
      "[WARNING] language switch flags have been removed (applying \"remove-flags\" policy)\n"
     ]
    },
    {
     "name": "stdout",
     "output_type": "stream",
     "text": [
      "\r",
      "Building phoneme dictionary: ███████▓░░░░░░░░░░░░░░░░░░░░░░░░░░░░░░░░░░░░░░░░░░░░░░░░░░░░░░░░░░░░░░░ 11.1%"
     ]
    },
    {
     "name": "stderr",
     "output_type": "stream",
     "text": [
      "[ERROR] espeak: No envelope\n",
      "[ERROR] espeak: No envelope\n",
      "[ERROR] espeak: No envelope\n",
      "[ERROR] espeak: No envelope\n",
      "[ERROR] espeak: No envelope\n",
      "[ERROR] espeak: No envelope\n"
     ]
    },
    {
     "name": "stdout",
     "output_type": "stream",
     "text": [
      "\r",
      "Building phoneme dictionary: ███████▓░░░░░░░░░░░░░░░░░░░░░░░░░░░░░░░░░░░░░░░░░░░░░░░░░░░░░░░░░░░░░░░ 11.1%"
     ]
    },
    {
     "name": "stderr",
     "output_type": "stream",
     "text": [
      "[WARNING] 1 utterances containing language switches on lines 1\n",
      "[WARNING] extra phones may appear in the \"cmn\" phoneset\n",
      "[WARNING] language switch flags have been removed (applying \"remove-flags\" policy)\n"
     ]
    },
    {
     "name": "stdout",
     "output_type": "stream",
     "text": [
      "Building phoneme dictionary: ███████▓░░░░░░░░░░░░░░░░░░░░░░░░░░░░░░░░░░░░░░░░░░░░░░░░░░░░░░░░░░░░░░░ 11.1%"
     ]
    },
    {
     "name": "stderr",
     "output_type": "stream",
     "text": [
      "[ERROR] espeak: No envelope\n",
      "[ERROR] espeak: No envelope\n",
      "[ERROR] espeak: No envelope\n",
      "[ERROR] espeak: No envelope\n",
      "[ERROR] espeak: No envelope\n"
     ]
    },
    {
     "name": "stdout",
     "output_type": "stream",
     "text": [
      "Building phoneme dictionary: ███████▓░░░░░░░░░░░░░░░░░░░░░░░░░░░░░░░░░░░░░░░░░░░░░░░░░░░░░░░░░░░░░░░ 11.1%"
     ]
    },
    {
     "name": "stderr",
     "output_type": "stream",
     "text": [
      "[ERROR] espeak: No envelope\n",
      "[ERROR] espeak: No envelope\n",
      "[ERROR] espeak: No envelope\n"
     ]
    },
    {
     "name": "stdout",
     "output_type": "stream",
     "text": [
      "Building phoneme dictionary: ███████▓░░░░░░░░░░░░░░░░░░░░░░░░░░░░░░░░░░░░░░░░░░░░░░░░░░░░░░░░░░░░░░░ 11.2%"
     ]
    },
    {
     "name": "stderr",
     "output_type": "stream",
     "text": [
      "[ERROR] espeak: No envelope\n",
      "[ERROR] espeak: No envelope\n",
      "[ERROR] espeak: No envelope\n",
      "[ERROR] espeak: No envelope\n",
      "[ERROR] espeak: No envelope\n",
      "[ERROR] espeak: No envelope\n",
      "[ERROR] espeak: No envelope\n",
      "[ERROR] espeak: No envelope\n",
      "[ERROR] espeak: No envelope\n",
      "[ERROR] espeak: No envelope\n",
      "[WARNING] 1 utterances containing language switches on lines 1\n",
      "[WARNING] extra phones may appear in the \"cmn\" phoneset\n",
      "[WARNING] language switch flags have been removed (applying \"remove-flags\" policy)\n"
     ]
    },
    {
     "name": "stdout",
     "output_type": "stream",
     "text": [
      "\r",
      "Building phoneme dictionary: ███████▓░░░░░░░░░░░░░░░░░░░░░░░░░░░░░░░░░░░░░░░░░░░░░░░░░░░░░░░░░░░░░░░ 11.2%"
     ]
    },
    {
     "name": "stderr",
     "output_type": "stream",
     "text": [
      "[ERROR] espeak: No envelope\n",
      "[ERROR] espeak: No envelope\n",
      "[ERROR] espeak: No envelope\n",
      "[ERROR] espeak: No envelope\n",
      "[ERROR] espeak: No envelope\n",
      "[ERROR] espeak: No envelope\n",
      "[ERROR] espeak: No envelope\n",
      "[ERROR] espeak: No envelope\n"
     ]
    },
    {
     "name": "stdout",
     "output_type": "stream",
     "text": [
      "Building phoneme dictionary: ███████▓░░░░░░░░░░░░░░░░░░░░░░░░░░░░░░░░░░░░░░░░░░░░░░░░░░░░░░░░░░░░░░░ 11.2%"
     ]
    },
    {
     "name": "stderr",
     "output_type": "stream",
     "text": [
      "[WARNING] 1 utterances containing language switches on lines 1\n",
      "[WARNING] extra phones may appear in the \"cmn\" phoneset\n",
      "[WARNING] language switch flags have been removed (applying \"remove-flags\" policy)\n"
     ]
    },
    {
     "name": "stdout",
     "output_type": "stream",
     "text": [
      "\r",
      "Building phoneme dictionary: ███████▓░░░░░░░░░░░░░░░░░░░░░░░░░░░░░░░░░░░░░░░░░░░░░░░░░░░░░░░░░░░░░░░ 11.2%"
     ]
    },
    {
     "name": "stderr",
     "output_type": "stream",
     "text": [
      "[ERROR] espeak: No envelope\n",
      "[ERROR] espeak: No envelope\n",
      "[ERROR] espeak: No envelope\n",
      "[ERROR] espeak: No envelope\n",
      "[ERROR] espeak: No envelope\n",
      "[ERROR] espeak: No envelope\n",
      "[ERROR] espeak: No envelope\n",
      "[ERROR] espeak: No envelope\n",
      "[ERROR] espeak: No envelope\n",
      "[ERROR] espeak: No envelope\n",
      "[ERROR] espeak: No envelope\n",
      "[ERROR] espeak: No envelope\n",
      "[ERROR] espeak: No envelope\n",
      "[ERROR] espeak: No envelope\n",
      "[ERROR] espeak: No envelope\n",
      "[ERROR] espeak: No envelope\n",
      "[ERROR] espeak: No envelope\n",
      "[ERROR] espeak: No envelope\n",
      "[ERROR] espeak: No envelope\n",
      "[ERROR] espeak: No envelope\n",
      "[ERROR] espeak: No envelope\n",
      "[ERROR] espeak: No envelope\n"
     ]
    },
    {
     "name": "stdout",
     "output_type": "stream",
     "text": [
      "Building phoneme dictionary: ███████▓░░░░░░░░░░░░░░░░░░░░░░░░░░░░░░░░░░░░░░░░░░░░░░░░░░░░░░░░░░░░░░░ 11.3%"
     ]
    },
    {
     "name": "stderr",
     "output_type": "stream",
     "text": [
      "[WARNING] 1 utterances containing language switches on lines 1\n",
      "[WARNING] extra phones may appear in the \"cmn\" phoneset\n",
      "[WARNING] language switch flags have been removed (applying \"remove-flags\" policy)\n"
     ]
    },
    {
     "name": "stdout",
     "output_type": "stream",
     "text": [
      "\r",
      "Building phoneme dictionary: ███████▓░░░░░░░░░░░░░░░░░░░░░░░░░░░░░░░░░░░░░░░░░░░░░░░░░░░░░░░░░░░░░░░ 11.3%"
     ]
    },
    {
     "name": "stderr",
     "output_type": "stream",
     "text": [
      "[WARNING] 1 utterances containing language switches on lines 1\n",
      "[WARNING] extra phones may appear in the \"cmn\" phoneset\n",
      "[WARNING] language switch flags have been removed (applying \"remove-flags\" policy)\n"
     ]
    },
    {
     "name": "stdout",
     "output_type": "stream",
     "text": [
      "\r",
      "Building phoneme dictionary: ███████▓░░░░░░░░░░░░░░░░░░░░░░░░░░░░░░░░░░░░░░░░░░░░░░░░░░░░░░░░░░░░░░░ 11.3%"
     ]
    },
    {
     "name": "stderr",
     "output_type": "stream",
     "text": [
      "[WARNING] 1 utterances containing language switches on lines 1\n",
      "[WARNING] extra phones may appear in the \"cmn\" phoneset\n",
      "[WARNING] language switch flags have been removed (applying \"remove-flags\" policy)\n"
     ]
    },
    {
     "name": "stdout",
     "output_type": "stream",
     "text": [
      "Building phoneme dictionary: ███████▓░░░░░░░░░░░░░░░░░░░░░░░░░░░░░░░░░░░░░░░░░░░░░░░░░░░░░░░░░░░░░░░ 11.3%"
     ]
    },
    {
     "name": "stderr",
     "output_type": "stream",
     "text": [
      "[WARNING] 1 utterances containing language switches on lines 1\n",
      "[WARNING] extra phones may appear in the \"cmn\" phoneset\n",
      "[WARNING] language switch flags have been removed (applying \"remove-flags\" policy)\n"
     ]
    },
    {
     "name": "stdout",
     "output_type": "stream",
     "text": [
      "Building phoneme dictionary: ███████▓░░░░░░░░░░░░░░░░░░░░░░░░░░░░░░░░░░░░░░░░░░░░░░░░░░░░░░░░░░░░░░░ 11.4%"
     ]
    },
    {
     "name": "stderr",
     "output_type": "stream",
     "text": [
      "[ERROR] espeak: No envelope\n",
      "[ERROR] espeak: No envelope\n",
      "[ERROR] espeak: No envelope\n"
     ]
    },
    {
     "name": "stdout",
     "output_type": "stream",
     "text": [
      "\r",
      "Building phoneme dictionary: ███████▓░░░░░░░░░░░░░░░░░░░░░░░░░░░░░░░░░░░░░░░░░░░░░░░░░░░░░░░░░░░░░░░ 11.4%"
     ]
    },
    {
     "name": "stderr",
     "output_type": "stream",
     "text": [
      "[ERROR] espeak: No envelope\n",
      "[ERROR] espeak: No envelope\n",
      "[ERROR] espeak: No envelope\n",
      "[ERROR] espeak: No envelope\n"
     ]
    },
    {
     "name": "stdout",
     "output_type": "stream",
     "text": [
      "Building phoneme dictionary: ███████▓░░░░░░░░░░░░░░░░░░░░░░░░░░░░░░░░░░░░░░░░░░░░░░░░░░░░░░░░░░░░░░░ 11.4%"
     ]
    },
    {
     "name": "stderr",
     "output_type": "stream",
     "text": [
      "[ERROR] espeak: No envelope\n",
      "[ERROR] espeak: No envelope\n"
     ]
    },
    {
     "name": "stdout",
     "output_type": "stream",
     "text": [
      "Building phoneme dictionary: ███████▓░░░░░░░░░░░░░░░░░░░░░░░░░░░░░░░░░░░░░░░░░░░░░░░░░░░░░░░░░░░░░░░ 11.4%"
     ]
    },
    {
     "name": "stderr",
     "output_type": "stream",
     "text": [
      "[WARNING] 1 utterances containing language switches on lines 1\n",
      "[WARNING] extra phones may appear in the \"cmn\" phoneset\n",
      "[WARNING] language switch flags have been removed (applying \"remove-flags\" policy)\n"
     ]
    },
    {
     "name": "stdout",
     "output_type": "stream",
     "text": [
      "Building phoneme dictionary: ████████░░░░░░░░░░░░░░░░░░░░░░░░░░░░░░░░░░░░░░░░░░░░░░░░░░░░░░░░░░░░░░░ 11.5%"
     ]
    },
    {
     "name": "stderr",
     "output_type": "stream",
     "text": [
      "[ERROR] espeak: No envelope\n",
      "[ERROR] espeak: No envelope\n",
      "[ERROR] espeak: No envelope\n"
     ]
    },
    {
     "name": "stdout",
     "output_type": "stream",
     "text": [
      "\r",
      "Building phoneme dictionary: ████████░░░░░░░░░░░░░░░░░░░░░░░░░░░░░░░░░░░░░░░░░░░░░░░░░░░░░░░░░░░░░░░ 11.5%"
     ]
    },
    {
     "name": "stderr",
     "output_type": "stream",
     "text": [
      "[WARNING] 1 utterances containing language switches on lines 1\n",
      "[WARNING] extra phones may appear in the \"cmn\" phoneset\n",
      "[WARNING] language switch flags have been removed (applying \"remove-flags\" policy)\n"
     ]
    },
    {
     "name": "stdout",
     "output_type": "stream",
     "text": [
      "\r",
      "Building phoneme dictionary: ████████░░░░░░░░░░░░░░░░░░░░░░░░░░░░░░░░░░░░░░░░░░░░░░░░░░░░░░░░░░░░░░░ 11.5%"
     ]
    },
    {
     "name": "stderr",
     "output_type": "stream",
     "text": [
      "[ERROR] espeak: No envelope\n",
      "[ERROR] espeak: No envelope\n",
      "[ERROR] espeak: No envelope\n",
      "[ERROR] espeak: No envelope\n"
     ]
    },
    {
     "name": "stdout",
     "output_type": "stream",
     "text": [
      "\r",
      "Building phoneme dictionary: ████████░░░░░░░░░░░░░░░░░░░░░░░░░░░░░░░░░░░░░░░░░░░░░░░░░░░░░░░░░░░░░░░ 11.5%"
     ]
    },
    {
     "name": "stderr",
     "output_type": "stream",
     "text": [
      "[WARNING] 1 utterances containing language switches on lines 1\n",
      "[WARNING] extra phones may appear in the \"cmn\" phoneset\n",
      "[WARNING] language switch flags have been removed (applying \"remove-flags\" policy)\n",
      "[WARNING] 1 utterances containing language switches on lines 1\n",
      "[WARNING] extra phones may appear in the \"cmn\" phoneset\n",
      "[WARNING] language switch flags have been removed (applying \"remove-flags\" policy)\n",
      "[ERROR] espeak: No envelope\n",
      "[ERROR] espeak: No envelope\n",
      "[ERROR] espeak: No envelope\n",
      "[ERROR] espeak: No envelope\n"
     ]
    },
    {
     "name": "stdout",
     "output_type": "stream",
     "text": [
      "Building phoneme dictionary: ████████░░░░░░░░░░░░░░░░░░░░░░░░░░░░░░░░░░░░░░░░░░░░░░░░░░░░░░░░░░░░░░░ 11.5%"
     ]
    },
    {
     "name": "stderr",
     "output_type": "stream",
     "text": [
      "[ERROR] espeak: No envelope\n",
      "[ERROR] espeak: No envelope\n"
     ]
    },
    {
     "name": "stdout",
     "output_type": "stream",
     "text": [
      "\r",
      "Building phoneme dictionary: ████████░░░░░░░░░░░░░░░░░░░░░░░░░░░░░░░░░░░░░░░░░░░░░░░░░░░░░░░░░░░░░░░ 11.5%"
     ]
    },
    {
     "name": "stderr",
     "output_type": "stream",
     "text": [
      "[WARNING] 1 utterances containing language switches on lines 1\n",
      "[WARNING] extra phones may appear in the \"cmn\" phoneset\n",
      "[WARNING] language switch flags have been removed (applying \"remove-flags\" policy)\n"
     ]
    },
    {
     "name": "stdout",
     "output_type": "stream",
     "text": [
      "Building phoneme dictionary: ████████░░░░░░░░░░░░░░░░░░░░░░░░░░░░░░░░░░░░░░░░░░░░░░░░░░░░░░░░░░░░░░░ 11.6%"
     ]
    },
    {
     "name": "stderr",
     "output_type": "stream",
     "text": [
      "[WARNING] 1 utterances containing language switches on lines 1\n",
      "[WARNING] extra phones may appear in the \"cmn\" phoneset\n",
      "[WARNING] language switch flags have been removed (applying \"remove-flags\" policy)\n"
     ]
    },
    {
     "name": "stdout",
     "output_type": "stream",
     "text": [
      "Building phoneme dictionary: ████████░░░░░░░░░░░░░░░░░░░░░░░░░░░░░░░░░░░░░░░░░░░░░░░░░░░░░░░░░░░░░░░ 11.7%"
     ]
    },
    {
     "name": "stderr",
     "output_type": "stream",
     "text": [
      "[ERROR] espeak: No envelope\n",
      "[ERROR] espeak: No envelope\n"
     ]
    },
    {
     "name": "stdout",
     "output_type": "stream",
     "text": [
      "\r",
      "Building phoneme dictionary: ████████░░░░░░░░░░░░░░░░░░░░░░░░░░░░░░░░░░░░░░░░░░░░░░░░░░░░░░░░░░░░░░░ 11.7%"
     ]
    },
    {
     "name": "stderr",
     "output_type": "stream",
     "text": [
      "[ERROR] espeak: No envelope\n",
      "[ERROR] espeak: No envelope\n",
      "[ERROR] espeak: No envelope\n",
      "[ERROR] espeak: No envelope\n",
      "[ERROR] espeak: No envelope\n"
     ]
    },
    {
     "name": "stdout",
     "output_type": "stream",
     "text": [
      "\r",
      "Building phoneme dictionary: ████████░░░░░░░░░░░░░░░░░░░░░░░░░░░░░░░░░░░░░░░░░░░░░░░░░░░░░░░░░░░░░░░ 11.7%"
     ]
    },
    {
     "name": "stderr",
     "output_type": "stream",
     "text": [
      "[ERROR] espeak: No envelope\n",
      "[ERROR] espeak: No envelope\n",
      "[ERROR] espeak: No envelope\n"
     ]
    },
    {
     "name": "stdout",
     "output_type": "stream",
     "text": [
      "Building phoneme dictionary: ████████░░░░░░░░░░░░░░░░░░░░░░░░░░░░░░░░░░░░░░░░░░░░░░░░░░░░░░░░░░░░░░░ 11.8%"
     ]
    },
    {
     "name": "stderr",
     "output_type": "stream",
     "text": [
      "[ERROR] espeak: No envelope\n",
      "[ERROR] espeak: No envelope\n",
      "[ERROR] espeak: No envelope\n",
      "[ERROR] espeak: No envelope\n",
      "[ERROR] espeak: No envelope\n",
      "[ERROR] espeak: No envelope\n",
      "[ERROR] espeak: No envelope\n"
     ]
    },
    {
     "name": "stdout",
     "output_type": "stream",
     "text": [
      "Building phoneme dictionary: ████████▒░░░░░░░░░░░░░░░░░░░░░░░░░░░░░░░░░░░░░░░░░░░░░░░░░░░░░░░░░░░░░░ 11.9%"
     ]
    },
    {
     "name": "stderr",
     "output_type": "stream",
     "text": [
      "[ERROR] espeak: No envelope\n",
      "[ERROR] espeak: No envelope\n",
      "[ERROR] espeak: No envelope\n",
      "[ERROR] espeak: No envelope\n",
      "[ERROR] espeak: No envelope\n",
      "[ERROR] espeak: No envelope\n"
     ]
    },
    {
     "name": "stdout",
     "output_type": "stream",
     "text": [
      "Building phoneme dictionary: ████████▒░░░░░░░░░░░░░░░░░░░░░░░░░░░░░░░░░░░░░░░░░░░░░░░░░░░░░░░░░░░░░░ 12.0%"
     ]
    },
    {
     "name": "stderr",
     "output_type": "stream",
     "text": [
      "[ERROR] espeak: No envelope\n",
      "[ERROR] espeak: No envelope\n",
      "[ERROR] espeak: No envelope\n",
      "[ERROR] espeak: No envelope\n"
     ]
    },
    {
     "name": "stdout",
     "output_type": "stream",
     "text": [
      "Building phoneme dictionary: ████████▒░░░░░░░░░░░░░░░░░░░░░░░░░░░░░░░░░░░░░░░░░░░░░░░░░░░░░░░░░░░░░░ 12.0%"
     ]
    },
    {
     "name": "stderr",
     "output_type": "stream",
     "text": [
      "[ERROR] espeak: No envelope\n",
      "[ERROR] espeak: No envelope\n"
     ]
    },
    {
     "name": "stdout",
     "output_type": "stream",
     "text": [
      "Building phoneme dictionary: ████████▒░░░░░░░░░░░░░░░░░░░░░░░░░░░░░░░░░░░░░░░░░░░░░░░░░░░░░░░░░░░░░░ 12.0%"
     ]
    },
    {
     "name": "stderr",
     "output_type": "stream",
     "text": [
      "[WARNING] 1 utterances containing language switches on lines 1\n",
      "[WARNING] extra phones may appear in the \"cmn\" phoneset\n",
      "[WARNING] language switch flags have been removed (applying \"remove-flags\" policy)\n"
     ]
    },
    {
     "name": "stdout",
     "output_type": "stream",
     "text": [
      "\r",
      "Building phoneme dictionary: ████████▒░░░░░░░░░░░░░░░░░░░░░░░░░░░░░░░░░░░░░░░░░░░░░░░░░░░░░░░░░░░░░░ 12.0%"
     ]
    },
    {
     "name": "stderr",
     "output_type": "stream",
     "text": [
      "[ERROR] espeak: No envelope\n",
      "[ERROR] espeak: No envelope\n",
      "[ERROR] espeak: No envelope\n",
      "[ERROR] espeak: No envelope\n",
      "[ERROR] espeak: No envelope\n",
      "[ERROR] espeak: No envelope\n",
      "[ERROR] espeak: No envelope\n",
      "[ERROR] espeak: No envelope\n"
     ]
    },
    {
     "name": "stdout",
     "output_type": "stream",
     "text": [
      "Building phoneme dictionary: ████████▒░░░░░░░░░░░░░░░░░░░░░░░░░░░░░░░░░░░░░░░░░░░░░░░░░░░░░░░░░░░░░░ 12.1%"
     ]
    },
    {
     "name": "stderr",
     "output_type": "stream",
     "text": [
      "[ERROR] espeak: No envelope\n",
      "[ERROR] espeak: No envelope\n",
      "[ERROR] espeak: No envelope\n",
      "[ERROR] espeak: No envelope\n",
      "[ERROR] espeak: No envelope\n",
      "[ERROR] espeak: No envelope\n"
     ]
    },
    {
     "name": "stdout",
     "output_type": "stream",
     "text": [
      "Building phoneme dictionary: ████████▒░░░░░░░░░░░░░░░░░░░░░░░░░░░░░░░░░░░░░░░░░░░░░░░░░░░░░░░░░░░░░░ 12.1%"
     ]
    },
    {
     "name": "stderr",
     "output_type": "stream",
     "text": [
      "[ERROR] espeak: No envelope\n",
      "[ERROR] espeak: No envelope\n",
      "[ERROR] espeak: No envelope\n",
      "[ERROR] espeak: No envelope\n"
     ]
    },
    {
     "name": "stdout",
     "output_type": "stream",
     "text": [
      "\r",
      "Building phoneme dictionary: ████████▒░░░░░░░░░░░░░░░░░░░░░░░░░░░░░░░░░░░░░░░░░░░░░░░░░░░░░░░░░░░░░░ 12.1%"
     ]
    },
    {
     "name": "stderr",
     "output_type": "stream",
     "text": [
      "[WARNING] 1 utterances containing language switches on lines 1\n",
      "[WARNING] extra phones may appear in the \"cmn\" phoneset\n",
      "[WARNING] language switch flags have been removed (applying \"remove-flags\" policy)\n"
     ]
    },
    {
     "name": "stdout",
     "output_type": "stream",
     "text": [
      "Building phoneme dictionary: ████████▒░░░░░░░░░░░░░░░░░░░░░░░░░░░░░░░░░░░░░░░░░░░░░░░░░░░░░░░░░░░░░░ 12.1%"
     ]
    },
    {
     "name": "stderr",
     "output_type": "stream",
     "text": [
      "[WARNING] 1 utterances containing language switches on lines 1\n",
      "[WARNING] extra phones may appear in the \"cmn\" phoneset\n",
      "[WARNING] language switch flags have been removed (applying \"remove-flags\" policy)\n"
     ]
    },
    {
     "name": "stdout",
     "output_type": "stream",
     "text": [
      "Building phoneme dictionary: ████████▒░░░░░░░░░░░░░░░░░░░░░░░░░░░░░░░░░░░░░░░░░░░░░░░░░░░░░░░░░░░░░░ 12.2%"
     ]
    },
    {
     "name": "stderr",
     "output_type": "stream",
     "text": [
      "[ERROR] espeak: No envelope\n",
      "[ERROR] espeak: No envelope\n",
      "[ERROR] espeak: No envelope\n",
      "[ERROR] espeak: No envelope\n",
      "[ERROR] espeak: No envelope\n",
      "[ERROR] espeak: No envelope\n"
     ]
    },
    {
     "name": "stdout",
     "output_type": "stream",
     "text": [
      "\r",
      "Building phoneme dictionary: ████████▒░░░░░░░░░░░░░░░░░░░░░░░░░░░░░░░░░░░░░░░░░░░░░░░░░░░░░░░░░░░░░░ 12.2%"
     ]
    },
    {
     "name": "stderr",
     "output_type": "stream",
     "text": [
      "[ERROR] espeak: No envelope\n",
      "[ERROR] espeak: No envelope\n"
     ]
    },
    {
     "name": "stdout",
     "output_type": "stream",
     "text": [
      "\r",
      "Building phoneme dictionary: ████████▒░░░░░░░░░░░░░░░░░░░░░░░░░░░░░░░░░░░░░░░░░░░░░░░░░░░░░░░░░░░░░░ 12.2%"
     ]
    },
    {
     "name": "stderr",
     "output_type": "stream",
     "text": [
      "[WARNING] 1 utterances containing language switches on lines 1\n",
      "[WARNING] extra phones may appear in the \"cmn\" phoneset\n",
      "[WARNING] language switch flags have been removed (applying \"remove-flags\" policy)\n"
     ]
    },
    {
     "name": "stdout",
     "output_type": "stream",
     "text": [
      "Building phoneme dictionary: ████████▒░░░░░░░░░░░░░░░░░░░░░░░░░░░░░░░░░░░░░░░░░░░░░░░░░░░░░░░░░░░░░░ 12.2%"
     ]
    },
    {
     "name": "stderr",
     "output_type": "stream",
     "text": [
      "[ERROR] espeak: No envelope\n",
      "[ERROR] espeak: No envelope\n"
     ]
    },
    {
     "name": "stdout",
     "output_type": "stream",
     "text": [
      "Building phoneme dictionary: ████████▓░░░░░░░░░░░░░░░░░░░░░░░░░░░░░░░░░░░░░░░░░░░░░░░░░░░░░░░░░░░░░░ 12.4%"
     ]
    },
    {
     "name": "stderr",
     "output_type": "stream",
     "text": [
      "[WARNING] 1 utterances containing language switches on lines 1\n",
      "[WARNING] extra phones may appear in the \"cmn\" phoneset\n",
      "[WARNING] language switch flags have been removed (applying \"remove-flags\" policy)\n"
     ]
    },
    {
     "name": "stdout",
     "output_type": "stream",
     "text": [
      "Building phoneme dictionary: ████████▓░░░░░░░░░░░░░░░░░░░░░░░░░░░░░░░░░░░░░░░░░░░░░░░░░░░░░░░░░░░░░░ 12.5%"
     ]
    },
    {
     "name": "stderr",
     "output_type": "stream",
     "text": [
      "[ERROR] espeak: No envelope\n",
      "[ERROR] espeak: No envelope\n"
     ]
    },
    {
     "name": "stdout",
     "output_type": "stream",
     "text": [
      "Building phoneme dictionary: ████████▓░░░░░░░░░░░░░░░░░░░░░░░░░░░░░░░░░░░░░░░░░░░░░░░░░░░░░░░░░░░░░░ 12.5%"
     ]
    },
    {
     "name": "stderr",
     "output_type": "stream",
     "text": [
      "[ERROR] espeak: No envelope\n",
      "[ERROR] espeak: No envelope\n",
      "[ERROR] espeak: No envelope\n"
     ]
    },
    {
     "name": "stdout",
     "output_type": "stream",
     "text": [
      "Building phoneme dictionary: ████████▓░░░░░░░░░░░░░░░░░░░░░░░░░░░░░░░░░░░░░░░░░░░░░░░░░░░░░░░░░░░░░░ 12.7%"
     ]
    },
    {
     "name": "stderr",
     "output_type": "stream",
     "text": [
      "[WARNING] 1 utterances containing language switches on lines 1\n",
      "[WARNING] extra phones may appear in the \"cmn\" phoneset\n",
      "[WARNING] language switch flags have been removed (applying \"remove-flags\" policy)\n"
     ]
    },
    {
     "name": "stdout",
     "output_type": "stream",
     "text": [
      "Building phoneme dictionary: ████████▓░░░░░░░░░░░░░░░░░░░░░░░░░░░░░░░░░░░░░░░░░░░░░░░░░░░░░░░░░░░░░░ 12.8%"
     ]
    },
    {
     "name": "stderr",
     "output_type": "stream",
     "text": [
      "[ERROR] espeak: No envelope\n",
      "[ERROR] espeak: No envelope\n",
      "[ERROR] espeak: No envelope\n",
      "[ERROR] espeak: No envelope\n",
      "[ERROR] espeak: No envelope\n"
     ]
    },
    {
     "name": "stdout",
     "output_type": "stream",
     "text": [
      "Building phoneme dictionary: ████████▓░░░░░░░░░░░░░░░░░░░░░░░░░░░░░░░░░░░░░░░░░░░░░░░░░░░░░░░░░░░░░░ 12.8%"
     ]
    },
    {
     "name": "stderr",
     "output_type": "stream",
     "text": [
      "[WARNING] 1 utterances containing language switches on lines 1\n",
      "[WARNING] extra phones may appear in the \"cmn\" phoneset\n",
      "[WARNING] language switch flags have been removed (applying \"remove-flags\" policy)\n"
     ]
    },
    {
     "name": "stdout",
     "output_type": "stream",
     "text": [
      "Building phoneme dictionary: █████████░░░░░░░░░░░░░░░░░░░░░░░░░░░░░░░░░░░░░░░░░░░░░░░░░░░░░░░░░░░░░░ 13.0%"
     ]
    },
    {
     "name": "stderr",
     "output_type": "stream",
     "text": [
      "[WARNING] 1 utterances containing language switches on lines 1\n",
      "[WARNING] extra phones may appear in the \"cmn\" phoneset\n",
      "[WARNING] language switch flags have been removed (applying \"remove-flags\" policy)\n"
     ]
    },
    {
     "name": "stdout",
     "output_type": "stream",
     "text": [
      "Building phoneme dictionary: █████████▒░░░░░░░░░░░░░░░░░░░░░░░░░░░░░░░░░░░░░░░░░░░░░░░░░░░░░░░░░░░░░ 13.8%"
     ]
    },
    {
     "name": "stderr",
     "output_type": "stream",
     "text": [
      "[WARNING] 1 utterances containing language switches on lines 1\n",
      "[WARNING] extra phones may appear in the \"cmn\" phoneset\n",
      "[WARNING] language switch flags have been removed (applying \"remove-flags\" policy)\n"
     ]
    },
    {
     "name": "stdout",
     "output_type": "stream",
     "text": [
      "Building phoneme dictionary: █████████▓░░░░░░░░░░░░░░░░░░░░░░░░░░░░░░░░░░░░░░░░░░░░░░░░░░░░░░░░░░░░░ 13.9%"
     ]
    },
    {
     "name": "stderr",
     "output_type": "stream",
     "text": [
      "[WARNING] 1 utterances containing language switches on lines 1\n",
      "[WARNING] extra phones may appear in the \"cmn\" phoneset\n",
      "[WARNING] language switch flags have been removed (applying \"remove-flags\" policy)\n"
     ]
    },
    {
     "name": "stdout",
     "output_type": "stream",
     "text": [
      "Building phoneme dictionary: █████████▓░░░░░░░░░░░░░░░░░░░░░░░░░░░░░░░░░░░░░░░░░░░░░░░░░░░░░░░░░░░░░ 14.1%"
     ]
    },
    {
     "name": "stderr",
     "output_type": "stream",
     "text": [
      "[WARNING] 1 utterances containing language switches on lines 1\n",
      "[WARNING] extra phones may appear in the \"cmn\" phoneset\n",
      "[WARNING] language switch flags have been removed (applying \"remove-flags\" policy)\n"
     ]
    },
    {
     "name": "stdout",
     "output_type": "stream",
     "text": [
      "Building phoneme dictionary: █████████▓░░░░░░░░░░░░░░░░░░░░░░░░░░░░░░░░░░░░░░░░░░░░░░░░░░░░░░░░░░░░░ 14.1%"
     ]
    },
    {
     "name": "stderr",
     "output_type": "stream",
     "text": [
      "[ERROR] espeak: No envelope\n",
      "[ERROR] espeak: No envelope\n"
     ]
    },
    {
     "name": "stdout",
     "output_type": "stream",
     "text": [
      "Building phoneme dictionary: █████████▓░░░░░░░░░░░░░░░░░░░░░░░░░░░░░░░░░░░░░░░░░░░░░░░░░░░░░░░░░░░░░ 14.2%"
     ]
    },
    {
     "name": "stderr",
     "output_type": "stream",
     "text": [
      "[WARNING] 1 utterances containing language switches on lines 1\n",
      "[WARNING] extra phones may appear in the \"cmn\" phoneset\n",
      "[WARNING] language switch flags have been removed (applying \"remove-flags\" policy)\n"
     ]
    },
    {
     "name": "stdout",
     "output_type": "stream",
     "text": [
      "Building phoneme dictionary: █████████▓░░░░░░░░░░░░░░░░░░░░░░░░░░░░░░░░░░░░░░░░░░░░░░░░░░░░░░░░░░░░░ 14.2%"
     ]
    },
    {
     "name": "stderr",
     "output_type": "stream",
     "text": [
      "[WARNING] 1 utterances containing language switches on lines 1\n",
      "[WARNING] extra phones may appear in the \"cmn\" phoneset\n",
      "[WARNING] language switch flags have been removed (applying \"remove-flags\" policy)\n"
     ]
    },
    {
     "name": "stdout",
     "output_type": "stream",
     "text": [
      "Building phoneme dictionary: ██████████░░░░░░░░░░░░░░░░░░░░░░░░░░░░░░░░░░░░░░░░░░░░░░░░░░░░░░░░░░░░░ 14.3%"
     ]
    },
    {
     "name": "stderr",
     "output_type": "stream",
     "text": [
      "[WARNING] 1 utterances containing language switches on lines 1\n",
      "[WARNING] extra phones may appear in the \"cmn\" phoneset\n",
      "[WARNING] language switch flags have been removed (applying \"remove-flags\" policy)\n"
     ]
    },
    {
     "name": "stdout",
     "output_type": "stream",
     "text": [
      "Building phoneme dictionary: ██████████░░░░░░░░░░░░░░░░░░░░░░░░░░░░░░░░░░░░░░░░░░░░░░░░░░░░░░░░░░░░░ 14.4%"
     ]
    },
    {
     "name": "stderr",
     "output_type": "stream",
     "text": [
      "[ERROR] espeak: No envelope\n",
      "[ERROR] espeak: No envelope\n",
      "[ERROR] espeak: No envelope\n",
      "[ERROR] espeak: No envelope\n"
     ]
    },
    {
     "name": "stdout",
     "output_type": "stream",
     "text": [
      "Building phoneme dictionary: ██████████░░░░░░░░░░░░░░░░░░░░░░░░░░░░░░░░░░░░░░░░░░░░░░░░░░░░░░░░░░░░░ 14.7%"
     ]
    },
    {
     "name": "stderr",
     "output_type": "stream",
     "text": [
      "[ERROR] espeak: No envelope\n",
      "[ERROR] espeak: No envelope\n",
      "[ERROR] espeak: No envelope\n",
      "[ERROR] espeak: No envelope\n",
      "[ERROR] espeak: No envelope\n",
      "[ERROR] espeak: No envelope\n",
      "[ERROR] espeak: No envelope\n",
      "[ERROR] espeak: No envelope\n"
     ]
    },
    {
     "name": "stdout",
     "output_type": "stream",
     "text": [
      "Building phoneme dictionary: ██████████▒░░░░░░░░░░░░░░░░░░░░░░░░░░░░░░░░░░░░░░░░░░░░░░░░░░░░░░░░░░░░ 15.1%"
     ]
    },
    {
     "name": "stderr",
     "output_type": "stream",
     "text": [
      "[ERROR] espeak: No envelope\n",
      "[ERROR] espeak: No envelope\n",
      "[ERROR] espeak: No envelope\n",
      "[ERROR] espeak: No envelope\n",
      "[ERROR] espeak: No envelope\n",
      "[ERROR] espeak: No envelope\n",
      "[ERROR] espeak: No envelope\n",
      "[ERROR] espeak: No envelope\n",
      "[ERROR] espeak: No envelope\n",
      "[ERROR] espeak: No envelope\n",
      "[ERROR] espeak: No envelope\n",
      "[ERROR] espeak: No envelope\n"
     ]
    },
    {
     "name": "stdout",
     "output_type": "stream",
     "text": [
      "Building phoneme dictionary: ██████████▓░░░░░░░░░░░░░░░░░░░░░░░░░░░░░░░░░░░░░░░░░░░░░░░░░░░░░░░░░░░░ 15.5%"
     ]
    },
    {
     "name": "stderr",
     "output_type": "stream",
     "text": [
      "[ERROR] espeak: No envelope\n",
      "[ERROR] espeak: No envelope\n",
      "[ERROR] espeak: No envelope\n",
      "[ERROR] espeak: No envelope\n"
     ]
    },
    {
     "name": "stdout",
     "output_type": "stream",
     "text": [
      "Building phoneme dictionary: ██████████▓░░░░░░░░░░░░░░░░░░░░░░░░░░░░░░░░░░░░░░░░░░░░░░░░░░░░░░░░░░░░ 15.5%"
     ]
    },
    {
     "name": "stderr",
     "output_type": "stream",
     "text": [
      "[ERROR] espeak: No envelope\n",
      "[ERROR] espeak: No envelope\n",
      "[WARNING] 1 utterances containing language switches on lines 1\n",
      "[WARNING] extra phones may appear in the \"cmn\" phoneset\n",
      "[WARNING] language switch flags have been removed (applying \"remove-flags\" policy)\n"
     ]
    },
    {
     "name": "stdout",
     "output_type": "stream",
     "text": [
      "Building phoneme dictionary: ██████████▓░░░░░░░░░░░░░░░░░░░░░░░░░░░░░░░░░░░░░░░░░░░░░░░░░░░░░░░░░░░░ 15.5%"
     ]
    },
    {
     "name": "stderr",
     "output_type": "stream",
     "text": [
      "[WARNING] 1 utterances containing language switches on lines 1\n",
      "[WARNING] extra phones may appear in the \"cmn\" phoneset\n",
      "[WARNING] language switch flags have been removed (applying \"remove-flags\" policy)\n",
      "[ERROR] espeak: No envelope\n",
      "[ERROR] espeak: No envelope\n"
     ]
    },
    {
     "name": "stdout",
     "output_type": "stream",
     "text": [
      "Building phoneme dictionary: ██████████▓░░░░░░░░░░░░░░░░░░░░░░░░░░░░░░░░░░░░░░░░░░░░░░░░░░░░░░░░░░░░ 15.6%"
     ]
    },
    {
     "name": "stderr",
     "output_type": "stream",
     "text": [
      "[ERROR] espeak: No envelope\n",
      "[ERROR] espeak: No envelope\n",
      "[ERROR] espeak: No envelope\n",
      "[ERROR] espeak: No envelope\n"
     ]
    },
    {
     "name": "stdout",
     "output_type": "stream",
     "text": [
      "Building phoneme dictionary: ██████████▓░░░░░░░░░░░░░░░░░░░░░░░░░░░░░░░░░░░░░░░░░░░░░░░░░░░░░░░░░░░░ 15.6%"
     ]
    },
    {
     "name": "stderr",
     "output_type": "stream",
     "text": [
      "[WARNING] 1 utterances containing language switches on lines 1\n",
      "[WARNING] extra phones may appear in the \"cmn\" phoneset\n",
      "[WARNING] language switch flags have been removed (applying \"remove-flags\" policy)\n"
     ]
    },
    {
     "name": "stdout",
     "output_type": "stream",
     "text": [
      "Building phoneme dictionary: ███████████░░░░░░░░░░░░░░░░░░░░░░░░░░░░░░░░░░░░░░░░░░░░░░░░░░░░░░░░░░░░ 16.0%"
     ]
    },
    {
     "name": "stderr",
     "output_type": "stream",
     "text": [
      "[ERROR] espeak: No envelope\n",
      "[ERROR] espeak: No envelope\n",
      "[ERROR] espeak: No envelope\n",
      "[ERROR] espeak: No envelope\n",
      "[ERROR] espeak: No envelope\n",
      "[ERROR] espeak: No envelope\n",
      "[ERROR] espeak: No envelope\n",
      "[ERROR] espeak: No envelope\n"
     ]
    },
    {
     "name": "stdout",
     "output_type": "stream",
     "text": [
      "Building phoneme dictionary: ████████████████████████▒░░░░░░░░░░░░░░░░░░░░░░░░░░░░░░░░░░░░░░░░░░░░░░ 35.2%"
     ]
    },
    {
     "name": "stderr",
     "output_type": "stream",
     "text": [
      "IOPub message rate exceeded.\n",
      "The notebook server will temporarily stop sending output\n",
      "to the client in order to avoid crashing it.\n",
      "To change this limit, set the config variable\n",
      "`--NotebookApp.iopub_msg_rate_limit`.\n",
      "\n",
      "Current values:\n",
      "NotebookApp.iopub_msg_rate_limit=1000.0 (msgs/sec)\n",
      "NotebookApp.rate_limit_window=3.0 (secs)\n",
      "\n"
     ]
    },
    {
     "name": "stdout",
     "output_type": "stream",
     "text": [
      "Building phoneme dictionary: ███████████████████████████▓░░░░░░░░░░░░░░░░░░░░░░░░░░░░░░░░░░░░░░░░░░░ 39.9%"
     ]
    },
    {
     "name": "stderr",
     "output_type": "stream",
     "text": [
      "[ERROR] espeak: No envelope\n",
      "[ERROR] espeak: No envelope\n",
      "[ERROR] espeak: No envelope\n",
      "[ERROR] espeak: No envelope\n"
     ]
    },
    {
     "name": "stdout",
     "output_type": "stream",
     "text": [
      "Building phoneme dictionary: ████████████████████████████████████████▓░░░░░░░░░░░░░░░░░░░░░░░░░░░░░░ 58.2%"
     ]
    },
    {
     "name": "stderr",
     "output_type": "stream",
     "text": [
      "[ERROR] espeak: No envelope\n",
      "[ERROR] espeak: No envelope\n"
     ]
    },
    {
     "name": "stdout",
     "output_type": "stream",
     "text": [
      "Building phoneme dictionary: ████████████████████████████████████████▓░░░░░░░░░░░░░░░░░░░░░░░░░░░░░░ 58.5%"
     ]
    },
    {
     "name": "stderr",
     "output_type": "stream",
     "text": [
      "[ERROR] espeak: No envelope\n",
      "[ERROR] espeak: No envelope\n",
      "[ERROR] espeak: No envelope\n",
      "[ERROR] espeak: No envelope\n"
     ]
    },
    {
     "name": "stdout",
     "output_type": "stream",
     "text": [
      "Building phoneme dictionary: █████████████████████████████████████████░░░░░░░░░░░░░░░░░░░░░░░░░░░░░░ 58.9%"
     ]
    },
    {
     "name": "stderr",
     "output_type": "stream",
     "text": [
      "[WARNING] 1 utterances containing language switches on lines 1\n",
      "[WARNING] extra phones may appear in the \"cmn\" phoneset\n",
      "[WARNING] language switch flags have been removed (applying \"remove-flags\" policy)\n"
     ]
    },
    {
     "name": "stdout",
     "output_type": "stream",
     "text": [
      "\r",
      "Building phoneme dictionary: █████████████████████████████████████████░░░░░░░░░░░░░░░░░░░░░░░░░░░░░░ 58.9%"
     ]
    },
    {
     "name": "stderr",
     "output_type": "stream",
     "text": [
      "[WARNING] 1 utterances containing language switches on lines 1\n",
      "[WARNING] extra phones may appear in the \"cmn\" phoneset\n",
      "[WARNING] language switch flags have been removed (applying \"remove-flags\" policy)\n"
     ]
    },
    {
     "name": "stdout",
     "output_type": "stream",
     "text": [
      "\r",
      "Building phoneme dictionary: █████████████████████████████████████████░░░░░░░░░░░░░░░░░░░░░░░░░░░░░░ 58.9%"
     ]
    },
    {
     "name": "stderr",
     "output_type": "stream",
     "text": [
      "[ERROR] espeak: No envelope\n",
      "[ERROR] espeak: No envelope\n",
      "[ERROR] espeak: No envelope\n",
      "[ERROR] espeak: No envelope\n"
     ]
    },
    {
     "name": "stdout",
     "output_type": "stream",
     "text": [
      "\r",
      "Building phoneme dictionary: █████████████████████████████████████████░░░░░░░░░░░░░░░░░░░░░░░░░░░░░░ 58.9%"
     ]
    },
    {
     "name": "stderr",
     "output_type": "stream",
     "text": [
      "[ERROR] espeak: No envelope\n",
      "[ERROR] espeak: No envelope\n",
      "[ERROR] espeak: No envelope\n",
      "[ERROR] espeak: No envelope\n"
     ]
    },
    {
     "name": "stdout",
     "output_type": "stream",
     "text": [
      "\r",
      "Building phoneme dictionary: █████████████████████████████████████████░░░░░░░░░░░░░░░░░░░░░░░░░░░░░░ 58.9%"
     ]
    },
    {
     "name": "stderr",
     "output_type": "stream",
     "text": [
      "[ERROR] espeak: No envelope\n",
      "[ERROR] espeak: No envelope\n",
      "[ERROR] espeak: No envelope\n",
      "[ERROR] espeak: No envelope\n",
      "[ERROR] espeak: No envelope\n"
     ]
    },
    {
     "name": "stdout",
     "output_type": "stream",
     "text": [
      "Building phoneme dictionary: █████████████████████████████████████████░░░░░░░░░░░░░░░░░░░░░░░░░░░░░░ 58.9%"
     ]
    },
    {
     "name": "stderr",
     "output_type": "stream",
     "text": [
      "[WARNING] 1 utterances containing language switches on lines 1\n",
      "[WARNING] extra phones may appear in the \"cmn\" phoneset\n",
      "[WARNING] language switch flags have been removed (applying \"remove-flags\" policy)\n"
     ]
    },
    {
     "name": "stdout",
     "output_type": "stream",
     "text": [
      "\r",
      "Building phoneme dictionary: █████████████████████████████████████████░░░░░░░░░░░░░░░░░░░░░░░░░░░░░░ 58.9%"
     ]
    },
    {
     "name": "stderr",
     "output_type": "stream",
     "text": [
      "[ERROR] espeak: No envelope\n",
      "[ERROR] espeak: No envelope\n",
      "[ERROR] espeak: No envelope\n",
      "[ERROR] espeak: No envelope\n",
      "[WARNING] 1 utterances containing language switches on lines 1\n",
      "[WARNING] extra phones may appear in the \"cmn\" phoneset\n",
      "[WARNING] language switch flags have been removed (applying \"remove-flags\" policy)\n"
     ]
    },
    {
     "name": "stdout",
     "output_type": "stream",
     "text": [
      "Building phoneme dictionary: █████████████████████████████████████████░░░░░░░░░░░░░░░░░░░░░░░░░░░░░░ 59.0%"
     ]
    },
    {
     "name": "stderr",
     "output_type": "stream",
     "text": [
      "[WARNING] 1 utterances containing language switches on lines 1\n",
      "[WARNING] extra phones may appear in the \"cmn\" phoneset\n",
      "[WARNING] language switch flags have been removed (applying \"remove-flags\" policy)\n",
      "[ERROR] espeak: No envelope\n",
      "[ERROR] espeak: No envelope\n",
      "[ERROR] espeak: No envelope\n",
      "[ERROR] espeak: No envelope\n",
      "[ERROR] espeak: No envelope\n",
      "[ERROR] espeak: No envelope\n"
     ]
    },
    {
     "name": "stdout",
     "output_type": "stream",
     "text": [
      "Building phoneme dictionary: █████████████████████████████████████████░░░░░░░░░░░░░░░░░░░░░░░░░░░░░░ 59.0%"
     ]
    },
    {
     "name": "stderr",
     "output_type": "stream",
     "text": [
      "[WARNING] 1 utterances containing language switches on lines 1\n",
      "[WARNING] extra phones may appear in the \"cmn\" phoneset\n",
      "[WARNING] language switch flags have been removed (applying \"remove-flags\" policy)\n",
      "[WARNING] 1 utterances containing language switches on lines 1\n",
      "[WARNING] extra phones may appear in the \"cmn\" phoneset\n",
      "[WARNING] language switch flags have been removed (applying \"remove-flags\" policy)\n"
     ]
    },
    {
     "name": "stdout",
     "output_type": "stream",
     "text": [
      "Building phoneme dictionary: █████████████████████████████████████████░░░░░░░░░░░░░░░░░░░░░░░░░░░░░░ 59.0%"
     ]
    },
    {
     "name": "stderr",
     "output_type": "stream",
     "text": [
      "[WARNING] 1 utterances containing language switches on lines 1\n",
      "[WARNING] extra phones may appear in the \"cmn\" phoneset\n",
      "[WARNING] language switch flags have been removed (applying \"remove-flags\" policy)\n"
     ]
    },
    {
     "name": "stdout",
     "output_type": "stream",
     "text": [
      "Building phoneme dictionary: █████████████████████████████████████████▒░░░░░░░░░░░░░░░░░░░░░░░░░░░░░ 59.1%"
     ]
    },
    {
     "name": "stderr",
     "output_type": "stream",
     "text": [
      "[ERROR] espeak: No envelope\n",
      "[ERROR] espeak: No envelope\n",
      "[ERROR] espeak: No envelope\n",
      "[ERROR] espeak: No envelope\n",
      "[ERROR] espeak: No envelope\n",
      "[ERROR] espeak: No envelope\n",
      "[ERROR] espeak: No envelope\n"
     ]
    },
    {
     "name": "stdout",
     "output_type": "stream",
     "text": [
      "\r",
      "Building phoneme dictionary: █████████████████████████████████████████▒░░░░░░░░░░░░░░░░░░░░░░░░░░░░░ 59.1%"
     ]
    },
    {
     "name": "stderr",
     "output_type": "stream",
     "text": [
      "[ERROR] espeak: No envelope\n",
      "[ERROR] espeak: No envelope\n",
      "[ERROR] espeak: No envelope\n",
      "[ERROR] espeak: No envelope\n",
      "[ERROR] espeak: No envelope\n",
      "[ERROR] espeak: No envelope\n"
     ]
    },
    {
     "name": "stdout",
     "output_type": "stream",
     "text": [
      "Building phoneme dictionary: █████████████████████████████████████████▒░░░░░░░░░░░░░░░░░░░░░░░░░░░░░ 59.1%"
     ]
    },
    {
     "name": "stderr",
     "output_type": "stream",
     "text": [
      "[WARNING] 1 utterances containing language switches on lines 1\n",
      "[WARNING] extra phones may appear in the \"cmn\" phoneset\n",
      "[WARNING] language switch flags have been removed (applying \"remove-flags\" policy)\n"
     ]
    },
    {
     "name": "stdout",
     "output_type": "stream",
     "text": [
      "Building phoneme dictionary: █████████████████████████████████████████▒░░░░░░░░░░░░░░░░░░░░░░░░░░░░░ 59.2%"
     ]
    },
    {
     "name": "stderr",
     "output_type": "stream",
     "text": [
      "[ERROR] espeak: No envelope\n",
      "[ERROR] espeak: No envelope\n",
      "[ERROR] espeak: No envelope\n",
      "[ERROR] espeak: No envelope\n"
     ]
    },
    {
     "name": "stdout",
     "output_type": "stream",
     "text": [
      "Building phoneme dictionary: █████████████████████████████████████████▒░░░░░░░░░░░░░░░░░░░░░░░░░░░░░ 59.2%"
     ]
    },
    {
     "name": "stderr",
     "output_type": "stream",
     "text": [
      "[WARNING] 1 utterances containing language switches on lines 1\n",
      "[WARNING] extra phones may appear in the \"cmn\" phoneset\n",
      "[WARNING] language switch flags have been removed (applying \"remove-flags\" policy)\n",
      "[ERROR] espeak: No envelope\n",
      "[ERROR] espeak: No envelope\n"
     ]
    },
    {
     "name": "stdout",
     "output_type": "stream",
     "text": [
      "\r",
      "Building phoneme dictionary: █████████████████████████████████████████▒░░░░░░░░░░░░░░░░░░░░░░░░░░░░░ 59.2%"
     ]
    },
    {
     "name": "stderr",
     "output_type": "stream",
     "text": [
      "[WARNING] 1 utterances containing language switches on lines 1\n",
      "[WARNING] extra phones may appear in the \"cmn\" phoneset\n",
      "[WARNING] language switch flags have been removed (applying \"remove-flags\" policy)\n"
     ]
    },
    {
     "name": "stdout",
     "output_type": "stream",
     "text": [
      "Building phoneme dictionary: █████████████████████████████████████████▒░░░░░░░░░░░░░░░░░░░░░░░░░░░░░ 59.4%"
     ]
    },
    {
     "name": "stderr",
     "output_type": "stream",
     "text": [
      "[WARNING] 1 utterances containing language switches on lines 1\n",
      "[WARNING] extra phones may appear in the \"cmn\" phoneset\n",
      "[WARNING] language switch flags have been removed (applying \"remove-flags\" policy)\n"
     ]
    },
    {
     "name": "stdout",
     "output_type": "stream",
     "text": [
      "Building phoneme dictionary: █████████████████████████████████████████▒░░░░░░░░░░░░░░░░░░░░░░░░░░░░░ 59.4%"
     ]
    },
    {
     "name": "stderr",
     "output_type": "stream",
     "text": [
      "[ERROR] espeak: No envelope\n",
      "[ERROR] espeak: No envelope\n"
     ]
    },
    {
     "name": "stdout",
     "output_type": "stream",
     "text": [
      "Building phoneme dictionary: █████████████████████████████████████████▒░░░░░░░░░░░░░░░░░░░░░░░░░░░░░ 59.4%"
     ]
    },
    {
     "name": "stderr",
     "output_type": "stream",
     "text": [
      "[ERROR] espeak: No envelope\n",
      "[ERROR] espeak: No envelope\n",
      "[ERROR] espeak: No envelope\n",
      "[ERROR] espeak: No envelope\n",
      "[ERROR] espeak: No envelope\n",
      "[ERROR] espeak: No envelope\n"
     ]
    },
    {
     "name": "stdout",
     "output_type": "stream",
     "text": [
      "Building phoneme dictionary: █████████████████████████████████████████▒░░░░░░░░░░░░░░░░░░░░░░░░░░░░░ 59.4%"
     ]
    },
    {
     "name": "stderr",
     "output_type": "stream",
     "text": [
      "[ERROR] espeak: No envelope\n",
      "[ERROR] espeak: No envelope\n",
      "[ERROR] espeak: No envelope\n",
      "[ERROR] espeak: No envelope\n",
      "[ERROR] espeak: No envelope\n"
     ]
    },
    {
     "name": "stdout",
     "output_type": "stream",
     "text": [
      "Building phoneme dictionary: █████████████████████████████████████████▒░░░░░░░░░░░░░░░░░░░░░░░░░░░░░ 59.5%"
     ]
    },
    {
     "name": "stderr",
     "output_type": "stream",
     "text": [
      "[WARNING] 1 utterances containing language switches on lines 1\n",
      "[WARNING] extra phones may appear in the \"cmn\" phoneset\n",
      "[WARNING] language switch flags have been removed (applying \"remove-flags\" policy)\n"
     ]
    },
    {
     "name": "stdout",
     "output_type": "stream",
     "text": [
      "Building phoneme dictionary: ███████████████████████████████████████████████████████░░░░░░░░░░░░░░░░ 78.7%"
     ]
    },
    {
     "name": "stderr",
     "output_type": "stream",
     "text": [
      "IOPub message rate exceeded.\n",
      "The notebook server will temporarily stop sending output\n",
      "to the client in order to avoid crashing it.\n",
      "To change this limit, set the config variable\n",
      "`--NotebookApp.iopub_msg_rate_limit`.\n",
      "\n",
      "Current values:\n",
      "NotebookApp.iopub_msg_rate_limit=1000.0 (msgs/sec)\n",
      "NotebookApp.rate_limit_window=3.0 (secs)\n",
      "\n",
      "[ERROR] espeak: No envelope\n",
      "[ERROR] espeak: No envelope\n",
      "[ERROR] espeak: No envelope\n",
      "[ERROR] espeak: No envelope\n",
      "[ERROR] espeak: No envelope\n",
      "[WARNING] 1 utterances containing language switches on lines 1\n",
      "[WARNING] extra phones may appear in the \"cmn\" phoneset\n",
      "[WARNING] language switch flags have been removed (applying \"remove-flags\" policy)\n"
     ]
    },
    {
     "name": "stdout",
     "output_type": "stream",
     "text": [
      "Building phoneme dictionary: ██████████████████████████████████████████████████████████▓░░░░░░░░░░░░ 84.1%"
     ]
    },
    {
     "name": "stderr",
     "output_type": "stream",
     "text": [
      "[ERROR] espeak: No envelope\n",
      "[ERROR] espeak: No envelope\n"
     ]
    },
    {
     "name": "stdout",
     "output_type": "stream",
     "text": [
      "Building phoneme dictionary: ██████████████████████████████████████████████████████████▓░░░░░░░░░░░░ 84.1%"
     ]
    },
    {
     "name": "stderr",
     "output_type": "stream",
     "text": [
      "[ERROR] espeak: No envelope\n",
      "[ERROR] espeak: No envelope\n"
     ]
    },
    {
     "name": "stdout",
     "output_type": "stream",
     "text": [
      "\r",
      "Building phoneme dictionary: ██████████████████████████████████████████████████████████▓░░░░░░░░░░░░ 84.2%"
     ]
    },
    {
     "name": "stderr",
     "output_type": "stream",
     "text": [
      "[ERROR] espeak: No envelope\n",
      "[ERROR] espeak: No envelope\n",
      "[ERROR] espeak: No envelope\n",
      "[ERROR] espeak: No envelope\n",
      "[WARNING] 1 utterances containing language switches on lines 1\n",
      "[WARNING] extra phones may appear in the \"cmn\" phoneset\n",
      "[WARNING] language switch flags have been removed (applying \"remove-flags\" policy)\n",
      "[ERROR] espeak: No envelope\n",
      "[ERROR] espeak: No envelope\n",
      "[ERROR] espeak: No envelope\n",
      "[ERROR] espeak: No envelope\n",
      "[ERROR] espeak: No envelope\n",
      "[ERROR] espeak: No envelope\n"
     ]
    },
    {
     "name": "stdout",
     "output_type": "stream",
     "text": [
      "Building phoneme dictionary: ██████████████████████████████████████████████████████████▓░░░░░░░░░░░░ 84.2%"
     ]
    },
    {
     "name": "stderr",
     "output_type": "stream",
     "text": [
      "[WARNING] 1 utterances containing language switches on lines 1\n",
      "[WARNING] extra phones may appear in the \"cmn\" phoneset\n",
      "[WARNING] language switch flags have been removed (applying \"remove-flags\" policy)\n"
     ]
    },
    {
     "name": "stdout",
     "output_type": "stream",
     "text": [
      "Building phoneme dictionary: ██████████████████████████████████████████████████████████▓░░░░░░░░░░░░ 84.2%"
     ]
    },
    {
     "name": "stderr",
     "output_type": "stream",
     "text": [
      "[WARNING] 1 utterances containing language switches on lines 1\n",
      "[WARNING] extra phones may appear in the \"cmn\" phoneset\n",
      "[WARNING] language switch flags have been removed (applying \"remove-flags\" policy)\n"
     ]
    },
    {
     "name": "stdout",
     "output_type": "stream",
     "text": [
      "Building phoneme dictionary: ██████████████████████████████████████████████████████████▓░░░░░░░░░░░░ 84.3%"
     ]
    },
    {
     "name": "stderr",
     "output_type": "stream",
     "text": [
      "[ERROR] espeak: No envelope\n",
      "[ERROR] espeak: No envelope\n",
      "[ERROR] espeak: No envelope\n",
      "[ERROR] espeak: No envelope\n",
      "[ERROR] espeak: No envelope\n",
      "[ERROR] espeak: No envelope\n",
      "[ERROR] espeak: No envelope\n",
      "[ERROR] espeak: No envelope\n",
      "[ERROR] espeak: No envelope\n",
      "[ERROR] espeak: No envelope\n"
     ]
    },
    {
     "name": "stdout",
     "output_type": "stream",
     "text": [
      "Building phoneme dictionary: ██████████████████████████████████████████████████████████▓░░░░░░░░░░░░ 84.3%"
     ]
    },
    {
     "name": "stderr",
     "output_type": "stream",
     "text": [
      "[ERROR] espeak: No envelope\n",
      "[ERROR] espeak: No envelope\n",
      "[ERROR] espeak: No envelope\n",
      "[ERROR] espeak: No envelope\n"
     ]
    },
    {
     "name": "stdout",
     "output_type": "stream",
     "text": [
      "Building phoneme dictionary: ███████████████████████████████████████████████████████████░░░░░░░░░░░░ 84.5%"
     ]
    },
    {
     "name": "stderr",
     "output_type": "stream",
     "text": [
      "[ERROR] espeak: No envelope\n",
      "[ERROR] espeak: No envelope\n",
      "[ERROR] espeak: No envelope\n",
      "[ERROR] espeak: No envelope\n",
      "[WARNING] 1 utterances containing language switches on lines 1\n",
      "[WARNING] extra phones may appear in the \"cmn\" phoneset\n",
      "[WARNING] language switch flags have been removed (applying \"remove-flags\" policy)\n"
     ]
    },
    {
     "name": "stdout",
     "output_type": "stream",
     "text": [
      "Building phoneme dictionary: ███████████████████████████████████████████████████████████░░░░░░░░░░░░ 84.5%"
     ]
    },
    {
     "name": "stderr",
     "output_type": "stream",
     "text": [
      "[ERROR] espeak: No envelope\n",
      "[ERROR] espeak: No envelope\n",
      "[ERROR] espeak: No envelope\n",
      "[ERROR] espeak: No envelope\n",
      "[ERROR] espeak: No envelope\n"
     ]
    },
    {
     "name": "stdout",
     "output_type": "stream",
     "text": [
      "Building phoneme dictionary: ███████████████████████████████████████████████████████████░░░░░░░░░░░░ 84.5%"
     ]
    },
    {
     "name": "stderr",
     "output_type": "stream",
     "text": [
      "[ERROR] espeak: No envelope\n",
      "[ERROR] espeak: No envelope\n",
      "[ERROR] espeak: No envelope\n",
      "[ERROR] espeak: No envelope\n",
      "[ERROR] espeak: No envelope\n",
      "[ERROR] espeak: No envelope\n"
     ]
    },
    {
     "name": "stdout",
     "output_type": "stream",
     "text": [
      "Building phoneme dictionary: ███████████████████████████████████████████████████████████░░░░░░░░░░░░ 84.5%"
     ]
    },
    {
     "name": "stderr",
     "output_type": "stream",
     "text": [
      "[ERROR] espeak: No envelope\n",
      "[ERROR] espeak: No envelope\n",
      "[ERROR] espeak: No envelope\n"
     ]
    },
    {
     "name": "stdout",
     "output_type": "stream",
     "text": [
      "Building phoneme dictionary: ███████████████████████████████████████████████████████████░░░░░░░░░░░░ 84.6%"
     ]
    },
    {
     "name": "stderr",
     "output_type": "stream",
     "text": [
      "[WARNING] 1 utterances containing language switches on lines 1\n",
      "[WARNING] extra phones may appear in the \"cmn\" phoneset\n",
      "[WARNING] language switch flags have been removed (applying \"remove-flags\" policy)\n"
     ]
    },
    {
     "name": "stdout",
     "output_type": "stream",
     "text": [
      "Building phoneme dictionary: ███████████████████████████████████████████████████████████░░░░░░░░░░░░ 84.7%"
     ]
    },
    {
     "name": "stderr",
     "output_type": "stream",
     "text": [
      "[ERROR] espeak: No envelope\n",
      "[ERROR] espeak: No envelope\n"
     ]
    },
    {
     "name": "stdout",
     "output_type": "stream",
     "text": [
      "Building phoneme dictionary: ███████████████████████████████████████████████████████████░░░░░░░░░░░░ 84.7%"
     ]
    },
    {
     "name": "stderr",
     "output_type": "stream",
     "text": [
      "[ERROR] espeak: No envelope\n",
      "[ERROR] espeak: No envelope\n",
      "[ERROR] espeak: No envelope\n",
      "[ERROR] espeak: No envelope\n",
      "[ERROR] espeak: No envelope\n"
     ]
    },
    {
     "name": "stdout",
     "output_type": "stream",
     "text": [
      "Building phoneme dictionary: ███████████████████████████████████████████████████████████▒░░░░░░░░░░░ 84.8%"
     ]
    },
    {
     "name": "stderr",
     "output_type": "stream",
     "text": [
      "[ERROR] espeak: No envelope\n",
      "[ERROR] espeak: No envelope\n",
      "[ERROR] espeak: No envelope\n",
      "[ERROR] espeak: No envelope\n",
      "[ERROR] espeak: No envelope\n"
     ]
    },
    {
     "name": "stdout",
     "output_type": "stream",
     "text": [
      "Building phoneme dictionary: ███████████████████████████████████████████████████████████▒░░░░░░░░░░░ 84.9%"
     ]
    },
    {
     "name": "stderr",
     "output_type": "stream",
     "text": [
      "[ERROR] espeak: No envelope\n",
      "[ERROR] espeak: No envelope\n"
     ]
    },
    {
     "name": "stdout",
     "output_type": "stream",
     "text": [
      "Building phoneme dictionary: ███████████████████████████████████████████████████████████▒░░░░░░░░░░░ 84.9%"
     ]
    },
    {
     "name": "stderr",
     "output_type": "stream",
     "text": [
      "[ERROR] espeak: No envelope\n",
      "[ERROR] espeak: No envelope\n",
      "[ERROR] espeak: No envelope\n",
      "[ERROR] espeak: No envelope\n",
      "[ERROR] espeak: No envelope\n",
      "[ERROR] espeak: No envelope\n"
     ]
    },
    {
     "name": "stdout",
     "output_type": "stream",
     "text": [
      "Building phoneme dictionary: ███████████████████████████████████████████████████████████▒░░░░░░░░░░░ 84.9%"
     ]
    },
    {
     "name": "stderr",
     "output_type": "stream",
     "text": [
      "[ERROR] espeak: No envelope\n",
      "[ERROR] espeak: No envelope\n",
      "[ERROR] espeak: No envelope\n",
      "[ERROR] espeak: No envelope\n"
     ]
    },
    {
     "name": "stdout",
     "output_type": "stream",
     "text": [
      "Building phoneme dictionary: ███████████████████████████████████████████████████████████▒░░░░░░░░░░░ 85.0%"
     ]
    },
    {
     "name": "stderr",
     "output_type": "stream",
     "text": [
      "[ERROR] espeak: No envelope\n",
      "[ERROR] espeak: No envelope\n"
     ]
    },
    {
     "name": "stdout",
     "output_type": "stream",
     "text": [
      "\r",
      "Building phoneme dictionary: ███████████████████████████████████████████████████████████▒░░░░░░░░░░░ 85.0%"
     ]
    },
    {
     "name": "stderr",
     "output_type": "stream",
     "text": [
      "[WARNING] 1 utterances containing language switches on lines 1\n",
      "[WARNING] extra phones may appear in the \"cmn\" phoneset\n",
      "[WARNING] language switch flags have been removed (applying \"remove-flags\" policy)\n"
     ]
    },
    {
     "name": "stdout",
     "output_type": "stream",
     "text": [
      "Building phoneme dictionary: ███████████████████████████████████████████████████████████▒░░░░░░░░░░░ 85.0%"
     ]
    },
    {
     "name": "stderr",
     "output_type": "stream",
     "text": [
      "[ERROR] espeak: No envelope\n",
      "[ERROR] espeak: No envelope\n"
     ]
    },
    {
     "name": "stdout",
     "output_type": "stream",
     "text": [
      "Building phoneme dictionary: ███████████████████████████████████████████████████████████▒░░░░░░░░░░░ 85.0%"
     ]
    },
    {
     "name": "stderr",
     "output_type": "stream",
     "text": [
      "[WARNING] 1 utterances containing language switches on lines 1\n",
      "[WARNING] extra phones may appear in the \"cmn\" phoneset\n",
      "[WARNING] language switch flags have been removed (applying \"remove-flags\" policy)\n",
      "[ERROR] espeak: No envelope\n",
      "[ERROR] espeak: No envelope\n",
      "[ERROR] espeak: No envelope\n"
     ]
    },
    {
     "name": "stdout",
     "output_type": "stream",
     "text": [
      "\r",
      "Building phoneme dictionary: ███████████████████████████████████████████████████████████▒░░░░░░░░░░░ 85.0%"
     ]
    },
    {
     "name": "stderr",
     "output_type": "stream",
     "text": [
      "[ERROR] espeak: No envelope\n",
      "[ERROR] espeak: No envelope\n",
      "[ERROR] espeak: No envelope\n",
      "[ERROR] espeak: No envelope\n"
     ]
    },
    {
     "name": "stdout",
     "output_type": "stream",
     "text": [
      "\r",
      "Building phoneme dictionary: ███████████████████████████████████████████████████████████▒░░░░░░░░░░░ 85.0%"
     ]
    },
    {
     "name": "stderr",
     "output_type": "stream",
     "text": [
      "[ERROR] espeak: No envelope\n",
      "[ERROR] espeak: No envelope\n"
     ]
    },
    {
     "name": "stdout",
     "output_type": "stream",
     "text": [
      "Building phoneme dictionary: ███████████████████████████████████████████████████████████▒░░░░░░░░░░░ 85.1%"
     ]
    },
    {
     "name": "stderr",
     "output_type": "stream",
     "text": [
      "[ERROR] espeak: No envelope\n",
      "[ERROR] espeak: No envelope\n",
      "[ERROR] espeak: No envelope\n"
     ]
    },
    {
     "name": "stdout",
     "output_type": "stream",
     "text": [
      "\r",
      "Building phoneme dictionary: ███████████████████████████████████████████████████████████▒░░░░░░░░░░░ 85.1%"
     ]
    },
    {
     "name": "stderr",
     "output_type": "stream",
     "text": [
      "[ERROR] espeak: No envelope\n",
      "[ERROR] espeak: No envelope\n",
      "[ERROR] espeak: No envelope\n"
     ]
    },
    {
     "name": "stdout",
     "output_type": "stream",
     "text": [
      "Building phoneme dictionary: ███████████████████████████████████████████████████████████▒░░░░░░░░░░░ 85.1%"
     ]
    },
    {
     "name": "stderr",
     "output_type": "stream",
     "text": [
      "[WARNING] 1 utterances containing language switches on lines 1\n",
      "[WARNING] extra phones may appear in the \"cmn\" phoneset\n",
      "[WARNING] language switch flags have been removed (applying \"remove-flags\" policy)\n"
     ]
    },
    {
     "name": "stdout",
     "output_type": "stream",
     "text": [
      "Building phoneme dictionary: ███████████████████████████████████████████████████████████▒░░░░░░░░░░░ 85.2%"
     ]
    },
    {
     "name": "stderr",
     "output_type": "stream",
     "text": [
      "[ERROR] espeak: No envelope\n",
      "[ERROR] espeak: No envelope\n",
      "[ERROR] espeak: No envelope\n",
      "[ERROR] espeak: No envelope\n",
      "[ERROR] espeak: No envelope\n"
     ]
    },
    {
     "name": "stdout",
     "output_type": "stream",
     "text": [
      "Building phoneme dictionary: ███████████████████████████████████████████████████████████▒░░░░░░░░░░░ 85.2%"
     ]
    },
    {
     "name": "stderr",
     "output_type": "stream",
     "text": [
      "[ERROR] espeak: No envelope\n",
      "[ERROR] espeak: No envelope\n",
      "[ERROR] espeak: No envelope\n",
      "[ERROR] espeak: No envelope\n",
      "[ERROR] espeak: No envelope\n"
     ]
    },
    {
     "name": "stdout",
     "output_type": "stream",
     "text": [
      "\r",
      "Building phoneme dictionary: ███████████████████████████████████████████████████████████▒░░░░░░░░░░░ 85.2%"
     ]
    },
    {
     "name": "stderr",
     "output_type": "stream",
     "text": [
      "[ERROR] espeak: No envelope\n",
      "[ERROR] espeak: No envelope\n",
      "[ERROR] espeak: No envelope\n",
      "[ERROR] espeak: No envelope\n",
      "[ERROR] espeak: No envelope\n",
      "[ERROR] espeak: No envelope\n"
     ]
    },
    {
     "name": "stdout",
     "output_type": "stream",
     "text": [
      "Building phoneme dictionary: ███████████████████████████████████████████████████████████▒░░░░░░░░░░░ 85.2%"
     ]
    },
    {
     "name": "stderr",
     "output_type": "stream",
     "text": [
      "[ERROR] espeak: No envelope\n",
      "[ERROR] espeak: No envelope\n",
      "[ERROR] espeak: No envelope\n",
      "[ERROR] espeak: No envelope\n"
     ]
    },
    {
     "name": "stdout",
     "output_type": "stream",
     "text": [
      "Building phoneme dictionary: ███████████████████████████████████████████████████████████▒░░░░░░░░░░░ 85.2%"
     ]
    },
    {
     "name": "stderr",
     "output_type": "stream",
     "text": [
      "[WARNING] 1 utterances containing language switches on lines 1\n",
      "[WARNING] extra phones may appear in the \"cmn\" phoneset\n",
      "[WARNING] language switch flags have been removed (applying \"remove-flags\" policy)\n"
     ]
    },
    {
     "name": "stdout",
     "output_type": "stream",
     "text": [
      "Building phoneme dictionary: ███████████████████████████████████████████████████████████▓░░░░░░░░░░░ 85.2%"
     ]
    },
    {
     "name": "stderr",
     "output_type": "stream",
     "text": [
      "[ERROR] espeak: No envelope\n",
      "[ERROR] espeak: No envelope\n"
     ]
    },
    {
     "name": "stdout",
     "output_type": "stream",
     "text": [
      "Building phoneme dictionary: ███████████████████████████████████████████████████████████▓░░░░░░░░░░░ 85.3%"
     ]
    },
    {
     "name": "stderr",
     "output_type": "stream",
     "text": [
      "[WARNING] 1 utterances containing language switches on lines 1\n",
      "[WARNING] extra phones may appear in the \"cmn\" phoneset\n",
      "[WARNING] language switch flags have been removed (applying \"remove-flags\" policy)\n"
     ]
    },
    {
     "name": "stdout",
     "output_type": "stream",
     "text": [
      "Building phoneme dictionary: ███████████████████████████████████████████████████████████▓░░░░░░░░░░░ 85.3%"
     ]
    },
    {
     "name": "stderr",
     "output_type": "stream",
     "text": [
      "[ERROR] espeak: No envelope\n",
      "[ERROR] espeak: No envelope\n",
      "[ERROR] espeak: No envelope\n"
     ]
    },
    {
     "name": "stdout",
     "output_type": "stream",
     "text": [
      "Building phoneme dictionary: ███████████████████████████████████████████████████████████▓░░░░░░░░░░░ 85.3%"
     ]
    },
    {
     "name": "stderr",
     "output_type": "stream",
     "text": [
      "[WARNING] 1 utterances containing language switches on lines 1\n",
      "[WARNING] extra phones may appear in the \"cmn\" phoneset\n",
      "[WARNING] language switch flags have been removed (applying \"remove-flags\" policy)\n"
     ]
    },
    {
     "name": "stdout",
     "output_type": "stream",
     "text": [
      "Building phoneme dictionary: ███████████████████████████████████████████████████████████▓░░░░░░░░░░░ 85.4%"
     ]
    },
    {
     "name": "stderr",
     "output_type": "stream",
     "text": [
      "[WARNING] 1 utterances containing language switches on lines 1\n",
      "[WARNING] extra phones may appear in the \"cmn\" phoneset\n",
      "[WARNING] language switch flags have been removed (applying \"remove-flags\" policy)\n"
     ]
    },
    {
     "name": "stdout",
     "output_type": "stream",
     "text": [
      "Building phoneme dictionary: ███████████████████████████████████████████████████████████▓░░░░░░░░░░░ 85.4%"
     ]
    },
    {
     "name": "stderr",
     "output_type": "stream",
     "text": [
      "[WARNING] 1 utterances containing language switches on lines 1\n",
      "[WARNING] extra phones may appear in the \"cmn\" phoneset\n",
      "[WARNING] language switch flags have been removed (applying \"remove-flags\" policy)\n"
     ]
    },
    {
     "name": "stdout",
     "output_type": "stream",
     "text": [
      "Building phoneme dictionary: ███████████████████████████████████████████████████████████▓░░░░░░░░░░░ 85.4%"
     ]
    },
    {
     "name": "stderr",
     "output_type": "stream",
     "text": [
      "[WARNING] 1 utterances containing language switches on lines 1\n",
      "[WARNING] extra phones may appear in the \"cmn\" phoneset\n",
      "[WARNING] language switch flags have been removed (applying \"remove-flags\" policy)\n"
     ]
    },
    {
     "name": "stdout",
     "output_type": "stream",
     "text": [
      "Building phoneme dictionary: ███████████████████████████████████████████████████████████▓░░░░░░░░░░░ 85.4%"
     ]
    },
    {
     "name": "stderr",
     "output_type": "stream",
     "text": [
      "[WARNING] 1 utterances containing language switches on lines 1\n",
      "[WARNING] extra phones may appear in the \"cmn\" phoneset\n",
      "[WARNING] language switch flags have been removed (applying \"remove-flags\" policy)\n"
     ]
    },
    {
     "name": "stdout",
     "output_type": "stream",
     "text": [
      "Building phoneme dictionary: ███████████████████████████████████████████████████████████▓░░░░░░░░░░░ 85.5%"
     ]
    },
    {
     "name": "stderr",
     "output_type": "stream",
     "text": [
      "[WARNING] 1 utterances containing language switches on lines 1\n",
      "[WARNING] extra phones may appear in the \"cmn\" phoneset\n",
      "[WARNING] language switch flags have been removed (applying \"remove-flags\" policy)\n",
      "[WARNING] 1 utterances containing language switches on lines 1\n",
      "[WARNING] extra phones may appear in the \"cmn\" phoneset\n",
      "[WARNING] language switch flags have been removed (applying \"remove-flags\" policy)\n"
     ]
    },
    {
     "name": "stdout",
     "output_type": "stream",
     "text": [
      "Building phoneme dictionary: ███████████████████████████████████████████████████████████▓░░░░░░░░░░░ 85.5%"
     ]
    },
    {
     "name": "stderr",
     "output_type": "stream",
     "text": [
      "[WARNING] 1 utterances containing language switches on lines 1\n",
      "[WARNING] extra phones may appear in the \"cmn\" phoneset\n",
      "[WARNING] language switch flags have been removed (applying \"remove-flags\" policy)\n"
     ]
    },
    {
     "name": "stdout",
     "output_type": "stream",
     "text": [
      "Building phoneme dictionary: ███████████████████████████████████████████████████████████▓░░░░░░░░░░░ 85.5%"
     ]
    },
    {
     "name": "stderr",
     "output_type": "stream",
     "text": [
      "[ERROR] espeak: No envelope\n",
      "[ERROR] espeak: No envelope\n",
      "[ERROR] espeak: No envelope\n",
      "[ERROR] espeak: No envelope\n",
      "[ERROR] espeak: No envelope\n",
      "[ERROR] espeak: No envelope\n"
     ]
    },
    {
     "name": "stdout",
     "output_type": "stream",
     "text": [
      "Building phoneme dictionary: ███████████████████████████████████████████████████████████▓░░░░░░░░░░░ 85.6%"
     ]
    },
    {
     "name": "stderr",
     "output_type": "stream",
     "text": [
      "[ERROR] espeak: No envelope\n",
      "[ERROR] espeak: No envelope\n"
     ]
    },
    {
     "name": "stdout",
     "output_type": "stream",
     "text": [
      "Building phoneme dictionary: ███████████████████████████████████████████████████████████▓░░░░░░░░░░░ 85.6%"
     ]
    },
    {
     "name": "stderr",
     "output_type": "stream",
     "text": [
      "[ERROR] espeak: No envelope\n",
      "[ERROR] espeak: No envelope\n",
      "[ERROR] espeak: No envelope\n",
      "[ERROR] espeak: No envelope\n"
     ]
    },
    {
     "name": "stdout",
     "output_type": "stream",
     "text": [
      "Building phoneme dictionary: ███████████████████████████████████████████████████████████▓░░░░░░░░░░░ 85.6%"
     ]
    },
    {
     "name": "stderr",
     "output_type": "stream",
     "text": [
      "[WARNING] 1 utterances containing language switches on lines 1\n",
      "[WARNING] extra phones may appear in the \"cmn\" phoneset\n",
      "[WARNING] language switch flags have been removed (applying \"remove-flags\" policy)\n"
     ]
    },
    {
     "name": "stdout",
     "output_type": "stream",
     "text": [
      "Building phoneme dictionary: █████████████████████████████████████████████████████████████████████▓ 100.0%%\n"
     ]
    }
   ],
   "source": [
    "# text_lang_pairs=[(row.sentence_text,'cmn')for _,row in df_sum.iterrows()]\n",
    "# phoneme_dict = build_phoneme_dicts(text_lang_pairs)"
   ]
  },
  {
   "cell_type": "code",
   "execution_count": 15,
   "metadata": {
    "code_folding": []
   },
   "outputs": [],
   "source": [
    "import json\n",
    "\n",
    "with open(r'phoneme_cmn_dict.json', 'w+') as f:\n",
    "    json.dump(phoneme_dict,f)\n"
   ]
  },
  {
   "cell_type": "code",
   "execution_count": 16,
   "metadata": {
    "code_folding": [],
    "scrolled": true
   },
   "outputs": [
    {
     "name": "stderr",
     "output_type": "stream",
     "text": [
      "[WARNING] 1 utterances containing language switches on lines 2\n",
      "[WARNING] extra phones may appear in the \"cmn\" phoneset\n",
      "[WARNING] language switch flags have been removed (applying \"remove-flags\" policy)\n",
      "[WARNING] 1 utterances containing language switches on lines 1\n",
      "[WARNING] extra phones may appear in the \"cmn\" phoneset\n",
      "[WARNING] language switch flags have been removed (applying \"remove-flags\" policy)\n",
      "[WARNING] 1 utterances containing language switches on lines 1\n",
      "[WARNING] extra phones may appear in the \"cmn\" phoneset\n",
      "[WARNING] language switch flags have been removed (applying \"remove-flags\" policy)\n"
     ]
    },
    {
     "name": "stdout",
     "output_type": "stream",
     "text": [
      "Done\n"
     ]
    }
   ],
   "source": [
    "# 判断是否含有英文，以及转后字符长度限制\n",
    "# import json\n",
    "# phoneme_dict= json.load(open(r'phoneme_cmn_dict.json', 'r'))\n",
    "i=0\n",
    "for data in cmn_data:\n",
    "    output_dir = data['trim_dir']\n",
    "    metafile_path = os.path.join(data['name_dir'], data['output_metafile_name'])\n",
    "    df = pd.read_excel(xlsx_list[i])\n",
    "    i+=1\n",
    "    with open(metafile_path, 'w', encoding='utf-8') as f:\n",
    "        for index, row in df.iterrows(): \n",
    "            if bool(re.search('[a-zA-Z]', row.sentence_text)):\n",
    "                continue\n",
    "            if row.dataset_name == 'thchs30':speaker = row.speaker\n",
    "            else:speaker = data['speaker']\n",
    "\n",
    "            language = language\n",
    "            audio_path = os.path.join(output_dir, row.voice_name)\n",
    "            spectrogram_paths = \"|\"\n",
    "            raw_text = to_pinyin(row.sentence_text)\n",
    "#             raw_text = row.sentence_text\n",
    "\n",
    "            if len(raw_text)>200:\n",
    "                continue\n",
    "\n",
    "            phonemized_text= _phonemize(raw_text,'cmn')\n",
    "            print(f\"{str(index).zfill(6)}|{speaker}|{language}|{audio_path}|{spectrogram_paths}|{row.sentence_text}|{phonemized_text}\", file=f)\n",
    "print('Done')"
   ]
  },
  {
   "cell_type": "markdown",
   "metadata": {},
   "source": [
    "# 这里处理英文"
   ]
  },
  {
   "cell_type": "code",
   "execution_count": 5,
   "metadata": {},
   "outputs": [],
   "source": [
    "sys.path.append('..')\n",
    "from utils.text import to_phoneme\n",
    "from utils.text import _phonemize"
   ]
  },
  {
   "cell_type": "code",
   "execution_count": 25,
   "metadata": {
    "scrolled": true
   },
   "outputs": [],
   "source": [
    "txt_file ='./Lance_Eng_CleanNoise_22k/Lance_Eng_CleanNoise_22k_trim33_new_val.txt'\n",
    "txt_file_new='./re_gesw_7lang_self_clean22k/Lance_Eng_CleanNoise_22k_trim33_new_val.txt'\n",
    "with open(txt_file, 'r', encoding='utf-8') as f:\n",
    "    with open(txt_file_new, 'w', encoding='utf-8') as f2:\n",
    "        \n",
    "        for line in f:\n",
    "            parts = line.strip().split('|')\n",
    "            parts[1]=\"lance-en\"\n",
    "#             parts[7] = _phonemize(parts[6],'en-us')\n",
    "            line_mod = '|'.join(parts)\n",
    "            print(line_mod,file=f2)"
   ]
  },
  {
   "cell_type": "code",
   "execution_count": 121,
   "metadata": {},
   "outputs": [],
   "source": [
    "name_dir = \"Lance_Eng_CleanNoise_22k\"\n",
    "sub_dir = \"Lance_CleanNoise\"\n",
    "trim_dir = \"Lance_Eng_CleanNoise_22k_trim33\"\n",
    "\n",
    "speaker = \"lance-en\"\n",
    "language = \"en\"\n",
    "\n",
    "# name_dir = \"Hotpot_Eng\"\n",
    "# sub_dir = \"Hotpot_Eng\"\n",
    "# trim_dir = \"Hotpot_Eng_22k_trim33\"\n",
    "\n"
   ]
  },
  {
   "cell_type": "code",
   "execution_count": 122,
   "metadata": {},
   "outputs": [
    {
     "data": {
      "text/plain": [
       "['./Lance_Eng_CleanNoise_22k/2Voice-Eng-Lance_CleanNoise22k.xlsx']"
      ]
     },
     "execution_count": 122,
     "metadata": {},
     "output_type": "execute_result"
    }
   ],
   "source": [
    "xlsx_list = glob.glob(\"./{}/*.xlsx\".format(name_dir))\n",
    "xlsx_list"
   ]
  },
  {
   "cell_type": "code",
   "execution_count": 123,
   "metadata": {},
   "outputs": [],
   "source": [
    "xlsx = xlsx_list[0]"
   ]
  },
  {
   "cell_type": "code",
   "execution_count": 124,
   "metadata": {},
   "outputs": [],
   "source": [
    "df = pd.read_excel(xlsx)"
   ]
  },
  {
   "cell_type": "code",
   "execution_count": 125,
   "metadata": {
    "collapsed": true
   },
   "outputs": [
    {
     "data": {
      "text/html": [
       "<div>\n",
       "<style scoped>\n",
       "    .dataframe tbody tr th:only-of-type {\n",
       "        vertical-align: middle;\n",
       "    }\n",
       "\n",
       "    .dataframe tbody tr th {\n",
       "        vertical-align: top;\n",
       "    }\n",
       "\n",
       "    .dataframe thead th {\n",
       "        text-align: right;\n",
       "    }\n",
       "</style>\n",
       "<table border=\"1\" class=\"dataframe\">\n",
       "  <thead>\n",
       "    <tr style=\"text-align: right;\">\n",
       "      <th></th>\n",
       "      <th>dataset_name</th>\n",
       "      <th>script_title</th>\n",
       "      <th>script_name</th>\n",
       "      <th>sentence_number</th>\n",
       "      <th>sentence_text</th>\n",
       "      <th>language</th>\n",
       "      <th>speaker</th>\n",
       "      <th>emotion</th>\n",
       "      <th>data_path</th>\n",
       "      <th>data_name</th>\n",
       "      <th>...</th>\n",
       "      <th>voice_format</th>\n",
       "      <th>voice_sr</th>\n",
       "      <th>prep_date_time</th>\n",
       "      <th>prep_path</th>\n",
       "      <th>prep_name</th>\n",
       "      <th>samples</th>\n",
       "      <th>frames</th>\n",
       "      <th>clean_date_time</th>\n",
       "      <th>cleaner_name</th>\n",
       "      <th>clean_text</th>\n",
       "    </tr>\n",
       "  </thead>\n",
       "  <tbody>\n",
       "    <tr>\n",
       "      <th>0</th>\n",
       "      <td>Lance</td>\n",
       "      <td>Neurobiology_1</td>\n",
       "      <td>JPHE-001</td>\n",
       "      <td>0</td>\n",
       "      <td>Our mind is the most complicated piece of the ...</td>\n",
       "      <td>Eng</td>\n",
       "      <td>Lance</td>\n",
       "      <td>一般</td>\n",
       "      <td>\\Lance_CleanNoise\\CleanNoise-JPHE-001-04-01-01...</td>\n",
       "      <td>CleanNoise-JPHE-001-04-01-01-01_2.wav</td>\n",
       "      <td>...</td>\n",
       "      <td>wav</td>\n",
       "      <td>22050</td>\n",
       "      <td>NaN</td>\n",
       "      <td>NaN</td>\n",
       "      <td>NaN</td>\n",
       "      <td>NaN</td>\n",
       "      <td>NaN</td>\n",
       "      <td>NaN</td>\n",
       "      <td>NaN</td>\n",
       "      <td>NaN</td>\n",
       "    </tr>\n",
       "    <tr>\n",
       "      <th>1</th>\n",
       "      <td>Lance</td>\n",
       "      <td>Neurobiology_1</td>\n",
       "      <td>JPHE-001</td>\n",
       "      <td>1</td>\n",
       "      <td>The rules that govern it are mysterious and el...</td>\n",
       "      <td>Eng</td>\n",
       "      <td>Lance</td>\n",
       "      <td>一般</td>\n",
       "      <td>\\Lance_CleanNoise\\CleanNoise-JPHE-001-04-01-01...</td>\n",
       "      <td>CleanNoise-JPHE-001-04-01-01-01_2.wav</td>\n",
       "      <td>...</td>\n",
       "      <td>wav</td>\n",
       "      <td>22050</td>\n",
       "      <td>NaN</td>\n",
       "      <td>NaN</td>\n",
       "      <td>NaN</td>\n",
       "      <td>NaN</td>\n",
       "      <td>NaN</td>\n",
       "      <td>NaN</td>\n",
       "      <td>NaN</td>\n",
       "      <td>NaN</td>\n",
       "    </tr>\n",
       "    <tr>\n",
       "      <th>2</th>\n",
       "      <td>Lance</td>\n",
       "      <td>Neurobiology_1</td>\n",
       "      <td>JPHE-001</td>\n",
       "      <td>2</td>\n",
       "      <td>Maybe our brains just aren't complex enough to...</td>\n",
       "      <td>Eng</td>\n",
       "      <td>Lance</td>\n",
       "      <td>一般</td>\n",
       "      <td>\\Lance_CleanNoise\\CleanNoise-JPHE-001-04-01-01...</td>\n",
       "      <td>CleanNoise-JPHE-001-04-01-01-01_2.wav</td>\n",
       "      <td>...</td>\n",
       "      <td>wav</td>\n",
       "      <td>22050</td>\n",
       "      <td>NaN</td>\n",
       "      <td>NaN</td>\n",
       "      <td>NaN</td>\n",
       "      <td>NaN</td>\n",
       "      <td>NaN</td>\n",
       "      <td>NaN</td>\n",
       "      <td>NaN</td>\n",
       "      <td>NaN</td>\n",
       "    </tr>\n",
       "    <tr>\n",
       "      <th>3</th>\n",
       "      <td>Lance</td>\n",
       "      <td>Neurobiology_1</td>\n",
       "      <td>JPHE-001</td>\n",
       "      <td>3</td>\n",
       "      <td>But that's not going to stop us from trying!</td>\n",
       "      <td>Eng</td>\n",
       "      <td>Lance</td>\n",
       "      <td>一般</td>\n",
       "      <td>\\Lance_CleanNoise\\CleanNoise-JPHE-001-04-01-01...</td>\n",
       "      <td>CleanNoise-JPHE-001-04-01-01-01_2.wav</td>\n",
       "      <td>...</td>\n",
       "      <td>wav</td>\n",
       "      <td>22050</td>\n",
       "      <td>NaN</td>\n",
       "      <td>NaN</td>\n",
       "      <td>NaN</td>\n",
       "      <td>NaN</td>\n",
       "      <td>NaN</td>\n",
       "      <td>NaN</td>\n",
       "      <td>NaN</td>\n",
       "      <td>NaN</td>\n",
       "    </tr>\n",
       "    <tr>\n",
       "      <th>4</th>\n",
       "      <td>Lance</td>\n",
       "      <td>Neurobiology_1</td>\n",
       "      <td>JPHE-001</td>\n",
       "      <td>4</td>\n",
       "      <td>The word 'psychology' comes from the Latin for...</td>\n",
       "      <td>Eng</td>\n",
       "      <td>Lance</td>\n",
       "      <td>一般</td>\n",
       "      <td>\\Lance_CleanNoise\\CleanNoise-JPHE-001-04-01-01...</td>\n",
       "      <td>CleanNoise-JPHE-001-04-01-01-01_2.wav</td>\n",
       "      <td>...</td>\n",
       "      <td>wav</td>\n",
       "      <td>22050</td>\n",
       "      <td>NaN</td>\n",
       "      <td>NaN</td>\n",
       "      <td>NaN</td>\n",
       "      <td>NaN</td>\n",
       "      <td>NaN</td>\n",
       "      <td>NaN</td>\n",
       "      <td>NaN</td>\n",
       "      <td>NaN</td>\n",
       "    </tr>\n",
       "    <tr>\n",
       "      <th>5</th>\n",
       "      <td>Lance</td>\n",
       "      <td>Neurobiology_1</td>\n",
       "      <td>JPHE-001</td>\n",
       "      <td>5</td>\n",
       "      <td>\" And while its formal definition has evolved ...</td>\n",
       "      <td>Eng</td>\n",
       "      <td>Lance</td>\n",
       "      <td>一般</td>\n",
       "      <td>\\Lance_CleanNoise\\CleanNoise-JPHE-001-04-01-01...</td>\n",
       "      <td>CleanNoise-JPHE-001-04-01-01-01_2.wav</td>\n",
       "      <td>...</td>\n",
       "      <td>wav</td>\n",
       "      <td>22050</td>\n",
       "      <td>NaN</td>\n",
       "      <td>NaN</td>\n",
       "      <td>NaN</td>\n",
       "      <td>NaN</td>\n",
       "      <td>NaN</td>\n",
       "      <td>NaN</td>\n",
       "      <td>NaN</td>\n",
       "      <td>NaN</td>\n",
       "    </tr>\n",
       "    <tr>\n",
       "      <th>6</th>\n",
       "      <td>Lance</td>\n",
       "      <td>Neurobiology_1</td>\n",
       "      <td>JPHE-001</td>\n",
       "      <td>6</td>\n",
       "      <td>The term 'psychology' wasn't coined until arou...</td>\n",
       "      <td>Eng</td>\n",
       "      <td>Lance</td>\n",
       "      <td>一般</td>\n",
       "      <td>\\Lance_CleanNoise\\CleanNoise-JPHE-001-04-01-01...</td>\n",
       "      <td>CleanNoise-JPHE-001-04-01-01-01_2.wav</td>\n",
       "      <td>...</td>\n",
       "      <td>wav</td>\n",
       "      <td>22050</td>\n",
       "      <td>NaN</td>\n",
       "      <td>NaN</td>\n",
       "      <td>NaN</td>\n",
       "      <td>NaN</td>\n",
       "      <td>NaN</td>\n",
       "      <td>NaN</td>\n",
       "      <td>NaN</td>\n",
       "      <td>NaN</td>\n",
       "    </tr>\n",
       "    <tr>\n",
       "      <th>7</th>\n",
       "      <td>Lance</td>\n",
       "      <td>Neurobiology_1</td>\n",
       "      <td>JPHE-001</td>\n",
       "      <td>7</td>\n",
       "      <td>But of course, humans have always been curious...</td>\n",
       "      <td>Eng</td>\n",
       "      <td>Lance</td>\n",
       "      <td>一般</td>\n",
       "      <td>\\Lance_CleanNoise\\CleanNoise-JPHE-001-04-01-01...</td>\n",
       "      <td>CleanNoise-JPHE-001-04-01-01-01_2.wav</td>\n",
       "      <td>...</td>\n",
       "      <td>wav</td>\n",
       "      <td>22050</td>\n",
       "      <td>NaN</td>\n",
       "      <td>NaN</td>\n",
       "      <td>NaN</td>\n",
       "      <td>NaN</td>\n",
       "      <td>NaN</td>\n",
       "      <td>NaN</td>\n",
       "      <td>NaN</td>\n",
       "      <td>NaN</td>\n",
       "    </tr>\n",
       "    <tr>\n",
       "      <th>8</th>\n",
       "      <td>Lance</td>\n",
       "      <td>Neurobiology_1</td>\n",
       "      <td>JPHE-001</td>\n",
       "      <td>8</td>\n",
       "      <td>Aristotle pondered the seed of human conscious...</td>\n",
       "      <td>Eng</td>\n",
       "      <td>Lance</td>\n",
       "      <td>一般</td>\n",
       "      <td>\\Lance_CleanNoise\\CleanNoise-JPHE-001-04-01-01...</td>\n",
       "      <td>CleanNoise-JPHE-001-04-01-01-01_2.wav</td>\n",
       "      <td>...</td>\n",
       "      <td>wav</td>\n",
       "      <td>22050</td>\n",
       "      <td>NaN</td>\n",
       "      <td>NaN</td>\n",
       "      <td>NaN</td>\n",
       "      <td>NaN</td>\n",
       "      <td>NaN</td>\n",
       "      <td>NaN</td>\n",
       "      <td>NaN</td>\n",
       "      <td>NaN</td>\n",
       "    </tr>\n",
       "    <tr>\n",
       "      <th>9</th>\n",
       "      <td>Lance</td>\n",
       "      <td>Neurobiology_1</td>\n",
       "      <td>JPHE-001</td>\n",
       "      <td>8_b</td>\n",
       "      <td>As we have seen quite a lot here on our Crash ...</td>\n",
       "      <td>Eng</td>\n",
       "      <td>Lance</td>\n",
       "      <td>NaN</td>\n",
       "      <td>\\Lance_CleanNoise\\CleanNoise-JPHE-001-04-01-01...</td>\n",
       "      <td>CleanNoise-JPHE-001-04-01-01-01_2.wav</td>\n",
       "      <td>...</td>\n",
       "      <td>wav</td>\n",
       "      <td>22050</td>\n",
       "      <td>NaN</td>\n",
       "      <td>NaN</td>\n",
       "      <td>NaN</td>\n",
       "      <td>NaN</td>\n",
       "      <td>NaN</td>\n",
       "      <td>NaN</td>\n",
       "      <td>NaN</td>\n",
       "      <td>NaN</td>\n",
       "    </tr>\n",
       "    <tr>\n",
       "      <th>10</th>\n",
       "      <td>Lance</td>\n",
       "      <td>Neurobiology_1</td>\n",
       "      <td>JPHE-001</td>\n",
       "      <td>9</td>\n",
       "      <td>Two thousand years ago, Chinese rulers conduct...</td>\n",
       "      <td>Eng</td>\n",
       "      <td>Lance</td>\n",
       "      <td>一般</td>\n",
       "      <td>\\Lance_CleanNoise\\CleanNoise-JPHE-001-04-01-01...</td>\n",
       "      <td>CleanNoise-JPHE-001-04-01-01-01_2.wav</td>\n",
       "      <td>...</td>\n",
       "      <td>wav</td>\n",
       "      <td>22050</td>\n",
       "      <td>NaN</td>\n",
       "      <td>NaN</td>\n",
       "      <td>NaN</td>\n",
       "      <td>NaN</td>\n",
       "      <td>NaN</td>\n",
       "      <td>NaN</td>\n",
       "      <td>NaN</td>\n",
       "      <td>NaN</td>\n",
       "    </tr>\n",
       "    <tr>\n",
       "      <th>11</th>\n",
       "      <td>Lance</td>\n",
       "      <td>Neurobiology_1</td>\n",
       "      <td>JPHE-001</td>\n",
       "      <td>10</td>\n",
       "      <td>And in the late eight hundreds, Persian doctor...</td>\n",
       "      <td>Eng</td>\n",
       "      <td>Lance</td>\n",
       "      <td>一般</td>\n",
       "      <td>\\Lance_CleanNoise\\CleanNoise-JPHE-001-04-01-01...</td>\n",
       "      <td>CleanNoise-JPHE-001-04-01-01-01_2.wav</td>\n",
       "      <td>...</td>\n",
       "      <td>wav</td>\n",
       "      <td>22050</td>\n",
       "      <td>NaN</td>\n",
       "      <td>NaN</td>\n",
       "      <td>NaN</td>\n",
       "      <td>NaN</td>\n",
       "      <td>NaN</td>\n",
       "      <td>NaN</td>\n",
       "      <td>NaN</td>\n",
       "      <td>NaN</td>\n",
       "    </tr>\n",
       "    <tr>\n",
       "      <th>12</th>\n",
       "      <td>Lance</td>\n",
       "      <td>Neurobiology_1</td>\n",
       "      <td>JPHE-001</td>\n",
       "      <td>11</td>\n",
       "      <td>From the efforts of those early thinkers up un...</td>\n",
       "      <td>Eng</td>\n",
       "      <td>Lance</td>\n",
       "      <td>一般</td>\n",
       "      <td>\\Lance_CleanNoise\\CleanNoise-JPHE-001-04-01-01...</td>\n",
       "      <td>CleanNoise-JPHE-001-04-01-01-01_2.wav</td>\n",
       "      <td>...</td>\n",
       "      <td>wav</td>\n",
       "      <td>22050</td>\n",
       "      <td>NaN</td>\n",
       "      <td>NaN</td>\n",
       "      <td>NaN</td>\n",
       "      <td>NaN</td>\n",
       "      <td>NaN</td>\n",
       "      <td>NaN</td>\n",
       "      <td>NaN</td>\n",
       "      <td>NaN</td>\n",
       "    </tr>\n",
       "    <tr>\n",
       "      <th>13</th>\n",
       "      <td>Lance</td>\n",
       "      <td>Neurobiology_1</td>\n",
       "      <td>JPHE-001</td>\n",
       "      <td>11a</td>\n",
       "      <td>From the efforts of those early thinkers up un...</td>\n",
       "      <td>Eng</td>\n",
       "      <td>Lance</td>\n",
       "      <td>一般</td>\n",
       "      <td>\\Lance_CleanNoise\\CleanNoise-JPHE-001-04-01-01...</td>\n",
       "      <td>CleanNoise-JPHE-001-04-01-01-01_2.wav</td>\n",
       "      <td>...</td>\n",
       "      <td>wav</td>\n",
       "      <td>22050</td>\n",
       "      <td>NaN</td>\n",
       "      <td>NaN</td>\n",
       "      <td>NaN</td>\n",
       "      <td>NaN</td>\n",
       "      <td>NaN</td>\n",
       "      <td>NaN</td>\n",
       "      <td>NaN</td>\n",
       "      <td>NaN</td>\n",
       "    </tr>\n",
       "    <tr>\n",
       "      <th>14</th>\n",
       "      <td>Lance</td>\n",
       "      <td>Neurobiology_1</td>\n",
       "      <td>JPHE-001</td>\n",
       "      <td>11b</td>\n",
       "      <td>How can humans do horrible things like commit ...</td>\n",
       "      <td>Eng</td>\n",
       "      <td>Lance</td>\n",
       "      <td>一般</td>\n",
       "      <td>\\Lance_CleanNoise\\CleanNoise-JPHE-001-04-01-01...</td>\n",
       "      <td>CleanNoise-JPHE-001-04-01-01-01_2.wav</td>\n",
       "      <td>...</td>\n",
       "      <td>wav</td>\n",
       "      <td>22050</td>\n",
       "      <td>NaN</td>\n",
       "      <td>NaN</td>\n",
       "      <td>NaN</td>\n",
       "      <td>NaN</td>\n",
       "      <td>NaN</td>\n",
       "      <td>NaN</td>\n",
       "      <td>NaN</td>\n",
       "      <td>NaN</td>\n",
       "    </tr>\n",
       "    <tr>\n",
       "      <th>15</th>\n",
       "      <td>Lance</td>\n",
       "      <td>Neurobiology_1</td>\n",
       "      <td>JPHE-001</td>\n",
       "      <td>12</td>\n",
       "      <td>Do we have free will, or are we simply driven ...</td>\n",
       "      <td>Eng</td>\n",
       "      <td>Lance</td>\n",
       "      <td>一般</td>\n",
       "      <td>\\Lance_CleanNoise\\CleanNoise-JPHE-001-04-01-01...</td>\n",
       "      <td>CleanNoise-JPHE-001-04-01-01-01_2.wav</td>\n",
       "      <td>...</td>\n",
       "      <td>wav</td>\n",
       "      <td>22050</td>\n",
       "      <td>NaN</td>\n",
       "      <td>NaN</td>\n",
       "      <td>NaN</td>\n",
       "      <td>NaN</td>\n",
       "      <td>NaN</td>\n",
       "      <td>NaN</td>\n",
       "      <td>NaN</td>\n",
       "      <td>NaN</td>\n",
       "    </tr>\n",
       "    <tr>\n",
       "      <th>16</th>\n",
       "      <td>Lance</td>\n",
       "      <td>Neurobiology_1</td>\n",
       "      <td>JPHE-001</td>\n",
       "      <td>13</td>\n",
       "      <td>What is mental illness, and what can we do abo...</td>\n",
       "      <td>Eng</td>\n",
       "      <td>Lance</td>\n",
       "      <td>一般</td>\n",
       "      <td>\\Lance_CleanNoise\\CleanNoise-JPHE-001-04-01-01...</td>\n",
       "      <td>CleanNoise-JPHE-001-04-01-01-01_2.wav</td>\n",
       "      <td>...</td>\n",
       "      <td>wav</td>\n",
       "      <td>22050</td>\n",
       "      <td>NaN</td>\n",
       "      <td>NaN</td>\n",
       "      <td>NaN</td>\n",
       "      <td>NaN</td>\n",
       "      <td>NaN</td>\n",
       "      <td>NaN</td>\n",
       "      <td>NaN</td>\n",
       "      <td>NaN</td>\n",
       "    </tr>\n",
       "    <tr>\n",
       "      <th>17</th>\n",
       "      <td>Lance</td>\n",
       "      <td>Neurobiology_1</td>\n",
       "      <td>JPHE-001</td>\n",
       "      <td>14</td>\n",
       "      <td>And what is consciousness?</td>\n",
       "      <td>Eng</td>\n",
       "      <td>Lance</td>\n",
       "      <td>一般</td>\n",
       "      <td>\\Lance_CleanNoise\\CleanNoise-JPHE-001-04-01-01...</td>\n",
       "      <td>CleanNoise-JPHE-001-04-01-01-01_2.wav</td>\n",
       "      <td>...</td>\n",
       "      <td>wav</td>\n",
       "      <td>22050</td>\n",
       "      <td>NaN</td>\n",
       "      <td>NaN</td>\n",
       "      <td>NaN</td>\n",
       "      <td>NaN</td>\n",
       "      <td>NaN</td>\n",
       "      <td>NaN</td>\n",
       "      <td>NaN</td>\n",
       "      <td>NaN</td>\n",
       "    </tr>\n",
       "    <tr>\n",
       "      <th>18</th>\n",
       "      <td>Lance</td>\n",
       "      <td>Neurobiology_1</td>\n",
       "      <td>JPHE-001</td>\n",
       "      <td>15</td>\n",
       "      <td>Or the notion of self?</td>\n",
       "      <td>Eng</td>\n",
       "      <td>Lance</td>\n",
       "      <td>一般</td>\n",
       "      <td>\\Lance_CleanNoise\\CleanNoise-JPHE-001-04-01-01...</td>\n",
       "      <td>CleanNoise-JPHE-001-04-01-01-01_2.wav</td>\n",
       "      <td>...</td>\n",
       "      <td>wav</td>\n",
       "      <td>22050</td>\n",
       "      <td>NaN</td>\n",
       "      <td>NaN</td>\n",
       "      <td>NaN</td>\n",
       "      <td>NaN</td>\n",
       "      <td>NaN</td>\n",
       "      <td>NaN</td>\n",
       "      <td>NaN</td>\n",
       "      <td>NaN</td>\n",
       "    </tr>\n",
       "    <tr>\n",
       "      <th>19</th>\n",
       "      <td>Lance</td>\n",
       "      <td>Neurobiology_1</td>\n",
       "      <td>JPHE-001</td>\n",
       "      <td>16</td>\n",
       "      <td>If I lose my awareness of myself, am I still h...</td>\n",
       "      <td>Eng</td>\n",
       "      <td>Lance</td>\n",
       "      <td>一般</td>\n",
       "      <td>\\Lance_CleanNoise\\CleanNoise-JPHE-001-04-01-01...</td>\n",
       "      <td>CleanNoise-JPHE-001-04-01-01-01_2.wav</td>\n",
       "      <td>...</td>\n",
       "      <td>wav</td>\n",
       "      <td>22050</td>\n",
       "      <td>NaN</td>\n",
       "      <td>NaN</td>\n",
       "      <td>NaN</td>\n",
       "      <td>NaN</td>\n",
       "      <td>NaN</td>\n",
       "      <td>NaN</td>\n",
       "      <td>NaN</td>\n",
       "      <td>NaN</td>\n",
       "    </tr>\n",
       "    <tr>\n",
       "      <th>20</th>\n",
       "      <td>Lance</td>\n",
       "      <td>Neurobiology_1</td>\n",
       "      <td>JPHE-001</td>\n",
       "      <td>17</td>\n",
       "      <td>I DON'T KNOW!</td>\n",
       "      <td>Eng</td>\n",
       "      <td>Lance</td>\n",
       "      <td>一般</td>\n",
       "      <td>\\Lance_CleanNoise\\CleanNoise-JPHE-001-04-01-01...</td>\n",
       "      <td>CleanNoise-JPHE-001-04-01-01-01_2.wav</td>\n",
       "      <td>...</td>\n",
       "      <td>wav</td>\n",
       "      <td>22050</td>\n",
       "      <td>NaN</td>\n",
       "      <td>NaN</td>\n",
       "      <td>NaN</td>\n",
       "      <td>NaN</td>\n",
       "      <td>NaN</td>\n",
       "      <td>NaN</td>\n",
       "      <td>NaN</td>\n",
       "      <td>NaN</td>\n",
       "    </tr>\n",
       "    <tr>\n",
       "      <th>21</th>\n",
       "      <td>Lance</td>\n",
       "      <td>Neurobiology_1</td>\n",
       "      <td>JPHE-001</td>\n",
       "      <td>18a</td>\n",
       "      <td>But over the next six months, these are the qu...</td>\n",
       "      <td>Eng</td>\n",
       "      <td>Lance</td>\n",
       "      <td>一般</td>\n",
       "      <td>\\Lance_CleanNoise\\CleanNoise-JPHE-001-04-01-01...</td>\n",
       "      <td>CleanNoise-JPHE-001-04-01-01-01_2.wav</td>\n",
       "      <td>...</td>\n",
       "      <td>wav</td>\n",
       "      <td>22050</td>\n",
       "      <td>NaN</td>\n",
       "      <td>NaN</td>\n",
       "      <td>NaN</td>\n",
       "      <td>NaN</td>\n",
       "      <td>NaN</td>\n",
       "      <td>NaN</td>\n",
       "      <td>NaN</td>\n",
       "      <td>NaN</td>\n",
       "    </tr>\n",
       "    <tr>\n",
       "      <th>22</th>\n",
       "      <td>Lance</td>\n",
       "      <td>Neurobiology_1</td>\n",
       "      <td>JPHE-001</td>\n",
       "      <td>18b</td>\n",
       "      <td>How they can break, how they can be healed, wh...</td>\n",
       "      <td>Eng</td>\n",
       "      <td>Lance</td>\n",
       "      <td>一般</td>\n",
       "      <td>\\Lance_CleanNoise\\CleanNoise-JPHE-001-04-01-01...</td>\n",
       "      <td>CleanNoise-JPHE-001-04-01-01-01_2.wav</td>\n",
       "      <td>...</td>\n",
       "      <td>wav</td>\n",
       "      <td>22050</td>\n",
       "      <td>NaN</td>\n",
       "      <td>NaN</td>\n",
       "      <td>NaN</td>\n",
       "      <td>NaN</td>\n",
       "      <td>NaN</td>\n",
       "      <td>NaN</td>\n",
       "      <td>NaN</td>\n",
       "      <td>NaN</td>\n",
       "    </tr>\n",
       "    <tr>\n",
       "      <th>23</th>\n",
       "      <td>Lance</td>\n",
       "      <td>Neurobiology_1</td>\n",
       "      <td>JPHE-001</td>\n",
       "      <td>19</td>\n",
       "      <td>When hearing the word psychology most people p...</td>\n",
       "      <td>Eng</td>\n",
       "      <td>Lance</td>\n",
       "      <td>一般</td>\n",
       "      <td>\\Lance_CleanNoise\\CleanNoise-JPHE-001-04-01-01...</td>\n",
       "      <td>CleanNoise-JPHE-001-04-01-01-01_2.wav</td>\n",
       "      <td>...</td>\n",
       "      <td>wav</td>\n",
       "      <td>22050</td>\n",
       "      <td>NaN</td>\n",
       "      <td>NaN</td>\n",
       "      <td>NaN</td>\n",
       "      <td>NaN</td>\n",
       "      <td>NaN</td>\n",
       "      <td>NaN</td>\n",
       "      <td>NaN</td>\n",
       "      <td>NaN</td>\n",
       "    </tr>\n",
       "    <tr>\n",
       "      <th>24</th>\n",
       "      <td>Lance</td>\n",
       "      <td>Neurobiology_1</td>\n",
       "      <td>JPHE-001</td>\n",
       "      <td>20</td>\n",
       "      <td>Maybe that therapist is wearing glasses, chewi...</td>\n",
       "      <td>Eng</td>\n",
       "      <td>Lance</td>\n",
       "      <td>一般</td>\n",
       "      <td>\\Lance_CleanNoise\\CleanNoise-JPHE-001-04-01-01...</td>\n",
       "      <td>CleanNoise-JPHE-001-04-01-01-01_2.wav</td>\n",
       "      <td>...</td>\n",
       "      <td>wav</td>\n",
       "      <td>22050</td>\n",
       "      <td>NaN</td>\n",
       "      <td>NaN</td>\n",
       "      <td>NaN</td>\n",
       "      <td>NaN</td>\n",
       "      <td>NaN</td>\n",
       "      <td>NaN</td>\n",
       "      <td>NaN</td>\n",
       "      <td>NaN</td>\n",
       "    </tr>\n",
       "    <tr>\n",
       "      <th>25</th>\n",
       "      <td>Lance</td>\n",
       "      <td>Neurobiology_1</td>\n",
       "      <td>JPHE-001</td>\n",
       "      <td>21</td>\n",
       "      <td>Admit it！</td>\n",
       "      <td>Eng</td>\n",
       "      <td>Lance</td>\n",
       "      <td>一般</td>\n",
       "      <td>\\Lance_CleanNoise\\CleanNoise-JPHE-001-04-01-01...</td>\n",
       "      <td>CleanNoise-JPHE-001-04-01-01-01_2.wav</td>\n",
       "      <td>...</td>\n",
       "      <td>wav</td>\n",
       "      <td>22050</td>\n",
       "      <td>NaN</td>\n",
       "      <td>NaN</td>\n",
       "      <td>NaN</td>\n",
       "      <td>NaN</td>\n",
       "      <td>NaN</td>\n",
       "      <td>NaN</td>\n",
       "      <td>NaN</td>\n",
       "      <td>NaN</td>\n",
       "    </tr>\n",
       "    <tr>\n",
       "      <th>26</th>\n",
       "      <td>Lance</td>\n",
       "      <td>Neurobiology_1</td>\n",
       "      <td>JPHE-001</td>\n",
       "      <td>22</td>\n",
       "      <td>If you're thinking about psychology, you're pr...</td>\n",
       "      <td>Eng</td>\n",
       "      <td>Lance</td>\n",
       "      <td>一般</td>\n",
       "      <td>\\Lance_CleanNoise\\CleanNoise-JPHE-001-04-01-01...</td>\n",
       "      <td>CleanNoise-JPHE-001-04-01-01-01_2.wav</td>\n",
       "      <td>...</td>\n",
       "      <td>wav</td>\n",
       "      <td>22050</td>\n",
       "      <td>NaN</td>\n",
       "      <td>NaN</td>\n",
       "      <td>NaN</td>\n",
       "      <td>NaN</td>\n",
       "      <td>NaN</td>\n",
       "      <td>NaN</td>\n",
       "      <td>NaN</td>\n",
       "      <td>NaN</td>\n",
       "    </tr>\n",
       "    <tr>\n",
       "      <th>27</th>\n",
       "      <td>Lance</td>\n",
       "      <td>Neurobiology_1</td>\n",
       "      <td>JPHE-001</td>\n",
       "      <td>23</td>\n",
       "      <td>Sigmund Freud was one of the most tremendously...</td>\n",
       "      <td>Eng</td>\n",
       "      <td>Lance</td>\n",
       "      <td>一般</td>\n",
       "      <td>\\Lance_CleanNoise\\CleanNoise-JPHE-001-04-01-01...</td>\n",
       "      <td>CleanNoise-JPHE-001-04-01-01-01_2.wav</td>\n",
       "      <td>...</td>\n",
       "      <td>wav</td>\n",
       "      <td>22050</td>\n",
       "      <td>NaN</td>\n",
       "      <td>NaN</td>\n",
       "      <td>NaN</td>\n",
       "      <td>NaN</td>\n",
       "      <td>NaN</td>\n",
       "      <td>NaN</td>\n",
       "      <td>NaN</td>\n",
       "      <td>NaN</td>\n",
       "    </tr>\n",
       "    <tr>\n",
       "      <th>28</th>\n",
       "      <td>Lance</td>\n",
       "      <td>Neurobiology_1</td>\n",
       "      <td>JPHE-001</td>\n",
       "      <td>24</td>\n",
       "      <td>His theories helped build our views on childho...</td>\n",
       "      <td>Eng</td>\n",
       "      <td>Lance</td>\n",
       "      <td>一般</td>\n",
       "      <td>\\Lance_CleanNoise\\CleanNoise-JPHE-001-04-01-01...</td>\n",
       "      <td>CleanNoise-JPHE-001-04-01-01-01_2.wav</td>\n",
       "      <td>...</td>\n",
       "      <td>wav</td>\n",
       "      <td>22050</td>\n",
       "      <td>NaN</td>\n",
       "      <td>NaN</td>\n",
       "      <td>NaN</td>\n",
       "      <td>NaN</td>\n",
       "      <td>NaN</td>\n",
       "      <td>NaN</td>\n",
       "      <td>NaN</td>\n",
       "      <td>NaN</td>\n",
       "    </tr>\n",
       "    <tr>\n",
       "      <th>29</th>\n",
       "      <td>Lance</td>\n",
       "      <td>Neurobiology_1</td>\n",
       "      <td>JPHE-001</td>\n",
       "      <td>25</td>\n",
       "      <td>And his work fueled a legacy of both support a...</td>\n",
       "      <td>Eng</td>\n",
       "      <td>Lance</td>\n",
       "      <td>一般</td>\n",
       "      <td>\\Lance_CleanNoise\\CleanNoise-JPHE-001-04-01-01...</td>\n",
       "      <td>CleanNoise-JPHE-001-04-01-01-01_2.wav</td>\n",
       "      <td>...</td>\n",
       "      <td>wav</td>\n",
       "      <td>22050</td>\n",
       "      <td>NaN</td>\n",
       "      <td>NaN</td>\n",
       "      <td>NaN</td>\n",
       "      <td>NaN</td>\n",
       "      <td>NaN</td>\n",
       "      <td>NaN</td>\n",
       "      <td>NaN</td>\n",
       "      <td>NaN</td>\n",
       "    </tr>\n",
       "    <tr>\n",
       "      <th>...</th>\n",
       "      <td>...</td>\n",
       "      <td>...</td>\n",
       "      <td>...</td>\n",
       "      <td>...</td>\n",
       "      <td>...</td>\n",
       "      <td>...</td>\n",
       "      <td>...</td>\n",
       "      <td>...</td>\n",
       "      <td>...</td>\n",
       "      <td>...</td>\n",
       "      <td>...</td>\n",
       "      <td>...</td>\n",
       "      <td>...</td>\n",
       "      <td>...</td>\n",
       "      <td>...</td>\n",
       "      <td>...</td>\n",
       "      <td>...</td>\n",
       "      <td>...</td>\n",
       "      <td>...</td>\n",
       "      <td>...</td>\n",
       "      <td>...</td>\n",
       "    </tr>\n",
       "    <tr>\n",
       "      <th>901</th>\n",
       "      <td>Lance</td>\n",
       "      <td>coronavirus 2</td>\n",
       "      <td>JPLE-007</td>\n",
       "      <td>139</td>\n",
       "      <td>As early as the nineteen ninety , Baric's work...</td>\n",
       "      <td>Eng</td>\n",
       "      <td>Lance</td>\n",
       "      <td>一般</td>\n",
       "      <td>\\Lance_CleanNoise\\CleanNoise-JPLE-007-23-03-01...</td>\n",
       "      <td>CleanNoise-JPLE-007-23-03-01-02_2.wav</td>\n",
       "      <td>...</td>\n",
       "      <td>wav</td>\n",
       "      <td>22050</td>\n",
       "      <td>NaN</td>\n",
       "      <td>NaN</td>\n",
       "      <td>NaN</td>\n",
       "      <td>NaN</td>\n",
       "      <td>NaN</td>\n",
       "      <td>NaN</td>\n",
       "      <td>NaN</td>\n",
       "      <td>NaN</td>\n",
       "    </tr>\n",
       "    <tr>\n",
       "      <th>902</th>\n",
       "      <td>Lance</td>\n",
       "      <td>coronavirus 2</td>\n",
       "      <td>JPLE-007</td>\n",
       "      <td>140</td>\n",
       "      <td>Scientists say the new coronavirus might have ...</td>\n",
       "      <td>Eng</td>\n",
       "      <td>Lance</td>\n",
       "      <td>一般</td>\n",
       "      <td>\\Lance_CleanNoise\\CleanNoise-JPLE-007-23-03-01...</td>\n",
       "      <td>CleanNoise-JPLE-007-23-03-01-02_2.wav</td>\n",
       "      <td>...</td>\n",
       "      <td>wav</td>\n",
       "      <td>22050</td>\n",
       "      <td>NaN</td>\n",
       "      <td>NaN</td>\n",
       "      <td>NaN</td>\n",
       "      <td>NaN</td>\n",
       "      <td>NaN</td>\n",
       "      <td>NaN</td>\n",
       "      <td>NaN</td>\n",
       "      <td>NaN</td>\n",
       "    </tr>\n",
       "    <tr>\n",
       "      <th>903</th>\n",
       "      <td>Lance</td>\n",
       "      <td>coronavirus 2</td>\n",
       "      <td>JPLE-007</td>\n",
       "      <td>141</td>\n",
       "      <td>Some of those eventually wound up in one of Ch...</td>\n",
       "      <td>Eng</td>\n",
       "      <td>Lance</td>\n",
       "      <td>一般</td>\n",
       "      <td>\\Lance_CleanNoise\\CleanNoise-JPLE-007-23-03-01...</td>\n",
       "      <td>CleanNoise-JPLE-007-23-03-01-02_2.wav</td>\n",
       "      <td>...</td>\n",
       "      <td>wav</td>\n",
       "      <td>22050</td>\n",
       "      <td>NaN</td>\n",
       "      <td>NaN</td>\n",
       "      <td>NaN</td>\n",
       "      <td>NaN</td>\n",
       "      <td>NaN</td>\n",
       "      <td>NaN</td>\n",
       "      <td>NaN</td>\n",
       "      <td>NaN</td>\n",
       "    </tr>\n",
       "    <tr>\n",
       "      <th>904</th>\n",
       "      <td>Lance</td>\n",
       "      <td>coronavirus 2</td>\n",
       "      <td>JPLE-007</td>\n",
       "      <td>142</td>\n",
       "      <td>Until two months ago, Baric was little known o...</td>\n",
       "      <td>Eng</td>\n",
       "      <td>Lance</td>\n",
       "      <td>一般</td>\n",
       "      <td>\\Lance_CleanNoise\\CleanNoise-JPLE-007-23-03-01...</td>\n",
       "      <td>CleanNoise-JPLE-007-23-03-01-02_2.wav</td>\n",
       "      <td>...</td>\n",
       "      <td>wav</td>\n",
       "      <td>22050</td>\n",
       "      <td>NaN</td>\n",
       "      <td>NaN</td>\n",
       "      <td>NaN</td>\n",
       "      <td>NaN</td>\n",
       "      <td>NaN</td>\n",
       "      <td>NaN</td>\n",
       "      <td>NaN</td>\n",
       "      <td>NaN</td>\n",
       "    </tr>\n",
       "    <tr>\n",
       "      <th>905</th>\n",
       "      <td>Lance</td>\n",
       "      <td>coronavirus 2</td>\n",
       "      <td>JPLE-007</td>\n",
       "      <td>143</td>\n",
       "      <td>When he began his career, coronaviruses were u...</td>\n",
       "      <td>Eng</td>\n",
       "      <td>Lance</td>\n",
       "      <td>一般</td>\n",
       "      <td>\\Lance_CleanNoise\\CleanNoise-JPLE-007-23-03-01...</td>\n",
       "      <td>CleanNoise-JPLE-007-23-03-01-02_2.wav</td>\n",
       "      <td>...</td>\n",
       "      <td>wav</td>\n",
       "      <td>22050</td>\n",
       "      <td>NaN</td>\n",
       "      <td>NaN</td>\n",
       "      <td>NaN</td>\n",
       "      <td>NaN</td>\n",
       "      <td>NaN</td>\n",
       "      <td>NaN</td>\n",
       "      <td>NaN</td>\n",
       "      <td>NaN</td>\n",
       "    </tr>\n",
       "    <tr>\n",
       "      <th>906</th>\n",
       "      <td>Lance</td>\n",
       "      <td>coronavirus 2</td>\n",
       "      <td>JPLE-007</td>\n",
       "      <td>144</td>\n",
       "      <td>But his work has suddenly taken on new urgency.</td>\n",
       "      <td>Eng</td>\n",
       "      <td>Lance</td>\n",
       "      <td>一般</td>\n",
       "      <td>\\Lance_CleanNoise\\CleanNoise-JPLE-007-23-03-01...</td>\n",
       "      <td>CleanNoise-JPLE-007-23-03-01-02_2.wav</td>\n",
       "      <td>...</td>\n",
       "      <td>wav</td>\n",
       "      <td>22050</td>\n",
       "      <td>NaN</td>\n",
       "      <td>NaN</td>\n",
       "      <td>NaN</td>\n",
       "      <td>NaN</td>\n",
       "      <td>NaN</td>\n",
       "      <td>NaN</td>\n",
       "      <td>NaN</td>\n",
       "      <td>NaN</td>\n",
       "    </tr>\n",
       "    <tr>\n",
       "      <th>907</th>\n",
       "      <td>Lance</td>\n",
       "      <td>coronavirus 2</td>\n",
       "      <td>JPLE-007</td>\n",
       "      <td>145</td>\n",
       "      <td>Baric's thirty-person team was one of the firs...</td>\n",
       "      <td>Eng</td>\n",
       "      <td>Lance</td>\n",
       "      <td>一般</td>\n",
       "      <td>\\Lance_CleanNoise\\CleanNoise-JPLE-007-23-03-01...</td>\n",
       "      <td>CleanNoise-JPLE-007-23-03-01-02_2.wav</td>\n",
       "      <td>...</td>\n",
       "      <td>wav</td>\n",
       "      <td>22050</td>\n",
       "      <td>NaN</td>\n",
       "      <td>NaN</td>\n",
       "      <td>NaN</td>\n",
       "      <td>NaN</td>\n",
       "      <td>NaN</td>\n",
       "      <td>NaN</td>\n",
       "      <td>NaN</td>\n",
       "      <td>NaN</td>\n",
       "    </tr>\n",
       "    <tr>\n",
       "      <th>908</th>\n",
       "      <td>Lance</td>\n",
       "      <td>coronavirus 2</td>\n",
       "      <td>JPLE-007</td>\n",
       "      <td>146</td>\n",
       "      <td>Several other labs are also racing to find any...</td>\n",
       "      <td>Eng</td>\n",
       "      <td>Lance</td>\n",
       "      <td>一般</td>\n",
       "      <td>\\Lance_CleanNoise\\CleanNoise-JPLE-007-23-03-01...</td>\n",
       "      <td>CleanNoise-JPLE-007-23-03-01-02_2.wav</td>\n",
       "      <td>...</td>\n",
       "      <td>wav</td>\n",
       "      <td>22050</td>\n",
       "      <td>NaN</td>\n",
       "      <td>NaN</td>\n",
       "      <td>NaN</td>\n",
       "      <td>NaN</td>\n",
       "      <td>NaN</td>\n",
       "      <td>NaN</td>\n",
       "      <td>NaN</td>\n",
       "      <td>NaN</td>\n",
       "    </tr>\n",
       "    <tr>\n",
       "      <th>909</th>\n",
       "      <td>Lance</td>\n",
       "      <td>coronavirus 2</td>\n",
       "      <td>JPLE-007</td>\n",
       "      <td>147</td>\n",
       "      <td>Baric's team is growing as much of the virus a...</td>\n",
       "      <td>Eng</td>\n",
       "      <td>Lance</td>\n",
       "      <td>一般</td>\n",
       "      <td>\\Lance_CleanNoise\\CleanNoise-JPLE-007-23-03-01...</td>\n",
       "      <td>CleanNoise-JPLE-007-23-03-01-02_2.wav</td>\n",
       "      <td>...</td>\n",
       "      <td>wav</td>\n",
       "      <td>22050</td>\n",
       "      <td>NaN</td>\n",
       "      <td>NaN</td>\n",
       "      <td>NaN</td>\n",
       "      <td>NaN</td>\n",
       "      <td>NaN</td>\n",
       "      <td>NaN</td>\n",
       "      <td>NaN</td>\n",
       "      <td>NaN</td>\n",
       "    </tr>\n",
       "    <tr>\n",
       "      <th>910</th>\n",
       "      <td>Lance</td>\n",
       "      <td>coronavirus 2</td>\n",
       "      <td>JPLE-007</td>\n",
       "      <td>148</td>\n",
       "      <td>This first round of testing will likely wrap u...</td>\n",
       "      <td>Eng</td>\n",
       "      <td>Lance</td>\n",
       "      <td>一般</td>\n",
       "      <td>\\Lance_CleanNoise\\CleanNoise-JPLE-007-23-03-01...</td>\n",
       "      <td>CleanNoise-JPLE-007-23-03-01-02_2.wav</td>\n",
       "      <td>...</td>\n",
       "      <td>wav</td>\n",
       "      <td>22050</td>\n",
       "      <td>NaN</td>\n",
       "      <td>NaN</td>\n",
       "      <td>NaN</td>\n",
       "      <td>NaN</td>\n",
       "      <td>NaN</td>\n",
       "      <td>NaN</td>\n",
       "      <td>NaN</td>\n",
       "      <td>NaN</td>\n",
       "    </tr>\n",
       "    <tr>\n",
       "      <th>911</th>\n",
       "      <td>Lance</td>\n",
       "      <td>coronavirus 2</td>\n",
       "      <td>JPLE-007</td>\n",
       "      <td>149</td>\n",
       "      <td>If it works, scientists will test a slew of ne...</td>\n",
       "      <td>Eng</td>\n",
       "      <td>Lance</td>\n",
       "      <td>一般</td>\n",
       "      <td>\\Lance_CleanNoise\\CleanNoise-JPLE-007-23-03-01...</td>\n",
       "      <td>CleanNoise-JPLE-007-23-03-01-02_2.wav</td>\n",
       "      <td>...</td>\n",
       "      <td>wav</td>\n",
       "      <td>22050</td>\n",
       "      <td>NaN</td>\n",
       "      <td>NaN</td>\n",
       "      <td>NaN</td>\n",
       "      <td>NaN</td>\n",
       "      <td>NaN</td>\n",
       "      <td>NaN</td>\n",
       "      <td>NaN</td>\n",
       "      <td>NaN</td>\n",
       "    </tr>\n",
       "    <tr>\n",
       "      <th>912</th>\n",
       "      <td>Lance</td>\n",
       "      <td>coronavirus 2</td>\n",
       "      <td>JPLE-007</td>\n",
       "      <td>150</td>\n",
       "      <td>Now that we have the virus, it's a lot of peop...</td>\n",
       "      <td>Eng</td>\n",
       "      <td>Lance</td>\n",
       "      <td>一般</td>\n",
       "      <td>\\Lance_CleanNoise\\CleanNoise-JPLE-007-23-03-01...</td>\n",
       "      <td>CleanNoise-JPLE-007-23-03-01-02_2.wav</td>\n",
       "      <td>...</td>\n",
       "      <td>wav</td>\n",
       "      <td>22050</td>\n",
       "      <td>NaN</td>\n",
       "      <td>NaN</td>\n",
       "      <td>NaN</td>\n",
       "      <td>NaN</td>\n",
       "      <td>NaN</td>\n",
       "      <td>NaN</td>\n",
       "      <td>NaN</td>\n",
       "      <td>NaN</td>\n",
       "    </tr>\n",
       "    <tr>\n",
       "      <th>913</th>\n",
       "      <td>Lance</td>\n",
       "      <td>coronavirus 2</td>\n",
       "      <td>JPLE-007</td>\n",
       "      <td>151</td>\n",
       "      <td>The pace is as frenzied at the few other labs ...</td>\n",
       "      <td>Eng</td>\n",
       "      <td>Lance</td>\n",
       "      <td>一般</td>\n",
       "      <td>\\Lance_CleanNoise\\CleanNoise-JPLE-007-23-03-01...</td>\n",
       "      <td>CleanNoise-JPLE-007-23-03-01-02_2.wav</td>\n",
       "      <td>...</td>\n",
       "      <td>wav</td>\n",
       "      <td>22050</td>\n",
       "      <td>NaN</td>\n",
       "      <td>NaN</td>\n",
       "      <td>NaN</td>\n",
       "      <td>NaN</td>\n",
       "      <td>NaN</td>\n",
       "      <td>NaN</td>\n",
       "      <td>NaN</td>\n",
       "      <td>NaN</td>\n",
       "    </tr>\n",
       "    <tr>\n",
       "      <th>914</th>\n",
       "      <td>Lance</td>\n",
       "      <td>coronavirus 2</td>\n",
       "      <td>JPLE-007</td>\n",
       "      <td>152</td>\n",
       "      <td>It has been eighteen to twenty-hour days for t...</td>\n",
       "      <td>Eng</td>\n",
       "      <td>Lance</td>\n",
       "      <td>一般</td>\n",
       "      <td>\\Lance_CleanNoise\\CleanNoise-JPLE-007-23-03-01...</td>\n",
       "      <td>CleanNoise-JPLE-007-23-03-01-02_2.wav</td>\n",
       "      <td>...</td>\n",
       "      <td>wav</td>\n",
       "      <td>22050</td>\n",
       "      <td>NaN</td>\n",
       "      <td>NaN</td>\n",
       "      <td>NaN</td>\n",
       "      <td>NaN</td>\n",
       "      <td>NaN</td>\n",
       "      <td>NaN</td>\n",
       "      <td>NaN</td>\n",
       "      <td>NaN</td>\n",
       "    </tr>\n",
       "    <tr>\n",
       "      <th>915</th>\n",
       "      <td>Lance</td>\n",
       "      <td>coronavirus 2</td>\n",
       "      <td>JPLE-007</td>\n",
       "      <td>153</td>\n",
       "      <td>World health organization researcher have call...</td>\n",
       "      <td>Eng</td>\n",
       "      <td>Lance</td>\n",
       "      <td>一般</td>\n",
       "      <td>\\Lance_CleanNoise\\CleanNoise-JPLE-007-23-03-01...</td>\n",
       "      <td>CleanNoise-JPLE-007-23-03-01-02_2.wav</td>\n",
       "      <td>...</td>\n",
       "      <td>wav</td>\n",
       "      <td>22050</td>\n",
       "      <td>NaN</td>\n",
       "      <td>NaN</td>\n",
       "      <td>NaN</td>\n",
       "      <td>NaN</td>\n",
       "      <td>NaN</td>\n",
       "      <td>NaN</td>\n",
       "      <td>NaN</td>\n",
       "      <td>NaN</td>\n",
       "    </tr>\n",
       "    <tr>\n",
       "      <th>916</th>\n",
       "      <td>Lance</td>\n",
       "      <td>coronavirus 2</td>\n",
       "      <td>JPLE-007</td>\n",
       "      <td>154</td>\n",
       "      <td>Trials of the drug are under way in affected a...</td>\n",
       "      <td>Eng</td>\n",
       "      <td>Lance</td>\n",
       "      <td>一般</td>\n",
       "      <td>\\Lance_CleanNoise\\CleanNoise-JPLE-007-23-03-01...</td>\n",
       "      <td>CleanNoise-JPLE-007-23-03-01-02_2.wav</td>\n",
       "      <td>...</td>\n",
       "      <td>wav</td>\n",
       "      <td>22050</td>\n",
       "      <td>NaN</td>\n",
       "      <td>NaN</td>\n",
       "      <td>NaN</td>\n",
       "      <td>NaN</td>\n",
       "      <td>NaN</td>\n",
       "      <td>NaN</td>\n",
       "      <td>NaN</td>\n",
       "      <td>NaN</td>\n",
       "    </tr>\n",
       "    <tr>\n",
       "      <th>917</th>\n",
       "      <td>Lance</td>\n",
       "      <td>coronavirus 2</td>\n",
       "      <td>JPLE-007</td>\n",
       "      <td>154b</td>\n",
       "      <td>It expects some results by April.</td>\n",
       "      <td>Eng</td>\n",
       "      <td>Lance</td>\n",
       "      <td>一般</td>\n",
       "      <td>\\Lance_CleanNoise\\CleanNoise-JPLE-007-23-03-01...</td>\n",
       "      <td>CleanNoise-JPLE-007-23-03-01-02_2.wav</td>\n",
       "      <td>...</td>\n",
       "      <td>wav</td>\n",
       "      <td>22050</td>\n",
       "      <td>NaN</td>\n",
       "      <td>NaN</td>\n",
       "      <td>NaN</td>\n",
       "      <td>NaN</td>\n",
       "      <td>NaN</td>\n",
       "      <td>NaN</td>\n",
       "      <td>NaN</td>\n",
       "      <td>NaN</td>\n",
       "    </tr>\n",
       "    <tr>\n",
       "      <th>918</th>\n",
       "      <td>Lance</td>\n",
       "      <td>coronavirus 2</td>\n",
       "      <td>JPLE-007</td>\n",
       "      <td>155</td>\n",
       "      <td>To speed the efforts, government agencies are ...</td>\n",
       "      <td>Eng</td>\n",
       "      <td>Lance</td>\n",
       "      <td>一般</td>\n",
       "      <td>\\Lance_CleanNoise\\CleanNoise-JPLE-007-23-03-01...</td>\n",
       "      <td>CleanNoise-JPLE-007-23-03-01-02_2.wav</td>\n",
       "      <td>...</td>\n",
       "      <td>wav</td>\n",
       "      <td>22050</td>\n",
       "      <td>NaN</td>\n",
       "      <td>NaN</td>\n",
       "      <td>NaN</td>\n",
       "      <td>NaN</td>\n",
       "      <td>NaN</td>\n",
       "      <td>NaN</td>\n",
       "      <td>NaN</td>\n",
       "      <td>NaN</td>\n",
       "    </tr>\n",
       "    <tr>\n",
       "      <th>919</th>\n",
       "      <td>Lance</td>\n",
       "      <td>coronavirus 2</td>\n",
       "      <td>JPLE-007</td>\n",
       "      <td>156</td>\n",
       "      <td>On March sixth, President Trump signed a spend...</td>\n",
       "      <td>Eng</td>\n",
       "      <td>Lance</td>\n",
       "      <td>一般</td>\n",
       "      <td>\\Lance_CleanNoise\\CleanNoise-JPLE-007-23-03-01...</td>\n",
       "      <td>CleanNoise-JPLE-007-23-03-01-02_2.wav</td>\n",
       "      <td>...</td>\n",
       "      <td>wav</td>\n",
       "      <td>22050</td>\n",
       "      <td>NaN</td>\n",
       "      <td>NaN</td>\n",
       "      <td>NaN</td>\n",
       "      <td>NaN</td>\n",
       "      <td>NaN</td>\n",
       "      <td>NaN</td>\n",
       "      <td>NaN</td>\n",
       "      <td>NaN</td>\n",
       "    </tr>\n",
       "    <tr>\n",
       "      <th>920</th>\n",
       "      <td>Lance</td>\n",
       "      <td>coronavirus 2</td>\n",
       "      <td>JPLE-007</td>\n",
       "      <td>157</td>\n",
       "      <td>The government is working with Regeneron Pharm...</td>\n",
       "      <td>Eng</td>\n",
       "      <td>Lance</td>\n",
       "      <td>一般</td>\n",
       "      <td>\\Lance_CleanNoise\\CleanNoise-JPLE-007-23-03-01...</td>\n",
       "      <td>CleanNoise-JPLE-007-23-03-01-02_2.wav</td>\n",
       "      <td>...</td>\n",
       "      <td>wav</td>\n",
       "      <td>22050</td>\n",
       "      <td>NaN</td>\n",
       "      <td>NaN</td>\n",
       "      <td>NaN</td>\n",
       "      <td>NaN</td>\n",
       "      <td>NaN</td>\n",
       "      <td>NaN</td>\n",
       "      <td>NaN</td>\n",
       "      <td>NaN</td>\n",
       "    </tr>\n",
       "    <tr>\n",
       "      <th>921</th>\n",
       "      <td>Lance</td>\n",
       "      <td>coronavirus 2</td>\n",
       "      <td>JPLE-007</td>\n",
       "      <td>158</td>\n",
       "      <td>And Johnson and Johnson to create new drugs or...</td>\n",
       "      <td>Eng</td>\n",
       "      <td>Lance</td>\n",
       "      <td>一般</td>\n",
       "      <td>\\Lance_CleanNoise\\CleanNoise-JPLE-007-23-03-01...</td>\n",
       "      <td>CleanNoise-JPLE-007-23-03-01-02_2.wav</td>\n",
       "      <td>...</td>\n",
       "      <td>wav</td>\n",
       "      <td>22050</td>\n",
       "      <td>NaN</td>\n",
       "      <td>NaN</td>\n",
       "      <td>NaN</td>\n",
       "      <td>NaN</td>\n",
       "      <td>NaN</td>\n",
       "      <td>NaN</td>\n",
       "      <td>NaN</td>\n",
       "      <td>NaN</td>\n",
       "    </tr>\n",
       "    <tr>\n",
       "      <th>922</th>\n",
       "      <td>Lance</td>\n",
       "      <td>coronavirus 2</td>\n",
       "      <td>JPLE-007</td>\n",
       "      <td>159</td>\n",
       "      <td>Baric says he was shocked in January to see ho...</td>\n",
       "      <td>Eng</td>\n",
       "      <td>Lance</td>\n",
       "      <td>一般</td>\n",
       "      <td>\\Lance_CleanNoise\\CleanNoise-JPLE-007-23-03-01...</td>\n",
       "      <td>CleanNoise-JPLE-007-23-03-01-02_2.wav</td>\n",
       "      <td>...</td>\n",
       "      <td>wav</td>\n",
       "      <td>22050</td>\n",
       "      <td>NaN</td>\n",
       "      <td>NaN</td>\n",
       "      <td>NaN</td>\n",
       "      <td>NaN</td>\n",
       "      <td>NaN</td>\n",
       "      <td>NaN</td>\n",
       "      <td>NaN</td>\n",
       "      <td>NaN</td>\n",
       "    </tr>\n",
       "    <tr>\n",
       "      <th>923</th>\n",
       "      <td>Lance</td>\n",
       "      <td>coronavirus 2</td>\n",
       "      <td>JPLE-007</td>\n",
       "      <td>160</td>\n",
       "      <td>Now the workload is overwhelming as companies ...</td>\n",
       "      <td>Eng</td>\n",
       "      <td>Lance</td>\n",
       "      <td>一般</td>\n",
       "      <td>\\Lance_CleanNoise\\CleanNoise-JPLE-007-23-03-01...</td>\n",
       "      <td>CleanNoise-JPLE-007-23-03-01-02_2.wav</td>\n",
       "      <td>...</td>\n",
       "      <td>wav</td>\n",
       "      <td>22050</td>\n",
       "      <td>NaN</td>\n",
       "      <td>NaN</td>\n",
       "      <td>NaN</td>\n",
       "      <td>NaN</td>\n",
       "      <td>NaN</td>\n",
       "      <td>NaN</td>\n",
       "      <td>NaN</td>\n",
       "      <td>NaN</td>\n",
       "    </tr>\n",
       "    <tr>\n",
       "      <th>924</th>\n",
       "      <td>Lance</td>\n",
       "      <td>coronavirus 2</td>\n",
       "      <td>JPLE-007</td>\n",
       "      <td>161</td>\n",
       "      <td>He's narrowed down the search to about one hun...</td>\n",
       "      <td>Eng</td>\n",
       "      <td>Lance</td>\n",
       "      <td>一般</td>\n",
       "      <td>\\Lance_CleanNoise\\CleanNoise-JPLE-007-23-03-01...</td>\n",
       "      <td>CleanNoise-JPLE-007-23-03-01-02_2.wav</td>\n",
       "      <td>...</td>\n",
       "      <td>wav</td>\n",
       "      <td>22050</td>\n",
       "      <td>NaN</td>\n",
       "      <td>NaN</td>\n",
       "      <td>NaN</td>\n",
       "      <td>NaN</td>\n",
       "      <td>NaN</td>\n",
       "      <td>NaN</td>\n",
       "      <td>NaN</td>\n",
       "      <td>NaN</td>\n",
       "    </tr>\n",
       "    <tr>\n",
       "      <th>925</th>\n",
       "      <td>Lance</td>\n",
       "      <td>coronavirus 2</td>\n",
       "      <td>JPLE-007</td>\n",
       "      <td>162</td>\n",
       "      <td>Even if the Gilead drug works a big if it woul...</td>\n",
       "      <td>Eng</td>\n",
       "      <td>Lance</td>\n",
       "      <td>一般</td>\n",
       "      <td>\\Lance_CleanNoise\\CleanNoise-JPLE-007-23-03-01...</td>\n",
       "      <td>CleanNoise-JPLE-007-23-03-01-02_2.wav</td>\n",
       "      <td>...</td>\n",
       "      <td>wav</td>\n",
       "      <td>22050</td>\n",
       "      <td>NaN</td>\n",
       "      <td>NaN</td>\n",
       "      <td>NaN</td>\n",
       "      <td>NaN</td>\n",
       "      <td>NaN</td>\n",
       "      <td>NaN</td>\n",
       "      <td>NaN</td>\n",
       "      <td>NaN</td>\n",
       "    </tr>\n",
       "    <tr>\n",
       "      <th>926</th>\n",
       "      <td>Lance</td>\n",
       "      <td>coronavirus 2</td>\n",
       "      <td>JPLE-007</td>\n",
       "      <td>163</td>\n",
       "      <td>More crucially, other drugs may need to supple...</td>\n",
       "      <td>Eng</td>\n",
       "      <td>Lance</td>\n",
       "      <td>一般</td>\n",
       "      <td>\\Lance_CleanNoise\\CleanNoise-JPLE-007-23-03-01...</td>\n",
       "      <td>CleanNoise-JPLE-007-23-03-01-02_2.wav</td>\n",
       "      <td>...</td>\n",
       "      <td>wav</td>\n",
       "      <td>22050</td>\n",
       "      <td>NaN</td>\n",
       "      <td>NaN</td>\n",
       "      <td>NaN</td>\n",
       "      <td>NaN</td>\n",
       "      <td>NaN</td>\n",
       "      <td>NaN</td>\n",
       "      <td>NaN</td>\n",
       "      <td>NaN</td>\n",
       "    </tr>\n",
       "    <tr>\n",
       "      <th>927</th>\n",
       "      <td>Lance</td>\n",
       "      <td>coronavirus 2</td>\n",
       "      <td>JPLE-007</td>\n",
       "      <td>164</td>\n",
       "      <td>The goal of our program is to find broad-based...</td>\n",
       "      <td>Eng</td>\n",
       "      <td>Lance</td>\n",
       "      <td>一般</td>\n",
       "      <td>\\Lance_CleanNoise\\CleanNoise-JPLE-007-23-03-01...</td>\n",
       "      <td>CleanNoise-JPLE-007-23-03-01-02_2.wav</td>\n",
       "      <td>...</td>\n",
       "      <td>wav</td>\n",
       "      <td>22050</td>\n",
       "      <td>NaN</td>\n",
       "      <td>NaN</td>\n",
       "      <td>NaN</td>\n",
       "      <td>NaN</td>\n",
       "      <td>NaN</td>\n",
       "      <td>NaN</td>\n",
       "      <td>NaN</td>\n",
       "      <td>NaN</td>\n",
       "    </tr>\n",
       "    <tr>\n",
       "      <th>928</th>\n",
       "      <td>Lance</td>\n",
       "      <td>coronavirus 2</td>\n",
       "      <td>JPLE-007</td>\n",
       "      <td>165</td>\n",
       "      <td>That makes the challenge sound matter-of-fact,...</td>\n",
       "      <td>Eng</td>\n",
       "      <td>Lance</td>\n",
       "      <td>一般</td>\n",
       "      <td>\\Lance_CleanNoise\\CleanNoise-JPLE-007-23-03-01...</td>\n",
       "      <td>CleanNoise-JPLE-007-23-03-01-02_2.wav</td>\n",
       "      <td>...</td>\n",
       "      <td>wav</td>\n",
       "      <td>22050</td>\n",
       "      <td>NaN</td>\n",
       "      <td>NaN</td>\n",
       "      <td>NaN</td>\n",
       "      <td>NaN</td>\n",
       "      <td>NaN</td>\n",
       "      <td>NaN</td>\n",
       "      <td>NaN</td>\n",
       "      <td>NaN</td>\n",
       "    </tr>\n",
       "    <tr>\n",
       "      <th>929</th>\n",
       "      <td>Lance</td>\n",
       "      <td>coronavirus 2</td>\n",
       "      <td>JPLE-007</td>\n",
       "      <td>166</td>\n",
       "      <td>I have a lot people who are really tired, he s...</td>\n",
       "      <td>Eng</td>\n",
       "      <td>Lance</td>\n",
       "      <td>一般</td>\n",
       "      <td>\\Lance_CleanNoise\\CleanNoise-JPLE-007-23-03-01...</td>\n",
       "      <td>CleanNoise-JPLE-007-23-03-01-02_2.wav</td>\n",
       "      <td>...</td>\n",
       "      <td>wav</td>\n",
       "      <td>22050</td>\n",
       "      <td>NaN</td>\n",
       "      <td>NaN</td>\n",
       "      <td>NaN</td>\n",
       "      <td>NaN</td>\n",
       "      <td>NaN</td>\n",
       "      <td>NaN</td>\n",
       "      <td>NaN</td>\n",
       "      <td>NaN</td>\n",
       "    </tr>\n",
       "    <tr>\n",
       "      <th>930</th>\n",
       "      <td>Lance</td>\n",
       "      <td>coronavirus 2</td>\n",
       "      <td>JPLE-007</td>\n",
       "      <td>167</td>\n",
       "      <td>They are working really hard, Robert saids.</td>\n",
       "      <td>Eng</td>\n",
       "      <td>Lance</td>\n",
       "      <td>一般</td>\n",
       "      <td>\\Lance_CleanNoise\\CleanNoise-JPLE-007-23-03-01...</td>\n",
       "      <td>CleanNoise-JPLE-007-23-03-01-02_2.wav</td>\n",
       "      <td>...</td>\n",
       "      <td>wav</td>\n",
       "      <td>22050</td>\n",
       "      <td>NaN</td>\n",
       "      <td>NaN</td>\n",
       "      <td>NaN</td>\n",
       "      <td>NaN</td>\n",
       "      <td>NaN</td>\n",
       "      <td>NaN</td>\n",
       "      <td>NaN</td>\n",
       "      <td>NaN</td>\n",
       "    </tr>\n",
       "  </tbody>\n",
       "</table>\n",
       "<p>931 rows × 28 columns</p>\n",
       "</div>"
      ],
      "text/plain": [
       "    dataset_name    script_title script_name sentence_number  \\\n",
       "0          Lance  Neurobiology_1    JPHE-001               0   \n",
       "1          Lance  Neurobiology_1    JPHE-001               1   \n",
       "2          Lance  Neurobiology_1    JPHE-001               2   \n",
       "3          Lance  Neurobiology_1    JPHE-001               3   \n",
       "4          Lance  Neurobiology_1    JPHE-001               4   \n",
       "5          Lance  Neurobiology_1    JPHE-001               5   \n",
       "6          Lance  Neurobiology_1    JPHE-001               6   \n",
       "7          Lance  Neurobiology_1    JPHE-001               7   \n",
       "8          Lance  Neurobiology_1    JPHE-001               8   \n",
       "9          Lance  Neurobiology_1    JPHE-001             8_b   \n",
       "10         Lance  Neurobiology_1    JPHE-001               9   \n",
       "11         Lance  Neurobiology_1    JPHE-001              10   \n",
       "12         Lance  Neurobiology_1    JPHE-001              11   \n",
       "13         Lance  Neurobiology_1    JPHE-001             11a   \n",
       "14         Lance  Neurobiology_1    JPHE-001             11b   \n",
       "15         Lance  Neurobiology_1    JPHE-001              12   \n",
       "16         Lance  Neurobiology_1    JPHE-001              13   \n",
       "17         Lance  Neurobiology_1    JPHE-001              14   \n",
       "18         Lance  Neurobiology_1    JPHE-001              15   \n",
       "19         Lance  Neurobiology_1    JPHE-001              16   \n",
       "20         Lance  Neurobiology_1    JPHE-001              17   \n",
       "21         Lance  Neurobiology_1    JPHE-001             18a   \n",
       "22         Lance  Neurobiology_1    JPHE-001             18b   \n",
       "23         Lance  Neurobiology_1    JPHE-001              19   \n",
       "24         Lance  Neurobiology_1    JPHE-001              20   \n",
       "25         Lance  Neurobiology_1    JPHE-001              21   \n",
       "26         Lance  Neurobiology_1    JPHE-001              22   \n",
       "27         Lance  Neurobiology_1    JPHE-001              23   \n",
       "28         Lance  Neurobiology_1    JPHE-001              24   \n",
       "29         Lance  Neurobiology_1    JPHE-001              25   \n",
       "..           ...             ...         ...             ...   \n",
       "901        Lance   coronavirus 2    JPLE-007             139   \n",
       "902        Lance   coronavirus 2    JPLE-007             140   \n",
       "903        Lance   coronavirus 2    JPLE-007             141   \n",
       "904        Lance   coronavirus 2    JPLE-007             142   \n",
       "905        Lance   coronavirus 2    JPLE-007             143   \n",
       "906        Lance   coronavirus 2    JPLE-007             144   \n",
       "907        Lance   coronavirus 2    JPLE-007             145   \n",
       "908        Lance   coronavirus 2    JPLE-007             146   \n",
       "909        Lance   coronavirus 2    JPLE-007             147   \n",
       "910        Lance   coronavirus 2    JPLE-007             148   \n",
       "911        Lance   coronavirus 2    JPLE-007             149   \n",
       "912        Lance   coronavirus 2    JPLE-007             150   \n",
       "913        Lance   coronavirus 2    JPLE-007             151   \n",
       "914        Lance   coronavirus 2    JPLE-007             152   \n",
       "915        Lance   coronavirus 2    JPLE-007             153   \n",
       "916        Lance   coronavirus 2    JPLE-007             154   \n",
       "917        Lance   coronavirus 2    JPLE-007            154b   \n",
       "918        Lance   coronavirus 2    JPLE-007             155   \n",
       "919        Lance   coronavirus 2    JPLE-007             156   \n",
       "920        Lance   coronavirus 2    JPLE-007             157   \n",
       "921        Lance   coronavirus 2    JPLE-007             158   \n",
       "922        Lance   coronavirus 2    JPLE-007             159   \n",
       "923        Lance   coronavirus 2    JPLE-007             160   \n",
       "924        Lance   coronavirus 2    JPLE-007             161   \n",
       "925        Lance   coronavirus 2    JPLE-007             162   \n",
       "926        Lance   coronavirus 2    JPLE-007             163   \n",
       "927        Lance   coronavirus 2    JPLE-007             164   \n",
       "928        Lance   coronavirus 2    JPLE-007             165   \n",
       "929        Lance   coronavirus 2    JPLE-007             166   \n",
       "930        Lance   coronavirus 2    JPLE-007             167   \n",
       "\n",
       "                                         sentence_text language speaker  \\\n",
       "0    Our mind is the most complicated piece of the ...      Eng   Lance   \n",
       "1    The rules that govern it are mysterious and el...      Eng   Lance   \n",
       "2    Maybe our brains just aren't complex enough to...      Eng   Lance   \n",
       "3         But that's not going to stop us from trying!      Eng   Lance   \n",
       "4    The word 'psychology' comes from the Latin for...      Eng   Lance   \n",
       "5    \" And while its formal definition has evolved ...      Eng   Lance   \n",
       "6    The term 'psychology' wasn't coined until arou...      Eng   Lance   \n",
       "7    But of course, humans have always been curious...      Eng   Lance   \n",
       "8    Aristotle pondered the seed of human conscious...      Eng   Lance   \n",
       "9    As we have seen quite a lot here on our Crash ...      Eng   Lance   \n",
       "10   Two thousand years ago, Chinese rulers conduct...      Eng   Lance   \n",
       "11   And in the late eight hundreds, Persian doctor...      Eng   Lance   \n",
       "12   From the efforts of those early thinkers up un...      Eng   Lance   \n",
       "13   From the efforts of those early thinkers up un...      Eng   Lance   \n",
       "14   How can humans do horrible things like commit ...      Eng   Lance   \n",
       "15   Do we have free will, or are we simply driven ...      Eng   Lance   \n",
       "16   What is mental illness, and what can we do abo...      Eng   Lance   \n",
       "17                          And what is consciousness?      Eng   Lance   \n",
       "18                              Or the notion of self?      Eng   Lance   \n",
       "19   If I lose my awareness of myself, am I still h...      Eng   Lance   \n",
       "20                                       I DON'T KNOW!      Eng   Lance   \n",
       "21   But over the next six months, these are the qu...      Eng   Lance   \n",
       "22   How they can break, how they can be healed, wh...      Eng   Lance   \n",
       "23   When hearing the word psychology most people p...      Eng   Lance   \n",
       "24   Maybe that therapist is wearing glasses, chewi...      Eng   Lance   \n",
       "25                                           Admit it！      Eng   Lance   \n",
       "26   If you're thinking about psychology, you're pr...      Eng   Lance   \n",
       "27   Sigmund Freud was one of the most tremendously...      Eng   Lance   \n",
       "28   His theories helped build our views on childho...      Eng   Lance   \n",
       "29   And his work fueled a legacy of both support a...      Eng   Lance   \n",
       "..                                                 ...      ...     ...   \n",
       "901  As early as the nineteen ninety , Baric's work...      Eng   Lance   \n",
       "902  Scientists say the new coronavirus might have ...      Eng   Lance   \n",
       "903  Some of those eventually wound up in one of Ch...      Eng   Lance   \n",
       "904  Until two months ago, Baric was little known o...      Eng   Lance   \n",
       "905  When he began his career, coronaviruses were u...      Eng   Lance   \n",
       "906    But his work has suddenly taken on new urgency.      Eng   Lance   \n",
       "907  Baric's thirty-person team was one of the firs...      Eng   Lance   \n",
       "908  Several other labs are also racing to find any...      Eng   Lance   \n",
       "909  Baric's team is growing as much of the virus a...      Eng   Lance   \n",
       "910  This first round of testing will likely wrap u...      Eng   Lance   \n",
       "911  If it works, scientists will test a slew of ne...      Eng   Lance   \n",
       "912  Now that we have the virus, it's a lot of peop...      Eng   Lance   \n",
       "913  The pace is as frenzied at the few other labs ...      Eng   Lance   \n",
       "914  It has been eighteen to twenty-hour days for t...      Eng   Lance   \n",
       "915  World health organization researcher have call...      Eng   Lance   \n",
       "916  Trials of the drug are under way in affected a...      Eng   Lance   \n",
       "917                  It expects some results by April.      Eng   Lance   \n",
       "918  To speed the efforts, government agencies are ...      Eng   Lance   \n",
       "919  On March sixth, President Trump signed a spend...      Eng   Lance   \n",
       "920  The government is working with Regeneron Pharm...      Eng   Lance   \n",
       "921  And Johnson and Johnson to create new drugs or...      Eng   Lance   \n",
       "922  Baric says he was shocked in January to see ho...      Eng   Lance   \n",
       "923  Now the workload is overwhelming as companies ...      Eng   Lance   \n",
       "924  He's narrowed down the search to about one hun...      Eng   Lance   \n",
       "925  Even if the Gilead drug works a big if it woul...      Eng   Lance   \n",
       "926  More crucially, other drugs may need to supple...      Eng   Lance   \n",
       "927  The goal of our program is to find broad-based...      Eng   Lance   \n",
       "928  That makes the challenge sound matter-of-fact,...      Eng   Lance   \n",
       "929  I have a lot people who are really tired, he s...      Eng   Lance   \n",
       "930        They are working really hard, Robert saids.      Eng   Lance   \n",
       "\n",
       "    emotion                                          data_path  \\\n",
       "0        一般  \\Lance_CleanNoise\\CleanNoise-JPHE-001-04-01-01...   \n",
       "1        一般  \\Lance_CleanNoise\\CleanNoise-JPHE-001-04-01-01...   \n",
       "2        一般  \\Lance_CleanNoise\\CleanNoise-JPHE-001-04-01-01...   \n",
       "3        一般  \\Lance_CleanNoise\\CleanNoise-JPHE-001-04-01-01...   \n",
       "4        一般  \\Lance_CleanNoise\\CleanNoise-JPHE-001-04-01-01...   \n",
       "5        一般  \\Lance_CleanNoise\\CleanNoise-JPHE-001-04-01-01...   \n",
       "6        一般  \\Lance_CleanNoise\\CleanNoise-JPHE-001-04-01-01...   \n",
       "7        一般  \\Lance_CleanNoise\\CleanNoise-JPHE-001-04-01-01...   \n",
       "8        一般  \\Lance_CleanNoise\\CleanNoise-JPHE-001-04-01-01...   \n",
       "9       NaN  \\Lance_CleanNoise\\CleanNoise-JPHE-001-04-01-01...   \n",
       "10       一般  \\Lance_CleanNoise\\CleanNoise-JPHE-001-04-01-01...   \n",
       "11       一般  \\Lance_CleanNoise\\CleanNoise-JPHE-001-04-01-01...   \n",
       "12       一般  \\Lance_CleanNoise\\CleanNoise-JPHE-001-04-01-01...   \n",
       "13       一般  \\Lance_CleanNoise\\CleanNoise-JPHE-001-04-01-01...   \n",
       "14       一般  \\Lance_CleanNoise\\CleanNoise-JPHE-001-04-01-01...   \n",
       "15       一般  \\Lance_CleanNoise\\CleanNoise-JPHE-001-04-01-01...   \n",
       "16       一般  \\Lance_CleanNoise\\CleanNoise-JPHE-001-04-01-01...   \n",
       "17       一般  \\Lance_CleanNoise\\CleanNoise-JPHE-001-04-01-01...   \n",
       "18       一般  \\Lance_CleanNoise\\CleanNoise-JPHE-001-04-01-01...   \n",
       "19       一般  \\Lance_CleanNoise\\CleanNoise-JPHE-001-04-01-01...   \n",
       "20       一般  \\Lance_CleanNoise\\CleanNoise-JPHE-001-04-01-01...   \n",
       "21       一般  \\Lance_CleanNoise\\CleanNoise-JPHE-001-04-01-01...   \n",
       "22       一般  \\Lance_CleanNoise\\CleanNoise-JPHE-001-04-01-01...   \n",
       "23       一般  \\Lance_CleanNoise\\CleanNoise-JPHE-001-04-01-01...   \n",
       "24       一般  \\Lance_CleanNoise\\CleanNoise-JPHE-001-04-01-01...   \n",
       "25       一般  \\Lance_CleanNoise\\CleanNoise-JPHE-001-04-01-01...   \n",
       "26       一般  \\Lance_CleanNoise\\CleanNoise-JPHE-001-04-01-01...   \n",
       "27       一般  \\Lance_CleanNoise\\CleanNoise-JPHE-001-04-01-01...   \n",
       "28       一般  \\Lance_CleanNoise\\CleanNoise-JPHE-001-04-01-01...   \n",
       "29       一般  \\Lance_CleanNoise\\CleanNoise-JPHE-001-04-01-01...   \n",
       "..      ...                                                ...   \n",
       "901      一般  \\Lance_CleanNoise\\CleanNoise-JPLE-007-23-03-01...   \n",
       "902      一般  \\Lance_CleanNoise\\CleanNoise-JPLE-007-23-03-01...   \n",
       "903      一般  \\Lance_CleanNoise\\CleanNoise-JPLE-007-23-03-01...   \n",
       "904      一般  \\Lance_CleanNoise\\CleanNoise-JPLE-007-23-03-01...   \n",
       "905      一般  \\Lance_CleanNoise\\CleanNoise-JPLE-007-23-03-01...   \n",
       "906      一般  \\Lance_CleanNoise\\CleanNoise-JPLE-007-23-03-01...   \n",
       "907      一般  \\Lance_CleanNoise\\CleanNoise-JPLE-007-23-03-01...   \n",
       "908      一般  \\Lance_CleanNoise\\CleanNoise-JPLE-007-23-03-01...   \n",
       "909      一般  \\Lance_CleanNoise\\CleanNoise-JPLE-007-23-03-01...   \n",
       "910      一般  \\Lance_CleanNoise\\CleanNoise-JPLE-007-23-03-01...   \n",
       "911      一般  \\Lance_CleanNoise\\CleanNoise-JPLE-007-23-03-01...   \n",
       "912      一般  \\Lance_CleanNoise\\CleanNoise-JPLE-007-23-03-01...   \n",
       "913      一般  \\Lance_CleanNoise\\CleanNoise-JPLE-007-23-03-01...   \n",
       "914      一般  \\Lance_CleanNoise\\CleanNoise-JPLE-007-23-03-01...   \n",
       "915      一般  \\Lance_CleanNoise\\CleanNoise-JPLE-007-23-03-01...   \n",
       "916      一般  \\Lance_CleanNoise\\CleanNoise-JPLE-007-23-03-01...   \n",
       "917      一般  \\Lance_CleanNoise\\CleanNoise-JPLE-007-23-03-01...   \n",
       "918      一般  \\Lance_CleanNoise\\CleanNoise-JPLE-007-23-03-01...   \n",
       "919      一般  \\Lance_CleanNoise\\CleanNoise-JPLE-007-23-03-01...   \n",
       "920      一般  \\Lance_CleanNoise\\CleanNoise-JPLE-007-23-03-01...   \n",
       "921      一般  \\Lance_CleanNoise\\CleanNoise-JPLE-007-23-03-01...   \n",
       "922      一般  \\Lance_CleanNoise\\CleanNoise-JPLE-007-23-03-01...   \n",
       "923      一般  \\Lance_CleanNoise\\CleanNoise-JPLE-007-23-03-01...   \n",
       "924      一般  \\Lance_CleanNoise\\CleanNoise-JPLE-007-23-03-01...   \n",
       "925      一般  \\Lance_CleanNoise\\CleanNoise-JPLE-007-23-03-01...   \n",
       "926      一般  \\Lance_CleanNoise\\CleanNoise-JPLE-007-23-03-01...   \n",
       "927      一般  \\Lance_CleanNoise\\CleanNoise-JPLE-007-23-03-01...   \n",
       "928      一般  \\Lance_CleanNoise\\CleanNoise-JPLE-007-23-03-01...   \n",
       "929      一般  \\Lance_CleanNoise\\CleanNoise-JPLE-007-23-03-01...   \n",
       "930      一般  \\Lance_CleanNoise\\CleanNoise-JPLE-007-23-03-01...   \n",
       "\n",
       "                                 data_name  ...  voice_format voice_sr  \\\n",
       "0    CleanNoise-JPHE-001-04-01-01-01_2.wav  ...           wav    22050   \n",
       "1    CleanNoise-JPHE-001-04-01-01-01_2.wav  ...           wav    22050   \n",
       "2    CleanNoise-JPHE-001-04-01-01-01_2.wav  ...           wav    22050   \n",
       "3    CleanNoise-JPHE-001-04-01-01-01_2.wav  ...           wav    22050   \n",
       "4    CleanNoise-JPHE-001-04-01-01-01_2.wav  ...           wav    22050   \n",
       "5    CleanNoise-JPHE-001-04-01-01-01_2.wav  ...           wav    22050   \n",
       "6    CleanNoise-JPHE-001-04-01-01-01_2.wav  ...           wav    22050   \n",
       "7    CleanNoise-JPHE-001-04-01-01-01_2.wav  ...           wav    22050   \n",
       "8    CleanNoise-JPHE-001-04-01-01-01_2.wav  ...           wav    22050   \n",
       "9    CleanNoise-JPHE-001-04-01-01-01_2.wav  ...           wav    22050   \n",
       "10   CleanNoise-JPHE-001-04-01-01-01_2.wav  ...           wav    22050   \n",
       "11   CleanNoise-JPHE-001-04-01-01-01_2.wav  ...           wav    22050   \n",
       "12   CleanNoise-JPHE-001-04-01-01-01_2.wav  ...           wav    22050   \n",
       "13   CleanNoise-JPHE-001-04-01-01-01_2.wav  ...           wav    22050   \n",
       "14   CleanNoise-JPHE-001-04-01-01-01_2.wav  ...           wav    22050   \n",
       "15   CleanNoise-JPHE-001-04-01-01-01_2.wav  ...           wav    22050   \n",
       "16   CleanNoise-JPHE-001-04-01-01-01_2.wav  ...           wav    22050   \n",
       "17   CleanNoise-JPHE-001-04-01-01-01_2.wav  ...           wav    22050   \n",
       "18   CleanNoise-JPHE-001-04-01-01-01_2.wav  ...           wav    22050   \n",
       "19   CleanNoise-JPHE-001-04-01-01-01_2.wav  ...           wav    22050   \n",
       "20   CleanNoise-JPHE-001-04-01-01-01_2.wav  ...           wav    22050   \n",
       "21   CleanNoise-JPHE-001-04-01-01-01_2.wav  ...           wav    22050   \n",
       "22   CleanNoise-JPHE-001-04-01-01-01_2.wav  ...           wav    22050   \n",
       "23   CleanNoise-JPHE-001-04-01-01-01_2.wav  ...           wav    22050   \n",
       "24   CleanNoise-JPHE-001-04-01-01-01_2.wav  ...           wav    22050   \n",
       "25   CleanNoise-JPHE-001-04-01-01-01_2.wav  ...           wav    22050   \n",
       "26   CleanNoise-JPHE-001-04-01-01-01_2.wav  ...           wav    22050   \n",
       "27   CleanNoise-JPHE-001-04-01-01-01_2.wav  ...           wav    22050   \n",
       "28   CleanNoise-JPHE-001-04-01-01-01_2.wav  ...           wav    22050   \n",
       "29   CleanNoise-JPHE-001-04-01-01-01_2.wav  ...           wav    22050   \n",
       "..                                     ...  ...           ...      ...   \n",
       "901  CleanNoise-JPLE-007-23-03-01-02_2.wav  ...           wav    22050   \n",
       "902  CleanNoise-JPLE-007-23-03-01-02_2.wav  ...           wav    22050   \n",
       "903  CleanNoise-JPLE-007-23-03-01-02_2.wav  ...           wav    22050   \n",
       "904  CleanNoise-JPLE-007-23-03-01-02_2.wav  ...           wav    22050   \n",
       "905  CleanNoise-JPLE-007-23-03-01-02_2.wav  ...           wav    22050   \n",
       "906  CleanNoise-JPLE-007-23-03-01-02_2.wav  ...           wav    22050   \n",
       "907  CleanNoise-JPLE-007-23-03-01-02_2.wav  ...           wav    22050   \n",
       "908  CleanNoise-JPLE-007-23-03-01-02_2.wav  ...           wav    22050   \n",
       "909  CleanNoise-JPLE-007-23-03-01-02_2.wav  ...           wav    22050   \n",
       "910  CleanNoise-JPLE-007-23-03-01-02_2.wav  ...           wav    22050   \n",
       "911  CleanNoise-JPLE-007-23-03-01-02_2.wav  ...           wav    22050   \n",
       "912  CleanNoise-JPLE-007-23-03-01-02_2.wav  ...           wav    22050   \n",
       "913  CleanNoise-JPLE-007-23-03-01-02_2.wav  ...           wav    22050   \n",
       "914  CleanNoise-JPLE-007-23-03-01-02_2.wav  ...           wav    22050   \n",
       "915  CleanNoise-JPLE-007-23-03-01-02_2.wav  ...           wav    22050   \n",
       "916  CleanNoise-JPLE-007-23-03-01-02_2.wav  ...           wav    22050   \n",
       "917  CleanNoise-JPLE-007-23-03-01-02_2.wav  ...           wav    22050   \n",
       "918  CleanNoise-JPLE-007-23-03-01-02_2.wav  ...           wav    22050   \n",
       "919  CleanNoise-JPLE-007-23-03-01-02_2.wav  ...           wav    22050   \n",
       "920  CleanNoise-JPLE-007-23-03-01-02_2.wav  ...           wav    22050   \n",
       "921  CleanNoise-JPLE-007-23-03-01-02_2.wav  ...           wav    22050   \n",
       "922  CleanNoise-JPLE-007-23-03-01-02_2.wav  ...           wav    22050   \n",
       "923  CleanNoise-JPLE-007-23-03-01-02_2.wav  ...           wav    22050   \n",
       "924  CleanNoise-JPLE-007-23-03-01-02_2.wav  ...           wav    22050   \n",
       "925  CleanNoise-JPLE-007-23-03-01-02_2.wav  ...           wav    22050   \n",
       "926  CleanNoise-JPLE-007-23-03-01-02_2.wav  ...           wav    22050   \n",
       "927  CleanNoise-JPLE-007-23-03-01-02_2.wav  ...           wav    22050   \n",
       "928  CleanNoise-JPLE-007-23-03-01-02_2.wav  ...           wav    22050   \n",
       "929  CleanNoise-JPLE-007-23-03-01-02_2.wav  ...           wav    22050   \n",
       "930  CleanNoise-JPLE-007-23-03-01-02_2.wav  ...           wav    22050   \n",
       "\n",
       "    prep_date_time prep_path  prep_name samples frames  clean_date_time  \\\n",
       "0              NaN       NaN        NaN     NaN    NaN              NaN   \n",
       "1              NaN       NaN        NaN     NaN    NaN              NaN   \n",
       "2              NaN       NaN        NaN     NaN    NaN              NaN   \n",
       "3              NaN       NaN        NaN     NaN    NaN              NaN   \n",
       "4              NaN       NaN        NaN     NaN    NaN              NaN   \n",
       "5              NaN       NaN        NaN     NaN    NaN              NaN   \n",
       "6              NaN       NaN        NaN     NaN    NaN              NaN   \n",
       "7              NaN       NaN        NaN     NaN    NaN              NaN   \n",
       "8              NaN       NaN        NaN     NaN    NaN              NaN   \n",
       "9              NaN       NaN        NaN     NaN    NaN              NaN   \n",
       "10             NaN       NaN        NaN     NaN    NaN              NaN   \n",
       "11             NaN       NaN        NaN     NaN    NaN              NaN   \n",
       "12             NaN       NaN        NaN     NaN    NaN              NaN   \n",
       "13             NaN       NaN        NaN     NaN    NaN              NaN   \n",
       "14             NaN       NaN        NaN     NaN    NaN              NaN   \n",
       "15             NaN       NaN        NaN     NaN    NaN              NaN   \n",
       "16             NaN       NaN        NaN     NaN    NaN              NaN   \n",
       "17             NaN       NaN        NaN     NaN    NaN              NaN   \n",
       "18             NaN       NaN        NaN     NaN    NaN              NaN   \n",
       "19             NaN       NaN        NaN     NaN    NaN              NaN   \n",
       "20             NaN       NaN        NaN     NaN    NaN              NaN   \n",
       "21             NaN       NaN        NaN     NaN    NaN              NaN   \n",
       "22             NaN       NaN        NaN     NaN    NaN              NaN   \n",
       "23             NaN       NaN        NaN     NaN    NaN              NaN   \n",
       "24             NaN       NaN        NaN     NaN    NaN              NaN   \n",
       "25             NaN       NaN        NaN     NaN    NaN              NaN   \n",
       "26             NaN       NaN        NaN     NaN    NaN              NaN   \n",
       "27             NaN       NaN        NaN     NaN    NaN              NaN   \n",
       "28             NaN       NaN        NaN     NaN    NaN              NaN   \n",
       "29             NaN       NaN        NaN     NaN    NaN              NaN   \n",
       "..             ...       ...        ...     ...    ...              ...   \n",
       "901            NaN       NaN        NaN     NaN    NaN              NaN   \n",
       "902            NaN       NaN        NaN     NaN    NaN              NaN   \n",
       "903            NaN       NaN        NaN     NaN    NaN              NaN   \n",
       "904            NaN       NaN        NaN     NaN    NaN              NaN   \n",
       "905            NaN       NaN        NaN     NaN    NaN              NaN   \n",
       "906            NaN       NaN        NaN     NaN    NaN              NaN   \n",
       "907            NaN       NaN        NaN     NaN    NaN              NaN   \n",
       "908            NaN       NaN        NaN     NaN    NaN              NaN   \n",
       "909            NaN       NaN        NaN     NaN    NaN              NaN   \n",
       "910            NaN       NaN        NaN     NaN    NaN              NaN   \n",
       "911            NaN       NaN        NaN     NaN    NaN              NaN   \n",
       "912            NaN       NaN        NaN     NaN    NaN              NaN   \n",
       "913            NaN       NaN        NaN     NaN    NaN              NaN   \n",
       "914            NaN       NaN        NaN     NaN    NaN              NaN   \n",
       "915            NaN       NaN        NaN     NaN    NaN              NaN   \n",
       "916            NaN       NaN        NaN     NaN    NaN              NaN   \n",
       "917            NaN       NaN        NaN     NaN    NaN              NaN   \n",
       "918            NaN       NaN        NaN     NaN    NaN              NaN   \n",
       "919            NaN       NaN        NaN     NaN    NaN              NaN   \n",
       "920            NaN       NaN        NaN     NaN    NaN              NaN   \n",
       "921            NaN       NaN        NaN     NaN    NaN              NaN   \n",
       "922            NaN       NaN        NaN     NaN    NaN              NaN   \n",
       "923            NaN       NaN        NaN     NaN    NaN              NaN   \n",
       "924            NaN       NaN        NaN     NaN    NaN              NaN   \n",
       "925            NaN       NaN        NaN     NaN    NaN              NaN   \n",
       "926            NaN       NaN        NaN     NaN    NaN              NaN   \n",
       "927            NaN       NaN        NaN     NaN    NaN              NaN   \n",
       "928            NaN       NaN        NaN     NaN    NaN              NaN   \n",
       "929            NaN       NaN        NaN     NaN    NaN              NaN   \n",
       "930            NaN       NaN        NaN     NaN    NaN              NaN   \n",
       "\n",
       "    cleaner_name  clean_text  \n",
       "0            NaN         NaN  \n",
       "1            NaN         NaN  \n",
       "2            NaN         NaN  \n",
       "3            NaN         NaN  \n",
       "4            NaN         NaN  \n",
       "5            NaN         NaN  \n",
       "6            NaN         NaN  \n",
       "7            NaN         NaN  \n",
       "8            NaN         NaN  \n",
       "9            NaN         NaN  \n",
       "10           NaN         NaN  \n",
       "11           NaN         NaN  \n",
       "12           NaN         NaN  \n",
       "13           NaN         NaN  \n",
       "14           NaN         NaN  \n",
       "15           NaN         NaN  \n",
       "16           NaN         NaN  \n",
       "17           NaN         NaN  \n",
       "18           NaN         NaN  \n",
       "19           NaN         NaN  \n",
       "20           NaN         NaN  \n",
       "21           NaN         NaN  \n",
       "22           NaN         NaN  \n",
       "23           NaN         NaN  \n",
       "24           NaN         NaN  \n",
       "25           NaN         NaN  \n",
       "26           NaN         NaN  \n",
       "27           NaN         NaN  \n",
       "28           NaN         NaN  \n",
       "29           NaN         NaN  \n",
       "..           ...         ...  \n",
       "901          NaN         NaN  \n",
       "902          NaN         NaN  \n",
       "903          NaN         NaN  \n",
       "904          NaN         NaN  \n",
       "905          NaN         NaN  \n",
       "906          NaN         NaN  \n",
       "907          NaN         NaN  \n",
       "908          NaN         NaN  \n",
       "909          NaN         NaN  \n",
       "910          NaN         NaN  \n",
       "911          NaN         NaN  \n",
       "912          NaN         NaN  \n",
       "913          NaN         NaN  \n",
       "914          NaN         NaN  \n",
       "915          NaN         NaN  \n",
       "916          NaN         NaN  \n",
       "917          NaN         NaN  \n",
       "918          NaN         NaN  \n",
       "919          NaN         NaN  \n",
       "920          NaN         NaN  \n",
       "921          NaN         NaN  \n",
       "922          NaN         NaN  \n",
       "923          NaN         NaN  \n",
       "924          NaN         NaN  \n",
       "925          NaN         NaN  \n",
       "926          NaN         NaN  \n",
       "927          NaN         NaN  \n",
       "928          NaN         NaN  \n",
       "929          NaN         NaN  \n",
       "930          NaN         NaN  \n",
       "\n",
       "[931 rows x 28 columns]"
      ]
     },
     "execution_count": 125,
     "metadata": {},
     "output_type": "execute_result"
    }
   ],
   "source": [
    "df"
   ]
  },
  {
   "cell_type": "code",
   "execution_count": 126,
   "metadata": {},
   "outputs": [],
   "source": [
    "# lance selected 1\n",
    "df = df[pd.isna(df.script_title)|\n",
    "        (df.script_title == 'Your Brain Will Thank You for Being a Musician')|\n",
    "        (df.script_title == 'Diluting blood plasma reverses aging')|\n",
    "        (df.script_title == 'Roots of Mental Illness')|\n",
    "        (df.script_title == 'Neurobiology_1')]"
   ]
  },
  {
   "cell_type": "code",
   "execution_count": 324,
   "metadata": {},
   "outputs": [],
   "source": [
    "# hotpot selected 1\n",
    "df = df[(df.dataset_name == 'EPwchina')|(df.dataset_name == 'Cspy')]"
   ]
  },
  {
   "cell_type": "code",
   "execution_count": 127,
   "metadata": {},
   "outputs": [],
   "source": [
    "stft_window_ms = 50                  # size in ms of the Hann window of short-time Fourier transform, used during spectrogram computation\n",
    "stft_shift_ms = 12.5 "
   ]
  },
  {
   "cell_type": "code",
   "execution_count": 128,
   "metadata": {},
   "outputs": [],
   "source": [
    "import sys\n",
    "sys.path.append(\"../\")\n",
    "from utils import audio"
   ]
  },
  {
   "cell_type": "code",
   "execution_count": 129,
   "metadata": {},
   "outputs": [],
   "source": [
    "if not os.path.exists(os.path.join(name_dir, trim_dir)): os.makedirs(os.path.join(name_dir, trim_dir))\n",
    "for index, row in df.iterrows(): \n",
    "    audio_path = os.path.join(name_dir, sub_dir, row.voice_name)\n",
    "#     if resample:\n",
    "#         sound = AudioSegment.from_file(audio_path)\n",
    "#         sound_resample = sound.set_frame_rate(def_sample_rate).set_channels(1)\n",
    "#         sound_resample.export(audio_path, format=\"wav\")\n",
    "    wav_data = audio.load(audio_path)\n",
    "    wav_data_trim = audio.trim_silence(wav_data,stft_window_ms,stft_shift_ms,top_db=33)[0]\n",
    "    audio_path_trim = os.path.join(name_dir, trim_dir, row.voice_name)\n",
    "    if not os.path.exists(audio_path_trim):\n",
    "        audio.save(wav_data_trim, audio_path_trim)"
   ]
  },
  {
   "cell_type": "code",
   "execution_count": 130,
   "metadata": {},
   "outputs": [],
   "source": [
    "output_metafile_name = \"Lance_Eng_CleanNoise_22k_trim33.txt\"\n",
    "# output_metafile_name = \"gg_22k_trim33.txt\"\n",
    "# output_metafile_name = \"cary_22k_trim33.txt\"\n",
    "# output_metafile_name = \"Hotpot_Chn_22k_trim33.txt\"\n",
    "# output_metafile_name = \"Lance_Eng_22k_trim33.txt\"\n",
    "# output_metafile_name = \"Hotpot_Eng_22k_trim33.txt\""
   ]
  },
  {
   "cell_type": "code",
   "execution_count": 131,
   "metadata": {},
   "outputs": [],
   "source": [
    "# 判断是否含有英文，以及转后字符长度限制\n",
    "output_dir = trim_dir\n",
    "metafile_path = os.path.join(name_dir, output_metafile_name)\n",
    "with open(metafile_path, 'w', encoding='utf-8') as f:\n",
    "    for index, row in df.iterrows(): \n",
    "#         if bool(re.search('[a-zA-Z]', row.sentence_text)):\n",
    "#             continue\n",
    "        speaker = row.dataset_name\n",
    "#         speaker = speaker\n",
    "        language = language\n",
    "        audio_path = os.path.join(output_dir, row.voice_name)\n",
    "        spectrogram_paths = \"|\"\n",
    "        raw_text = row.sentence_text\n",
    "        if len(raw_text)>200:\n",
    "            continue\n",
    "        phonemized_text= to_phoneme(raw_text,False,language)\n",
    "        print(f'{str(index).zfill(6)}|{speaker}|{language}|{audio_path}|{spectrogram_paths}|{raw_text}|{phonemized_text}', file=f)"
   ]
  },
  {
   "cell_type": "markdown",
   "metadata": {},
   "source": [
    "# 运行prepare_css_spectrograms.py"
   ]
  },
  {
   "cell_type": "code",
   "execution_count": 331,
   "metadata": {},
   "outputs": [
    {
     "name": "stdout",
     "output_type": "stream",
     "text": [
      "Hotpot_Chn    Lance_Eng     css10\tmake_data.ipynb\r\n",
      "Hotpot_Eng    Mozilla\t    css_comvoi\toutput.txt\r\n",
      "LJSpeech-1.1  VCTK\t    dump\tprepare_css_spectrograms.py\r\n",
      "Lance_Chn     cary_Chn\t    gg_Chn\tre_gesw_6lang\r\n",
      "Lance_Chn_cl  comvoi_clean  input.txt\tre_gesw_6lang_en\r\n"
     ]
    }
   ],
   "source": [
    "! ls"
   ]
  },
  {
   "cell_type": "code",
   "execution_count": 338,
   "metadata": {},
   "outputs": [
    {
     "name": "stdout",
     "output_type": "stream",
     "text": [
      "2Voice-Chn_cary_22k.xlsx  cary_22k  cary_22k_trim33  cary_22k_trim33.txt\r\n"
     ]
    }
   ],
   "source": [
    "! ls cary_Chn"
   ]
  },
  {
   "cell_type": "code",
   "execution_count": 17,
   "metadata": {},
   "outputs": [
    {
     "name": "stdout",
     "output_type": "stream",
     "text": [
      "Please wait, this may take a very long time.\n",
      "Creating spectrograms for: gg_Chn_CleanNoise_22k_trim33.txt\n",
      "Done.\n",
      "Please wait, this may take a very long time.\n",
      "Creating spectrograms for: Hotpot_Chn_22k_trim33.txt\n",
      "Done.\n",
      "Please wait, this may take a very long time.\n",
      "Creating spectrograms for: cary_22k_trim33.txt\n",
      "Done.\n",
      "Please wait, this may take a very long time.\n",
      "Creating spectrograms for: Lance_Chn_CleanNoise_22k_trim33.txt\n",
      "Done.\n",
      "Please wait, this may take a very long time.\n",
      "Creating spectrograms for: thchs30_22k_trim33.txt\n",
      "Done.\n"
     ]
    }
   ],
   "source": [
    "# 得到修改后的metafile_path\n",
    "# CUDA_VISIBLE_DEVICES=2 python3 prepare_css_spectrograms.py --data_directory Lance_Chn_cl  --data_txt Lance_Chn_22k_trim33_cl.txt\n",
    "# !CUDA_VISIBLE_DEVICES=6 python3 prepare_css_spectrograms.py --data_directory Lance_Eng  --data_txt Lance_Eng_22k_trim33.txt\n",
    "# CUDA_VISIBLE_DEVICES=2 python3 prepare_css_spectrograms.py --data_directory Hotpot_Chn  --data_txt Hotpot_Chn_22k_trim33.txt\n",
    "# !CUDA_VISIBLE_DEVICES=6 python3 prepare_css_spectrograms.py --data_directory Hotpot_Eng  --data_txt Hotpot_Eng_22k_trim33.txt\n",
    "# CUDA_VISIBLE_DEVICES=2 python3 prepare_css_spectrograms.py --data_directory gg_Chn  --data_txt gg_22k_trim33.txt\n",
    "# CUDA_VISIBLE_DEVICES=2 python3 prepare_css_spectrograms.py --data_directory cary_Chn  --data_txt cary_22k_trim33.txt\n",
    "\n",
    "\n",
    "\n",
    "\n",
    "!CUDA_VISIBLE_DEVICES=6 python3 prepare_css_spectrograms.py --data_directory gg_Chn_CleanNoise_22k  --data_txt gg_Chn_CleanNoise_22k_trim33.txt\n",
    "# !CUDA_VISIBLE_DEVICES=6 python3 prepare_css_spectrograms.py --data_directory Mozilla  --data_txt ja_Mozilla.txt\n",
    "!CUDA_VISIBLE_DEVICES=6 python3 prepare_css_spectrograms.py --data_directory Hotpot_Chn  --data_txt Hotpot_Chn_22k_trim33.txt\n",
    "!CUDA_VISIBLE_DEVICES=6 python3 prepare_css_spectrograms.py --data_directory cary_Chn  --data_txt cary_22k_trim33.txt\n",
    "!CUDA_VISIBLE_DEVICES=6 python3 prepare_css_spectrograms.py --data_directory Lance_Chn_CleanNoise_22k  --data_txt Lance_Chn_CleanNoise_22k_trim33.txt\n",
    "!CUDA_VISIBLE_DEVICES=6 python3 prepare_css_spectrograms.py --data_directory thchs30_22k  --data_txt thchs30_22k_trim33.txt\n",
    "\n"
   ]
  },
  {
   "cell_type": "markdown",
   "metadata": {},
   "source": [
    "# 修改metafile内容生成train和val"
   ]
  },
  {
   "cell_type": "markdown",
   "metadata": {},
   "source": [
    "## LJ和VCTK不需要运行prepare_css_spectrograms.py"
   ]
  },
  {
   "cell_type": "code",
   "execution_count": 190,
   "metadata": {},
   "outputs": [],
   "source": [
    "# 自带提取代码\n",
    "# name_dir = \"LJSpeech-1.1\"\n",
    "# name_dir = \"VCTK\""
   ]
  },
  {
   "cell_type": "markdown",
   "metadata": {},
   "source": [
    "## 新加数据需要先运行prepare_css_spectrograms.py"
   ]
  },
  {
   "cell_type": "code",
   "execution_count": 78,
   "metadata": {},
   "outputs": [],
   "source": [
    "# name_dir = \"Lance_Chn_CleanNoise_22k\"\n",
    "# name_dir = \"Mozilla\"\n",
    "# name_dir = \"Lance_Eng_CleanNoise_22k\"\n",
    "# name_dir = \"Hotpot_Chn\"\n",
    "# name_dir = \"Hotpot_Eng\"\n",
    "# name_dir = \"gg_Chn_CleanNoise_22k\"\n",
    "# name_dir = \"cary_Chn\"\n",
    "name_dir = \"thchs30_22k\""
   ]
  },
  {
   "cell_type": "code",
   "execution_count": 79,
   "metadata": {},
   "outputs": [],
   "source": [
    "# single_speaker = True\n",
    "# single_speaker = False"
   ]
  },
  {
   "cell_type": "code",
   "execution_count": 80,
   "metadata": {},
   "outputs": [
    {
     "data": {
      "text/plain": [
       "['thchs30_22k/thchs30_22k_trim33_train.txt',\n",
       " 'thchs30_22k/thchs30_22k_trim33.txt',\n",
       " 'thchs30_22k/thchs30_22k_trim33_val.txt']"
      ]
     },
     "execution_count": 80,
     "metadata": {},
     "output_type": "execute_result"
    }
   ],
   "source": [
    "txt_list = glob.glob(\"{}/*.txt\".format(name_dir))\n",
    "txt_list"
   ]
  },
  {
   "cell_type": "code",
   "execution_count": 81,
   "metadata": {},
   "outputs": [
    {
     "data": {
      "text/plain": [
       "'thchs30_22k/thchs30_22k_trim33.txt'"
      ]
     },
     "execution_count": 81,
     "metadata": {},
     "output_type": "execute_result"
    }
   ],
   "source": [
    "txt_file = txt_list[1]\n",
    "txt_file"
   ]
  },
  {
   "cell_type": "code",
   "execution_count": 82,
   "metadata": {},
   "outputs": [],
   "source": [
    "textlist=[]\n",
    "with open(txt_file, encoding='utf-8') as f:\n",
    "    for line in f:\n",
    "        parts = line.strip().split('|')\n",
    "#         if single_speaker:\n",
    "#             parts[1] = parts[2]\n",
    "#         parts[1] = \"00-en\"\n",
    "#         parts[2] = \"en\"\n",
    "        for i in range(3,6):\n",
    "            parts[i] = \"../{}/\".format(name_dir)+ parts[i]\n",
    "        line_mod = '|'.join(parts)+\"\\n\"\n",
    "        textlist.append(line_mod)"
   ]
  },
  {
   "cell_type": "code",
   "execution_count": 83,
   "metadata": {},
   "outputs": [],
   "source": [
    "from sklearn.model_selection import train_test_split"
   ]
  },
  {
   "cell_type": "code",
   "execution_count": 84,
   "metadata": {},
   "outputs": [
    {
     "data": {
      "text/plain": [
       "(13388, 12986, 402)"
      ]
     },
     "execution_count": 84,
     "metadata": {},
     "output_type": "execute_result"
    }
   ],
   "source": [
    "train_list , val_list  = train_test_split(textlist,test_size=0.03, random_state=0)\n",
    "len(textlist),len(train_list),len(val_list)"
   ]
  },
  {
   "cell_type": "code",
   "execution_count": 85,
   "metadata": {},
   "outputs": [],
   "source": [
    "train_file = os.path.splitext(txt_file)[0]+\"_train\"+os.path.splitext(txt_file)[1]\n",
    "val_file = os.path.splitext(txt_file)[0]+\"_val\"+os.path.splitext(txt_file)[1]"
   ]
  },
  {
   "cell_type": "code",
   "execution_count": 86,
   "metadata": {},
   "outputs": [],
   "source": [
    "with open(train_file, 'w', encoding='utf-8') as f:\n",
    "    for text in train_list:\n",
    "        f.write(text)\n",
    "with open(val_file, 'w', encoding='utf-8') as f:\n",
    "    for text in val_list:\n",
    "        f.write(text)"
   ]
  },
  {
   "cell_type": "markdown",
   "metadata": {},
   "source": [
    "## 新建目标文件夹（训练主题）"
   ]
  },
  {
   "cell_type": "code",
   "execution_count": 87,
   "metadata": {},
   "outputs": [],
   "source": [
    "# target_dir = \"tran_Lance_Chn_LJ_Eng_10lang\"\n",
    "# target_dir = \"tran_Lance_Chn_LJ_Eng\"\n",
    "# target_dir = \"re_gesw_6lang_en\"\n",
    "target_dir = \"re_gesw_6lang_22k_pinyin\"\n",
    "# target_dir = \"wavernn_test\""
   ]
  },
  {
   "cell_type": "code",
   "execution_count": 88,
   "metadata": {},
   "outputs": [],
   "source": [
    "if not os.path.exists(target_dir): os.makedirs(target_dir)"
   ]
  },
  {
   "cell_type": "code",
   "execution_count": 89,
   "metadata": {},
   "outputs": [],
   "source": [
    "new_txt_file = os.path.join(target_dir, os.path.basename(train_file))\n",
    "with open(new_txt_file, 'w', encoding='utf-8') as f:\n",
    "    for text in train_list:\n",
    "        f.write(text)\n",
    "        \n",
    "new_txt_file = os.path.join(target_dir, os.path.basename(val_file))\n",
    "with open(new_txt_file, 'w', encoding='utf-8') as f:\n",
    "    for text in val_list:\n",
    "        f.write(text)"
   ]
  },
  {
   "cell_type": "code",
   "execution_count": 90,
   "metadata": {},
   "outputs": [
    {
     "data": {
      "text/plain": [
       "'013387|D8|zh|../thchs30_22k/thchs30_22k_trim33/D8_999.wav|../thchs30_22k/spectrograms/013387.npy|../thchs30_22k/linear_spectrograms/013387.npy|国务委员兼国务院秘书长罗干、民政部部长多吉才让也一同前往延安看望人民群众。|kuo wu wuə iyɑ ə5n tɕiɑ ə5n kuo wu yɑ ə5n mi s.u ts.ɑ ŋ luo kɑ ə5n 、 mi nts.o ŋpu pu ts.ɑ ŋ tuo tɕi tshɑ iʐɑ ŋ jiɛ ji tho ŋ tɕhiɑ nwɑ ŋ jiɑ nɑ ə5n khɑ nwɑ ŋ ʐo nmi ə5n tɕhy nts.o ŋ 。\\n'"
      ]
     },
     "execution_count": 90,
     "metadata": {},
     "output_type": "execute_result"
    }
   ],
   "source": [
    "line_mod"
   ]
  },
  {
   "cell_type": "code",
   "execution_count": 91,
   "metadata": {
    "code_folding": []
   },
   "outputs": [
    {
     "data": {
      "text/plain": [
       "'thchs30_22k/thchs30_22k_trim33.txt'"
      ]
     },
     "execution_count": 91,
     "metadata": {},
     "output_type": "execute_result"
    }
   ],
   "source": [
    "txt_file"
   ]
  },
  {
   "cell_type": "code",
   "execution_count": 92,
   "metadata": {},
   "outputs": [
    {
     "data": {
      "text/plain": [
       "'re_gesw_6lang_22k_pinyin/thchs30_22k_trim33_val.txt'"
      ]
     },
     "execution_count": 92,
     "metadata": {},
     "output_type": "execute_result"
    }
   ],
   "source": [
    "new_txt_file"
   ]
  },
  {
   "cell_type": "markdown",
   "metadata": {},
   "source": [
    "# 对其他data文件夹的txt增加“../dataname/”后复制到目标文件夹（不分训练测试集）"
   ]
  },
  {
   "cell_type": "code",
   "execution_count": 102,
   "metadata": {},
   "outputs": [
    {
     "data": {
      "text/plain": [
       "['Lance_Chn/Lance_Chn_22k_trim33_val.txt',\n",
       " 'Lance_Chn/Lance_Chn_22k_trim33.txt',\n",
       " 'Lance_Chn/Lance_Chn_22k_trim33_train.txt']"
      ]
     },
     "execution_count": 102,
     "metadata": {},
     "output_type": "execute_result"
    }
   ],
   "source": [
    "name_dir = \"css10\"\n",
    "name_dir = \"LJSpeech-1.1\"\n",
    "name_dir = \"Lance_Chn\"\n",
    "txt_list = glob.glob(\"{}/*.txt\".format(name_dir))\n",
    "txt_list "
   ]
  },
  {
   "cell_type": "code",
   "execution_count": 108,
   "metadata": {},
   "outputs": [],
   "source": [
    "txt_file = txt_list[-1]"
   ]
  },
  {
   "cell_type": "code",
   "execution_count": 109,
   "metadata": {},
   "outputs": [],
   "source": [
    "textlist=[]\n",
    "with open(txt_file, encoding='utf-8') as f:\n",
    "    for line in f:\n",
    "        parts = line.strip().split('|')\n",
    "        parts[1] = parts[2]   \n",
    "        parts[1] = \"lance\"\n",
    "        parts[2] = \"zh\"\n",
    "#         for i in range(3,6):\n",
    "#             parts[i] = \"../{}/\".format(name_dir)+ parts[i]\n",
    "        line_mod = '|'.join(parts)+\"\\n\"\n",
    "        textlist.append(line_mod)\n",
    "        \n",
    "new_txt_file = os.path.join(target_dir, os.path.basename(txt_file))\n",
    "\n",
    "with open(new_txt_file, 'w', encoding='utf-8') as f:\n",
    "    for text in textlist:\n",
    "        f.write(text)"
   ]
  },
  {
   "cell_type": "code",
   "execution_count": 170,
   "metadata": {},
   "outputs": [
    {
     "data": {
      "text/plain": [
       "'009424|p250|en|../VCTK/wav48/p250/p250_496.wav|../VCTK/spectrograms/009424.npy|../VCTK/linear_spectrograms/009424.npy|Subsidy income will not be affected.|\\n'"
      ]
     },
     "execution_count": 170,
     "metadata": {},
     "output_type": "execute_result"
    }
   ],
   "source": [
    "line_mod"
   ]
  },
  {
   "cell_type": "code",
   "execution_count": 171,
   "metadata": {
    "code_folding": []
   },
   "outputs": [
    {
     "data": {
      "text/plain": [
       "'VCTK/vctk_mini.txt'"
      ]
     },
     "execution_count": 171,
     "metadata": {},
     "output_type": "execute_result"
    }
   ],
   "source": [
    "txt_file"
   ]
  },
  {
   "cell_type": "code",
   "execution_count": 172,
   "metadata": {},
   "outputs": [
    {
     "data": {
      "text/plain": [
       "'re_gesw_6lang_en/vctk_mini_val.txt'"
      ]
     },
     "execution_count": 172,
     "metadata": {},
     "output_type": "execute_result"
    }
   ],
   "source": [
    "new_txt_file"
   ]
  },
  {
   "cell_type": "markdown",
   "metadata": {},
   "source": [
    "# 合并txt文件"
   ]
  },
  {
   "cell_type": "code",
   "execution_count": 93,
   "metadata": {},
   "outputs": [],
   "source": [
    "target_dir = \"re_gesw_6lang_22k_pinyin\""
   ]
  },
  {
   "cell_type": "code",
   "execution_count": 104,
   "metadata": {
    "scrolled": true
   },
   "outputs": [
    {
     "data": {
      "text/plain": [
       "['re_gesw_6lang_22k_pinyin/Hotpot_Eng_22k_trim33_new_val.txt',\n",
       " 're_gesw_6lang_22k_pinyin/val_ja_new.txt',\n",
       " 're_gesw_6lang_22k_pinyin/ja_Mozilla_val-Copy1.txt',\n",
       " 're_gesw_6lang_22k_pinyin/cary_22k_trim33_val.txt',\n",
       " 're_gesw_6lang_22k_pinyin/Lance_Chn_CleanNoise_22k_trim33_val.txt',\n",
       " 're_gesw_6lang_22k_pinyin/Lance_Eng_CleanNoise_22k_trim33_new_val.txt',\n",
       " 're_gesw_6lang_22k_pinyin/gg_Chn_CleanNoise_22k_trim33_val.txt',\n",
       " 're_gesw_6lang_22k_pinyin/vctk_mini_new_val.txt',\n",
       " 're_gesw_6lang_22k_pinyin/lj_val.txt',\n",
       " 're_gesw_6lang_22k_pinyin/val_5lang.txt',\n",
       " 're_gesw_6lang_22k_pinyin/thchs30_22k_trim33_val.txt',\n",
       " 're_gesw_6lang_22k_pinyin/Hotpot_Chn_22k_trim33_val.txt']"
      ]
     },
     "execution_count": 104,
     "metadata": {},
     "output_type": "execute_result"
    }
   ],
   "source": [
    "# txt_file_list_all = glob.glob(\"{}/*train*\".format(target_dir))\n",
    "txt_file_list_all = glob.glob(\"{}/*val*\".format(target_dir))\n",
    "txt_file_list_all"
   ]
  },
  {
   "cell_type": "code",
   "execution_count": 105,
   "metadata": {
    "scrolled": true
   },
   "outputs": [
    {
     "data": {
      "text/plain": [
       "['re_gesw_6lang_22k_pinyin/Hotpot_Chn_22k_trim33_val.txt',\n",
       " 're_gesw_6lang_22k_pinyin/Hotpot_Eng_22k_trim33_new_val.txt',\n",
       " 're_gesw_6lang_22k_pinyin/Lance_Chn_CleanNoise_22k_trim33_val.txt',\n",
       " 're_gesw_6lang_22k_pinyin/Lance_Eng_CleanNoise_22k_trim33_new_val.txt',\n",
       " 're_gesw_6lang_22k_pinyin/cary_22k_trim33_val.txt',\n",
       " 're_gesw_6lang_22k_pinyin/gg_Chn_CleanNoise_22k_trim33_val.txt',\n",
       " 're_gesw_6lang_22k_pinyin/ja_Mozilla_val-Copy1.txt',\n",
       " 're_gesw_6lang_22k_pinyin/lj_val.txt',\n",
       " 're_gesw_6lang_22k_pinyin/thchs30_22k_trim33_val.txt',\n",
       " 're_gesw_6lang_22k_pinyin/val_5lang.txt',\n",
       " 're_gesw_6lang_22k_pinyin/val_ja_new.txt',\n",
       " 're_gesw_6lang_22k_pinyin/vctk_mini_new_val.txt']"
      ]
     },
     "execution_count": 105,
     "metadata": {},
     "output_type": "execute_result"
    }
   ],
   "source": [
    "txt_file_list = sorted(txt_file_list_all)\n",
    "txt_file_list"
   ]
  },
  {
   "cell_type": "code",
   "execution_count": 106,
   "metadata": {},
   "outputs": [
    {
     "name": "stdout",
     "output_type": "stream",
     "text": [
      "re_gesw_6lang_22k_pinyin/Hotpot_Chn_22k_trim33_val.txt    9\n",
      "re_gesw_6lang_22k_pinyin/Hotpot_Eng_22k_trim33_new_val.txt    14\n",
      "re_gesw_6lang_22k_pinyin/Lance_Chn_CleanNoise_22k_trim33_val.txt    24\n",
      "re_gesw_6lang_22k_pinyin/Lance_Eng_CleanNoise_22k_trim33_new_val.txt    12\n",
      "re_gesw_6lang_22k_pinyin/cary_22k_trim33_val.txt    10\n",
      "re_gesw_6lang_22k_pinyin/gg_Chn_CleanNoise_22k_trim33_val.txt    18\n",
      "re_gesw_6lang_22k_pinyin/ja_Mozilla_val-Copy1.txt    335\n",
      "re_gesw_6lang_22k_pinyin/lj_val.txt    393\n",
      "re_gesw_6lang_22k_pinyin/thchs30_22k_trim33_val.txt    402\n",
      "re_gesw_6lang_22k_pinyin/val_5lang.txt    632\n",
      "re_gesw_6lang_22k_pinyin/val_ja_new.txt    64\n",
      "re_gesw_6lang_22k_pinyin/vctk_mini_new_val.txt    283\n"
     ]
    },
    {
     "data": {
      "text/plain": [
       "2196"
      ]
     },
     "execution_count": 106,
     "metadata": {},
     "output_type": "execute_result"
    }
   ],
   "source": [
    "df_list = []\n",
    "num = 0\n",
    "for txt_file in txt_file_list:\n",
    "    df = pd.read_csv(txt_file,sep='|',header=None)\n",
    "    num += len(df)\n",
    "    print(txt_file, \"  \",len(df))\n",
    "    df_list.append(df)\n",
    "df_sum = pd.concat(df_list)\n",
    "num"
   ]
  },
  {
   "cell_type": "raw",
   "metadata": {
    "scrolled": false
   },
   "source": [
    "pd.read_csv(\"wavernn_test/Lance_Eng_22k_trim33_train.txt\",sep='|',header=None).to_excel(\"wavernn_test/test.xlsx\",index=False)"
   ]
  },
  {
   "cell_type": "code",
   "execution_count": 107,
   "metadata": {
    "scrolled": true
   },
   "outputs": [
    {
     "data": {
      "text/html": [
       "<div>\n",
       "<style scoped>\n",
       "    .dataframe tbody tr th:only-of-type {\n",
       "        vertical-align: middle;\n",
       "    }\n",
       "\n",
       "    .dataframe tbody tr th {\n",
       "        vertical-align: top;\n",
       "    }\n",
       "\n",
       "    .dataframe thead th {\n",
       "        text-align: right;\n",
       "    }\n",
       "</style>\n",
       "<table border=\"1\" class=\"dataframe\">\n",
       "  <thead>\n",
       "    <tr style=\"text-align: right;\">\n",
       "      <th></th>\n",
       "      <th>0</th>\n",
       "      <th>1</th>\n",
       "      <th>2</th>\n",
       "      <th>3</th>\n",
       "      <th>4</th>\n",
       "      <th>5</th>\n",
       "      <th>6</th>\n",
       "      <th>7</th>\n",
       "    </tr>\n",
       "  </thead>\n",
       "  <tbody>\n",
       "    <tr>\n",
       "      <th>0</th>\n",
       "      <td>112</td>\n",
       "      <td>hotpot-zh</td>\n",
       "      <td>zh</td>\n",
       "      <td>../Hotpot_Chn/Hotpot_Chn_22k_trim33/Hotpot_Chn...</td>\n",
       "      <td>../Hotpot_Chn/spectrograms/000112.npy</td>\n",
       "      <td>../Hotpot_Chn/linear_spectrograms/000112.npy</td>\n",
       "      <td>另一件要注意的是</td>\n",
       "      <td>li ŋ ji tɕiɑ ə5n jiɑ ou5 ts.u ji tə s.i.</td>\n",
       "    </tr>\n",
       "    <tr>\n",
       "      <th>1</th>\n",
       "      <td>176</td>\n",
       "      <td>hotpot-zh</td>\n",
       "      <td>zh</td>\n",
       "      <td>../Hotpot_Chn/Hotpot_Chn_22k_trim33/Hotpot_Chn...</td>\n",
       "      <td>../Hotpot_Chn/spectrograms/000176.npy</td>\n",
       "      <td>../Hotpot_Chn/linear_spectrograms/000176.npy</td>\n",
       "      <td>暴露你们自己吧，骗子们</td>\n",
       "      <td>pɑ olu ni mon tsi̪ tɕi pɑ ， phiɑ ntsi̪ mon</td>\n",
       "    </tr>\n",
       "    <tr>\n",
       "      <th>2</th>\n",
       "      <td>12</td>\n",
       "      <td>hotpot-zh</td>\n",
       "      <td>zh</td>\n",
       "      <td>../Hotpot_Chn/Hotpot_Chn_22k_trim33/Hotpot_Chn...</td>\n",
       "      <td>../Hotpot_Chn/spectrograms/000012.npy</td>\n",
       "      <td>../Hotpot_Chn/linear_spectrograms/000012.npy</td>\n",
       "      <td>有时，我安排定时发布视频</td>\n",
       "      <td>jio us.i. ， wo ei5 nphɑ ai5 ti ŋs.i. fɑ pu s.i...</td>\n",
       "    </tr>\n",
       "    <tr>\n",
       "      <th>3</th>\n",
       "      <td>220</td>\n",
       "      <td>hotpot-zh</td>\n",
       "      <td>zh</td>\n",
       "      <td>../Hotpot_Chn/Hotpot_Chn_22k_trim33/Hotpot_Chn...</td>\n",
       "      <td>../Hotpot_Chn/spectrograms/000220.npy</td>\n",
       "      <td>../Hotpot_Chn/linear_spectrograms/000220.npy</td>\n",
       "      <td>在那之前我已经好多年没哭了</td>\n",
       "      <td>tsɑ ai5 nɑ ts.i. tɕhiɑ ə5n wo ji tɕi ŋ xɑ otuo...</td>\n",
       "    </tr>\n",
       "    <tr>\n",
       "      <th>4</th>\n",
       "      <td>206</td>\n",
       "      <td>hotpot-zh</td>\n",
       "      <td>zh</td>\n",
       "      <td>../Hotpot_Chn/Hotpot_Chn_22k_trim33/Hotpot_Chn...</td>\n",
       "      <td>../Hotpot_Chn/spectrograms/000206.npy</td>\n",
       "      <td>../Hotpot_Chn/linear_spectrograms/000206.npy</td>\n",
       "      <td>我们将做出巨大的改变</td>\n",
       "      <td>wo mon tɕiɑ ŋ tsuo ts.hu tɕy tɑ tə kɑ ipiɑ ə5n</td>\n",
       "    </tr>\n",
       "    <tr>\n",
       "      <th>...</th>\n",
       "      <td>...</td>\n",
       "      <td>...</td>\n",
       "      <td>...</td>\n",
       "      <td>...</td>\n",
       "      <td>...</td>\n",
       "      <td>...</td>\n",
       "      <td>...</td>\n",
       "      <td>...</td>\n",
       "    </tr>\n",
       "    <tr>\n",
       "      <th>278</th>\n",
       "      <td>7410</td>\n",
       "      <td>p246</td>\n",
       "      <td>en</td>\n",
       "      <td>../VCTK/wav48/p246/p246_011.wav</td>\n",
       "      <td>../VCTK/spectrograms/007410.npy</td>\n",
       "      <td>../VCTK/linear_spectrograms/007410.npy</td>\n",
       "      <td>When a man looks for something beyond his reac...</td>\n",
       "      <td>wɛn ɐ mæn lʊks fɔːɹ sʌmθɪŋ bᵻjɔnd hɪz ɹiːtʃ , ...</td>\n",
       "    </tr>\n",
       "    <tr>\n",
       "      <th>279</th>\n",
       "      <td>7240</td>\n",
       "      <td>p245</td>\n",
       "      <td>en</td>\n",
       "      <td>../VCTK/wav48/p245/p245_199.wav</td>\n",
       "      <td>../VCTK/spectrograms/007240.npy</td>\n",
       "      <td>../VCTK/linear_spectrograms/007240.npy</td>\n",
       "      <td>The second is the reaction of the Hibs fans.</td>\n",
       "      <td>ðə sɛkənd ɪz ðə ɹɪækʃən ʌvðə hɪbz fænz .</td>\n",
       "    </tr>\n",
       "    <tr>\n",
       "      <th>280</th>\n",
       "      <td>3081</td>\n",
       "      <td>p233</td>\n",
       "      <td>en</td>\n",
       "      <td>../VCTK/wav48/p233/p233_103.wav</td>\n",
       "      <td>../VCTK/spectrograms/003081.npy</td>\n",
       "      <td>../VCTK/linear_spectrograms/003081.npy</td>\n",
       "      <td>Police said the family was helping with the se...</td>\n",
       "      <td>pəliːs sɛd ðə fæmɪli wʌz hɛlpɪŋ wɪððə sɜːtʃ .</td>\n",
       "    </tr>\n",
       "    <tr>\n",
       "      <th>281</th>\n",
       "      <td>5218</td>\n",
       "      <td>p239</td>\n",
       "      <td>en</td>\n",
       "      <td>../VCTK/wav48/p239/p239_219.wav</td>\n",
       "      <td>../VCTK/spectrograms/005218.npy</td>\n",
       "      <td>../VCTK/linear_spectrograms/005218.npy</td>\n",
       "      <td>So I got a blood test.</td>\n",
       "      <td>soʊ aɪ ɡɑːt ɐ blʌd tɛst .</td>\n",
       "    </tr>\n",
       "    <tr>\n",
       "      <th>282</th>\n",
       "      <td>8325</td>\n",
       "      <td>p248</td>\n",
       "      <td>en</td>\n",
       "      <td>../VCTK/wav48/p248/p248_093.wav</td>\n",
       "      <td>../VCTK/spectrograms/008325.npy</td>\n",
       "      <td>../VCTK/linear_spectrograms/008325.npy</td>\n",
       "      <td>He was possessed</td>\n",
       "      <td>hiː wʌz pəzɛst</td>\n",
       "    </tr>\n",
       "  </tbody>\n",
       "</table>\n",
       "<p>2196 rows × 8 columns</p>\n",
       "</div>"
      ],
      "text/plain": [
       "        0          1   2                                                  3  \\\n",
       "0     112  hotpot-zh  zh  ../Hotpot_Chn/Hotpot_Chn_22k_trim33/Hotpot_Chn...   \n",
       "1     176  hotpot-zh  zh  ../Hotpot_Chn/Hotpot_Chn_22k_trim33/Hotpot_Chn...   \n",
       "2      12  hotpot-zh  zh  ../Hotpot_Chn/Hotpot_Chn_22k_trim33/Hotpot_Chn...   \n",
       "3     220  hotpot-zh  zh  ../Hotpot_Chn/Hotpot_Chn_22k_trim33/Hotpot_Chn...   \n",
       "4     206  hotpot-zh  zh  ../Hotpot_Chn/Hotpot_Chn_22k_trim33/Hotpot_Chn...   \n",
       "..    ...        ...  ..                                                ...   \n",
       "278  7410       p246  en                    ../VCTK/wav48/p246/p246_011.wav   \n",
       "279  7240       p245  en                    ../VCTK/wav48/p245/p245_199.wav   \n",
       "280  3081       p233  en                    ../VCTK/wav48/p233/p233_103.wav   \n",
       "281  5218       p239  en                    ../VCTK/wav48/p239/p239_219.wav   \n",
       "282  8325       p248  en                    ../VCTK/wav48/p248/p248_093.wav   \n",
       "\n",
       "                                         4  \\\n",
       "0    ../Hotpot_Chn/spectrograms/000112.npy   \n",
       "1    ../Hotpot_Chn/spectrograms/000176.npy   \n",
       "2    ../Hotpot_Chn/spectrograms/000012.npy   \n",
       "3    ../Hotpot_Chn/spectrograms/000220.npy   \n",
       "4    ../Hotpot_Chn/spectrograms/000206.npy   \n",
       "..                                     ...   \n",
       "278        ../VCTK/spectrograms/007410.npy   \n",
       "279        ../VCTK/spectrograms/007240.npy   \n",
       "280        ../VCTK/spectrograms/003081.npy   \n",
       "281        ../VCTK/spectrograms/005218.npy   \n",
       "282        ../VCTK/spectrograms/008325.npy   \n",
       "\n",
       "                                                5  \\\n",
       "0    ../Hotpot_Chn/linear_spectrograms/000112.npy   \n",
       "1    ../Hotpot_Chn/linear_spectrograms/000176.npy   \n",
       "2    ../Hotpot_Chn/linear_spectrograms/000012.npy   \n",
       "3    ../Hotpot_Chn/linear_spectrograms/000220.npy   \n",
       "4    ../Hotpot_Chn/linear_spectrograms/000206.npy   \n",
       "..                                            ...   \n",
       "278        ../VCTK/linear_spectrograms/007410.npy   \n",
       "279        ../VCTK/linear_spectrograms/007240.npy   \n",
       "280        ../VCTK/linear_spectrograms/003081.npy   \n",
       "281        ../VCTK/linear_spectrograms/005218.npy   \n",
       "282        ../VCTK/linear_spectrograms/008325.npy   \n",
       "\n",
       "                                                     6  \\\n",
       "0                                             另一件要注意的是   \n",
       "1                                          暴露你们自己吧，骗子们   \n",
       "2                                         有时，我安排定时发布视频   \n",
       "3                                        在那之前我已经好多年没哭了   \n",
       "4                                           我们将做出巨大的改变   \n",
       "..                                                 ...   \n",
       "278  When a man looks for something beyond his reac...   \n",
       "279       The second is the reaction of the Hibs fans.   \n",
       "280  Police said the family was helping with the se...   \n",
       "281                             So I got a blood test.   \n",
       "282                                   He was possessed   \n",
       "\n",
       "                                                     7  \n",
       "0             li ŋ ji tɕiɑ ə5n jiɑ ou5 ts.u ji tə s.i.  \n",
       "1           pɑ olu ni mon tsi̪ tɕi pɑ ， phiɑ ntsi̪ mon  \n",
       "2    jio us.i. ， wo ei5 nphɑ ai5 ti ŋs.i. fɑ pu s.i...  \n",
       "3    tsɑ ai5 nɑ ts.i. tɕhiɑ ə5n wo ji tɕi ŋ xɑ otuo...  \n",
       "4       wo mon tɕiɑ ŋ tsuo ts.hu tɕy tɑ tə kɑ ipiɑ ə5n  \n",
       "..                                                 ...  \n",
       "278  wɛn ɐ mæn lʊks fɔːɹ sʌmθɪŋ bᵻjɔnd hɪz ɹiːtʃ , ...  \n",
       "279           ðə sɛkənd ɪz ðə ɹɪækʃən ʌvðə hɪbz fænz .  \n",
       "280      pəliːs sɛd ðə fæmɪli wʌz hɛlpɪŋ wɪððə sɜːtʃ .  \n",
       "281                          soʊ aɪ ɡɑːt ɐ blʌd tɛst .  \n",
       "282                                     hiː wʌz pəzɛst  \n",
       "\n",
       "[2196 rows x 8 columns]"
      ]
     },
     "execution_count": 107,
     "metadata": {},
     "output_type": "execute_result"
    }
   ],
   "source": [
    "df_sum"
   ]
  },
  {
   "cell_type": "code",
   "execution_count": 108,
   "metadata": {},
   "outputs": [],
   "source": [
    "# output_metafile_name = \"train.txt\"\n",
    "output_metafile_name = \"val.txt\"\n",
    "metafile_path = os.path.join(target_dir, output_metafile_name)\n",
    "with open(metafile_path, 'w', encoding='utf-8') as f:\n",
    "    for txt_file in txt_file_list:\n",
    "        with open(txt_file, encoding='utf-8') as f2:\n",
    "            for line in f2:\n",
    "                # print(f'{line}', file=f)\n",
    "                f.write(line)"
   ]
  },
  {
   "cell_type": "code",
   "execution_count": 100,
   "metadata": {
    "scrolled": true
   },
   "outputs": [
    {
     "data": {
      "text/plain": [
       "0"
      ]
     },
     "execution_count": 100,
     "metadata": {},
     "output_type": "execute_result"
    }
   ],
   "source": [
    "sorted([\"f\",\"h\",\"a\"]).index(\"a\")"
   ]
  },
  {
   "cell_type": "code",
   "execution_count": 101,
   "metadata": {},
   "outputs": [
    {
     "data": {
      "text/plain": [
       "2"
      ]
     },
     "execution_count": 101,
     "metadata": {},
     "output_type": "execute_result"
    }
   ],
   "source": [
    "[\"f\",\"h\",\"a\"].index(\"a\")"
   ]
  },
  {
   "cell_type": "code",
   "execution_count": 102,
   "metadata": {
    "scrolled": true
   },
   "outputs": [
    {
     "data": {
      "text/plain": [
       "'re_gesw_6lang_22k_pinyin/train.txt'"
      ]
     },
     "execution_count": 102,
     "metadata": {},
     "output_type": "execute_result"
    }
   ],
   "source": [
    "metafile_path"
   ]
  },
  {
   "cell_type": "code",
   "execution_count": null,
   "metadata": {},
   "outputs": [],
   "source": []
  }
 ],
 "metadata": {
  "kernelspec": {
   "display_name": "Python 3",
   "language": "python",
   "name": "python3"
  },
  "language_info": {
   "codemirror_mode": {
    "name": "ipython",
    "version": 3
   },
   "file_extension": ".py",
   "mimetype": "text/x-python",
   "name": "python",
   "nbconvert_exporter": "python",
   "pygments_lexer": "ipython3",
   "version": "3.6.10"
  },
  "toc": {
   "base_numbering": 1,
   "nav_menu": {},
   "number_sections": true,
   "sideBar": true,
   "skip_h1_title": false,
   "title_cell": "Table of Contents",
   "title_sidebar": "Contents",
   "toc_cell": false,
   "toc_position": {
    "height": "calc(100% - 180px)",
    "left": "10px",
    "top": "150px",
    "width": "259px"
   },
   "toc_section_display": true,
   "toc_window_display": true
  }
 },
 "nbformat": 4,
 "nbformat_minor": 4
}
